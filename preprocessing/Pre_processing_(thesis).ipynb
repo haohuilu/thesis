{
  "nbformat": 4,
  "nbformat_minor": 0,
  "metadata": {
    "colab": {
      "provenance": []
    },
    "kernelspec": {
      "name": "python3",
      "display_name": "Python 3"
    }
  },
  "cells": [
    {
      "cell_type": "markdown",
      "source": [
        "# 0. import packages"
      ],
      "metadata": {
        "id": "F8Y30jDxtq0L"
      }
    },
    {
      "cell_type": "code",
      "metadata": {
        "id": "EJIuhyajYApS"
      },
      "source": [
        "import pandas as pd\n",
        "import numpy as np"
      ],
      "execution_count": 1,
      "outputs": []
    },
    {
      "cell_type": "markdown",
      "metadata": {
        "id": "AHPERQJsXbQY"
      },
      "source": [
        "# 1. Load dataset"
      ]
    },
    {
      "cell_type": "code",
      "source": [
        "file_name = \"t2d.csv\""
      ],
      "metadata": {
        "id": "ZeLC0YnXtxtk"
      },
      "execution_count": 2,
      "outputs": []
    },
    {
      "cell_type": "code",
      "metadata": {
        "id": "KL17KV73LMXR"
      },
      "source": [
        "df = pd.read_csv(file_name,skipinitialspace=True)"
      ],
      "execution_count": 3,
      "outputs": []
    },
    {
      "cell_type": "markdown",
      "metadata": {
        "id": "84J7ILn7XijZ"
      },
      "source": [
        "## 1.1 Overview dataset"
      ]
    },
    {
      "cell_type": "code",
      "metadata": {
        "id": "CFHp0-xuRQSS",
        "colab": {
          "base_uri": "https://localhost:8080/",
          "height": 333
        },
        "outputId": "aa4f910a-56e8-4ca5-ae55-6476aaee791d"
      },
      "source": [
        "df.head()"
      ],
      "execution_count": 4,
      "outputs": [
        {
          "output_type": "execute_result",
          "data": {
            "text/plain": [
              "   person_id gender  age  postcode   claim_id diagnosis_procedure_type  \\\n",
              "0      58992      F   87    2486.0  198332178                        D   \n",
              "1       2116      M   90    1715.0  198334420                        D   \n",
              "2      96172      F   57       NaN  198334622                        D   \n",
              "3      96172      F   57       NaN  198334622                        D   \n",
              "4      96172      F   57       NaN  198334622                        D   \n",
              "\n",
              "   diagnosis_procedure_number  episode_id  icu_days  icu_hours service_type  \\\n",
              "0                           3       43569       NaN        NaN   ICD9         \n",
              "1                           2       43922       NaN        NaN   ICD9         \n",
              "2                           2       44160       NaN        NaN   ICD9         \n",
              "3                           3       44160       NaN        NaN   ICD9         \n",
              "4                           4       44160       NaN        NaN   ICD9         \n",
              "\n",
              "  item_number             service_date          create_datetime  \n",
              "0  4019        1998-03-18 00:00:00.000  1999-10-02 18:30:44.900  \n",
              "1  4019        1998-04-15 00:00:00.000  1999-10-02 18:30:39.803  \n",
              "2  34590       1998-03-18 00:00:00.000  1999-10-02 18:30:39.803  \n",
              "3  49390       1998-03-18 00:00:00.000  1999-10-02 18:30:44.900  \n",
              "4  4011        1998-03-18 00:00:00.000  1999-10-02 18:30:47.977  "
            ],
            "text/html": [
              "\n",
              "  <div id=\"df-268655af-e842-4216-b948-bb69f4a8ffff\">\n",
              "    <div class=\"colab-df-container\">\n",
              "      <div>\n",
              "<style scoped>\n",
              "    .dataframe tbody tr th:only-of-type {\n",
              "        vertical-align: middle;\n",
              "    }\n",
              "\n",
              "    .dataframe tbody tr th {\n",
              "        vertical-align: top;\n",
              "    }\n",
              "\n",
              "    .dataframe thead th {\n",
              "        text-align: right;\n",
              "    }\n",
              "</style>\n",
              "<table border=\"1\" class=\"dataframe\">\n",
              "  <thead>\n",
              "    <tr style=\"text-align: right;\">\n",
              "      <th></th>\n",
              "      <th>person_id</th>\n",
              "      <th>gender</th>\n",
              "      <th>age</th>\n",
              "      <th>postcode</th>\n",
              "      <th>claim_id</th>\n",
              "      <th>diagnosis_procedure_type</th>\n",
              "      <th>diagnosis_procedure_number</th>\n",
              "      <th>episode_id</th>\n",
              "      <th>icu_days</th>\n",
              "      <th>icu_hours</th>\n",
              "      <th>service_type</th>\n",
              "      <th>item_number</th>\n",
              "      <th>service_date</th>\n",
              "      <th>create_datetime</th>\n",
              "    </tr>\n",
              "  </thead>\n",
              "  <tbody>\n",
              "    <tr>\n",
              "      <th>0</th>\n",
              "      <td>58992</td>\n",
              "      <td>F</td>\n",
              "      <td>87</td>\n",
              "      <td>2486.0</td>\n",
              "      <td>198332178</td>\n",
              "      <td>D</td>\n",
              "      <td>3</td>\n",
              "      <td>43569</td>\n",
              "      <td>NaN</td>\n",
              "      <td>NaN</td>\n",
              "      <td>ICD9</td>\n",
              "      <td>4019</td>\n",
              "      <td>1998-03-18 00:00:00.000</td>\n",
              "      <td>1999-10-02 18:30:44.900</td>\n",
              "    </tr>\n",
              "    <tr>\n",
              "      <th>1</th>\n",
              "      <td>2116</td>\n",
              "      <td>M</td>\n",
              "      <td>90</td>\n",
              "      <td>1715.0</td>\n",
              "      <td>198334420</td>\n",
              "      <td>D</td>\n",
              "      <td>2</td>\n",
              "      <td>43922</td>\n",
              "      <td>NaN</td>\n",
              "      <td>NaN</td>\n",
              "      <td>ICD9</td>\n",
              "      <td>4019</td>\n",
              "      <td>1998-04-15 00:00:00.000</td>\n",
              "      <td>1999-10-02 18:30:39.803</td>\n",
              "    </tr>\n",
              "    <tr>\n",
              "      <th>2</th>\n",
              "      <td>96172</td>\n",
              "      <td>F</td>\n",
              "      <td>57</td>\n",
              "      <td>NaN</td>\n",
              "      <td>198334622</td>\n",
              "      <td>D</td>\n",
              "      <td>2</td>\n",
              "      <td>44160</td>\n",
              "      <td>NaN</td>\n",
              "      <td>NaN</td>\n",
              "      <td>ICD9</td>\n",
              "      <td>34590</td>\n",
              "      <td>1998-03-18 00:00:00.000</td>\n",
              "      <td>1999-10-02 18:30:39.803</td>\n",
              "    </tr>\n",
              "    <tr>\n",
              "      <th>3</th>\n",
              "      <td>96172</td>\n",
              "      <td>F</td>\n",
              "      <td>57</td>\n",
              "      <td>NaN</td>\n",
              "      <td>198334622</td>\n",
              "      <td>D</td>\n",
              "      <td>3</td>\n",
              "      <td>44160</td>\n",
              "      <td>NaN</td>\n",
              "      <td>NaN</td>\n",
              "      <td>ICD9</td>\n",
              "      <td>49390</td>\n",
              "      <td>1998-03-18 00:00:00.000</td>\n",
              "      <td>1999-10-02 18:30:44.900</td>\n",
              "    </tr>\n",
              "    <tr>\n",
              "      <th>4</th>\n",
              "      <td>96172</td>\n",
              "      <td>F</td>\n",
              "      <td>57</td>\n",
              "      <td>NaN</td>\n",
              "      <td>198334622</td>\n",
              "      <td>D</td>\n",
              "      <td>4</td>\n",
              "      <td>44160</td>\n",
              "      <td>NaN</td>\n",
              "      <td>NaN</td>\n",
              "      <td>ICD9</td>\n",
              "      <td>4011</td>\n",
              "      <td>1998-03-18 00:00:00.000</td>\n",
              "      <td>1999-10-02 18:30:47.977</td>\n",
              "    </tr>\n",
              "  </tbody>\n",
              "</table>\n",
              "</div>\n",
              "      <button class=\"colab-df-convert\" onclick=\"convertToInteractive('df-268655af-e842-4216-b948-bb69f4a8ffff')\"\n",
              "              title=\"Convert this dataframe to an interactive table.\"\n",
              "              style=\"display:none;\">\n",
              "        \n",
              "  <svg xmlns=\"http://www.w3.org/2000/svg\" height=\"24px\"viewBox=\"0 0 24 24\"\n",
              "       width=\"24px\">\n",
              "    <path d=\"M0 0h24v24H0V0z\" fill=\"none\"/>\n",
              "    <path d=\"M18.56 5.44l.94 2.06.94-2.06 2.06-.94-2.06-.94-.94-2.06-.94 2.06-2.06.94zm-11 1L8.5 8.5l.94-2.06 2.06-.94-2.06-.94L8.5 2.5l-.94 2.06-2.06.94zm10 10l.94 2.06.94-2.06 2.06-.94-2.06-.94-.94-2.06-.94 2.06-2.06.94z\"/><path d=\"M17.41 7.96l-1.37-1.37c-.4-.4-.92-.59-1.43-.59-.52 0-1.04.2-1.43.59L10.3 9.45l-7.72 7.72c-.78.78-.78 2.05 0 2.83L4 21.41c.39.39.9.59 1.41.59.51 0 1.02-.2 1.41-.59l7.78-7.78 2.81-2.81c.8-.78.8-2.07 0-2.86zM5.41 20L4 18.59l7.72-7.72 1.47 1.35L5.41 20z\"/>\n",
              "  </svg>\n",
              "      </button>\n",
              "      \n",
              "  <style>\n",
              "    .colab-df-container {\n",
              "      display:flex;\n",
              "      flex-wrap:wrap;\n",
              "      gap: 12px;\n",
              "    }\n",
              "\n",
              "    .colab-df-convert {\n",
              "      background-color: #E8F0FE;\n",
              "      border: none;\n",
              "      border-radius: 50%;\n",
              "      cursor: pointer;\n",
              "      display: none;\n",
              "      fill: #1967D2;\n",
              "      height: 32px;\n",
              "      padding: 0 0 0 0;\n",
              "      width: 32px;\n",
              "    }\n",
              "\n",
              "    .colab-df-convert:hover {\n",
              "      background-color: #E2EBFA;\n",
              "      box-shadow: 0px 1px 2px rgba(60, 64, 67, 0.3), 0px 1px 3px 1px rgba(60, 64, 67, 0.15);\n",
              "      fill: #174EA6;\n",
              "    }\n",
              "\n",
              "    [theme=dark] .colab-df-convert {\n",
              "      background-color: #3B4455;\n",
              "      fill: #D2E3FC;\n",
              "    }\n",
              "\n",
              "    [theme=dark] .colab-df-convert:hover {\n",
              "      background-color: #434B5C;\n",
              "      box-shadow: 0px 1px 3px 1px rgba(0, 0, 0, 0.15);\n",
              "      filter: drop-shadow(0px 1px 2px rgba(0, 0, 0, 0.3));\n",
              "      fill: #FFFFFF;\n",
              "    }\n",
              "  </style>\n",
              "\n",
              "      <script>\n",
              "        const buttonEl =\n",
              "          document.querySelector('#df-268655af-e842-4216-b948-bb69f4a8ffff button.colab-df-convert');\n",
              "        buttonEl.style.display =\n",
              "          google.colab.kernel.accessAllowed ? 'block' : 'none';\n",
              "\n",
              "        async function convertToInteractive(key) {\n",
              "          const element = document.querySelector('#df-268655af-e842-4216-b948-bb69f4a8ffff');\n",
              "          const dataTable =\n",
              "            await google.colab.kernel.invokeFunction('convertToInteractive',\n",
              "                                                     [key], {});\n",
              "          if (!dataTable) return;\n",
              "\n",
              "          const docLinkHtml = 'Like what you see? Visit the ' +\n",
              "            '<a target=\"_blank\" href=https://colab.research.google.com/notebooks/data_table.ipynb>data table notebook</a>'\n",
              "            + ' to learn more about interactive tables.';\n",
              "          element.innerHTML = '';\n",
              "          dataTable['output_type'] = 'display_data';\n",
              "          await google.colab.output.renderOutput(dataTable, element);\n",
              "          const docLink = document.createElement('div');\n",
              "          docLink.innerHTML = docLinkHtml;\n",
              "          element.appendChild(docLink);\n",
              "        }\n",
              "      </script>\n",
              "    </div>\n",
              "  </div>\n",
              "  "
            ]
          },
          "metadata": {},
          "execution_count": 4
        }
      ]
    },
    {
      "cell_type": "code",
      "metadata": {
        "id": "_rXib84J8tId"
      },
      "source": [
        "item_number = df['item_number'].str.strip()\n",
        "df['item_number'] = item_number\n",
        "service_type = df['service_type'].str.strip()\n",
        "df['service_type'] = service_type\n",
        "df['item_number'] = df['item_number'].str.upper()\n",
        "df['T2D'] = 1"
      ],
      "execution_count": 5,
      "outputs": []
    },
    {
      "cell_type": "markdown",
      "metadata": {
        "id": "1dNQc31gqBQk"
      },
      "source": [
        "## 1.2 Add smoking feature"
      ]
    },
    {
      "cell_type": "code",
      "metadata": {
        "id": "oKwct1EgEt2c"
      },
      "source": [
        "def icd_to_smoking(df):\n",
        "    smoking = []\n",
        "    for i, row in df.iterrows():\n",
        "        if row['item_number'] ==\"3051\" or row['item_number'] ==\"64900\" or row['item_number'] ==\"64901\"or row['item_number'] ==\"64902\" or row['item_number'] ==\"64903\" or row['item_number'] ==\"64904\" or row['item_number'] ==\"V1582\" or row['item_number'] ==\"F17\" or row['item_number'] ==\"F17.1\"or row['item_number'] ==\"F17.2\"or row['item_number'] ==\"F17.3\"or row['item_number'] ==\"F17.4\"or row['item_number'] ==\"F17.5\"or row['item_number'] ==\"F17.6\"or row['item_number'] ==\"F17.7\"or row['item_number'] ==\"F17.8\"or row['item_number'] ==\"F17.9\"or row['item_number'] ==\"T65.2\" or row['item_number'] ==\"P04.2\" or row['item_number'] ==\"Z72.0\" or row['item_number'] == \"Z86.43\"or row['item_number'] == \"Z58.7\"or row['item_number'] == \"Z71.6\":\n",
        "          smoking.append(1)\n",
        "        else:\n",
        "          smoking.append('Other')\n",
        "    return smoking\n"
      ],
      "execution_count": 6,
      "outputs": []
    },
    {
      "cell_type": "code",
      "metadata": {
        "id": "wAU9DUia7Pzp"
      },
      "source": [
        "df['smoking'] = icd_to_smoking(df)\n",
        "ids = list(df.person_id)\n",
        "smoke = list(df.smoking)\n",
        "new = []\n",
        "\n",
        "current_id = ids[0]\n",
        "one = False\n",
        "if smoke[0] == 1:\n",
        "  one = True\n",
        "\n",
        "count = 0\n",
        "for i in range(len(ids)):\n",
        "    id_ = ids[i]\n",
        "    if current_id == id_:\n",
        "        count += 1\n",
        "        current_id = id_\n",
        "\n",
        "        if smoke[i] == 1:\n",
        "            one = True\n",
        "\n",
        "    else:\n",
        "\n",
        "        for _ in range(count):\n",
        "            if one:\n",
        "                new.append(1)\n",
        "            else:\n",
        "                new.append(0)\n",
        "\n",
        "        one = False\n",
        "        count = 1\n",
        "        current_id = id_\n",
        "\n",
        "\n",
        "for _ in range(count):\n",
        "    if one:\n",
        "        new.append(1)\n",
        "    else:\n",
        "        new.append(0)\n",
        "df[\"smoker\"] = new"
      ],
      "execution_count": 7,
      "outputs": []
    },
    {
      "cell_type": "markdown",
      "metadata": {
        "id": "hML6Z5HxXqW2"
      },
      "source": [
        "#2. ICD code to disease"
      ]
    },
    {
      "cell_type": "code",
      "metadata": {
        "id": "iyEacJhC1I_G"
      },
      "source": [
        "def icd_to_disease(df):\n",
        "    disease = []\n",
        "    for i, row in df.iterrows():\n",
        "        if row['item_number'] ==\"39891\" or row['item_number'] ==\"40211\" or row['item_number'] ==\"i50\"or row['item_number'] ==\"40291\" or row['item_number'] ==\"40411\" or row['item_number'] ==\"40413\" or row['item_number'] ==\"40491\" or row['item_number'] ==\"40493\" or row['item_number'] ==\"4280\" or row['item_number'] ==\"4281\" or row['item_number'] ==\"42820\" or row['item_number'] ==\"42821\" or row['item_number'] ==\"42822\" or row['item_number'] ==\"42823\" or row['item_number'] ==\"42830\" or row['item_number'] ==\"42831\" or row['item_number'] ==\"42832\" or row['item_number'] ==\"42833\" or row['item_number'] ==\"42840\" or row['item_number'] ==\"42841\" or row['item_number'] ==\"42842\" or row['item_number'] ==\"42843\" or row['item_number'] ==\"4289\" or row['item_number'] ==\"I09.9\" or row['item_number'] ==\"I11.0\" or row['item_number'] ==\"I13.0\" or row['item_number'] ==\"I13.2\" or row['item_number'] ==\"I25.5\" or row['item_number'] ==\"I42.0\" or row['item_number'] ==\"I42.5\" or row['item_number'] ==\"I42.6\" or row['item_number'] ==\"I42.7\" or row['item_number'] ==\"I42.8\" or row['item_number'] ==\"I42.9\" or row['item_number'] ==\"P29.0\" or row['item_number'] ==\"I43\" or row['item_number'] ==\"I43.0\" or row['item_number'] ==\"I43.1\" or row['item_number'] ==\"I43.2\" or row['item_number'] ==\"I43.8\" or row['item_number'] ==\"I50\" or row['item_number'] ==\"I50.1\" or row['item_number'] ==\"I50.9\":\n",
        "          disease.append(\"Congestive heart failure\")\n",
        "        elif row['item_number'] ==\"42610\" or row['item_number'] ==\"442611\" or row['item_number'] ==\"i47\"or row['item_number'] ==\"i48\"or row['item_number'] ==\"i49\"or row['item_number'] ==\"42613\" or row['item_number'] ==\"4270\" or row['item_number'] ==\"4272\" or row['item_number'] ==\"42731\" or row['item_number'] ==\"42760\" or row['item_number'] ==\"4279\" or row['item_number'] ==\"7850\" or row['item_number'] ==\"42760\" or row['item_number'] ==\"4279\" or row['item_number'] ==\"7850\" or row['item_number'] ==\"V450\" or row['item_number'] == \"V533\" or row['item_number'] == \"4262\" or row['item_number'] == \"4263\" or row['item_number'] == \"4264\"or row['item_number'] == \"42650\" or row['item_number'] == \"42651\" or row['item_number'] == \"42652\"or row['item_number'] == \"42653\" or row['item_number'] == \"4266\" or row['item_number'] == \"4267\" or row['item_number'] == \"42681\" or row['item_number'] == \"42682\" or row['item_number'] == \"42689\" or row['item_number'] ==\"I44.1\" or row['item_number'] ==\"I44.2\" or row['item_number'] ==\"I44.3\" or row['item_number'] ==\"I45.6\" or row['item_number'] ==\"I45.9\" or row['item_number'] ==\"I45.9\" or row['item_number'] ==\"R00.0\" or row['item_number'] ==\"R00.1\" or row['item_number'] ==\"R00.8\" or row['item_number'] ==\"T82.1\" or row['item_number'] ==\"Z45.0\" or row['item_number'] ==\"Z95.0\" or row['item_number'] ==\"I47.0\" or row['item_number'] ==\"I47.1\" or row['item_number'] ==\"I47\"or row['item_number'] ==\"I47.2\"or row['item_number'] ==\"I47.9\" or row['item_number'] ==\"I48\" or row['item_number'] ==\"I48.0\" or row['item_number'] ==\"I48.1\" or row['item_number'] ==\"I48.2\" or row['item_number'] ==\"I48.3\"or row['item_number'] ==\"I48.4\"or row['item_number'] ==\"I48.9\"or row['item_number'] ==\"I49\"or row['item_number'] ==\"I49.0\"or row['item_number'] ==\"I49.1\"or row['item_number'] ==\"I49.2\"or row['item_number'] ==\"I49.3\"or row['item_number'] ==\"I49.4\"or row['item_number'] ==\"I49.5\"or row['item_number'] ==\"I49.8\"or row['item_number'] ==\"I49.9\":\n",
        "          disease.append(\"Cardiac arrhythmias\")\n",
        "        elif row['item_number'] ==\"09320\" or row['item_number'] ==\"09321\" or row['item_number'] ==\"09322\" or row['item_number'] ==\"09323\" or row['item_number'] ==\"09324\" or row['item_number'] ==\"09320\" or row['item_number'] ==\"3940\" or row['item_number'] ==\"3941\" or row['item_number'] ==\"3942\" or row['item_number'] ==\"3949\" or row['item_number'] ==\"3950\" or row['item_number'] ==\"3951\" or row['item_number'] ==\"3952\" or row['item_number'] ==\"3959\" or row['item_number'] ==\"3960\" or row['item_number'] ==\"3961\" or row['item_number'] ==\"3962\" or row['item_number'] ==\"3963\" or row['item_number'] ==\"3968\" or row['item_number'] ==\"3969\" or row['item_number'] ==\"3970\" or row['item_number'] ==\"3971\" or row['item_number'] ==\"3979\" or row['item_number'] ==\"4240\" or row['item_number'] ==\"4241\" or row['item_number'] ==\"4243\" or row['item_number'] ==\"42490\" or row['item_number'] ==\"42491\" or row['item_number'] ==\"7463\" or row['item_number'] ==\"7464\" or row['item_number'] ==\"7465\" or row['item_number'] ==\"7466\" or row['item_number'] ==\"V422\" or row['item_number'] ==\"V433\" or row['item_number'] ==\"A52.0\" or row['item_number'] ==\"I05\" or row['item_number'] ==\"I05.0\" or row['item_number'] ==\"I05.1\" or row['item_number'] ==\"I05.2\" or row['item_number'] ==\"I05.8\" or row['item_number'] ==\"I05.9\" or row['item_number'] ==\"I06\" or row['item_number'] ==\"I06.0\" or row['item_number'] ==\"I06.1\" or row['item_number'] ==\"I06.2\" or row['item_number'] ==\"I06.8\" or row['item_number'] ==\"I06.9\" or row['item_number'] ==\"I07\" or row['item_number'] ==\"I07.0\" or row['item_number'] ==\"I07.1\" or row['item_number'] ==\"I07.2\" or row['item_number'] ==\"I07.8\" or row['item_number'] ==\"I07.9\" or row['item_number'] ==\"I08\"or row['item_number'] ==\"I08.0\"  or row['item_number'] ==\"I08.1\" or row['item_number'] ==\"I08.2\" or row['item_number'] ==\"I08.8\" or row['item_number'] ==\"I08.9\" or row['item_number'] ==\"I09.1\" or row['item_number'] ==\"I09.8\"or row['item_number'] ==\"I34\" or row['item_number'] ==\"I34.0\" or row['item_number'] ==\"I34.1\"or row['item_number'] ==\"I34.2\" or row['item_number'] ==\"I34.8\" or row['item_number'] ==\"I34.9\" or row['item_number'] ==\"I35\" or row['item_number'] ==\"I35.0\"or row['item_number'] ==\"I35.1\" or row['item_number'] ==\"I35.2\" or row['item_number'] ==\"I35.8\" or row['item_number'] ==\"I35.9\" or row['item_number'] ==\"I36\"or row['item_number'] ==\"I36.0\" or row['item_number'] ==\"I36.1\" or row['item_number'] ==\"I36.2\" or row['item_number'] ==\"I36.8\" or row['item_number'] ==\"I36.9\" or row['item_number'] ==\"I37\" or row['item_number'] ==\"I37.0\"or row['item_number'] ==\"I37.1\" or row['item_number'] ==\"I37.2\" or row['item_number'] ==\"I37.8\"or row['item_number'] ==\"I37.9\"or row['item_number'] ==\"I38\"or row['item_number'] ==\"I39\"or row['item_number'] ==\"I39.0\"or row['item_number'] ==\"I39.1\"or row['item_number'] ==\"I39.2\"or row['item_number'] ==\"I39.3\"or row['item_number'] ==\"I39.4\"or row['item_number'] ==\"I39.8\"or row['item_number'] ==\"Q23.0\"or row['item_number'] ==\"Q23.01\"or row['item_number'] ==\"Q23.02\"or row['item_number'] ==\"Q23.1\"or row['item_number'] ==\"Q23.2\"or row['item_number'] ==\"Q23.21\"or row['item_number'] ==\"Q23.22\"or row['item_number'] ==\"Q23.3\"or row['item_number'] ==\"Z95.2\"or row['item_number'] ==\"Z95.3\"or row['item_number'] ==\"Z95.4\":\n",
        "          disease.append(\"Valvular disease\")\n",
        "        elif row['item_number'] ==\"I26\"or row['item_number'] ==\"I26.0\"or row['item_number'] ==\"I26.8\"or row['item_number'] ==\"I26.9\"or row['item_number'] ==\"I27\"or row['item_number'] ==\"I27.0\"or row['item_number'] ==\"I27.1\"or row['item_number'] ==\"I27.2\"or row['item_number'] ==\"I27.8\"or row['item_number'] ==\"I27.9\" or row['item_number'] ==\"I28.0\" or row['item_number'] ==\"I28.8\"or row['item_number'] ==\"I28.9\"or row['item_number'] ==\"4179\"or row['item_number'] ==\"4160\"or row['item_number'] ==\"4161\"or row['item_number'] ==\"4162\"or row['item_number'] ==\"4168\"or row['item_number'] ==\"4169\":\n",
        "          disease.append(\"Pulmonary circulation disorders\")\n",
        "        elif row['item_number'] ==\"I70\" or row['item_number'] ==\"i70\"or row['item_number'] ==\"i71\"or row['item_number'] ==\"I70.0\"or row['item_number'] ==\"I70.1\"or row['item_number'] ==\"I70.2\"or row['item_number'] ==\"I70.20\"or row['item_number'] ==\"I70.21\"or row['item_number'] ==\"I70.22\"or row['item_number'] ==\"I70.23\"or row['item_number'] ==\"I70.24\" or row['item_number'] ==\"I70.8\"or row['item_number'] ==\"I70.9\" or row['item_number'] ==\"I71\" or row['item_number'] ==\"I71.0\" or row['item_number'] ==\"I71.00\"or row['item_number'] ==\"I71.01\"or row['item_number'] ==\"I71.02\"or row['item_number'] ==\"I71.03\"or row['item_number'] ==\"I71.1\"or row['item_number'] ==\"I71.2\" or row['item_number'] ==\"I71.3\" or row['item_number'] ==\"I71.4\" or row['item_number'] ==\"I71.5\" or row['item_number'] ==\"I71.6\" or row['item_number'] ==\"I71.8\"or row['item_number'] ==\"I71.9\"or row['item_number'] ==\"I73.1\"or row['item_number'] ==\"I73.8\"or row['item_number'] ==\"I73.9\"or row['item_number'] ==\"I77.1\"or row['item_number'] ==\"I79.0\" or row['item_number'] ==\"I79.2\"or row['item_number'] ==\"K55.1\"or row['item_number'] ==\"K55.8\"or row['item_number'] ==\"K55.9\"or row['item_number'] ==\"Z95.8\"or row['item_number'] ==\"Z95.9\"or row['item_number'] ==\"4400\"or row['item_number'] ==\"4401\"or row['item_number'] ==\"44020\"or row['item_number'] ==\"44021\"or row['item_number'] ==\"44022\"or row['item_number'] ==\"44023\"or row['item_number'] ==\"44024\"or row['item_number'] ==\"44029\"or row['item_number'] ==\"44030\"or row['item_number'] ==\"44031\"or row['item_number'] ==\"44032\"or row['item_number'] ==\"4404\"or row['item_number'] ==\"4408\"or row['item_number'] ==\"4409\"or row['item_number'] ==\"4412\"or row['item_number'] ==\"4412\"or row['item_number'] ==\"4414\"or row['item_number'] ==\"4417\"or row['item_number'] ==\"4419\"or row['item_number'] ==\"4471\"or row['item_number'] ==\"5571\"or row['item_number'] ==\"5579\"or row['item_number'] ==\"V43\"or row['item_number'] ==\"4431\"or row['item_number'] ==\"44321\"or row['item_number'] ==\"44322\"or row['item_number'] ==\"44323\"or row['item_number'] ==\"44324\"or row['item_number'] ==\"44329\"or row['item_number'] ==\"44381\"or row['item_number'] ==\"44382\"or row['item_number'] ==\"44389\"or row['item_number'] ==\"4439\":\n",
        "          disease.append(\"Peripheral vascular disorders\")\n",
        "        elif row['item_number'] ==\"I10\" or row['item_number'] ==\"I10.0\"or row['item_number'] ==\"I10.1\"or row['item_number'] ==\"I10.2\" or row['item_number'] ==\"I10.3\" or row['item_number'] ==\"I10.4\"or row['item_number'] ==\"I10.5\"or row['item_number'] ==\"I10.6\"or row['item_number'] ==\"I10.7\"or row['item_number'] ==\"I10.8\"or row['item_number'] ==\"I10.9\"or row['item_number'] ==\"4011\" or row['item_number'] ==\"4019\"or row['item_number'] ==\"I11\"or row['item_number'] ==\"I11.1\"or row['item_number'] ==\"I11.2\"or row['item_number'] ==\"I11.3\"or row['item_number'] ==\"I11.4\"or row['item_number'] ==\"I11.5\"or row['item_number'] ==\"I11.6\"or row['item_number'] ==\"I11.7\"or row['item_number'] ==\"I11.8\"or row['item_number'] ==\"I11.9\"or row['item_number'] ==\"I12.1\"or row['item_number'] ==\"I12.2\"or row['item_number'] ==\"I12.3\"or row['item_number'] ==\"I12.4\"or row['item_number'] ==\"I12.5\"or row['item_number'] ==\"I12.6\"or row['item_number'] ==\"I12.7\"or row['item_number'] ==\"I12.8\"or row['item_number'] ==\"I12.9\"or row['item_number'] ==\"I13.1\"or row['item_number'] ==\"I13.2\"or row['item_number'] ==\"I13.3\"or row['item_number'] ==\"I13.4\"or row['item_number'] ==\"I13.5\"or row['item_number'] ==\"I13.6\"or row['item_number'] ==\"I13.7\"or row['item_number'] ==\"I13.8\"or row['item_number'] ==\"I13.9\"or row['item_number'] ==\"I15.1\"or row['item_number'] ==\"I15.2\"or row['item_number'] ==\"I15.3\"or row['item_number'] ==\"I15.4\"or row['item_number'] ==\"I15.5\"or row['item_number'] ==\"I15.6\"or row['item_number'] ==\"I15.7\"or row['item_number'] ==\"I15.8\"or row['item_number'] ==\"I15.9\"or row['item_number'] ==\"40210\"or row['item_number'] ==\"40290\"or row['item_number'] ==\"40410\"or row['item_number'] ==\"40490\"or row['item_number'] ==\"40511\"or row['item_number'] ==\"40519\"or row['item_number'] ==\"40599\":\n",
        "          disease.append(\"Hypertension, uncomplicated and Hypertension, complicated\")\n",
        "        elif row['item_number'] ==\"G04.\" or row['item_number'] ==\"G11.4\"or row['item_number'] ==\"G80.1\"or row['item_number'] ==\"G80.2\"or row['item_number'] ==\"G81.0\"or row['item_number'] ==\"G81.1\"or row['item_number'] ==\"G81.2\"or row['item_number'] ==\"G81.3\"or row['item_number'] ==\"G81.4\"or row['item_number'] ==\"G81.5\"or row['item_number'] ==\"G81.6\"or row['item_number'] ==\"G81.7\"or row['item_number'] ==\"G81.8\"or row['item_number'] ==\"G81.9\"or row['item_number'] ==\"G82.1\" or row['item_number'] ==\"G82.2\"or row['item_number'] ==\"G82.3\"or row['item_number'] ==\"G82.4\"or row['item_number'] ==\"G82.5\"or row['item_number'] ==\"G82.6\"or row['item_number'] ==\"G82.7\"or row['item_number'] ==\"G82.8\"or row['item_number'] ==\"G82.9\"or row['item_number'] ==\"G82.10\" or row['item_number'] ==\"G82.11\"or row['item_number'] ==\"G82.12\"or row['item_number'] ==\"G82.13\"or row['item_number'] ==\"G82.14\"or row['item_number'] ==\"G82.15\"or row['item_number'] ==\"G82.16\"or row['item_number'] ==\"G82.17\"or row['item_number'] ==\"G82.18\"or row['item_number'] ==\"G82.19\"or row['item_number'] ==\"G82.21\"or row['item_number'] ==\"G82.22\"or row['item_number'] ==\"G82.23\"or row['item_number'] ==\"G82.24\"or row['item_number'] ==\"G82.25\"or row['item_number'] ==\"G82.26\" or row['item_number'] ==\"G82.27\"or row['item_number'] ==\"G82.28\"or row['item_number'] ==\"G82.29\" or row['item_number'] ==\"G82.31\"or row['item_number'] ==\"G82.32\"or row['item_number'] ==\"G82.33\"or row['item_number'] ==\"G82.34\"or row['item_number'] ==\"G82.35\"or row['item_number'] ==\"G82.36\"or row['item_number'] ==\"G82.37\"or row['item_number'] ==\"G82.38\"or row['item_number'] ==\"G82.39\"or row['item_number'] ==\"G82.40\"or row['item_number'] ==\"G82.41\"or row['item_number'] ==\"G82.42\"or row['item_number'] ==\"G82.43\"or row['item_number'] ==\"G82.44\"or row['item_number'] ==\"G82.45\"or row['item_number'] ==\"G82.46\"or row['item_number'] ==\"G82.47\"or row['item_number'] ==\"G82.48\" or row['item_number'] ==\"G82.49\" or row['item_number'] ==\"G82.50\"or row['item_number'] ==\"G82.51\"or row['item_number'] ==\"G82.52\"or row['item_number'] ==\"G82.53\"or row['item_number'] ==\"G82.54\"or row['item_number'] ==\"G82.55\"or row['item_number'] ==\"G82.56\"or row['item_number'] ==\"G82.57\"or row['item_number'] ==\"G82.58\"or row['item_number'] ==\"G82.59\" or row['item_number'] ==\"G83.0\"or row['item_number'] ==\"G83.1\"or row['item_number'] ==\"G83.2\"or row['item_number'] ==\"G83.3\"or row['item_number'] ==\"G83.4\"or row['item_number'] ==\"G83.9\"or row['item_number'] ==\"34200\"or row['item_number'] ==\"34201\"or row['item_number'] ==\"34202\"or row['item_number'] ==\"34210\"or row['item_number'] ==\"34211\"or row['item_number'] ==\"34212\"or row['item_number'] ==\"34290\" or row['item_number'] ==\"34291\"or row['item_number'] ==\"34292\"or row['item_number'] ==\"3430\"or row['item_number'] ==\"3631\"or row['item_number'] ==\"3432\"or row['item_number'] ==\"3433\"or row['item_number'] ==\"3434\"or row['item_number'] ==\"3438\"or row['item_number'] ==\"3439\"or row['item_number'] ==\"34400\" or row['item_number'] ==\"34401\"or row['item_number'] ==\"34402\"or row['item_number'] ==\"34403\"or row['item_number'] ==\"34404\"or row['item_number'] ==\"34409\"or row['item_number'] ==\"3441\"or row['item_number'] ==\"3442\"or row['item_number'] ==\"34430\"or row['item_number'] ==\"34431\"or row['item_number'] ==\"34432\"or row['item_number'] ==\"34440\"or row['item_number'] ==\"34441\"or row['item_number'] ==\"34442\"or row['item_number'] ==\"3445\"or row['item_number'] ==\"34460\"or row['item_number'] ==\"34461\"or row['item_number'] ==\"34481\"or row['item_number'] ==\"34489\"or row['item_number'] ==\"3449\":\n",
        "          disease.append(\"Paralysis\")\n",
        "        elif row['item_number'] ==\"G10.0\"  or row['item_number'] ==\"G10.1\"or row['item_number'] ==\"G10.2\"or row['item_number'] ==\"G10.3\" or row['item_number'] ==\"G10.4\"or row['item_number'] ==\"G10.5\"or row['item_number'] ==\"G10.6\"or row['item_number'] ==\"G10.7\"or row['item_number'] ==\"G10.8\"or row['item_number'] ==\"G10.9\"or row['item_number'] ==\"G11.1\"or row['item_number'] ==\"G11.2\" or row['item_number'] ==\"G11.3\"or row['item_number'] ==\"G11.5\"or row['item_number'] ==\"G11.6\"or row['item_number'] ==\"G11.7\"or row['item_number'] ==\"G11.8\"or row['item_number'] ==\"G11.9\"or row['item_number'] ==\"G12.0\"or row['item_number'] ==\"G12.1\"or row['item_number'] ==\"G12.2\"or row['item_number'] ==\"G12.3\"or row['item_number'] ==\"G12.4\"or row['item_number'] ==\"G12.5\"or row['item_number'] ==\"G12.6\"or row['item_number'] ==\"G12.6\"or row['item_number'] ==\"G12.7\"or row['item_number'] ==\"G12.8\"or row['item_number'] ==\"G12.9\"or row['item_number'] ==\"G13.1\"or row['item_number'] ==\"G13.2\"or row['item_number'] ==\"G13.3\"or row['item_number'] ==\"G13.4\"or row['item_number'] ==\"G13.5\"or row['item_number'] ==\"G13.6\"or row['item_number'] ==\"G13.7\"or row['item_number'] ==\"G13.8\"or row['item_number'] ==\"G13.9\"or row['item_number'] ==\"G20\"or row['item_number'] ==\"G21\"or row['item_number'] ==\"G21.0\"or row['item_number'] ==\"G21.1\"or row['item_number'] ==\"G21.2\"or row['item_number'] ==\"G21.3\"or row['item_number'] ==\"G21.4\"or row['item_number'] ==\"G21.5\"or row['item_number'] ==\"G21.6\"or row['item_number'] ==\"G21.7\"or row['item_number'] ==\"G21.8\"or row['item_number'] ==\"G21.9\"or row['item_number'] ==\"G22\"or row['item_number'] ==\"G254.\"or row['item_number'] ==\"G25.5\"or row['item_number'] ==\"G312.2\"or row['item_number'] ==\"G31.8\"or row['item_number'] ==\"G31.9\"or row['item_number'] ==\"G32.0\"or row['item_number'] ==\"G32.1\"or row['item_number'] ==\"G32.2\"or row['item_number'] ==\"G32.3\" or row['item_number'] ==\"G32.4\"or row['item_number'] ==\"G32.5\"or row['item_number'] ==\"G32.6\"or row['item_number'] ==\"G32.7\"or row['item_number'] ==\"G32.8\"or row['item_number'] ==\"G32.9\"or row['item_number'] ==\"G35.0\"or row['item_number'] ==\"G35.1\"or row['item_number'] ==\"G35.2\"or row['item_number'] ==\"G35.3\"or row['item_number'] ==\"G35.4\"or row['item_number'] ==\"G35.5\"or row['item_number'] ==\"G35.6\"or row['item_number'] ==\"G35.7\"or row['item_number'] ==\"G35.8\"or row['item_number'] ==\"G35.9\"or row['item_number'] ==\"G36.0\"or row['item_number'] ==\"G36.1\"or row['item_number'] ==\"G36.2\"or row['item_number'] ==\"G36.3\"or row['item_number'] ==\"G36.4\"or row['item_number'] ==\"G36.5\"or row['item_number'] ==\"G36.6\"or row['item_number'] ==\"G36.7\"or row['item_number'] ==\"G36.8\"or row['item_number'] ==\"G36.9\"or row['item_number'] ==\"G37.1\"or row['item_number'] ==\"G37.2\"or row['item_number'] ==\"G37.3\"or row['item_number'] ==\"G37.4\"or row['item_number'] ==\"G37.5\"or row['item_number'] ==\"G37.6\"or row['item_number'] ==\"G37.7\"or row['item_number'] ==\"G37.8\"or row['item_number'] ==\"G37.9\"or row['item_number'] ==\"G40.0\"or row['item_number'] ==\"G40.1\"or row['item_number'] ==\"G40.2\"or row['item_number'] ==\"G40.3\"or row['item_number'] ==\"G40.4\"or row['item_number'] ==\"G40.5\"or row['item_number'] ==\"G40.6\"or row['item_number'] ==\"G40.7\"or row['item_number'] ==\"G40.8\"or row['item_number'] ==\"G40.9\"or row['item_number'] ==\"G40.10\"or row['item_number'] ==\"G40.11\"or row['item_number'] ==\"G40.12\"or row['item_number'] ==\"G40.13\"or row['item_number'] ==\"G40.14\"or row['item_number'] ==\"G40.15\"or row['item_number'] ==\"G40.16\"or row['item_number'] ==\"G40.17\"or row['item_number'] ==\"G40.18\"or row['item_number'] ==\"G40.19\"or row['item_number'] ==\"G40.20\"or row['item_number'] ==\"G40.21\"or row['item_number'] ==\"G40.22\"or row['item_number'] ==\"G40.23\"or row['item_number'] ==\"G40.24\"or row['item_number'] ==\"G40.25\" or row['item_number'] ==\"G40.26\"or row['item_number'] ==\"G40.27\"or row['item_number'] ==\"G40.28\"or row['item_number'] ==\"G40.29\"or row['item_number'] ==\"G40.30\"or row['item_number'] ==\"G40.31\"or row['item_number'] ==\"G40.32\"or row['item_number'] ==\"G40.33\"or row['item_number'] ==\"G40.34\"or row['item_number'] ==\"G40.35\" or row['item_number'] ==\"G40.36\"or row['item_number'] ==\"G40.37\"or row['item_number'] ==\"G40.38\"or row['item_number'] ==\"G40.39\"or row['item_number'] ==\"G40.40\"or row['item_number'] ==\"G40.41\"or row['item_number'] ==\"G40.42\"or row['item_number'] ==\"G40.43\"or row['item_number'] ==\"G40.44\"or row['item_number'] ==\"G40.45\"or row['item_number'] ==\"G40.46\"or row['item_number'] ==\"G40.47\"or row['item_number'] ==\"G40.48\"or row['item_number'] ==\"G40.49\"or row['item_number'] ==\"G40.50\"or row['item_number'] ==\"G40.51\"or row['item_number'] ==\"G40.52\"or row['item_number'] ==\"G40.53\"or row['item_number'] ==\"G40.54\"or row['item_number'] ==\"G40.55\"or row['item_number'] ==\"G40.56\"or row['item_number'] ==\"G40.57\"or row['item_number'] ==\"G40.58\"or row['item_number'] ==\"G40.59\"or row['item_number'] ==\"G40.60\"or row['item_number'] ==\"G40.61\"or row['item_number'] ==\"G40.62\"or row['item_number'] ==\"G40.63\"or row['item_number'] ==\"G40.64\"or row['item_number'] ==\"G40.65\"or row['item_number'] ==\"G40.66\"or row['item_number'] ==\"G40.67\" or row['item_number'] ==\"G40.68\"or row['item_number'] ==\"G40.69\"or row['item_number'] ==\"G40.70\"or row['item_number'] ==\"G40.71\" or row['item_number'] ==\"G40.72\"or row['item_number'] ==\"G40.73\"or row['item_number'] ==\"G40.74\"or row['item_number'] ==\"G40.75\"or row['item_number'] ==\"G40.76\"or row['item_number'] ==\"G40.77\"or row['item_number'] ==\"G40.78\"or row['item_number'] ==\"G40.79\"or row['item_number'] ==\"G40.80\"or row['item_number'] ==\"G40.81\"or row['item_number'] ==\"G40.82\"or row['item_number'] ==\"G40.83\"or row['item_number'] ==\"G40.84\"or row['item_number'] ==\"G40.85\"or row['item_number'] ==\"G40.86\"or row['item_number'] ==\"G40.87\"or row['item_number'] ==\"G40.88\"or row['item_number'] ==\"G40.89\"or row['item_number'] ==\"G40.90\"or row['item_number'] ==\"G40.91\"or row['item_number'] ==\"G40.92\"or row['item_number'] ==\"G40.93\"or row['item_number'] ==\"G40.94\"or row['item_number'] ==\"G40.95\"or row['item_number'] ==\"G40.96\"or row['item_number'] ==\"G40.97\"or row['item_number'] ==\"G40.98\"or row['item_number'] ==\"G40.99\"or row['item_number'] ==\"G41.0\"or row['item_number'] ==\"G41.1\"or row['item_number'] ==\"G41.2\"or row['item_number'] ==\"G41.3\"or row['item_number'] ==\"G41.4\"or row['item_number'] ==\"G41.5\"or row['item_number'] ==\"G41.6\"or row['item_number'] ==\"G41.7\"or row['item_number'] ==\"G41.8\"or row['item_number'] ==\"G41.9\"or row['item_number'] ==\"G93.1\"or row['item_number'] ==\"G93.4\"or row['item_number'] ==\"R47.0\"or row['item_number'] ==\"R56.0\"or row['item_number'] ==\"R56.1\"or row['item_number'] ==\"R56.2\"or row['item_number'] ==\"R56.3\"or row['item_number'] ==\"R56.4\"or row['item_number'] ==\"R56.5\"or row['item_number'] ==\"R56.6\"or row['item_number'] ==\"R56.7\"or row['item_number'] ==\"R56.8\"or row['item_number'] ==\"R56.9\"or row['item_number'] ==\"3319\"or row['item_number'] ==\"3320\"or row['item_number'] ==\"3334\"or row['item_number'] ==\"3335\"or row['item_number'] ==\"3340\"or row['item_number'] ==\"3341\"or row['item_number'] ==\"3342\"or row['item_number'] ==\"3335\"or row['item_number'] ==\"3340\"or row['item_number'] ==\"3341\"or row['item_number'] ==\"3342\"or row['item_number'] ==\"3343\"or row['item_number'] ==\"3348\"or row['item_number'] ==\"3349\"or row['item_number'] ==\"3350\"or row['item_number'] ==\"33511\"or row['item_number'] ==\"33519\"or row['item_number'] ==\"33520\"or row['item_number'] ==\"33521\"or row['item_number'] ==\"33522\"or row['item_number'] ==\"33523\"or row['item_number'] ==\"33524\"or row['item_number'] ==\"33529\"or row['item_number'] ==\"3358\"or row['item_number'] ==\"3359\"or row['item_number'] ==\"340\"or row['item_number'] ==\"3481\"or row['item_number'] ==\"3483\"or row['item_number'] ==\"3411\"or row['item_number'] ==\"34120\"or row['item_number'] ==\"34121\"or row['item_number'] ==\"34122\"or row['item_number'] ==\"3418\"or row['item_number'] ==\"3419\"or row['item_number'] ==\"34500\"or row['item_number'] ==\"34501\"or row['item_number'] ==\"34510\"or row['item_number'] ==\"34511\"or row['item_number'] ==\"34540\"or row['item_number'] ==\"34541\"or row['item_number'] ==\"34550\"or row['item_number'] ==\"34551\"or row['item_number'] ==\"34580\"or row['item_number'] ==\"34581\"or row['item_number'] ==\"34590\"or row['item_number'] ==\"34591\":\n",
        "          disease.append(\"Other neurological disorders\")\n",
        "        elif row['item_number'] ==\"I27.8\" or row['item_number'] ==\"I27.9\"or row['item_number'] ==\"J45.9\"or row['item_number'] ==\"j44\"or row['item_number'] ==\"j45\"or row['item_number'] ==\"j45.9\"or row['item_number'] ==\"J40\"or row['item_number'] ==\"J40.1\"or row['item_number'] ==\"J40.0\"or row['item_number'] ==\"J40.2\"or row['item_number'] ==\"J40.3\"or row['item_number'] ==\"J40.4\"or row['item_number'] ==\"J40.5\"or row['item_number'] ==\"J40.6\"or row['item_number'] ==\"J40.7\"or row['item_number'] ==\"J40.8\"or row['item_number'] ==\"J40.9\"or row['item_number'] ==\"J41\"or row['item_number'] ==\"J41.0\"or row['item_number'] ==\"J41.1\"or row['item_number'] ==\"J41.2\"or row['item_number'] ==\"J41.3\"or row['item_number'] ==\"J41.4\"or row['item_number'] ==\"J41.5\"or row['item_number'] ==\"J41.6\"or row['item_number'] ==\"J41.7\"or row['item_number'] ==\"J41.8\"or row['item_number'] ==\"J41.9\"or row['item_number'] ==\"J42\"or row['item_number'] ==\"J43\"or row['item_number'] ==\"J43.1\" or row['item_number'] ==\"J43.0\"or row['item_number'] ==\"J43.2\"or row['item_number'] ==\"J43.3\"or row['item_number'] ==\"J43.4\"or row['item_number'] ==\"J43.5\"or row['item_number'] ==\"J43.6\"or row['item_number'] ==\"J43.7\"or row['item_number'] ==\"J43.8\"or row['item_number'] ==\"J43.9\"or row['item_number'] ==\"J44\"or row['item_number'] ==\"J44.0\"or row['item_number'] ==\"J44.1\"or row['item_number'] ==\"J44.2\"or row['item_number'] ==\"J44.3\"or row['item_number'] ==\"J44.4\"or row['item_number'] ==\"J44.5\"or row['item_number'] ==\"J44.6\"or row['item_number'] ==\"J44.7\"or row['item_number'] ==\"J44.8\"or row['item_number'] ==\"J44.9\"or row['item_number'] ==\"J45\"or row['item_number'] ==\"J46\"or row['item_number'] ==\"J47\"or row['item_number'] ==\"J60\" or row['item_number'] ==\"J61\"or row['item_number'] ==\"J62\"or row['item_number'] ==\"J62.0\"or row['item_number'] ==\"J62.1\"or row['item_number'] ==\"J62.2\"or row['item_number'] ==\"J62.3\"or row['item_number'] ==\"J62.4\"or row['item_number'] ==\"J62.5\"or row['item_number'] ==\"J62.6\"or row['item_number'] ==\"J62.7\"or row['item_number'] ==\"J62.8\"or row['item_number'] ==\"J62.9\"or row['item_number'] ==\"J63\"or row['item_number'] ==\"J63.0\"or row['item_number'] ==\"J63.1\"or row['item_number'] ==\"J63.2\"or row['item_number'] ==\"J63.3\"or row['item_number'] ==\"J63.4\"or row['item_number'] ==\"J63.5\"or row['item_number'] ==\"J63.6\"or row['item_number'] ==\"J63.7\"or row['item_number'] ==\"J63.8\"or row['item_number'] ==\"J63.9\"or row['item_number'] ==\"J64\"or row['item_number'] ==\"J65\"or row['item_number'] ==\"J66\"or row['item_number'] ==\"J66.1\"or row['item_number'] ==\"J66.2\"or row['item_number'] ==\"J66.3\"or row['item_number'] ==\"J66.4\"or row['item_number'] ==\"J66.5\" or row['item_number'] ==\"J66.6\"or row['item_number'] ==\"J66.7\"or row['item_number'] ==\"J66.8\"or row['item_number'] ==\"J66.9\"or row['item_number'] ==\"J67\"or row['item_number'] ==\"J67.1\"or row['item_number'] ==\"J67.2\"or row['item_number'] ==\"J67.3\"or row['item_number'] ==\"J67.4\"or row['item_number'] ==\"J67.5\"or row['item_number'] ==\"J67.6\"or row['item_number'] ==\"J67.8\"or row['item_number'] ==\"J67.9\"or row['item_number'] ==\"J68.4\"or row['item_number'] ==\"J70.1\"or row['item_number'] ==\"J70.3\"or row['item_number'] ==\"490\"or row['item_number'] ==\"4910\"or row['item_number'] ==\"4911\"or row['item_number'] ==\"49120\"or row['item_number'] ==\"49121\"or row['item_number'] ==\"49122\"or row['item_number'] ==\"4918\"or row['item_number'] ==\"4919\"or row['item_number'] ==\"4920\"or row['item_number'] ==\"4928\"or row['item_number'] ==\"49300\"or row['item_number'] ==\"49301\" or row['item_number'] ==\"49302\" or row['item_number'] ==\"49310\" or row['item_number'] ==\"49311\"or row['item_number'] ==\"49312\"or row['item_number'] ==\"49320\"or row['item_number'] ==\"49321\"or row['item_number'] ==\"49322\"or row['item_number'] ==\"49381\"or row['item_number'] ==\"49382\"or row['item_number'] ==\"49390\"or row['item_number'] ==\"49391\"or row['item_number'] ==\"494\"or row['item_number'] ==\"5064\"or row['item_number'] ==\"4950\"or row['item_number'] ==\"4951\"or row['item_number'] ==\"4952\"or row['item_number'] ==\"4953\"or row['item_number'] ==\"4954\"or row['item_number'] ==\"4955\"or row['item_number'] ==\"4956\"or row['item_number'] ==\"4957\"or row['item_number'] ==\"4958\"or row['item_number'] ==\"4959\"or row['item_number'] ==\"496\"or row['item_number'] ==\"500\"or row['item_number'] ==\"501\"or row['item_number'] ==\"502\"or row['item_number'] ==\"503\"or row['item_number'] ==\"504\"or row['item_number'] ==\"505\"or row['item_number'] ==\"5064\":\n",
        "          disease.append(\"Chronic pulmonary disease\")\n",
        "        elif row['item_number'] ==\"25000\"or row['item_number'] ==\"25002\" or row['item_number'] ==\"E11.90\"or row['item_number'] ==\"E11.92\"or row['item_number'] ==\"E1190\" or row['item_number'] ==\"25001\"or row['item_number'] ==\"E13.9\"or row['item_number'] ==\"E14.9\"or row['item_number'] ==\"E11\"or row['item_number'] ==\"E11.01\"or row['item_number'] ==\"E11.11\"or row['item_number'] ==\"E11.31\"or row['item_number'] ==\"E11.32\"or row['item_number'] ==\"E11.33\"or row['item_number'] ==\"E11.34\"or row['item_number'] ==\"E11.35\"or row['item_number'] ==\"E11.36\"or row['item_number'] ==\"E11.37\"or row['item_number'] ==\"E11.38\"or row['item_number'] ==\"E11.39\"or row['item_number'] ==\"E11.40\"or row['item_number'] ==\"E11.41\"or row['item_number'] ==\"E11.42\"or row['item_number'] ==\"E11.43\"or row['item_number'] ==\"E11.44\"or row['item_number'] ==\"E11.45\"or row['item_number'] ==\"E11.46\"or row['item_number'] ==\"E11.47\"or row['item_number'] ==\"E11.48\"or row['item_number'] ==\"E11.49\"or row['item_number'] ==\"e11\"or row['item_number'] ==\"25010\"or row['item_number'] ==\"25012\"or row['item_number'] ==\"25020\"or row['item_number'] ==\"25022\"or row['item_number'] ==\"25030\"or row['item_number'] ==\"25032\"or row['item_number'] ==\"25040\"or row['item_number'] ==\"25042\"or row['item_number'] ==\"25050\"or row['item_number'] ==\"25052\"or row['item_number'] ==\"25060\"or row['item_number'] ==\"25062\"or row['item_number'] ==\"25070\"or row['item_number'] ==\"25072\"or row['item_number'] ==\"25080\"or row['item_number'] ==\"25082\"or row['item_number'] ==\"25090\"or row['item_number'] ==\"25092\"or row['item_number'] ==\"E10.0\"or row['item_number'] ==\"E10.1\"or row['item_number'] ==\"E10.9\"or row['item_number'] ==\"E11.0\"or row['item_number'] ==\"E11.9\"or row['item_number'] ==\"E12.1\"or row['item_number'] ==\"E12.9\"or row['item_number'] ==\"I13.0\"or row['item_number'] ==\"I13.1\"or row['item_number'] ==\"I13.9\"or row['item_number'] ==\"I14.0\"or row['item_number'] ==\"I14.1\"or row['item_number'] ==\"I14.9\":\n",
        "          disease.append(\"Diabetes, uncomplicated\")\n",
        "        elif row['item_number'] ==\"25040\" or row['item_number'] ==\"25042\"or row['item_number'] ==\"E11.50\"or row['item_number'] ==\"E11.51\"or row['item_number'] ==\"E11.52\"or row['item_number'] ==\"E11.53\"or row['item_number'] ==\"E11.54\"or row['item_number'] ==\"E11.55\"or row['item_number'] ==\"E11.56\"or row['item_number'] ==\"E11.57\"or row['item_number'] ==\"E11.58\"or row['item_number'] ==\"E11.59\"or row['item_number'] ==\"E11.60\"or row['item_number'] ==\"E11.61\"or row['item_number'] ==\"E11.62\"or row['item_number'] ==\"E11.63\"or row['item_number'] ==\"E11.64\"or row['item_number'] ==\"E11.65\"or row['item_number'] ==\"E11.66\"or row['item_number'] ==\"E11.67\"or row['item_number'] ==\"E11.68\"or row['item_number'] ==\"E11.69\"or row['item_number'] ==\"E11.71\"or row['item_number'] ==\"E11.72\"or row['item_number'] ==\"E11.73\"or row['item_number'] ==\"E11.74\"or row['item_number'] ==\"E11.75\"or row['item_number'] ==\"E11.76\"or row['item_number'] ==\"E11.77\"or row['item_number'] ==\"E11.78\"or row['item_number'] ==\"E11.79\"or row['item_number'] ==\"E11.21\"or row['item_number'] ==\"E11.22\"or row['item_number'] ==\"E11.29\"or row['item_number'] ==\"25050\"or row['item_number'] ==\"25052\"or row['item_number'] ==\"25060\"or row['item_number'] ==\"25062\"or row['item_number'] ==\"25070\"or row['item_number'] ==\"25072\"or row['item_number'] ==\"25080\"or row['item_number'] ==\"25082\"or row['item_number'] ==\"25090\"or row['item_number'] ==\"E10.2\"or row['item_number'] ==\"E10.3\"or row['item_number'] ==\"E10.4\"or row['item_number'] ==\"E10.5\"or row['item_number'] ==\"E10.6\"or row['item_number'] ==\"E10.7\"or row['item_number'] ==\"E10.8\"or row['item_number'] ==\"E11.2\"or row['item_number'] ==\"E11.3\"or row['item_number'] ==\"E11.4\"or row['item_number'] ==\"E11.5\"or row['item_number'] ==\"E11.6\"or row['item_number'] ==\"E11.7\"or row['item_number'] ==\"E11.8\"or row['item_number'] ==\"E12.2\"or row['item_number'] ==\"E12.3\"or row['item_number'] ==\"E12.4\"or row['item_number'] ==\"E12.5\"or row['item_number'] ==\"E12.6\"or row['item_number'] ==\"E12.7\"or row['item_number'] ==\"E12.8\"or row['item_number'] ==\"E13.2\"or row['item_number'] ==\"E13.3\"or row['item_number'] ==\"E13.4\"or row['item_number'] ==\"E13.5\"or row['item_number'] ==\"E13.6\"or row['item_number'] ==\"E13.7\"or row['item_number'] ==\"E13.8\"or row['item_number'] ==\"E14.2\"or row['item_number'] ==\"E14.3\"or row['item_number'] ==\"E14.4\"or row['item_number'] ==\"E14.5\"or row['item_number'] ==\"E14.6\"or row['item_number'] ==\"E14.7\"or row['item_number'] ==\"E14.8\":\n",
        "          disease.append(\"Diabetes, complicated\")\n",
        "        elif row['item_number'] ==\"E00\" or row['item_number'] ==\"E00.0\" or row['item_number'] ==\"E00.1\"or row['item_number'] ==\"E00.2\"or row['item_number'] ==\"E00.3\"or row['item_number'] ==\"E00.4\"or row['item_number'] ==\"E00.5\"or row['item_number'] ==\"E00.6\"or row['item_number'] ==\"E00.7\"or row['item_number'] ==\"E00.8\"or row['item_number'] ==\"E00.9\"or row['item_number'] ==\"E01\"or row['item_number'] ==\"E01.0\"or row['item_number'] ==\"E01.1\"or row['item_number'] ==\"E01.2\"or row['item_number'] ==\"E01.3\"or row['item_number'] ==\"E01.4\"or row['item_number'] ==\"E01.5\"or row['item_number'] ==\"E01.6\"or row['item_number'] ==\"E01.7\"or row['item_number'] ==\"E01.8\"or row['item_number'] ==\"E01.9\"or row['item_number'] ==\"E02\"or row['item_number'] ==\"E03\"or row['item_number'] ==\"E03.0\"or row['item_number'] ==\"E03.1\"or row['item_number'] ==\"E03.2\"or row['item_number'] ==\"E03.3\"or row['item_number'] ==\"E03.4\"or row['item_number'] ==\"E03.5\"or row['item_number'] ==\"E03.6\"or row['item_number'] ==\"E03.7\"or row['item_number'] ==\"E03.8\"or row['item_number'] ==\"E03.9\"or row['item_number'] ==\"E89.0\"or row['item_number'] ==\"243\"or row['item_number'] ==\"2440\"or row['item_number'] ==\"2441\"or row['item_number'] ==\"2442\"or row['item_number'] ==\"2448\"or row['item_number'] ==\"2449\":\n",
        "          disease.append(\"Hypothyroidism\")\n",
        "        elif row['item_number'] ==\"I12.0\"or row['item_number'] ==\"z49.1\" or row['item_number'] ==\"E13.1\"or row['item_number'] ==\"N18\" or row['item_number'] ==\"N18.0\"or row['item_number'] ==\"N18.1\"or row['item_number'] ==\"N18.2\"or row['item_number'] ==\"N18.3\"or row['item_number'] ==\"N18.4\"or row['item_number'] ==\"N18.5\"or row['item_number'] ==\"N18.6\"or row['item_number'] ==\"N18.7\"or row['item_number'] ==\"N18.8\"or row['item_number'] ==\"N18.9\"or row['item_number'] ==\"N18.90\"or row['item_number'] ==\"N18.91\"or row['item_number'] ==\"N18.92\"or row['item_number'] ==\"N18.93\"or row['item_number'] ==\"N18.94\"or row['item_number'] ==\"N18.95\"or row['item_number'] ==\"N18.96\"or row['item_number'] ==\"N18.97\"or row['item_number'] ==\"N18.98\"or row['item_number'] ==\"N18.99\"or row['item_number'] ==\"N19\"or row['item_number'] ==\"N19.1\"or row['item_number'] ==\"N19.2\"or row['item_number'] ==\"N19.3\"or row['item_number'] ==\"N19.4\"or row['item_number'] ==\"N19.5\"or row['item_number'] ==\"N19.6\"or row['item_number'] ==\"N19.7\"or row['item_number'] ==\"N19.8\"or row['item_number'] ==\"N19.9\"or row['item_number'] ==\"N25.0\"or row['item_number'] ==\"Z49.0\"or row['item_number'] ==\"Z49.1\"or row['item_number'] ==\"Z49.2\"or row['item_number'] ==\"Z94.0\"or row['item_number'] ==\"Z99.2\"or row['item_number'] ==\"40311\"or row['item_number'] ==\"40391\"or row['item_number'] ==\"40412\"or row['item_number'] ==\"40492\"or row['item_number'] ==\"585\"or row['item_number'] ==\"586\"or row['item_number'] ==\"V420\"or row['item_number'] ==\"V451\"or row['item_number'] ==\"V560\"or row['item_number'] ==\"V568\":\n",
        "          disease.append(\"Renal failure\")\n",
        "        elif row['item_number'] ==\"B18\" or row['item_number'] ==\"B18.0\"or row['item_number'] ==\"B18.1\"or row['item_number'] ==\"B18.2\"or row['item_number'] ==\"B18.3\"or row['item_number'] ==\"B18.4\"or row['item_number'] ==\"B18.5\"or row['item_number'] ==\"B18.6\"or row['item_number'] ==\"B18.7\"or row['item_number'] ==\"B18.8\"or row['item_number'] ==\"B18.9\"or row['item_number'] ==\"I85\"or row['item_number'] ==\"I85.0\" or row['item_number'] ==\"I85.1\"or row['item_number'] ==\"I85.2\"or row['item_number'] ==\"I85.3\"or row['item_number'] ==\"I85.4\"or row['item_number'] ==\"I85.5\"or row['item_number'] ==\"I85.6\"or row['item_number'] ==\"I85.7\"or row['item_number'] ==\"I85.8\"or row['item_number'] ==\"I85.9\"or row['item_number'] ==\"I86.4\"or row['item_number'] ==\"I98.2\"or row['item_number'] ==\"K70\"or row['item_number'] ==\"K70.0\"or row['item_number'] ==\"K70.1\"or row['item_number'] ==\"K70.2\"or row['item_number'] ==\"K70.3\"or row['item_number'] ==\"K70.4\"or row['item_number'] ==\"K70.5\"or row['item_number'] ==\"K70.6\"or row['item_number'] ==\"K70.7\"or row['item_number'] ==\"K70.8\"or row['item_number'] ==\"K70.9\"or row['item_number'] ==\"K71.1\"or row['item_number'] ==\"K71.3\"or row['item_number'] ==\"K71.4\"or row['item_number'] ==\"K71.5\"or row['item_number'] ==\"K71.7\"or row['item_number'] ==\"K72\"or row['item_number'] ==\"K72.0\"or row['item_number'] ==\"K72.1\"or row['item_number'] ==\"K72.2\"or row['item_number'] ==\"K72.3\"or row['item_number'] ==\"K72.4\"or row['item_number'] ==\"K72.5\"or row['item_number'] ==\"K72.6\"or row['item_number'] ==\"K72.7\"or row['item_number'] ==\"K72.8\"or row['item_number'] ==\"K72.9\"or row['item_number'] ==\"K73\"or row['item_number'] ==\"K73.0\"or row['item_number'] ==\"K73.1\"or row['item_number'] ==\"K73.2\"or row['item_number'] ==\"K73.3\"or row['item_number'] ==\"K73.4\"or row['item_number'] ==\"K73.5\"or row['item_number'] ==\"K73.6\"or row['item_number'] ==\"K73.7\"or row['item_number'] ==\"K73.8\"or row['item_number'] ==\"K73.9\"or row['item_number'] ==\"K74\"or row['item_number'] ==\"K74.0\"or row['item_number'] ==\"K74.1\"or row['item_number'] ==\"K74.2\"or row['item_number'] ==\"K74.3\"or row['item_number'] ==\"K74.4\"or row['item_number'] ==\"K74.5\"or row['item_number'] ==\"K74.6\"or row['item_number'] ==\"K74.7\"or row['item_number'] ==\"K74.8\"or row['item_number'] ==\"K74.9\"or row['item_number'] ==\"K76.0\"or row['item_number'] ==\"K76.2\"or row['item_number'] ==\"K76.3\"or row['item_number'] ==\"K76.4\"or row['item_number'] ==\"K76.5\"or row['item_number'] ==\"K76.6\"or row['item_number'] ==\"K76.7\"or row['item_number'] ==\"K76.8\"or row['item_number'] ==\"K76.9\"or row['item_number'] ==\"Z94.4\"or row['item_number'] ==\"7032\"or row['item_number'] ==\"7033\"or row['item_number'] ==\"7054\"or row['item_number'] ==\"0754\"or row['item_number'] ==\"4560\"or row['item_number'] ==\"4561\"or row['item_number'] ==\"45620\"or row['item_number'] ==\"45621\"or row['item_number'] ==\"5710\"or row['item_number'] ==\"5712\"or row['item_number'] ==\"5713\"or row['item_number'] ==\"5715\"or row['item_number'] ==\"5616\" or row['item_number'] ==\"5718\"or row['item_number'] ==\"5719\"or row['item_number'] ==\"5723\"or row['item_number'] ==\"5728\"or row['item_number'] ==\"V427\":\n",
        "          disease.append(\"Liver disease\")\n",
        "        elif row['item_number'] ==\"K25.7\"or row['item_number'] ==\"K25.9\"or row['item_number'] ==\"K26.7\"or row['item_number'] ==\"K26.9\"or row['item_number'] ==\"K27.7\"or row['item_number'] ==\"K27.9\"or row['item_number'] ==\"K28.7\"or row['item_number'] ==\"K28.9\"or row['item_number'] ==\"53170\"or row['item_number'] ==\"53190\"or row['item_number'] ==\"53270\"or row['item_number'] ==\"53290\"or row['item_number'] ==\"53370\"or row['item_number'] ==\"53390\"or row['item_number'] ==\"53470\"or row['item_number'] ==\"53490\"or row['item_number'] ==\"V1271\":\n",
        "          disease.append(\"Peptic ulcer disease excluding bleeding\")\n",
        "        elif row['item_number'] == \"B20\" or row['item_number'] ==\"B21\"or row['item_number'] ==\"B22\"or row['item_number'] ==\"B24\"or row['item_number'] ==\"42\"or row['item_number'] ==\"43\"or row['item_number'] ==\"449\"or row['item_number'] ==\"042\"or row['item_number'] ==\"043\"or row['item_number'] ==\"0449\"or row['item_number'] ==\"0441\"or row['item_number'] ==\"0442\"or row['item_number'] ==\"0443\"or row['item_number'] ==\"0444\"or row['item_number'] ==\"0445\":\n",
        "          disease.append(\"AIDS/HIV\")\n",
        "        elif row['item_number'] == \"C81\" or row['item_number'] ==\"201\"or row['item_number'] ==\"2001\"or row['item_number'] ==\"2009\"or row['item_number'] ==\"C81\"or row['item_number'] ==\"C81.0\"or row['item_number'] ==\"C81.1\"or row['item_number'] ==\"C81.2\"or row['item_number'] ==\"C81.3\"or row['item_number'] ==\"C81.4\"or row['item_number'] ==\"C81.5\"or row['item_number'] ==\"C81.6\"or row['item_number'] ==\"C81.7\"or row['item_number'] ==\"C81.8\"or row['item_number'] ==\"C81.9\"or row['item_number'] ==\"C82\"or row['item_number'] ==\"C82.0\"or row['item_number'] ==\"C82.1\"or row['item_number'] ==\"C82.2\"or row['item_number'] ==\"C82.3\"or row['item_number'] ==\"C82.4\"or row['item_number'] ==\"C82.5\"or row['item_number'] ==\"C82.6\"or row['item_number'] ==\"C82.7\"or row['item_number'] ==\"C82.8\"or row['item_number'] ==\"C82.9\"or row['item_number'] ==\"C83\"or row['item_number'] ==\"C83.0\"or row['item_number'] ==\"C83.1\"or row['item_number'] ==\"C83.2\"or row['item_number'] ==\"C83.3\"or row['item_number'] ==\"C83.4\"or row['item_number'] ==\"C83.5\"or row['item_number'] ==\"C83.6\"or row['item_number'] ==\"C83.7\"or row['item_number'] ==\"C83.8\"or row['item_number'] ==\"C83.9\"or row['item_number'] ==\"C84\"or row['item_number'] ==\"C84.0\"or row['item_number'] ==\"C84.1\"or row['item_number'] ==\"C84.2\"or row['item_number'] ==\"C84.3\"or row['item_number'] ==\"C84.4\"or row['item_number'] ==\"C84.5\"or row['item_number'] ==\"C84.6\"or row['item_number'] ==\"C84.7\"or row['item_number'] ==\"C84.8\"or row['item_number'] ==\"C84.9\"or row['item_number'] ==\"C85\"or row['item_number'] ==\"C85.0\"or row['item_number'] ==\"C85.1\"or row['item_number'] ==\"C85.2\"or row['item_number'] ==\"C85.3\"or row['item_number'] ==\"C85.4\"or row['item_number'] ==\"C85.5\"or row['item_number'] ==\"C85.6\"or row['item_number'] ==\"C85.7\"or row['item_number'] ==\"C85.8\"or row['item_number'] ==\"C85.9\"or row['item_number'] ==\"C88.0\"or row['item_number'] ==\"C88.1\"or row['item_number'] ==\"C88.2\"or row['item_number'] ==\"C88.3\"or row['item_number'] ==\"C88.4\"or row['item_number'] ==\"C88.5\"or row['item_number'] ==\"C88.6\"or row['item_number'] ==\"C88.7\"or row['item_number'] ==\"C88.8\"or row['item_number'] ==\"C88.9\"or row['item_number'] ==\"C88.00\"or row['item_number'] ==\"C88.01\"or row['item_number'] ==\"C88.02\"or row['item_number'] ==\"C88.03\"or row['item_number'] ==\"C88.04\"or row['item_number'] ==\"C88.05\"or row['item_number'] ==\"C88.06\"or row['item_number'] ==\"C88.07\"or row['item_number'] ==\"C88.08\"or row['item_number'] ==\"C88.09\"or row['item_number'] ==\"C88.10\"or row['item_number'] ==\"C88.11\"or row['item_number'] ==\"C88.12\"or row['item_number'] ==\"C88.13\"or row['item_number'] ==\"C88.14\"or row['item_number'] ==\"C88.15\"or row['item_number'] ==\"C88.16\"or row['item_number'] ==\"C88.17\"or row['item_number'] ==\"C88.18\"or row['item_number'] ==\"C88.19\"or row['item_number'] ==\"C88.20\"or row['item_number'] ==\"C88.21\"or row['item_number'] ==\"C88.22\"or row['item_number'] ==\"C88.23\"or row['item_number'] ==\"C88.24\"or row['item_number'] ==\"C88.25\"or row['item_number'] ==\"C88.26\"or row['item_number'] ==\"C88.27\"or row['item_number'] ==\"C88.28\"or row['item_number'] ==\"C88.29\"or row['item_number'] ==\"C88.30\"or row['item_number'] ==\"C88.31\"or row['item_number'] ==\"C88.32\"or row['item_number'] ==\"C88.33\"or row['item_number'] ==\"C88.34\"or row['item_number'] ==\"C88.35\"or row['item_number'] ==\"C88.36\"or row['item_number'] ==\"C88.37\"or row['item_number'] ==\"C88.38\"or row['item_number'] ==\"C88.39\"or row['item_number'] ==\"C88.40\"or row['item_number'] ==\"C88.41\"or row['item_number'] ==\"C88.42\"or row['item_number'] ==\"C88.43\"or row['item_number'] ==\"C88.44\"or row['item_number'] ==\"C88.45\"or row['item_number'] ==\"C88.46\"or row['item_number'] ==\"C88.47\"or row['item_number'] ==\"C88.48\"or row['item_number'] ==\"C88.49\"or row['item_number'] ==\"C88.70\"or row['item_number'] ==\"C88.71\"or row['item_number'] ==\"C88.72\"or row['item_number'] ==\"C88.73\"or row['item_number'] ==\"C88.74\"or row['item_number'] ==\"C88.75\"or row['item_number'] ==\"C88.76\"or row['item_number'] ==\"C88.77\"or row['item_number'] ==\"C88.78\"or row['item_number'] ==\"C88.79\"or row['item_number'] ==\"C88.90\"or row['item_number'] ==\"C88.91\"or row['item_number'] ==\"C88.92\"or row['item_number'] ==\"C88.93\"or row['item_number'] ==\"C88.94\"or row['item_number'] ==\"C88.95\"or row['item_number'] ==\"C88.96\"or row['item_number'] ==\"C88.97\"or row['item_number'] ==\"C88.98\"or row['item_number'] ==\"C88.99\"or row['item_number'] ==\"C96.0\"or row['item_number'] ==\"C96.1\"or row['item_number'] ==\"C96.2\"or row['item_number'] ==\"C96.3\"or row['item_number'] ==\"C96.4\"or row['item_number'] ==\"C96.5\"or row['item_number'] ==\"C96.6\"or row['item_number'] ==\"C96.7\"or row['item_number'] ==\"C96.8\"or row['item_number'] ==\"C96.9\"or row['item_number'] ==\"C96\"or row['item_number'] ==\"C90.0\"or row['item_number'] ==\"C90.2\"or row['item_number'] ==\"20010\"or row['item_number'] ==\"20020\"or row['item_number'] ==\"20030\"or row['item_number'] ==\"20040\"or row['item_number'] ==\"20050\"or row['item_number'] ==\"20060\"or row['item_number'] ==\"20070\"or row['item_number'] ==\"20080\"or row['item_number'] ==\"20090\"or row['item_number'] ==\"20100\"or row['item_number'] ==\"20110\"or row['item_number'] ==\"20120\"or row['item_number'] ==\"20130\"or row['item_number'] ==\"20140\"or row['item_number'] ==\"20150\"or row['item_number'] ==\"20160\"or row['item_number'] ==\"20170\"or row['item_number'] ==\"20180\"or row['item_number'] ==\"20190\"or row['item_number'] ==\"20200\"or row['item_number'] ==\"20201\"or row['item_number'] ==\"20202\"or row['item_number'] ==\"20203\"or row['item_number'] ==\"20204\"or row['item_number'] ==\"20205\"or row['item_number'] ==\"20206\"or row['item_number'] ==\"20207\"or row['item_number'] ==\"20208\"or row['item_number'] ==\"20209\"or row['item_number'] ==\"20210\"or row['item_number'] ==\"20211\"or row['item_number'] ==\"20212\"or row['item_number'] ==\"20213\"or row['item_number'] ==\"20214\"or row['item_number'] ==\"20215\"or row['item_number'] ==\"20216\"or row['item_number'] ==\"20217\"or row['item_number'] ==\"20218\"or row['item_number'] ==\"20219\"or row['item_number'] ==\"20220\"or row['item_number'] ==\"20230\"or row['item_number'] ==\"20231\"or row['item_number'] ==\"20232\"or row['item_number'] ==\"20233\"or row['item_number'] ==\"20234\"or row['item_number'] ==\"20235\"or row['item_number'] ==\"20236\"or row['item_number'] ==\"20237\"or row['item_number'] ==\"20238\"or row['item_number'] ==\"20239\"or row['item_number'] ==\"20250\"or row['item_number'] ==\"20251\"or row['item_number'] ==\"20252\"or row['item_number'] ==\"20253\"or row['item_number'] ==\"20254\"or row['item_number'] ==\"20255\"or row['item_number'] ==\"20256\"or row['item_number'] ==\"20257\"or row['item_number'] ==\"20258\"or row['item_number'] ==\"20259\"or row['item_number'] ==\"20260\"or row['item_number'] ==\"20261\"or row['item_number'] ==\"20262\"or row['item_number'] ==\"20263\"or row['item_number'] ==\"20264\"or row['item_number'] ==\"20265\"or row['item_number'] ==\"20266\"or row['item_number'] ==\"20267\"or row['item_number'] ==\"20268\"or row['item_number'] ==\"20269\"or row['item_number'] ==\"20270\"or row['item_number'] ==\"20271\"or row['item_number'] ==\"20272\"or row['item_number'] ==\"20273\"or row['item_number'] ==\"20274\"or row['item_number'] ==\"20275\"or row['item_number'] ==\"20276\"or row['item_number'] ==\"20277\"or row['item_number'] ==\"20278\"or row['item_number'] ==\"20279\"or row['item_number'] ==\"20280\"or row['item_number'] ==\"20281\"or row['item_number'] ==\"20282\"or row['item_number'] ==\"20283\"or row['item_number'] ==\"20284\"or row['item_number'] ==\"20285\"or row['item_number'] ==\"20286\"or row['item_number'] ==\"20287\"or row['item_number'] ==\"20288\"or row['item_number'] ==\"20289\"or row['item_number'] ==\"20290\"or row['item_number'] ==\"20291\"or row['item_number'] ==\"20292\"or row['item_number'] ==\"20293\"or row['item_number'] ==\"20294\"or row['item_number'] ==\"20295\"or row['item_number'] ==\"20296\"or row['item_number'] ==\"20297\"or row['item_number'] ==\"20298\"or row['item_number'] ==\"20299\"or row['item_number'] ==\"20300\"or row['item_number'] ==\"20301\"or row['item_number'] ==\"20380\"or row['item_number'] ==\"20381\"or row['item_number'] ==\"2386\"or row['item_number'] ==\"2733\"or row['item_number'] ==\"V1071\"or row['item_number'] ==\"V1072\"or row['item_number'] ==\"V1079\":\n",
        "          disease.append(\"Lymphoma\")\n",
        "        elif row['item_number'] == \"C77\"or row['item_number'] ==\"C77.0\"or row['item_number'] ==\"C77.1\"or row['item_number'] ==\"C77.2\"or row['item_number'] ==\"C77.3\"or row['item_number'] ==\"C77.4\"or row['item_number'] ==\"C77.5\"or row['item_number'] ==\"C77.6\"or row['item_number'] ==\"C77.7\"or row['item_number'] ==\"C77.8\"or row['item_number'] ==\"C77.9\"or row['item_number'] ==\"C78\"or row['item_number'] ==\"C78.0\"or row['item_number'] ==\"C78.1\"or row['item_number'] ==\"C78.2\"or row['item_number'] ==\"C78.3\"or row['item_number'] ==\"C78.4\"or row['item_number'] ==\"C78.5\"or row['item_number'] ==\"C78.6\"or row['item_number'] ==\"C78.7\"or row['item_number'] ==\"C78.8\"or row['item_number'] ==\"C78.9\"or row['item_number'] ==\"C79\"or row['item_number'] ==\"C79.0\"or row['item_number'] ==\"C79.1\"or row['item_number'] ==\"C79.2\"or row['item_number'] ==\"C79.3\"or row['item_number'] ==\"C79.4\"or row['item_number'] ==\"C79.5\"or row['item_number'] ==\"C79.5\"or row['item_number'] ==\"C79.6\"or row['item_number'] ==\"C79.7\"or row['item_number'] ==\"C79.8\"or row['item_number'] ==\"C79.9\"or row['item_number'] ==\"C79.80\"or row['item_number'] ==\"C79.81\"or row['item_number'] ==\"C79.82\"or row['item_number'] ==\"C79.83\"or row['item_number'] ==\"C79.84\"or row['item_number'] ==\"C79.85\"or row['item_number'] ==\"C79.85\"or row['item_number'] ==\"C79.86\"or row['item_number'] ==\"C79.87\"or row['item_number'] ==\"C79.88\"or row['item_number'] ==\"C79.89\"or row['item_number'] ==\"C80\"or row['item_number'] ==\"C80.0\"or row['item_number'] ==\"C80.1\"or row['item_number'] ==\"C80.2\"or row['item_number'] ==\"C80.3\"or row['item_number'] ==\"C80.4\"or row['item_number'] ==\"C80.5\"or row['item_number'] ==\"C80.6\"or row['item_number'] ==\"C80.7\"or row['item_number'] ==\"C80.8\"or row['item_number'] ==\"C80.9\"or row['item_number'] ==\"1960\"or row['item_number'] ==\"1961\"or row['item_number'] ==\"1962\"or row['item_number'] ==\"1963\"or row['item_number'] ==\"1964\"or row['item_number'] ==\"1965\"or row['item_number'] ==\"1966\"or row['item_number'] ==\"1967\"or row['item_number'] ==\"1968\"or row['item_number'] ==\"1969\"or row['item_number'] ==\"1970\"or row['item_number'] ==\"1971\"or row['item_number'] ==\"1972\"or row['item_number'] ==\"1973\"or row['item_number'] ==\"1974\"or row['item_number'] ==\"1975\"or row['item_number'] ==\"1976\"or row['item_number'] ==\"1977\"or row['item_number'] ==\"1978\"or row['item_number'] ==\"1979\"or row['item_number'] ==\"1980\"or row['item_number'] ==\"19881\"or row['item_number'] ==\"19882\"or row['item_number'] ==\"19889\"or row['item_number'] ==\"1990\"or row['item_number'] ==\"1991\":\n",
        "          disease.append(\"Metastatic cancer\")\n",
        "        elif row['item_number'] == \"C00\"or row['item_number'] ==\"C00.0\"or row['item_number'] ==\"C00.1\"or row['item_number'] ==\"C00.2\"or row['item_number'] ==\"C00.3\"or row['item_number'] ==\"C00.4\"or row['item_number'] ==\"C00.5\"or row['item_number'] ==\"C00.6\"or row['item_number'] ==\"C00.7\"or row['item_number'] ==\"C00.8\"or row['item_number'] ==\"C00.9\"or row['item_number'] ==\"C01\"or row['item_number'] ==\"C02\"or row['item_number'] ==\"C02.0\"or row['item_number'] ==\"C02.3\"or row['item_number'] ==\"C02.4\"or row['item_number'] ==\"C02.5\"or row['item_number'] ==\"C02.6\"or row['item_number'] ==\"C02.7\"or row['item_number'] ==\"C02.8\"or row['item_number'] ==\"C02.9\"or row['item_number'] ==\"C03\"or row['item_number'] ==\"C03.01\"or row['item_number'] ==\"C03.1\"or row['item_number'] ==\"C03.2\"or row['item_number'] ==\"C03.3\"or row['item_number'] ==\"C03.4\"or row['item_number'] ==\"C03.5\"or row['item_number'] ==\"C03.6\"or row['item_number'] ==\"C03.7\"or row['item_number'] ==\"C03.8\"or row['item_number'] ==\"C03.9\"or row['item_number'] ==\"C04\"or row['item_number'] ==\"C04.0\"or row['item_number'] ==\"C04.1\"or row['item_number'] ==\"C04.2\"or row['item_number'] ==\"C04.3\"or row['item_number'] ==\"C04.4\"or row['item_number'] ==\"C04.5\"or row['item_number'] ==\"C04.6\"or row['item_number'] ==\"C04.7\"or row['item_number'] ==\"C04.8\"or row['item_number'] ==\"C04.9\"or row['item_number'] ==\"C05\"or row['item_number'] ==\"C05.0\"or row['item_number'] ==\"C05.1\"or row['item_number'] ==\"C05.2\"or row['item_number'] ==\"C05.3\"or row['item_number'] ==\"C05.4\"or row['item_number'] ==\"C05.5\"or row['item_number'] ==\"C05.6\"or row['item_number'] ==\"C05.7\"or row['item_number'] ==\"C05.8\"or row['item_number'] ==\"C05.9\"or row['item_number'] ==\"C06\"or row['item_number'] ==\"C06.0\"or row['item_number'] ==\"C06.1\"or row['item_number'] ==\"C06.2\"or row['item_number'] ==\"C06.3\"or row['item_number'] ==\"C06.4\"or row['item_number'] ==\"C06.5\"or row['item_number'] ==\"C06.6\"or row['item_number'] ==\"C06.7\"or row['item_number'] ==\"C06.8\"or row['item_number'] ==\"C06.9\"or row['item_number'] ==\"C07\"or row['item_number'] ==\"C08\"or row['item_number'] ==\"C09\"or row['item_number'] ==\"C10\"or row['item_number'] ==\"C11\"or row['item_number'] ==\"C12\"or row['item_number'] ==\"C13\"or row['item_number'] ==\"C14\"or row['item_number'] ==\"C15\"or row['item_number'] ==\"C16\"or row['item_number'] ==\"C17\"or row['item_number'] ==\"C18\"or row['item_number'] ==\"C19\"or row['item_number'] ==\"C20\"or row['item_number'] ==\"C21\"or row['item_number'] ==\"C22\"or row['item_number'] ==\"C23\"or row['item_number'] ==\"C24\"or row['item_number'] ==\"C25\"or row['item_number'] ==\"C26\"or row['item_number'] ==\"C27\"or row['item_number'] ==\"C28\"or row['item_number'] ==\"C29\"or row['item_number'] ==\"C08.0\"or row['item_number'] ==\"C08.1\"or row['item_number'] ==\"C08.2\"or row['item_number'] ==\"C08.3\"or row['item_number'] ==\"C08.4\"or row['item_number'] ==\"C08.5\"or row['item_number'] ==\"C08.6\"or row['item_number'] ==\"C08.7\"or row['item_number'] ==\"C08.8\"or row['item_number'] ==\"C08.9\"or row['item_number'] ==\"C09.0\"or row['item_number'] ==\"C09.1\"or row['item_number'] ==\"C09.2\"or row['item_number'] ==\"C09.3\"or row['item_number'] ==\"C09.4\"or row['item_number'] ==\"C09.5\"or row['item_number'] ==\"C09.6\"or row['item_number'] ==\"C09.7\"or row['item_number'] ==\"C09.8\"or row['item_number'] ==\"C09.9\"or row['item_number'] ==\"C10.0\"or row['item_number'] ==\"C10.1\"or row['item_number'] ==\"C10.2\"or row['item_number'] ==\"C10.3\"or row['item_number'] ==\"C10.4\"or row['item_number'] ==\"C10.5\"or row['item_number'] ==\"C10.6\"or row['item_number'] ==\"C10.7\"or row['item_number'] ==\"C10.8\"or row['item_number'] ==\"C10.9\"or row['item_number'] ==\"C11.0\" or row['item_number'] ==\"C11.1\" or row['item_number'] ==\"C11.2\" or row['item_number'] ==\"C11.3\" or row['item_number'] ==\"C11.4\" or row['item_number'] ==\"C11.5\" or row['item_number'] ==\"C11.6\" or row['item_number'] ==\"C11.7\" or row['item_number'] ==\"C11.8\" or row['item_number'] ==\"C11.9\" or row['item_number'] ==\"C13.0\" or row['item_number'] ==\"C14.0\"or row['item_number'] ==\"C14.1\"or row['item_number'] ==\"C14.2\"or row['item_number'] ==\"C14.3\"or row['item_number'] ==\"C14.4\"or row['item_number'] ==\"C14.5\"or row['item_number'] ==\"C14.6\"or row['item_number'] ==\"C14.7\"or row['item_number'] ==\"C14.8\"or row['item_number'] ==\"C14.9\"or row['item_number'] ==\"C15.0\"or row['item_number'] ==\"C15.1\"or row['item_number'] ==\"C15.2\"or row['item_number'] ==\"C15.3\"or row['item_number'] ==\"C15.4\"or row['item_number'] ==\"C15.5\"or row['item_number'] ==\"C15.6\"or row['item_number'] ==\"C15.7\"or row['item_number'] ==\"C15.8\"or row['item_number'] ==\"C15.9\"or row['item_number'] ==\"C16.0\"or row['item_number'] ==\"C16.1\"or row['item_number'] ==\"C16.2\"or row['item_number'] ==\"C16.3\"or row['item_number'] ==\"C16.4\"or row['item_number'] ==\"C16.5\"or row['item_number'] ==\"C16.6\"or row['item_number'] ==\"C16.7\"or row['item_number'] ==\"C16.8\"or row['item_number'] ==\"C16.9\"or row['item_number'] ==\"C17.0\"or row['item_number'] ==\"C17.1\"or row['item_number'] ==\"C17.2\"or row['item_number'] ==\"C17.3\"or row['item_number'] ==\"C17.4\"or row['item_number'] ==\"C17.5\"or row['item_number'] ==\"C17.6\"or row['item_number'] ==\"C17.7\"or row['item_number'] ==\"C17.8\"or row['item_number'] ==\"C17.9\"or row['item_number'] ==\"C18.0\"or row['item_number'] ==\"C18.1\"or row['item_number'] ==\"C18.2\"or row['item_number'] ==\"C18.3\"or row['item_number'] ==\"C18.4\"or row['item_number'] ==\"C18.5\"or row['item_number'] ==\"C18.6\"or row['item_number'] ==\"C18.7\"or row['item_number'] ==\"C18.8\"or row['item_number'] ==\"C18.9\"or row['item_number'] ==\"C21.0\"or row['item_number'] ==\"C21.1\"or row['item_number'] ==\"C21.2\"or row['item_number'] ==\"C21.3\"or row['item_number'] ==\"C21.4\"or row['item_number'] ==\"C21.5\"or row['item_number'] ==\"C21.6\"or row['item_number'] ==\"C21.7\"or row['item_number'] ==\"C21.8\"or row['item_number'] ==\"C21.9\"or row['item_number'] ==\"C22.0\"or row['item_number'] ==\"C22.1\"or row['item_number'] ==\"C22.2\"or row['item_number'] ==\"C22.3\"or row['item_number'] ==\"C22.4\"or row['item_number'] ==\"C22.5\"or row['item_number'] ==\"C22.6\"or row['item_number'] ==\"C22.7\"or row['item_number'] ==\"C22.8\"or row['item_number'] ==\"C22.9\"or row['item_number'] ==\"C25.0\"or row['item_number'] ==\"C25.1\"or row['item_number'] ==\"C25.2\"or row['item_number'] ==\"C25.3\"or row['item_number'] ==\"C25.4\"or row['item_number'] ==\"C25.5\"or row['item_number'] ==\"C25.6\"or row['item_number'] ==\"C25.7\"or row['item_number'] ==\"C25.8\"or row['item_number'] ==\"C25.9\"or row['item_number'] ==\"C30\"or row['item_number'] ==\"C31\"or row['item_number'] ==\"C32\"or row['item_number'] ==\"C33\"or row['item_number'] ==\"C34\" or row['item_number'] ==\"C37\"or row['item_number'] ==\"C38\"or row['item_number'] ==\"C39\"or row['item_number'] ==\"C30.0\"or row['item_number'] ==\"C30.1\"or row['item_number'] ==\"C30.2\"or row['item_number'] ==\"C30.3\"or row['item_number'] ==\"C30.4\"or row['item_number'] ==\"C30.5\"or row['item_number'] ==\"C30.6\"or row['item_number'] ==\"C30.7\"or row['item_number'] ==\"C30.8\"or row['item_number'] ==\"C30.9\"or row['item_number'] ==\"C31.0\"or row['item_number'] ==\"C31.1\"or row['item_number'] ==\"C31.2\"or row['item_number'] ==\"C31.4\"or row['item_number'] ==\"C31.3\"or row['item_number'] ==\"C31.5\"or row['item_number'] ==\"C31.6\"or row['item_number'] ==\"C31.7\"or row['item_number'] ==\"C31.8\"or row['item_number'] ==\"C31.9\"or row['item_number'] ==\"C32.0\"or row['item_number'] ==\"C32.1\"or row['item_number'] ==\"C32.2\"or row['item_number'] ==\"C32.3\"or row['item_number'] ==\"C32.4\"or row['item_number'] ==\"C32.5\"or row['item_number'] ==\"C32.6\"or row['item_number'] ==\"C32.7\"or row['item_number'] ==\"C32.8\"or row['item_number'] ==\"C32.9\"or row['item_number'] ==\"C33.0\"or row['item_number'] ==\"C33.1\"or row['item_number'] ==\"C33.2\"or row['item_number'] ==\"C33.3\"or row['item_number'] ==\"C33.4\"or row['item_number'] ==\"C33.5\"or row['item_number'] ==\"C33.6\"or row['item_number'] ==\"C33.7\"or row['item_number'] ==\"C33.8\"or row['item_number'] ==\"C33.9\"or row['item_number'] ==\"C34.0\"or row['item_number'] ==\"C34.1\"or row['item_number'] ==\"C34.2\"or row['item_number'] ==\"C34.3\"or row['item_number'] ==\"C34.4\"or row['item_number'] ==\"C34.5\"or row['item_number'] ==\"C34.6\"or row['item_number'] ==\"C34.7\"or row['item_number'] ==\"C34.8\"or row['item_number'] ==\"C34.9\"or row['item_number'] ==\"C40\"or row['item_number'] ==\"C41\"or row['item_number'] ==\"C42\"or row['item_number'] ==\"C43\"or row['item_number'] ==\"C45\"or row['item_number'] ==\"C46\"or row['item_number'] ==\"C47\"or row['item_number'] ==\"C48\"or row['item_number'] ==\"C49\"or row['item_number'] ==\"C38\"or row['item_number'] ==\"C38.0\"or row['item_number'] ==\"C38.1\"or row['item_number'] ==\"C38.2\"or row['item_number'] ==\"C38.3\"or row['item_number'] ==\"C38.4\"or row['item_number'] ==\"C38.5\"or row['item_number'] ==\"C38.6\"or row['item_number'] ==\"C38.7\"or row['item_number'] ==\"C38.8\"or row['item_number'] ==\"C38.9\"or row['item_number'] ==\"C39.0\"or row['item_number'] ==\"C39.1\"or row['item_number'] ==\"C39.2\"or row['item_number'] ==\"C39.3\"or row['item_number'] ==\"C39.4\"or row['item_number'] ==\"C39.5\"or row['item_number'] ==\"C39.6\"or row['item_number'] ==\"C39.7\"or row['item_number'] ==\"C39.8\"or row['item_number'] ==\"C39.9\"or row['item_number'] ==\"C40.0\"or row['item_number'] ==\"C40.1\"or row['item_number'] ==\"C40.2\"or row['item_number'] ==\"C40.3\"or row['item_number'] ==\"C40.4\"or row['item_number'] ==\"C40.5\"or row['item_number'] ==\"C40.6\"or row['item_number'] ==\"C40.7\"or row['item_number'] ==\"C40.8\"or row['item_number'] ==\"C40.9\"or row['item_number'] ==\"C41.0\"or row['item_number'] ==\"C41.1\"or row['item_number'] ==\"C41.2\"or row['item_number'] ==\"C41.3\"or row['item_number'] ==\"C41.4\"or row['item_number'] ==\"C41.5\"or row['item_number'] ==\"C41.6\"or row['item_number'] ==\"C41.7\"or row['item_number'] ==\"C41.8\"or row['item_number'] ==\"C41.9\"or row['item_number'] ==\"C43.0\"or row['item_number'] ==\"C43.1\"or row['item_number'] ==\"C43.2\"or row['item_number'] ==\"C43.3\"or row['item_number'] ==\"C43.4\"\\\n",
        "         or row['item_number'] ==\"V1004\" or row['item_number'] ==\"c15\"or row['item_number'] ==\"c15.5\"or row['item_number'] ==\"C155\"or row['item_number'] ==\"C159\"or row['item_number'] ==\"c16\"or row['item_number'] ==\"c17\"or row['item_number'] ==\"c18\"or row['item_number'] ==\"c19\"or row['item_number'] ==\"1441\"or row['item_number'] ==\"C348\"or row['item_number'] ==\"C71.0\"or row['item_number'] ==\"C71.1\"or row['item_number'] ==\"C349\"or row['item_number'] ==\"C43.5\"or row['item_number'] ==\"c64\"or row['item_number'] ==\"C49.1\"or row['item_number'] ==\"c50.9\"or row['item_number'] ==\"C49.2\"or row['item_number'] ==\"14203\"or row['item_number'] ==\"14218\"or row['item_number'] ==\"14221\"or row['item_number'] ==\"16514\"or row['item_number'] ==\"16522\"or row['item_number'] ==\"18209\"or row['item_number'] ==\"18216\"or row['item_number'] ==\"18270\"or row['item_number'] ==\"1449\"or row['item_number'] ==\"1452\"or row['item_number'] ==\"1474\"or row['item_number'] ==\"1475\"or row['item_number'] ==\"1511\"or row['item_number'] ==\"1519\"or row['item_number'] ==\"1529\"or row['item_number'] ==\"1531\"or row['item_number'] ==\"1532\"or row['item_number'] ==\"1533\"or row['item_number'] ==\"1534\"or row['item_number'] ==\"V1535\"or row['item_number'] ==\"1539\"or row['item_number'] ==\"1541\"or row['item_number'] ==\"1629\"or row['item_number'] ==\"1725\"or row['item_number'] ==\"1726\"or row['item_number'] ==\"1727\"or row['item_number'] ==\"1829\"or row['item_number'] ==\"1879\"or row['item_number'] ==\"1889\"or row['item_number'] ==\"1919\"or row['item_number'] ==\"1983\"or row['item_number'] ==\"1985\"or row['item_number'] ==\"140\"or row['item_number'] ==\"153\" or row['item_number'] ==\"160\" or row['item_number'] ==\"185\"or row['item_number'] ==\"186\"or row['item_number'] ==\"187\" or row['item_number'] ==\"188\"or row['item_number'] ==\"189\"or row['item_number'] ==\"190\"or row['item_number'] ==\"191\"or row['item_number'] ==\"192\"or row['item_number'] ==\"193\"or row['item_number'] ==\"194\"or row['item_number'] ==\"195\" or row['item_number'] ==\"174\" or row['item_number'] ==\"16519\" or row['item_number'] ==\"16520\"or row['item_number'] ==\"V1046\"or row['item_number'] ==\"V1051\"or row['item_number'] ==\"V1082\"or row['item_number'] ==\"C50\"or row['item_number'] ==\"c50\"or row['item_number'] ==\"C50.0\"or row['item_number'] ==\"C50.1\"or row['item_number'] ==\"C50.2\"or row['item_number'] ==\"C50.3\"or row['item_number'] ==\"C50.4\"or row['item_number'] ==\"C50.5\"or row['item_number'] ==\"C50.6\"or row['item_number'] ==\"C50.7\"or row['item_number'] ==\"C50.8\"or row['item_number'] ==\"C50.9\"or row['item_number'] ==\"C50.0\"or row['item_number'] ==\"C50.1\"or row['item_number'] ==\"C50.2\"or row['item_number'] ==\"C50.3\"or row['item_number'] ==\"C50.4\"or row['item_number'] ==\"C50.5\"or row['item_number'] ==\"C50.6\"or row['item_number'] ==\"C50.7\"or row['item_number'] ==\"C50.8\"or row['item_number'] ==\"C50.9\"or row['item_number'] ==\"C51.0\"or row['item_number'] ==\"C51\"or row['item_number'] ==\"C51.1\"or row['item_number'] ==\"C51.2\"or row['item_number'] ==\"C51.3\"or row['item_number'] ==\"C51.4\"or row['item_number'] ==\"C51.5\"or row['item_number'] ==\"C51.6\"or row['item_number'] ==\"C51.7\"or row['item_number'] ==\"C51.8\"or row['item_number'] ==\"C51.9\"or row['item_number'] ==\"C52.0\"or row['item_number'] ==\"C52.1\"or row['item_number'] ==\"C52.2\"or row['item_number'] ==\"C52.3\"or row['item_number'] ==\"C52.4\"or row['item_number'] ==\"C52.5\"or row['item_number'] ==\"C52.6\"or row['item_number'] ==\"C52.7\"or row['item_number'] ==\"C52.8\"or row['item_number'] ==\"C52.9\"or row['item_number'] ==\"C53.0\"or row['item_number'] ==\"C53.1\"or row['item_number'] ==\"C53.2\"or row['item_number'] ==\"C53.3\"or row['item_number'] ==\"C53.4\"or row['item_number'] ==\"C53.5\"or row['item_number'] ==\"C53.6\"or row['item_number'] ==\"C53.7\"or row['item_number'] ==\"C53.8\"or row['item_number'] ==\"C53.9\"or row['item_number'] ==\"C54.0\"or row['item_number'] ==\"C54.1\"or row['item_number'] ==\"C54.2\"or row['item_number'] ==\"C54.3\"or row['item_number'] ==\"C54.5\"or row['item_number'] ==\"C54.6\"or row['item_number'] ==\"C54.7\"or row['item_number'] ==\"C54.8\" or row['item_number'] ==\"C54.9\"   or row['item_number'] ==\"c67\" or row['item_number'] ==\"C67.0\" or row['item_number'] ==\"C67.1\" or row['item_number'] ==\"C67.2\" or row['item_number'] ==\"C67.3\" or row['item_number'] ==\"C67.4\" or row['item_number'] ==\"C67.5\" or row['item_number'] ==\"C67.6\" or row['item_number'] ==\"C67.7\" or row['item_number'] ==\"C67.8\" or row['item_number'] ==\"C67.9\" or row['item_number'] ==\"C71.2\" or row['item_number'] ==\"C71.3\" or row['item_number'] ==\"C71.4\" or row['item_number'] ==\"C71.5\" or row['item_number'] ==\"C71.6\" or row['item_number'] ==\"C71.7\" or row['item_number'] ==\"C71.8\" or row['item_number'] ==\"C71.9\" or row['item_number'] ==\"c73\" or row['item_number'] ==\"C73.3\" or row['item_number'] ==\"C76\" or row['item_number'] ==\"C76.1\" or row['item_number'] ==\"C76.2\" or row['item_number'] ==\"C76.3\" or row['item_number'] ==\"C76.4\" or row['item_number'] ==\"C76.5\" or row['item_number'] ==\"C76.6\" or row['item_number'] ==\"C76.7\" or row['item_number'] ==\"C76.8\" or row['item_number'] ==\"C76.9\"or row['item_number'] ==\"C62.9\"or row['item_number'] ==\"C55.0\" or row['item_number'] ==\"C55.1\" or row['item_number'] ==\"C55.2\" or row['item_number'] ==\"C55.3\" or row['item_number'] ==\"C55.4\" or row['item_number'] ==\"C55.5\" or row['item_number'] ==\"C55.6\"or row['item_number'] ==\"C55.7\" or row['item_number'] ==\"C55.8\" or row['item_number'] ==\"C55.9\" or row['item_number'] ==\"C57.0\"or row['item_number'] ==\"c56\"or row['item_number'] ==\"C57.8\" or row['item_number'] ==\"c61\" or row['item_number'] ==\"C62.1\"or row['item_number'] ==\"C24.0\"or row['item_number'] ==\"C24.1\"or row['item_number'] ==\"C24.8\"or row['item_number'] ==\"C24.9\"or row['item_number'] ==\"c25\"or row['item_number'] ==\"c25.1\"or row['item_number'] ==\"C26.0\"or row['item_number'] ==\"C26.9\"or row['item_number'] ==\"c34\"or row['item_number'] ==\"C10.01\"or row['item_number'] ==\"c43\" or row['item_number'] ==\"C43.6\"or row['item_number'] ==\"C20\"or row['item_number'] ==\"c20\"or row['item_number'] ==\"C20.0\"or row['item_number'] ==\"c21\"or row['item_number'] ==\"C21\"or row['item_number'] ==\"C43.7\"or row['item_number'] ==\"C43.8\"or row['item_number'] ==\"C43.9\"or row['item_number'] ==\"C50\"or row['item_number'] ==\"C51\"or row['item_number'] ==\"C52\"or row['item_number'] ==\"C53\"or row['item_number'] ==\"C54\"or row['item_number'] ==\"C55\"or row['item_number'] ==\"C56\"or row['item_number'] ==\"C57\"or row['item_number'] ==\"C58\"or row['item_number'] ==\"C59\"or row['item_number'] ==\"C60\"or row['item_number'] ==\"C61\"or row['item_number'] ==\"C62\"or row['item_number'] ==\"C63\"or row['item_number'] ==\"C64\"or row['item_number'] ==\"C65\"or row['item_number'] ==\"C66\"or row['item_number'] ==\"C67\"or row['item_number'] ==\"C68\"or row['item_number'] ==\"C69\"or row['item_number'] ==\"C70\"or row['item_number'] ==\"C71\"or row['item_number'] ==\"C72\"or row['item_number'] ==\"C73\"or row['item_number'] ==\"C74\"or row['item_number'] ==\"C75\"or row['item_number'] ==\"C76\"or row['item_number'] ==\"C77\"or row['item_number'] ==\"C78\"or row['item_number'] ==\"C79\"or row['item_number'] ==\"C97\"or row['item_number'] ==\"1400\"or row['item_number'] ==\"1401\"or row['item_number'] ==\"1402\"or row['item_number'] ==\"1403\"or row['item_number'] ==\"1404\"or row['item_number'] ==\"1405\"or row['item_number'] ==\"1406\"or row['item_number'] ==\"1407\"or row['item_number'] ==\"1408\"or row['item_number'] ==\"1409\"or row['item_number'] ==\"1410\"or row['item_number'] ==\"1411\"or row['item_number'] ==\"1412\"or row['item_number'] ==\"1413\"or row['item_number'] ==\"1414\"or row['item_number'] ==\"1415\"or row['item_number'] ==\"1416\"or row['item_number'] ==\"1417\"or row['item_number'] ==\"1418\"or row['item_number'] ==\"1419\"or row['item_number'] ==\"1420\"or row['item_number'] ==\"1430\"or row['item_number'] ==\"1440\"or row['item_number'] ==\"1450\"or row['item_number'] ==\"1460\"or row['item_number'] ==\"1470\"or row['item_number'] ==\"1480\"or row['item_number'] ==\"1490\"or row['item_number'] ==\"1500\"or row['item_number'] ==\"1510\"or row['item_number'] ==\"1520\"or row['item_number'] ==\"1530\"or row['item_number'] ==\"1540\"or row['item_number'] ==\"1550\"or row['item_number'] ==\"1560\"or row['item_number'] ==\"1570\"or row['item_number'] ==\"1580\"or row['item_number'] ==\"1590\"or row['item_number'] ==\"1600\"or row['item_number'] ==\"1610\"or row['item_number'] ==\"1620\"or row['item_number'] ==\"1630\"or row['item_number'] ==\"1640\"or row['item_number'] ==\"1650\"or row['item_number'] ==\"1660\"or row['item_number'] ==\"1670\"or row['item_number'] ==\"1680\"or row['item_number'] ==\"1690\"or row['item_number'] ==\"1700\"or row['item_number'] ==\"1710\"or row['item_number'] ==\"1720\"or row['item_number'] ==\"1740\"or row['item_number'] ==\"1741\"or row['item_number'] ==\"1742\"or row['item_number'] ==\"1743\"or row['item_number'] ==\"1744\"or row['item_number'] ==\"1745\"or row['item_number'] ==\"1746\"or row['item_number'] ==\"1747\"or row['item_number'] ==\"1748\"or row['item_number'] ==\"1749\"or row['item_number'] ==\"1750\"or row['item_number'] ==\"1751\"or row['item_number'] ==\"1752\"or row['item_number'] ==\"1753\"or row['item_number'] ==\"1754\"or row['item_number'] ==\"1755\"or row['item_number'] ==\"1756\"or row['item_number'] ==\"1757\"or row['item_number'] ==\"1758\"or row['item_number'] ==\"1759\"or row['item_number'] ==\"1790\"or row['item_number'] ==\"1800\"or row['item_number'] ==\"1810\"or row['item_number'] ==\"1820\"or row['item_number'] ==\"1830\"or row['item_number'] ==\"1840\"or row['item_number'] ==\"1850\"or row['item_number'] ==\"1860\"or row['item_number'] ==\"1870\"or row['item_number'] ==\"1880\"or row['item_number'] ==\"1890\"or row['item_number'] ==\"1900\"or row['item_number'] ==\"1910\"or row['item_number'] ==\"1920\"or row['item_number'] ==\"1930\"or row['item_number'] ==\"1940\"or row['item_number'] ==\"1950\"or row['item_number'] ==\"V101\"or row['item_number'] ==\"V102\"or row['item_number'] ==\"V103\"or row['item_number'] ==\"V104\"or row['item_number'] ==\"V105\"or row['item_number'] ==\"V106\"or row['item_number'] ==\"V107\"or row['item_number'] ==\"V108\"or row['item_number'] ==\"V109\":\n",
        "          disease.append(\"Solid tumor without metastasis\")\n",
        "        elif row['item_number'] == \"L94.0\"or row['item_number'] ==\"7100\" or row['item_number'] ==\"M05.99\"or row['item_number'] ==\"M06.95\"or row['item_number'] ==\"M06.90\"or row['item_number'] ==\"M06.91\"or row['item_number'] ==\"M06.94\"or row['item_number'] ==\"M06.96\"or row['item_number'] ==\"M06.97\"or row['item_number'] ==\"M06.98\"or row['item_number'] ==\"M06.99\"or row['item_number'] ==\"7200\"or row['item_number'] ==\"720\"or row['item_number'] ==\"725\"or row['item_number'] ==\"L94.1\"or row['item_number'] ==\"L94.3\"or row['item_number'] ==\"M05\"or row['item_number'] ==\"M05.0\"or row['item_number'] ==\"M05.1\"or row['item_number'] ==\"M05.2\"or row['item_number'] ==\"M05.3\"or row['item_number'] ==\"M05.4\"or row['item_number'] ==\"M05.5\"or row['item_number'] ==\"M05.6\"or row['item_number'] ==\"M05.7\"or row['item_number'] ==\"M05.8\"or row['item_number'] ==\"M05.9\"or row['item_number'] ==\"M06.0\"or row['item_number'] ==\"M06.1\"or row['item_number'] ==\"M06.2\"or row['item_number'] ==\"M06.3\"or row['item_number'] ==\"M06.4\"or row['item_number'] ==\"M06.5\"or row['item_number'] ==\"M06.6\"or row['item_number'] ==\"M06.7\"or row['item_number'] ==\"M06.8\"or row['item_number'] ==\"M06.9\"or row['item_number'] ==\"M08.0\"or row['item_number'] ==\"M08.1\"or row['item_number'] ==\"M08.2\"or row['item_number'] ==\"M08.3\"or row['item_number'] ==\"M08.4\"or row['item_number'] ==\"M08.5\"or row['item_number'] ==\"M08.6\"or row['item_number'] ==\"M08.7\"or row['item_number'] ==\"M08.8\"or row['item_number'] ==\"M08.9\"or row['item_number'] ==\"M12.0\"or row['item_number'] ==\"M12.3\"or row['item_number'] ==\"M30.0\"or row['item_number'] ==\"M30.1\"or row['item_number'] ==\"M30.2\"or row['item_number'] ==\"M30.3\"or row['item_number'] ==\"M30.4\"or row['item_number'] ==\"M30.5\"or row['item_number'] ==\"M30.6\"or row['item_number'] ==\"M30.7\"or row['item_number'] ==\"M30.8\"or row['item_number'] ==\"M30.9\"or row['item_number'] ==\"M31.0\"or row['item_number'] ==\"M31.1\"or row['item_number'] ==\"M31.2\"or row['item_number'] ==\"M31.3\"or row['item_number'] ==\"M32\"or row['item_number'] ==\"M33\"or row['item_number'] ==\"M34\"or row['item_number'] ==\"M35\"or row['item_number'] ==\"M32.0\"or row['item_number'] ==\"M32.1\"or row['item_number'] ==\"M32.2\"or row['item_number'] ==\"M32.3\"or row['item_number'] ==\"M32.4\"or row['item_number'] ==\"M32.5\"or row['item_number'] ==\"M32.6\"or row['item_number'] ==\"M32.7\"or row['item_number'] ==\"M32.8\"or row['item_number'] ==\"M32.9\"or row['item_number'] ==\"M33.0\"or row['item_number'] ==\"M33.1\"or row['item_number'] ==\"M33.2\"or row['item_number'] ==\"M33.3\"or row['item_number'] ==\"M33.4\"or row['item_number'] ==\"M33.5\"or row['item_number'] ==\"M33.6\"or row['item_number'] ==\"M33.7\"or row['item_number'] ==\"M33.8\"or row['item_number'] ==\"M33.9\"or row['item_number'] ==\"M34.0\"or row['item_number'] ==\"M34.1\"or row['item_number'] ==\"M34.2\"or row['item_number'] ==\"M34.3\"or row['item_number'] ==\"M34.4\"or row['item_number'] ==\"M34.5\"or row['item_number'] ==\"M34.6\"or row['item_number'] ==\"M34.7\"or row['item_number'] ==\"M34.8\"or row['item_number'] ==\"M34.9\"or row['item_number'] ==\"M35.0\"or row['item_number'] ==\"M35.1\"or row['item_number'] ==\"M35.2\"or row['item_number'] ==\"M35.3\"or row['item_number'] ==\"M35.4\"or row['item_number'] ==\"M35.5\"or row['item_number'] ==\"M35.6\"or row['item_number'] ==\"M35.7\"or row['item_number'] ==\"M35.8\"or row['item_number'] ==\"M35.9\"or row['item_number'] ==\"M45\"or row['item_number'] ==\"M45.0\"or row['item_number'] ==\"M45.01\"or row['item_number'] ==\"M45.02\"or row['item_number'] ==\"M45.03\"or row['item_number'] ==\"M45.04\"or row['item_number'] ==\"M45.05\"or row['item_number'] ==\"M45.06\"or row['item_number'] ==\"M45.07\"or row['item_number'] ==\"M45.08\"or row['item_number'] ==\"M45.09\"or row['item_number'] ==\"M46.1\"or row['item_number'] ==\"46.8\"or row['item_number'] ==\"M46.9\"or row['item_number'] ==\"7010\"or row['item_number'] ==\"7101\"or row['item_number'] ==\"7102\"or row['item_number'] ==\"7103\"or row['item_number'] ==\"7104\"or row['item_number'] ==\"7105\"or row['item_number'] ==\"7106\"or row['item_number'] ==\"7107\"or row['item_number'] ==\"7108\"or row['item_number'] ==\"7109\"or row['item_number'] ==\"7140\"or row['item_number'] ==\"7141\"or row['item_number'] ==\"7142\"or row['item_number'] ==\"7143\"or row['item_number'] ==\"7144\"or row['item_number'] ==\"71481\"or row['item_number'] ==\"71489\"or row['item_number'] ==\"7149\"or row['item_number'] ==\"7201\"or row['item_number'] ==\"7202\"or row['item_number'] ==\"7203\"or row['item_number'] ==\"7204\"or row['item_number'] ==\"7205\"or row['item_number'] ==\"7206\"or row['item_number'] ==\"7207\"or row['item_number'] ==\"7208\"or row['item_number'] ==\"7209\"or row['item_number'] ==\"72081\"or row['item_number'] ==\"72089\"or row['item_number'] ==\"728\":\n",
        "          disease.append(\"Rheumatoid arthritis/ collagen vascular diseases\")\n",
        "        elif row['item_number'] ==\"286\" or row['item_number'] == \"D65\"or row['item_number'] ==\"D66\"or row['item_number'] ==\"D67\"or row['item_number'] ==\"D68\"or row['item_number'] ==\"D68.0\"or row['item_number'] ==\"D68.1\"or row['item_number'] ==\"D68.2\"or row['item_number'] ==\"D68.3\"or row['item_number'] ==\"D68.4\"or row['item_number'] ==\"D68.5\"or row['item_number'] ==\"D68.6\"or row['item_number'] ==\"D68.7\"or row['item_number'] ==\"D68.8\"or row['item_number'] ==\"D68.9\"or row['item_number'] ==\"D69.1\"or row['item_number'] ==\"D69.3\"or row['item_number'] ==\"D69.2\"or row['item_number'] ==\"D69.4\"or row['item_number'] ==\"D69.5\"or row['item_number'] ==\"2860\"or row['item_number'] ==\"2861\"or row['item_number'] ==\"2862\"or row['item_number'] ==\"2863\"or row['item_number'] ==\"2864\"or row['item_number'] ==\"2865\"or row['item_number'] ==\"2866\"or row['item_number'] ==\"2867\"or row['item_number'] ==\"2868\"or row['item_number'] ==\"2869\"or row['item_number'] ==\"2871\"or row['item_number'] ==\"2780\"or row['item_number'] ==\"D28730\"or row['item_number'] ==\"28731\"or row['item_number'] ==\"28732\"or row['item_number'] ==\"28733\"or row['item_number'] ==\"28734\"or row['item_number'] ==\"28735\"or row['item_number'] ==\"28736\"or row['item_number'] ==\"28737\"or row['item_number'] ==\"28738\"or row['item_number'] ==\"28739\"or row['item_number'] ==\"28741\"or row['item_number'] ==\"28749\"or row['item_number'] ==\"2875\":\n",
        "          disease.append(\"Coagulopathy\")\n",
        "        elif row['item_number'] ==\"E66\" or row['item_number'] ==\"e66\" or row['item_number'] ==\"e66.8\" or row['item_number'] ==\"E66.92\"or row['item_number'] ==\"E66.90\"or row['item_number'] ==\"E66.91\"or row['item_number'] ==\"E66.93\"or row['item_number'] ==\"E66.0\"or row['item_number'] ==\"E66.1\"or row['item_number'] ==\"E66.2\"or row['item_number'] ==\"E66.3\"or row['item_number'] ==\"E66.4\"or row['item_number'] ==\"E66.5\"or row['item_number'] ==\"E66.6\"or row['item_number'] ==\"E66.7\"or row['item_number'] ==\"E66.8\"or row['item_number'] ==\"E66.9\"or row['item_number'] ==\"278\":\n",
        "          disease.append(\"Obesity\")\n",
        "        elif row['item_number'] ==\"E40\" or row['item_number'] ==\"E41\"or row['item_number'] ==\"E42\"or row['item_number'] ==\"E43\"or row['item_number'] ==\"E44\"or row['item_number'] ==\"E44.0\"or row['item_number'] ==\"E44.1\"or row['item_number'] ==\"E44.2\"or row['item_number'] ==\"E44.3\"or row['item_number'] ==\"E44.4\"or row['item_number'] ==\"E44.5\"or row['item_number'] ==\"E44.6\"or row['item_number'] ==\"E44.7\"or row['item_number'] ==\"E44.8\"or row['item_number'] ==\"E44.9\"or row['item_number'] ==\"E45\"or row['item_number'] ==\"E46\"or row['item_number'] ==\"R63.4\"or row['item_number'] ==\"R64\"or row['item_number'] ==\"260\"or row['item_number'] ==\"261\"or row['item_number'] ==\"262\"or row['item_number'] ==\"2630\"or row['item_number'] ==\"2631\"or row['item_number'] ==\"2632\"or row['item_number'] ==\"2633\"or row['item_number'] ==\"2634\"or row['item_number'] ==\"2635\"or row['item_number'] ==\"2636\"or row['item_number'] ==\"2637\"or row['item_number'] ==\"2638\"or row['item_number'] ==\"2639\":\n",
        "          disease.append(\"Weight Loss\")\n",
        "        elif row['item_number'] ==\"E22.2\"or row['item_number'] ==\"E86\"or row['item_number'] ==\"e86\"or row['item_number'] ==\"E87.0\"or row['item_number'] ==\"E87\"or row['item_number'] ==\"E87.1\"or row['item_number'] ==\"E87.2\"or row['item_number'] ==\"E87.3\"or row['item_number'] ==\"E87.4\"or row['item_number'] ==\"E87.5\"or row['item_number'] ==\"E87.6\"or row['item_number'] ==\"E87.7\"or row['item_number'] ==\"E87.8\"or row['item_number'] ==\"E87.9\"or row['item_number'] ==\"2760\"or row['item_number'] ==\"2761\"or row['item_number'] ==\"2762\"or row['item_number'] ==\"2763\"or row['item_number'] ==\"2764\"or row['item_number'] ==\"2765\"or row['item_number'] ==\"2766\"or row['item_number'] ==\"2767\"or row['item_number'] ==\"2768\"or row['item_number'] ==\"2769\"or row['item_number'] ==\"27650\"or row['item_number'] ==\"27651\"or row['item_number'] ==\"27652\"or row['item_number'] ==\"27653\"or row['item_number'] ==\"27654\"or row['item_number'] ==\"27655\"or row['item_number'] ==\"27656\"or row['item_number'] ==\"27657\"or row['item_number'] ==\"27658\"or row['item_number'] ==\"27659\"or row['item_number'] ==\"2760\"or row['item_number'] ==\"2761\"or row['item_number'] ==\"2762\"or row['item_number'] ==\"2763\"or row['item_number'] ==\"2764\"or row['item_number'] ==\"2765\"or row['item_number'] ==\"2766\"or row['item_number'] ==\"2767\"or row['item_number'] ==\"2768\"or row['item_number'] ==\"2769\":\n",
        "          disease.append(\"Fluid and electrolyte disorders\")\n",
        "        elif row['item_number'] ==\"D50.0\" or row['item_number'] ==\"2800\":\n",
        "          disease.append(\"Blood loss anemia\")\n",
        "        elif row['item_number'] ==\"D50.8\"or row['item_number'] ==\"D50.9\"or row['item_number'] ==\"2859\" or row['item_number'] ==\"D51\"or row['item_number'] ==\"D51.0\"or row['item_number'] ==\"D51.1\"or row['item_number'] ==\"D51.2\"or row['item_number'] ==\"D51.2\"or row['item_number'] ==\"D51.4\"or row['item_number'] ==\"D51.3\"or row['item_number'] ==\"D51.5\"or row['item_number'] ==\"D51.6\"or row['item_number'] ==\"D51.7\"or row['item_number'] ==\"D51.8\"or row['item_number'] ==\"D51.9\"or row['item_number'] ==\"D52\"or row['item_number'] ==\"D52.0\"or row['item_number'] ==\"D52.1\"or row['item_number'] ==\"D52.2\"or row['item_number'] ==\"D52.3\"or row['item_number'] ==\"D52.4\"or row['item_number'] ==\"D52.5\"or row['item_number'] ==\"D52.6\"or row['item_number'] ==\"D52.7\"or row['item_number'] ==\"D52.8\"or row['item_number'] ==\"D52.9\"or row['item_number'] ==\"D53\"or row['item_number'] ==\"D53.0\"or row['item_number'] ==\"D53.1\"or row['item_number'] ==\"D53.2\"or row['item_number'] ==\"D53.3\"or row['item_number'] ==\"D53.4\"or row['item_number'] ==\"D53.5\"or row['item_number'] ==\"D53.6\"or row['item_number'] ==\"D53.7\"or row['item_number'] ==\"D53.8\"or row['item_number'] ==\"D53.9\"or row['item_number'] ==\"2800\"or row['item_number'] ==\"2810\"or row['item_number'] ==\"2811\"or row['item_number'] ==\"2812\"or row['item_number'] ==\"2813\"or row['item_number'] ==\"2814\"or row['item_number'] ==\"2815\"or row['item_number'] ==\"2816\"or row['item_number'] ==\"2817\"or row['item_number'] ==\"2818\"or row['item_number'] ==\"2819\"or row['item_number'] ==\"2801\"or row['item_number'] ==\"2808\"or row['item_number'] ==\"2809\"or row['item_number'] ==\"2858\":\n",
        "          disease.append(\"Deficiency anemia\")\n",
        "        elif row['item_number'] ==\"2911\"or row['item_number'] ==\"2912\" or row['item_number'] ==\"30393-00\"or row['item_number'] ==\"3039000\" or row['item_number'] ==\"f10\"or row['item_number'] ==\"30390\"or row['item_number'] ==\"30391\"or row['item_number'] ==\"30392\"or row['item_number'] ==\"30393\"or row['item_number'] ==\"30394\"or row['item_number'] ==\"30395\"or row['item_number'] ==\"30396\"or row['item_number'] ==\"30397\"or row['item_number'] ==\"30398\"or row['item_number'] ==\"30399\"or row['item_number'] ==\"2915\"or row['item_number'] ==\"2916\"or row['item_number'] ==\"2917\"or row['item_number'] ==\"2918\"or row['item_number'] ==\"2919\"or row['item_number'] ==\"3039\"or row['item_number'] ==\"3050\" or row['item_number'] ==\"V113\" or row['item_number'] ==\"F10\"or row['item_number'] ==\"E52\"or row['item_number'] ==\"G62.1\"or row['item_number'] ==\"I42.6\"or row['item_number'] ==\"K29.2\"or row['item_number'] ==\"K70.0\"or row['item_number'] ==\"K70.3\"or row['item_number'] ==\"K70.9\"or row['item_number'] ==\"T51.0\"or row['item_number'] ==\"T51.1\"or row['item_number'] ==\"T51.2\"or row['item_number'] ==\"T51.3\"or row['item_number'] ==\"T51.4\"or row['item_number'] ==\"T51.5\"or row['item_number'] ==\"T51.6\"or row['item_number'] ==\"T51.7\"or row['item_number'] ==\"T51.8\"or row['item_number'] ==\"T51.9\"or row['item_number'] ==\"Z50.2\"or row['item_number'] ==\"Z71.4\"or row['item_number'] ==\"Z72.1\":\n",
        "          disease.append(\"Alcohol abuse\")\n",
        "        elif row['item_number'] ==\"F11\" or row['item_number'] ==\"F15.11\" or row['item_number'] ==\"30473-00\"or row['item_number'] ==\"30473-01\" or row['item_number'] ==\"30439-00\"or row['item_number'] ==\"3047301\"or row['item_number'] ==\"30439\" or row['item_number'] ==\"30473\"or row['item_number'] ==\"F15.19\"or row['item_number'] ==\"F15.20\"or row['item_number'] ==\"F15.21\"or row['item_number'] ==\"F15.29\"or row['item_number'] ==\"F13.19\"or row['item_number'] ==\"F13.20\"or row['item_number'] ==\"F13.21\"or row['item_number'] ==\"F13.29\"or row['item_number'] ==\"30571\"or row['item_number'] ==\"30572\"or row['item_number'] ==\"30573\"or row['item_number'] ==\"30574\"or row['item_number'] ==\"30575\"or row['item_number'] ==\"30576\"or row['item_number'] ==\"30577\"or row['item_number'] ==\"30578\"or row['item_number'] ==\"30579\"or row['item_number'] ==\"30400\"or row['item_number'] ==\"30401\"or row['item_number'] ==\"30402\"or row['item_number'] ==\"30403\"or row['item_number'] ==\"30404\"or row['item_number'] ==\"30405\"or row['item_number'] ==\"30406\"or row['item_number'] ==\"30407\"or row['item_number'] ==\"30408\"or row['item_number'] ==\"30409\"or row['item_number'] ==\"F11.0\"or row['item_number'] ==\"F11.1\"or row['item_number'] ==\"F11.2\"or row['item_number'] ==\"F11.3\"or row['item_number'] ==\"F11.4\"or row['item_number'] ==\"F11.5\"or row['item_number'] ==\"F11.6\"or row['item_number'] ==\"F11.7\"or row['item_number'] ==\"F11.8\"or row['item_number'] ==\"F11.9\"or row['item_number'] ==\"F12\"or row['item_number'] ==\"F12.0\"or row['item_number'] ==\"F12.1\"or row['item_number'] ==\"F12.2\"or row['item_number'] ==\"F12.3\"or row['item_number'] ==\"F12.4\"or row['item_number'] ==\"F12.5\"or row['item_number'] ==\"F12.6\"or row['item_number'] ==\"F12.7\"or row['item_number'] ==\"F12.8\"or row['item_number'] ==\"F12.9\"or row['item_number'] ==\"F13\"or row['item_number'] ==\"F13.0\"or row['item_number'] ==\"F13.1\"or row['item_number'] ==\"F13.2\"or row['item_number'] ==\"F13.3\"or row['item_number'] ==\"F13.4\"or row['item_number'] ==\"F13.5\"or row['item_number'] ==\"F13.6\"or row['item_number'] ==\"F13.7\"or row['item_number'] ==\"F13.8\"or row['item_number'] ==\"F13.9\"or row['item_number'] ==\"F14\"or row['item_number'] ==\"F14.1\"or row['item_number'] ==\"F14.2\"or row['item_number'] ==\"F14.3\"or row['item_number'] ==\"F14.4\"or row['item_number'] ==\"F14.5\"or row['item_number'] ==\"F14.6\"or row['item_number'] ==\"F14.7\"or row['item_number'] ==\"F14.8\"or row['item_number'] ==\"F14.9\"or row['item_number'] ==\"F15\"or row['item_number'] ==\"F15.0\"or row['item_number'] ==\"F15.1\"or row['item_number'] ==\"F15.2\"or row['item_number'] ==\"F15.3\"or row['item_number'] ==\"F15.4\"or row['item_number'] ==\"F15.5\"or row['item_number'] ==\"F15.5\"or row['item_number'] ==\"F15.7\"or row['item_number'] ==\"F15.8\"or row['item_number'] ==\"F15.9\"or row['item_number'] ==\"F16\"or row['item_number'] ==\"F16.1\"or row['item_number'] ==\"F16.2\"or row['item_number'] ==\"F16.3\"or row['item_number'] ==\"F16.4\"or row['item_number'] ==\"F16.5\"or row['item_number'] ==\"F16.6\"or row['item_number'] ==\"F16.7\"or row['item_number'] ==\"F16.8\"or row['item_number'] ==\"F16.9\"or row['item_number'] ==\"F18\"or row['item_number'] ==\"F18.0\"or row['item_number'] ==\"F18.1\"or row['item_number'] ==\"F18.2\"or row['item_number'] ==\"F18.3\"or row['item_number'] ==\"F18.4\"or row['item_number'] ==\"F18.5\"or row['item_number'] ==\"F18.6\"or row['item_number'] ==\"F18.7\"or row['item_number'] ==\"F18.8\"or row['item_number'] ==\"F18.9\"or row['item_number'] ==\"F19\"or row['item_number'] ==\"F19.1\"or row['item_number'] ==\"F19.2\"or row['item_number'] ==\"F19.0\"or row['item_number'] ==\"F19.3\"or row['item_number'] ==\"F19.4\"or row['item_number'] ==\"F19.5\"or row['item_number'] ==\"F19.6\"or row['item_number'] ==\"F19.7\"or row['item_number'] ==\"F19.8\"or row['item_number'] ==\"F19.9\"or row['item_number'] ==\"Z71.5\"or row['item_number'] ==\"Z72.2\"or row['item_number'] ==\"2920\"or row['item_number'] ==\"2929\"or row['item_number'] ==\"29282\"or row['item_number'] ==\"29283\"or row['item_number'] ==\"29284\"or row['item_number'] ==\"29285\"or row['item_number'] ==\"29289\"or row['item_number'] ==\"3040\"or row['item_number'] ==\"30520\"or row['item_number'] ==\"3053\"or row['item_number'] ==\"3054\"or row['item_number'] ==\"3055\"or row['item_number'] ==\"3056\"or row['item_number'] ==\"3057\"or row['item_number'] ==\"3058\"or row['item_number'] ==\"3059\":\n",
        "          disease.append(\"Drug abuse\")\n",
        "        elif row['item_number'] ==\"29572\" or row['item_number'] ==\"F20\" or row['item_number'] ==\"F20.0\"or row['item_number'] ==\"29620\"or row['item_number'] ==\"29630\"or row['item_number'] ==\"29633\"or row['item_number'] ==\"29634\"or row['item_number'] ==\"29635\"or row['item_number'] ==\"29636\"or row['item_number'] ==\"29637\"or row['item_number'] ==\"29638\"or row['item_number'] ==\"29639\" or row['item_number'] ==\"F20.1\" or row['item_number'] ==\"F20.2\"or row['item_number'] ==\"F20.3\"or row['item_number'] ==\"F20.4\"or row['item_number'] ==\"F20.5\"or row['item_number'] ==\"F20.6\"or row['item_number'] ==\"F20.7\"or row['item_number'] ==\"F20.8\"or row['item_number'] ==\"F20.9\"or row['item_number'] ==\"F22\"or row['item_number'] ==\"F22.0\"or row['item_number'] ==\"F22.1\"or row['item_number'] ==\"F22.2\"or row['item_number'] ==\"F22.3\"or row['item_number'] ==\"F22.4\"or row['item_number'] ==\"F22.5\"or row['item_number'] ==\"F22.6\"or row['item_number'] ==\"F22.7\"or row['item_number'] ==\"F22.8\"or row['item_number'] ==\"F22.9\"or row['item_number'] ==\"F23\"or row['item_number'] ==\"F23.0\"or row['item_number'] ==\"F23.1\"or row['item_number'] ==\"F23.2\"or row['item_number'] ==\"F23.3\"or row['item_number'] ==\"F23.4\"or row['item_number'] ==\"F23.5\"or row['item_number'] ==\"F23.6\"or row['item_number'] ==\"F23.7\"or row['item_number'] ==\"F23.8\"or row['item_number'] ==\"F23.9\"or row['item_number'] ==\"F24\"or row['item_number'] ==\"F25\"or row['item_number'] ==\"F25.0\"or row['item_number'] ==\"F25.1\"or row['item_number'] ==\"F25.2\"or row['item_number'] ==\"F25.3\"or row['item_number'] ==\"F25.4\"or row['item_number'] ==\"F25.5\"or row['item_number'] ==\"F25.6\"or row['item_number'] ==\"F25.7\"or row['item_number'] ==\"F25.8\"or row['item_number'] ==\"F25.9\"or row['item_number'] ==\"F28\"or row['item_number'] ==\"F29\"or row['item_number'] ==\"F29.0\"or row['item_number'] ==\"F29.1\"or row['item_number'] ==\"F29.2\"or row['item_number'] ==\"F29.3\"or row['item_number'] ==\"F29.4\"or row['item_number'] ==\"F29.5\"or row['item_number'] ==\"F29.6\"or row['item_number'] ==\"F29.7\"or row['item_number'] ==\"F29.8\"or row['item_number'] ==\"F29.9\"or row['item_number'] ==\"F30.2\"or row['item_number'] ==\"F31.2\"or row['item_number'] ==\"F31.5\"or row['item_number'] ==\"F2950\"or row['item_number'] ==\"2951\"or row['item_number'] ==\"2952\"or row['item_number'] ==\"2953\"or row['item_number'] ==\"2954\"or row['item_number'] ==\"2955\"or row['item_number'] ==\"2956\"or row['item_number'] ==\"2957\"or row['item_number'] ==\"2958\"or row['item_number'] ==\"2959\"or row['item_number'] ==\"2960\"or row['item_number'] ==\"2961\"or row['item_number'] ==\"2962\"or row['item_number'] ==\"2963\"or row['item_number'] ==\"2964\"or row['item_number'] ==\"2965\"or row['item_number'] ==\"2966\"or row['item_number'] ==\"2967\"or row['item_number'] ==\"2968\"or row['item_number'] ==\"2969\"or row['item_number'] ==\"2990\"or row['item_number'] ==\"2971\"or row['item_number'] ==\"2972\"or row['item_number'] ==\"2973\"or row['item_number'] ==\"2974\"or row['item_number'] ==\"2975\"or row['item_number'] ==\"2976\"or row['item_number'] ==\"2977\"or row['item_number'] ==\"2978\"or row['item_number'] ==\"2979\"or row['item_number'] ==\"2980\"or row['item_number'] ==\"2981\"or row['item_number'] ==\"2982\"or row['item_number'] ==\"2983\"or row['item_number'] ==\"2984\"or row['item_number'] ==\"2985\"or row['item_number'] ==\"2986\"or row['item_number'] ==\"2987\"or row['item_number'] ==\"2988\"or row['item_number'] ==\"2989\"or row['item_number'] ==\"29910\"or row['item_number'] ==\"29911\":\n",
        "          disease.append(\"Psychoses\")\n",
        "        elif row['item_number'] ==\"F20.4\"or row['item_number'] ==\"f32\" or row['item_number'] ==\"f32.20\"or row['item_number'] ==\"f32.3\"or row['item_number'] ==\"F32.30\" or row['item_number'] ==\"F32.80\"or row['item_number'] ==\"F32.00\"or row['item_number'] ==\"F32.10\"or row['item_number'] ==\"f32.2\"or row['item_number'] ==\"F32.20\"or row['item_number'] ==\"F32.21\"or row['item_number'] ==\"F32.90\"or row['item_number'] ==\"F32.91\"or row['item_number'] ==\"f33\"or row['item_number'] ==\"f33.3\"or row['item_number'] ==\"f33.9\"or row['item_number'] ==\"F31.3\"or row['item_number'] ==\"F31.4\"or row['item_number'] ==\"F31.5\"or row['item_number'] ==\"F32\"or row['item_number'] ==\"F32.0\"or row['item_number'] ==\"F32.1\"or row['item_number'] ==\"F32.2\"or row['item_number'] ==\"F32.3\"or row['item_number'] ==\"F32.4\"or row['item_number'] ==\"F32.5\"or row['item_number'] ==\"F32.6\"or row['item_number'] ==\"F32.7\"or row['item_number'] ==\"F32.8\"or row['item_number'] ==\"F32.9\"or row['item_number'] ==\"F33\"or row['item_number'] ==\"F33.0\"or row['item_number'] ==\"F33.1\"or row['item_number'] ==\"F33.2\"or row['item_number'] ==\"F33.3\"or row['item_number'] ==\"F33.4\"or row['item_number'] ==\"F33.5\"or row['item_number'] ==\"F33.6\"or row['item_number'] ==\"F33.7\"or row['item_number'] ==\"F33.8\"or row['item_number'] ==\"F33.9\"or row['item_number'] ==\"F34.1\"or row['item_number'] ==\"F41.2\"or row['item_number'] ==\"F43.2\"or row['item_number'] ==\"3004\"or row['item_number'] ==\"30112\"or row['item_number'] ==\"3090\"or row['item_number'] ==\"3091\"or row['item_number'] ==\"311\":\n",
        "          disease.append('Depression')\n",
        "        else:\n",
        "          disease.append('Other')\n",
        "    return disease\n"
      ],
      "execution_count": 8,
      "outputs": []
    },
    {
      "cell_type": "code",
      "metadata": {
        "id": "b48wDDCq7nN9"
      },
      "source": [
        "df['disease'] = icd_to_disease(df)"
      ],
      "execution_count": 9,
      "outputs": []
    },
    {
      "cell_type": "markdown",
      "metadata": {
        "id": "VcG53cBKCQm3"
      },
      "source": [
        "## 2.1 Delete dirty data"
      ]
    },
    {
      "cell_type": "code",
      "metadata": {
        "id": "kiZRkDIDLqLO"
      },
      "source": [
        "# delete smoking and duty ICD code\n",
        "df_other = df[df['disease']==\"Other\"]\n",
        "df_disease = df.drop(df[df['disease']==\"Other\"].index)"
      ],
      "execution_count": 10,
      "outputs": []
    },
    {
      "cell_type": "markdown",
      "metadata": {
        "id": "Vc5SwhBICafV"
      },
      "source": [
        "## 2.2 Disease to ID"
      ]
    },
    {
      "cell_type": "code",
      "metadata": {
        "id": "IvvpIlIB_nDU"
      },
      "source": [
        "def disease_to_id(df_disease):\n",
        "    disease_id = []\n",
        "    for i, row in df_disease.iterrows():\n",
        "        if row['disease'] ==\"Congestive heart failure\":\n",
        "          disease_id.append(\"1\")\n",
        "        elif row['disease'] ==\"Cardiac arrhythmias\":\n",
        "          disease_id.append(\"2\")\n",
        "        elif row['disease'] ==\"Valvular disease\":\n",
        "          disease_id.append(\"3\")\n",
        "        elif row['disease'] ==\"Pulmonary circulation disorders\":\n",
        "          disease_id.append(\"4\")\n",
        "        elif row['disease'] ==\"Peripheral vascular disorders\":\n",
        "          disease_id.append(\"5\")\n",
        "        elif row['disease'] ==\"Hypertension, uncomplicated and Hypertension, complicated\":\n",
        "          disease_id.append(\"6\")\n",
        "        elif row['disease'] ==\"Paralysis\":\n",
        "          disease_id.append(\"7\")\n",
        "        elif row['disease'] ==\"Other neurological disorders\":\n",
        "          disease_id.append(\"8\")\n",
        "        elif row['disease'] ==\"Chronic pulmonary disease\":\n",
        "          disease_id.append(\"9\")\n",
        "        elif row['disease'] ==\"Diabetes, uncomplicated\":\n",
        "          disease_id.append(\"10\")\n",
        "        elif row['disease'] ==\"Diabetes, complicated\":\n",
        "          disease_id.append(\"11\")\n",
        "        elif row['disease'] ==\"Hypothyroidism\":\n",
        "          disease_id.append(\"12\")\n",
        "        elif row['disease'] ==\"Renal failure\":\n",
        "          disease_id.append(\"13\")\n",
        "        elif row['disease'] ==\"Liver disease\":\n",
        "          disease_id.append(\"14\")\n",
        "        elif row['disease'] ==\"Peptic ulcer disease excluding bleeding\":\n",
        "          disease_id.append(\"15\")\n",
        "        elif row['disease'] ==\"AIDS/HIV\":\n",
        "          disease_id.append(\"16\")\n",
        "        elif row['disease'] ==\"Lymphoma\":\n",
        "          disease_id.append(\"17\")\n",
        "        elif row['disease'] ==\"Metastatic cancer\":\n",
        "          disease_id.append(\"18\")\n",
        "        elif row['disease'] ==\"Solid tumor without metastasis\":\n",
        "          disease_id.append(\"19\")\n",
        "        elif row['disease'] ==\"Rheumatoid arthritis/ collagen vascular diseases\":\n",
        "          disease_id.append(\"20\")\n",
        "        elif row['disease'] ==\"Coagulopathy\":\n",
        "          disease_id.append(\"21\")\n",
        "        elif row['disease'] ==\"Obesity\":\n",
        "          disease_id.append(\"22\")\n",
        "        elif row['disease'] ==\"Weight Loss\":\n",
        "          disease_id.append(\"23\")\n",
        "        elif row['disease'] ==\"Fluid and electrolyte disorders\":\n",
        "          disease_id.append(\"24\")\n",
        "        elif row['disease'] ==\"Blood loss anemia\":\n",
        "          disease_id.append(\"25\")\n",
        "        elif row['disease'] ==\"Deficiency anemia\":\n",
        "          disease_id.append(\"26\")\n",
        "        elif row['disease'] ==\"Alcohol abuse\":\n",
        "          disease_id.append(\"27\")\n",
        "        elif row['disease'] ==\"Drug abuse\":\n",
        "          disease_id.append(\"28\")\n",
        "        elif row['disease'] ==\"Psychoses\":\n",
        "          disease_id.append(\"29\")\n",
        "        elif row['disease'] ==\"Depression\":\n",
        "          disease_id.append(\"30\")\n",
        "        else:\n",
        "          disease_id.append(\"Other\")\n",
        "    return disease_id"
      ],
      "execution_count": 12,
      "outputs": []
    },
    {
      "cell_type": "code",
      "metadata": {
        "id": "DJ9O1-jEAC02"
      },
      "source": [
        "df_disease['disease_id'] = disease_to_id(df_disease)"
      ],
      "execution_count": 13,
      "outputs": []
    },
    {
      "cell_type": "code",
      "metadata": {
        "id": "tmY8_Ycx7aC3"
      },
      "source": [
        "df_other2 = df_disease[df_disease['disease_id']==\"Other\"]\n",
        "df_disease.columns\n",
        "# Index(['Unnamed: 0', 'a', 'b', 'c'], dtype='object')\n",
        "\n",
        "df_disease.columns.str.match('Unnamed')\n",
        "# array([ True, False, False, False])\n",
        "\n",
        "df_disease = df_disease.loc[:, ~df_disease.columns.str.match('Unnamed')]"
      ],
      "execution_count": 14,
      "outputs": []
    },
    {
      "cell_type": "code",
      "metadata": {
        "id": "LU4wl7sgwPIn"
      },
      "source": [
        "toppatient = df_disease.groupby(['person_id']).agg({'person_id': 'count'})\n",
        "\n",
        "toppatient['proportion']=toppatient['person_id']/len(df_disease) *100\n",
        "topP = toppatient.sort_values(by='proportion', ascending=False)\n",
        "\n",
        "top3 = topP[topP['person_id']>=2]"
      ],
      "execution_count": 15,
      "outputs": []
    },
    {
      "cell_type": "code",
      "metadata": {
        "id": "DjYlDAEImjaU"
      },
      "source": [
        "#topdisease_t2d = df_t2d_disease.groupby(['disease']).agg({'disease': 'count'})\n",
        "\n",
        "topdisease = df_disease.groupby(['item_number']).agg({'item_number': 'count'})\n",
        "topdisease['proportion']=topdisease['item_number']/len(df_disease)*100"
      ],
      "execution_count": 16,
      "outputs": []
    },
    {
      "cell_type": "code",
      "metadata": {
        "colab": {
          "base_uri": "https://localhost:8080/",
          "height": 450
        },
        "id": "QMNVKOjHoK3D",
        "outputId": "fe83d5fa-59cd-46a9-d2b5-573bdfe83a32"
      },
      "source": [
        "topdisease.sort_values(by='proportion', ascending=False)"
      ],
      "execution_count": 17,
      "outputs": [
        {
          "output_type": "execute_result",
          "data": {
            "text/plain": [
              "             item_number  proportion\n",
              "item_number                         \n",
              "Z49.1                859   16.225916\n",
              "30473-01             261    4.930110\n",
              "C78.7                253    4.778995\n",
              "4019                 169    3.192293\n",
              "C50.9                110    2.077824\n",
              "...                  ...         ...\n",
              "G83.4                  1    0.018889\n",
              "I05                    1    0.018889\n",
              "I08.9                  1    0.018889\n",
              "C18.1                  1    0.018889\n",
              "Z99.2                  1    0.018889\n",
              "\n",
              "[406 rows x 2 columns]"
            ],
            "text/html": [
              "\n",
              "  <div id=\"df-11f4ba0c-a68e-41ae-b4fb-352aae3e7b1d\">\n",
              "    <div class=\"colab-df-container\">\n",
              "      <div>\n",
              "<style scoped>\n",
              "    .dataframe tbody tr th:only-of-type {\n",
              "        vertical-align: middle;\n",
              "    }\n",
              "\n",
              "    .dataframe tbody tr th {\n",
              "        vertical-align: top;\n",
              "    }\n",
              "\n",
              "    .dataframe thead th {\n",
              "        text-align: right;\n",
              "    }\n",
              "</style>\n",
              "<table border=\"1\" class=\"dataframe\">\n",
              "  <thead>\n",
              "    <tr style=\"text-align: right;\">\n",
              "      <th></th>\n",
              "      <th>item_number</th>\n",
              "      <th>proportion</th>\n",
              "    </tr>\n",
              "    <tr>\n",
              "      <th>item_number</th>\n",
              "      <th></th>\n",
              "      <th></th>\n",
              "    </tr>\n",
              "  </thead>\n",
              "  <tbody>\n",
              "    <tr>\n",
              "      <th>Z49.1</th>\n",
              "      <td>859</td>\n",
              "      <td>16.225916</td>\n",
              "    </tr>\n",
              "    <tr>\n",
              "      <th>30473-01</th>\n",
              "      <td>261</td>\n",
              "      <td>4.930110</td>\n",
              "    </tr>\n",
              "    <tr>\n",
              "      <th>C78.7</th>\n",
              "      <td>253</td>\n",
              "      <td>4.778995</td>\n",
              "    </tr>\n",
              "    <tr>\n",
              "      <th>4019</th>\n",
              "      <td>169</td>\n",
              "      <td>3.192293</td>\n",
              "    </tr>\n",
              "    <tr>\n",
              "      <th>C50.9</th>\n",
              "      <td>110</td>\n",
              "      <td>2.077824</td>\n",
              "    </tr>\n",
              "    <tr>\n",
              "      <th>...</th>\n",
              "      <td>...</td>\n",
              "      <td>...</td>\n",
              "    </tr>\n",
              "    <tr>\n",
              "      <th>G83.4</th>\n",
              "      <td>1</td>\n",
              "      <td>0.018889</td>\n",
              "    </tr>\n",
              "    <tr>\n",
              "      <th>I05</th>\n",
              "      <td>1</td>\n",
              "      <td>0.018889</td>\n",
              "    </tr>\n",
              "    <tr>\n",
              "      <th>I08.9</th>\n",
              "      <td>1</td>\n",
              "      <td>0.018889</td>\n",
              "    </tr>\n",
              "    <tr>\n",
              "      <th>C18.1</th>\n",
              "      <td>1</td>\n",
              "      <td>0.018889</td>\n",
              "    </tr>\n",
              "    <tr>\n",
              "      <th>Z99.2</th>\n",
              "      <td>1</td>\n",
              "      <td>0.018889</td>\n",
              "    </tr>\n",
              "  </tbody>\n",
              "</table>\n",
              "<p>406 rows × 2 columns</p>\n",
              "</div>\n",
              "      <button class=\"colab-df-convert\" onclick=\"convertToInteractive('df-11f4ba0c-a68e-41ae-b4fb-352aae3e7b1d')\"\n",
              "              title=\"Convert this dataframe to an interactive table.\"\n",
              "              style=\"display:none;\">\n",
              "        \n",
              "  <svg xmlns=\"http://www.w3.org/2000/svg\" height=\"24px\"viewBox=\"0 0 24 24\"\n",
              "       width=\"24px\">\n",
              "    <path d=\"M0 0h24v24H0V0z\" fill=\"none\"/>\n",
              "    <path d=\"M18.56 5.44l.94 2.06.94-2.06 2.06-.94-2.06-.94-.94-2.06-.94 2.06-2.06.94zm-11 1L8.5 8.5l.94-2.06 2.06-.94-2.06-.94L8.5 2.5l-.94 2.06-2.06.94zm10 10l.94 2.06.94-2.06 2.06-.94-2.06-.94-.94-2.06-.94 2.06-2.06.94z\"/><path d=\"M17.41 7.96l-1.37-1.37c-.4-.4-.92-.59-1.43-.59-.52 0-1.04.2-1.43.59L10.3 9.45l-7.72 7.72c-.78.78-.78 2.05 0 2.83L4 21.41c.39.39.9.59 1.41.59.51 0 1.02-.2 1.41-.59l7.78-7.78 2.81-2.81c.8-.78.8-2.07 0-2.86zM5.41 20L4 18.59l7.72-7.72 1.47 1.35L5.41 20z\"/>\n",
              "  </svg>\n",
              "      </button>\n",
              "      \n",
              "  <style>\n",
              "    .colab-df-container {\n",
              "      display:flex;\n",
              "      flex-wrap:wrap;\n",
              "      gap: 12px;\n",
              "    }\n",
              "\n",
              "    .colab-df-convert {\n",
              "      background-color: #E8F0FE;\n",
              "      border: none;\n",
              "      border-radius: 50%;\n",
              "      cursor: pointer;\n",
              "      display: none;\n",
              "      fill: #1967D2;\n",
              "      height: 32px;\n",
              "      padding: 0 0 0 0;\n",
              "      width: 32px;\n",
              "    }\n",
              "\n",
              "    .colab-df-convert:hover {\n",
              "      background-color: #E2EBFA;\n",
              "      box-shadow: 0px 1px 2px rgba(60, 64, 67, 0.3), 0px 1px 3px 1px rgba(60, 64, 67, 0.15);\n",
              "      fill: #174EA6;\n",
              "    }\n",
              "\n",
              "    [theme=dark] .colab-df-convert {\n",
              "      background-color: #3B4455;\n",
              "      fill: #D2E3FC;\n",
              "    }\n",
              "\n",
              "    [theme=dark] .colab-df-convert:hover {\n",
              "      background-color: #434B5C;\n",
              "      box-shadow: 0px 1px 3px 1px rgba(0, 0, 0, 0.15);\n",
              "      filter: drop-shadow(0px 1px 2px rgba(0, 0, 0, 0.3));\n",
              "      fill: #FFFFFF;\n",
              "    }\n",
              "  </style>\n",
              "\n",
              "      <script>\n",
              "        const buttonEl =\n",
              "          document.querySelector('#df-11f4ba0c-a68e-41ae-b4fb-352aae3e7b1d button.colab-df-convert');\n",
              "        buttonEl.style.display =\n",
              "          google.colab.kernel.accessAllowed ? 'block' : 'none';\n",
              "\n",
              "        async function convertToInteractive(key) {\n",
              "          const element = document.querySelector('#df-11f4ba0c-a68e-41ae-b4fb-352aae3e7b1d');\n",
              "          const dataTable =\n",
              "            await google.colab.kernel.invokeFunction('convertToInteractive',\n",
              "                                                     [key], {});\n",
              "          if (!dataTable) return;\n",
              "\n",
              "          const docLinkHtml = 'Like what you see? Visit the ' +\n",
              "            '<a target=\"_blank\" href=https://colab.research.google.com/notebooks/data_table.ipynb>data table notebook</a>'\n",
              "            + ' to learn more about interactive tables.';\n",
              "          element.innerHTML = '';\n",
              "          dataTable['output_type'] = 'display_data';\n",
              "          await google.colab.output.renderOutput(dataTable, element);\n",
              "          const docLink = document.createElement('div');\n",
              "          docLink.innerHTML = docLinkHtml;\n",
              "          element.appendChild(docLink);\n",
              "        }\n",
              "      </script>\n",
              "    </div>\n",
              "  </div>\n",
              "  "
            ]
          },
          "metadata": {},
          "execution_count": 17
        }
      ]
    },
    {
      "cell_type": "code",
      "metadata": {
        "id": "O4HU2JIXM27l"
      },
      "source": [
        "toppatient = df_disease.groupby(['person_id']).agg({'person_id': 'count'})\n",
        "toppatient['proportion']=toppatient['person_id']/len(df_disease)*100\n",
        "topP = toppatient.sort_values(by='proportion', ascending=False)\n",
        "topP50 = topP[topP['person_id']>50]\n",
        "topP50_index = topP50.index\n",
        "topP50list = topP50_index.tolist()\n",
        "df__disease = df_disease[-df_disease['person_id'].isin(topP50list)]"
      ],
      "execution_count": 18,
      "outputs": []
    },
    {
      "cell_type": "markdown",
      "metadata": {
        "id": "dYMLOZt-C2Af"
      },
      "source": [
        "# Save Final dataset"
      ]
    },
    {
      "cell_type": "code",
      "metadata": {
        "id": "LxjKetlafSgd"
      },
      "source": [
        "df_disease.to_csv(\"processed.csv\")"
      ],
      "execution_count": 19,
      "outputs": []
    },
    {
      "cell_type": "markdown",
      "metadata": {
        "id": "5-swnOefCTGH"
      },
      "source": [
        "# 3. Graph pre-processing"
      ]
    },
    {
      "cell_type": "code",
      "metadata": {
        "id": "M0Iqq91dDVGU"
      },
      "source": [
        "df_u = pd.DataFrame(df_disease, columns=['person_id', 'item_number'])"
      ],
      "execution_count": 20,
      "outputs": []
    },
    {
      "cell_type": "code",
      "metadata": {
        "id": "5acFXcM8DhQJ",
        "colab": {
          "base_uri": "https://localhost:8080/",
          "height": 204
        },
        "outputId": "381659d1-0cb0-4783-aab5-5ea3cef768ce"
      },
      "source": [
        "df_u.head()"
      ],
      "execution_count": 21,
      "outputs": [
        {
          "output_type": "execute_result",
          "data": {
            "text/plain": [
              "   person_id item_number\n",
              "0      58992        4019\n",
              "1       2116        4019\n",
              "2      96172       34590\n",
              "3      96172       49390\n",
              "4      96172        4011"
            ],
            "text/html": [
              "\n",
              "  <div id=\"df-062d2a9c-d576-478c-a5a3-de9e2c0cfecc\">\n",
              "    <div class=\"colab-df-container\">\n",
              "      <div>\n",
              "<style scoped>\n",
              "    .dataframe tbody tr th:only-of-type {\n",
              "        vertical-align: middle;\n",
              "    }\n",
              "\n",
              "    .dataframe tbody tr th {\n",
              "        vertical-align: top;\n",
              "    }\n",
              "\n",
              "    .dataframe thead th {\n",
              "        text-align: right;\n",
              "    }\n",
              "</style>\n",
              "<table border=\"1\" class=\"dataframe\">\n",
              "  <thead>\n",
              "    <tr style=\"text-align: right;\">\n",
              "      <th></th>\n",
              "      <th>person_id</th>\n",
              "      <th>item_number</th>\n",
              "    </tr>\n",
              "  </thead>\n",
              "  <tbody>\n",
              "    <tr>\n",
              "      <th>0</th>\n",
              "      <td>58992</td>\n",
              "      <td>4019</td>\n",
              "    </tr>\n",
              "    <tr>\n",
              "      <th>1</th>\n",
              "      <td>2116</td>\n",
              "      <td>4019</td>\n",
              "    </tr>\n",
              "    <tr>\n",
              "      <th>2</th>\n",
              "      <td>96172</td>\n",
              "      <td>34590</td>\n",
              "    </tr>\n",
              "    <tr>\n",
              "      <th>3</th>\n",
              "      <td>96172</td>\n",
              "      <td>49390</td>\n",
              "    </tr>\n",
              "    <tr>\n",
              "      <th>4</th>\n",
              "      <td>96172</td>\n",
              "      <td>4011</td>\n",
              "    </tr>\n",
              "  </tbody>\n",
              "</table>\n",
              "</div>\n",
              "      <button class=\"colab-df-convert\" onclick=\"convertToInteractive('df-062d2a9c-d576-478c-a5a3-de9e2c0cfecc')\"\n",
              "              title=\"Convert this dataframe to an interactive table.\"\n",
              "              style=\"display:none;\">\n",
              "        \n",
              "  <svg xmlns=\"http://www.w3.org/2000/svg\" height=\"24px\"viewBox=\"0 0 24 24\"\n",
              "       width=\"24px\">\n",
              "    <path d=\"M0 0h24v24H0V0z\" fill=\"none\"/>\n",
              "    <path d=\"M18.56 5.44l.94 2.06.94-2.06 2.06-.94-2.06-.94-.94-2.06-.94 2.06-2.06.94zm-11 1L8.5 8.5l.94-2.06 2.06-.94-2.06-.94L8.5 2.5l-.94 2.06-2.06.94zm10 10l.94 2.06.94-2.06 2.06-.94-2.06-.94-.94-2.06-.94 2.06-2.06.94z\"/><path d=\"M17.41 7.96l-1.37-1.37c-.4-.4-.92-.59-1.43-.59-.52 0-1.04.2-1.43.59L10.3 9.45l-7.72 7.72c-.78.78-.78 2.05 0 2.83L4 21.41c.39.39.9.59 1.41.59.51 0 1.02-.2 1.41-.59l7.78-7.78 2.81-2.81c.8-.78.8-2.07 0-2.86zM5.41 20L4 18.59l7.72-7.72 1.47 1.35L5.41 20z\"/>\n",
              "  </svg>\n",
              "      </button>\n",
              "      \n",
              "  <style>\n",
              "    .colab-df-container {\n",
              "      display:flex;\n",
              "      flex-wrap:wrap;\n",
              "      gap: 12px;\n",
              "    }\n",
              "\n",
              "    .colab-df-convert {\n",
              "      background-color: #E8F0FE;\n",
              "      border: none;\n",
              "      border-radius: 50%;\n",
              "      cursor: pointer;\n",
              "      display: none;\n",
              "      fill: #1967D2;\n",
              "      height: 32px;\n",
              "      padding: 0 0 0 0;\n",
              "      width: 32px;\n",
              "    }\n",
              "\n",
              "    .colab-df-convert:hover {\n",
              "      background-color: #E2EBFA;\n",
              "      box-shadow: 0px 1px 2px rgba(60, 64, 67, 0.3), 0px 1px 3px 1px rgba(60, 64, 67, 0.15);\n",
              "      fill: #174EA6;\n",
              "    }\n",
              "\n",
              "    [theme=dark] .colab-df-convert {\n",
              "      background-color: #3B4455;\n",
              "      fill: #D2E3FC;\n",
              "    }\n",
              "\n",
              "    [theme=dark] .colab-df-convert:hover {\n",
              "      background-color: #434B5C;\n",
              "      box-shadow: 0px 1px 3px 1px rgba(0, 0, 0, 0.15);\n",
              "      filter: drop-shadow(0px 1px 2px rgba(0, 0, 0, 0.3));\n",
              "      fill: #FFFFFF;\n",
              "    }\n",
              "  </style>\n",
              "\n",
              "      <script>\n",
              "        const buttonEl =\n",
              "          document.querySelector('#df-062d2a9c-d576-478c-a5a3-de9e2c0cfecc button.colab-df-convert');\n",
              "        buttonEl.style.display =\n",
              "          google.colab.kernel.accessAllowed ? 'block' : 'none';\n",
              "\n",
              "        async function convertToInteractive(key) {\n",
              "          const element = document.querySelector('#df-062d2a9c-d576-478c-a5a3-de9e2c0cfecc');\n",
              "          const dataTable =\n",
              "            await google.colab.kernel.invokeFunction('convertToInteractive',\n",
              "                                                     [key], {});\n",
              "          if (!dataTable) return;\n",
              "\n",
              "          const docLinkHtml = 'Like what you see? Visit the ' +\n",
              "            '<a target=\"_blank\" href=https://colab.research.google.com/notebooks/data_table.ipynb>data table notebook</a>'\n",
              "            + ' to learn more about interactive tables.';\n",
              "          element.innerHTML = '';\n",
              "          dataTable['output_type'] = 'display_data';\n",
              "          await google.colab.output.renderOutput(dataTable, element);\n",
              "          const docLink = document.createElement('div');\n",
              "          docLink.innerHTML = docLinkHtml;\n",
              "          element.appendChild(docLink);\n",
              "        }\n",
              "      </script>\n",
              "    </div>\n",
              "  </div>\n",
              "  "
            ]
          },
          "metadata": {},
          "execution_count": 21
        }
      ]
    },
    {
      "cell_type": "code",
      "metadata": {
        "id": "fZwPjtS70bOV"
      },
      "source": [
        "itemcpd = list(df_u[\"item_number\"])\n",
        "df_u['Size']='3'\n",
        "df_u=df_u.groupby([\"person_id\", \"item_number\"], as_index=False)['Size'].count()\n",
        "df_u['patient_id']=df_u['person_id'].rank(ascending=1, method='dense')\n",
        "df_u['patient_id'] = df_u['patient_id'].astype('int32')\n",
        "df_u = pd.DataFrame(df_u, columns=['patient_id', 'item_number','Size', 'person_id'])"
      ],
      "execution_count": 22,
      "outputs": []
    },
    {
      "cell_type": "code",
      "metadata": {
        "id": "GV48KvYR_Kcm"
      },
      "source": [
        "df_u.to_csv(\"df_u.csv\", index=False, header = False)"
      ],
      "execution_count": 23,
      "outputs": []
    },
    {
      "cell_type": "markdown",
      "metadata": {
        "id": "dgdZ7dy3D_9K"
      },
      "source": [
        "# 4. patients features"
      ]
    },
    {
      "cell_type": "code",
      "metadata": {
        "id": "IXqzZJQVEDLU"
      },
      "source": [
        "user_df = pd.DataFrame(df_disease, columns=['person_id', 'gender','age','smoker','T2D'])"
      ],
      "execution_count": 24,
      "outputs": []
    },
    {
      "cell_type": "code",
      "metadata": {
        "colab": {
          "base_uri": "https://localhost:8080/",
          "height": 204
        },
        "id": "g42d809cAQzo",
        "outputId": "0403a7b5-0d4e-424d-d00d-53f1e39eed9f"
      },
      "source": [
        "user_df.head()"
      ],
      "execution_count": 25,
      "outputs": [
        {
          "output_type": "execute_result",
          "data": {
            "text/plain": [
              "   person_id gender  age  smoker  T2D\n",
              "0      58992      F   87       0    1\n",
              "1       2116      M   90       0    1\n",
              "2      96172      F   57       0    1\n",
              "3      96172      F   57       0    1\n",
              "4      96172      F   57       0    1"
            ],
            "text/html": [
              "\n",
              "  <div id=\"df-38ce2887-89c0-4f55-92c8-681fb754dbd7\">\n",
              "    <div class=\"colab-df-container\">\n",
              "      <div>\n",
              "<style scoped>\n",
              "    .dataframe tbody tr th:only-of-type {\n",
              "        vertical-align: middle;\n",
              "    }\n",
              "\n",
              "    .dataframe tbody tr th {\n",
              "        vertical-align: top;\n",
              "    }\n",
              "\n",
              "    .dataframe thead th {\n",
              "        text-align: right;\n",
              "    }\n",
              "</style>\n",
              "<table border=\"1\" class=\"dataframe\">\n",
              "  <thead>\n",
              "    <tr style=\"text-align: right;\">\n",
              "      <th></th>\n",
              "      <th>person_id</th>\n",
              "      <th>gender</th>\n",
              "      <th>age</th>\n",
              "      <th>smoker</th>\n",
              "      <th>T2D</th>\n",
              "    </tr>\n",
              "  </thead>\n",
              "  <tbody>\n",
              "    <tr>\n",
              "      <th>0</th>\n",
              "      <td>58992</td>\n",
              "      <td>F</td>\n",
              "      <td>87</td>\n",
              "      <td>0</td>\n",
              "      <td>1</td>\n",
              "    </tr>\n",
              "    <tr>\n",
              "      <th>1</th>\n",
              "      <td>2116</td>\n",
              "      <td>M</td>\n",
              "      <td>90</td>\n",
              "      <td>0</td>\n",
              "      <td>1</td>\n",
              "    </tr>\n",
              "    <tr>\n",
              "      <th>2</th>\n",
              "      <td>96172</td>\n",
              "      <td>F</td>\n",
              "      <td>57</td>\n",
              "      <td>0</td>\n",
              "      <td>1</td>\n",
              "    </tr>\n",
              "    <tr>\n",
              "      <th>3</th>\n",
              "      <td>96172</td>\n",
              "      <td>F</td>\n",
              "      <td>57</td>\n",
              "      <td>0</td>\n",
              "      <td>1</td>\n",
              "    </tr>\n",
              "    <tr>\n",
              "      <th>4</th>\n",
              "      <td>96172</td>\n",
              "      <td>F</td>\n",
              "      <td>57</td>\n",
              "      <td>0</td>\n",
              "      <td>1</td>\n",
              "    </tr>\n",
              "  </tbody>\n",
              "</table>\n",
              "</div>\n",
              "      <button class=\"colab-df-convert\" onclick=\"convertToInteractive('df-38ce2887-89c0-4f55-92c8-681fb754dbd7')\"\n",
              "              title=\"Convert this dataframe to an interactive table.\"\n",
              "              style=\"display:none;\">\n",
              "        \n",
              "  <svg xmlns=\"http://www.w3.org/2000/svg\" height=\"24px\"viewBox=\"0 0 24 24\"\n",
              "       width=\"24px\">\n",
              "    <path d=\"M0 0h24v24H0V0z\" fill=\"none\"/>\n",
              "    <path d=\"M18.56 5.44l.94 2.06.94-2.06 2.06-.94-2.06-.94-.94-2.06-.94 2.06-2.06.94zm-11 1L8.5 8.5l.94-2.06 2.06-.94-2.06-.94L8.5 2.5l-.94 2.06-2.06.94zm10 10l.94 2.06.94-2.06 2.06-.94-2.06-.94-.94-2.06-.94 2.06-2.06.94z\"/><path d=\"M17.41 7.96l-1.37-1.37c-.4-.4-.92-.59-1.43-.59-.52 0-1.04.2-1.43.59L10.3 9.45l-7.72 7.72c-.78.78-.78 2.05 0 2.83L4 21.41c.39.39.9.59 1.41.59.51 0 1.02-.2 1.41-.59l7.78-7.78 2.81-2.81c.8-.78.8-2.07 0-2.86zM5.41 20L4 18.59l7.72-7.72 1.47 1.35L5.41 20z\"/>\n",
              "  </svg>\n",
              "      </button>\n",
              "      \n",
              "  <style>\n",
              "    .colab-df-container {\n",
              "      display:flex;\n",
              "      flex-wrap:wrap;\n",
              "      gap: 12px;\n",
              "    }\n",
              "\n",
              "    .colab-df-convert {\n",
              "      background-color: #E8F0FE;\n",
              "      border: none;\n",
              "      border-radius: 50%;\n",
              "      cursor: pointer;\n",
              "      display: none;\n",
              "      fill: #1967D2;\n",
              "      height: 32px;\n",
              "      padding: 0 0 0 0;\n",
              "      width: 32px;\n",
              "    }\n",
              "\n",
              "    .colab-df-convert:hover {\n",
              "      background-color: #E2EBFA;\n",
              "      box-shadow: 0px 1px 2px rgba(60, 64, 67, 0.3), 0px 1px 3px 1px rgba(60, 64, 67, 0.15);\n",
              "      fill: #174EA6;\n",
              "    }\n",
              "\n",
              "    [theme=dark] .colab-df-convert {\n",
              "      background-color: #3B4455;\n",
              "      fill: #D2E3FC;\n",
              "    }\n",
              "\n",
              "    [theme=dark] .colab-df-convert:hover {\n",
              "      background-color: #434B5C;\n",
              "      box-shadow: 0px 1px 3px 1px rgba(0, 0, 0, 0.15);\n",
              "      filter: drop-shadow(0px 1px 2px rgba(0, 0, 0, 0.3));\n",
              "      fill: #FFFFFF;\n",
              "    }\n",
              "  </style>\n",
              "\n",
              "      <script>\n",
              "        const buttonEl =\n",
              "          document.querySelector('#df-38ce2887-89c0-4f55-92c8-681fb754dbd7 button.colab-df-convert');\n",
              "        buttonEl.style.display =\n",
              "          google.colab.kernel.accessAllowed ? 'block' : 'none';\n",
              "\n",
              "        async function convertToInteractive(key) {\n",
              "          const element = document.querySelector('#df-38ce2887-89c0-4f55-92c8-681fb754dbd7');\n",
              "          const dataTable =\n",
              "            await google.colab.kernel.invokeFunction('convertToInteractive',\n",
              "                                                     [key], {});\n",
              "          if (!dataTable) return;\n",
              "\n",
              "          const docLinkHtml = 'Like what you see? Visit the ' +\n",
              "            '<a target=\"_blank\" href=https://colab.research.google.com/notebooks/data_table.ipynb>data table notebook</a>'\n",
              "            + ' to learn more about interactive tables.';\n",
              "          element.innerHTML = '';\n",
              "          dataTable['output_type'] = 'display_data';\n",
              "          await google.colab.output.renderOutput(dataTable, element);\n",
              "          const docLink = document.createElement('div');\n",
              "          docLink.innerHTML = docLinkHtml;\n",
              "          element.appendChild(docLink);\n",
              "        }\n",
              "      </script>\n",
              "    </div>\n",
              "  </div>\n",
              "  "
            ]
          },
          "metadata": {},
          "execution_count": 25
        }
      ]
    },
    {
      "cell_type": "code",
      "metadata": {
        "id": "2U2bFCfeEKBG"
      },
      "source": [
        "user_df = user_df.drop_duplicates(subset = 'person_id', keep = 'last')\n",
        "user_df.index = np.arange(1, len(user_df) + 1)\n",
        "user_df = user_df.reset_index()\n",
        "user_df = user_df.rename(columns={\"index\": \"patient_id\"})"
      ],
      "execution_count": 26,
      "outputs": []
    },
    {
      "cell_type": "code",
      "metadata": {
        "id": "Y0Qm4x4_ENS-"
      },
      "source": [
        "user_df.to_csv(\"user_cpd_df.csv\", index=False, header = False)"
      ],
      "execution_count": 27,
      "outputs": []
    },
    {
      "cell_type": "markdown",
      "metadata": {
        "id": "VB5o6fvyAJP9"
      },
      "source": [
        "# 5. Non-T2D patients"
      ]
    },
    {
      "cell_type": "code",
      "source": [
        "non_file_name = \"nont2d.csv\""
      ],
      "metadata": {
        "id": "9iBbzSYKkx-m"
      },
      "execution_count": 28,
      "outputs": []
    },
    {
      "cell_type": "code",
      "metadata": {
        "id": "A4DMmWYyAUQo"
      },
      "source": [
        "import pandas as pd\n",
        "df_non=pd.read_csv(non_file_name,skipinitialspace=True)\n",
        "item_number = df_non['item_number'].str.strip()\n",
        "df_non['item_number'] = item_number\n",
        "\n",
        "service_type = df_non['service_type'].str.strip()\n",
        "df_non['service_type'] = service_type\n",
        "df_non['item_number'] = df_non['item_number'].str.upper()\n",
        "df_non['CVD'] = 0"
      ],
      "execution_count": 29,
      "outputs": []
    },
    {
      "cell_type": "code",
      "metadata": {
        "colab": {
          "base_uri": "https://localhost:8080/",
          "height": 333
        },
        "id": "3mgjAEZ7gjjT",
        "outputId": "9f6cae57-70bc-497c-8eff-8dd44f7809d4"
      },
      "source": [
        "df_non.head()"
      ],
      "execution_count": 31,
      "outputs": [
        {
          "output_type": "execute_result",
          "data": {
            "text/plain": [
              "   person_id gender  age  postcode   claim_id diagnosis_procedure_type  \\\n",
              "0      52709      M   70    3342.0  199490294                        P   \n",
              "1      66792      F  101    5071.0  199491011                        D   \n",
              "2      66792      F  101    5071.0  199491011                        D   \n",
              "3     146772      F   55       NaN  198317749                        D   \n",
              "4      13085      M   58    2079.0  198311462                        P   \n",
              "\n",
              "   diagnosis_procedure_number  episode_id  icu_days  icu_hours service_type  \\\n",
              "0                           1       55664       NaN        NaN        ICD10   \n",
              "1                           1       55764       NaN        NaN         ICD9   \n",
              "2                           2       55764       NaN        NaN         ICD9   \n",
              "3                           1       42778       NaN        NaN         ICD9   \n",
              "4                           1       42719       NaN        NaN         ICD9   \n",
              "\n",
              "  item_number             service_date          create_datetime  CVD  \n",
              "0     3047300  1998-12-16 00:00:00.000  1999-10-02 18:32:31.680    0  \n",
              "1        2978  1998-12-24 00:00:00.000  1999-10-02 18:29:51.993    0  \n",
              "2         311  1998-12-24 00:00:00.000  1999-10-02 18:30:39.803    0  \n",
              "3       29574  1998-02-23 00:00:00.000  1999-10-02 18:29:51.993    0  \n",
              "4        4952  1998-02-19 00:00:00.000  1999-10-02 18:31:09.633    0  "
            ],
            "text/html": [
              "\n",
              "  <div id=\"df-90b43d5d-cb29-4537-84e7-ed8985d07929\">\n",
              "    <div class=\"colab-df-container\">\n",
              "      <div>\n",
              "<style scoped>\n",
              "    .dataframe tbody tr th:only-of-type {\n",
              "        vertical-align: middle;\n",
              "    }\n",
              "\n",
              "    .dataframe tbody tr th {\n",
              "        vertical-align: top;\n",
              "    }\n",
              "\n",
              "    .dataframe thead th {\n",
              "        text-align: right;\n",
              "    }\n",
              "</style>\n",
              "<table border=\"1\" class=\"dataframe\">\n",
              "  <thead>\n",
              "    <tr style=\"text-align: right;\">\n",
              "      <th></th>\n",
              "      <th>person_id</th>\n",
              "      <th>gender</th>\n",
              "      <th>age</th>\n",
              "      <th>postcode</th>\n",
              "      <th>claim_id</th>\n",
              "      <th>diagnosis_procedure_type</th>\n",
              "      <th>diagnosis_procedure_number</th>\n",
              "      <th>episode_id</th>\n",
              "      <th>icu_days</th>\n",
              "      <th>icu_hours</th>\n",
              "      <th>service_type</th>\n",
              "      <th>item_number</th>\n",
              "      <th>service_date</th>\n",
              "      <th>create_datetime</th>\n",
              "      <th>CVD</th>\n",
              "    </tr>\n",
              "  </thead>\n",
              "  <tbody>\n",
              "    <tr>\n",
              "      <th>0</th>\n",
              "      <td>52709</td>\n",
              "      <td>M</td>\n",
              "      <td>70</td>\n",
              "      <td>3342.0</td>\n",
              "      <td>199490294</td>\n",
              "      <td>P</td>\n",
              "      <td>1</td>\n",
              "      <td>55664</td>\n",
              "      <td>NaN</td>\n",
              "      <td>NaN</td>\n",
              "      <td>ICD10</td>\n",
              "      <td>3047300</td>\n",
              "      <td>1998-12-16 00:00:00.000</td>\n",
              "      <td>1999-10-02 18:32:31.680</td>\n",
              "      <td>0</td>\n",
              "    </tr>\n",
              "    <tr>\n",
              "      <th>1</th>\n",
              "      <td>66792</td>\n",
              "      <td>F</td>\n",
              "      <td>101</td>\n",
              "      <td>5071.0</td>\n",
              "      <td>199491011</td>\n",
              "      <td>D</td>\n",
              "      <td>1</td>\n",
              "      <td>55764</td>\n",
              "      <td>NaN</td>\n",
              "      <td>NaN</td>\n",
              "      <td>ICD9</td>\n",
              "      <td>2978</td>\n",
              "      <td>1998-12-24 00:00:00.000</td>\n",
              "      <td>1999-10-02 18:29:51.993</td>\n",
              "      <td>0</td>\n",
              "    </tr>\n",
              "    <tr>\n",
              "      <th>2</th>\n",
              "      <td>66792</td>\n",
              "      <td>F</td>\n",
              "      <td>101</td>\n",
              "      <td>5071.0</td>\n",
              "      <td>199491011</td>\n",
              "      <td>D</td>\n",
              "      <td>2</td>\n",
              "      <td>55764</td>\n",
              "      <td>NaN</td>\n",
              "      <td>NaN</td>\n",
              "      <td>ICD9</td>\n",
              "      <td>311</td>\n",
              "      <td>1998-12-24 00:00:00.000</td>\n",
              "      <td>1999-10-02 18:30:39.803</td>\n",
              "      <td>0</td>\n",
              "    </tr>\n",
              "    <tr>\n",
              "      <th>3</th>\n",
              "      <td>146772</td>\n",
              "      <td>F</td>\n",
              "      <td>55</td>\n",
              "      <td>NaN</td>\n",
              "      <td>198317749</td>\n",
              "      <td>D</td>\n",
              "      <td>1</td>\n",
              "      <td>42778</td>\n",
              "      <td>NaN</td>\n",
              "      <td>NaN</td>\n",
              "      <td>ICD9</td>\n",
              "      <td>29574</td>\n",
              "      <td>1998-02-23 00:00:00.000</td>\n",
              "      <td>1999-10-02 18:29:51.993</td>\n",
              "      <td>0</td>\n",
              "    </tr>\n",
              "    <tr>\n",
              "      <th>4</th>\n",
              "      <td>13085</td>\n",
              "      <td>M</td>\n",
              "      <td>58</td>\n",
              "      <td>2079.0</td>\n",
              "      <td>198311462</td>\n",
              "      <td>P</td>\n",
              "      <td>1</td>\n",
              "      <td>42719</td>\n",
              "      <td>NaN</td>\n",
              "      <td>NaN</td>\n",
              "      <td>ICD9</td>\n",
              "      <td>4952</td>\n",
              "      <td>1998-02-19 00:00:00.000</td>\n",
              "      <td>1999-10-02 18:31:09.633</td>\n",
              "      <td>0</td>\n",
              "    </tr>\n",
              "  </tbody>\n",
              "</table>\n",
              "</div>\n",
              "      <button class=\"colab-df-convert\" onclick=\"convertToInteractive('df-90b43d5d-cb29-4537-84e7-ed8985d07929')\"\n",
              "              title=\"Convert this dataframe to an interactive table.\"\n",
              "              style=\"display:none;\">\n",
              "        \n",
              "  <svg xmlns=\"http://www.w3.org/2000/svg\" height=\"24px\"viewBox=\"0 0 24 24\"\n",
              "       width=\"24px\">\n",
              "    <path d=\"M0 0h24v24H0V0z\" fill=\"none\"/>\n",
              "    <path d=\"M18.56 5.44l.94 2.06.94-2.06 2.06-.94-2.06-.94-.94-2.06-.94 2.06-2.06.94zm-11 1L8.5 8.5l.94-2.06 2.06-.94-2.06-.94L8.5 2.5l-.94 2.06-2.06.94zm10 10l.94 2.06.94-2.06 2.06-.94-2.06-.94-.94-2.06-.94 2.06-2.06.94z\"/><path d=\"M17.41 7.96l-1.37-1.37c-.4-.4-.92-.59-1.43-.59-.52 0-1.04.2-1.43.59L10.3 9.45l-7.72 7.72c-.78.78-.78 2.05 0 2.83L4 21.41c.39.39.9.59 1.41.59.51 0 1.02-.2 1.41-.59l7.78-7.78 2.81-2.81c.8-.78.8-2.07 0-2.86zM5.41 20L4 18.59l7.72-7.72 1.47 1.35L5.41 20z\"/>\n",
              "  </svg>\n",
              "      </button>\n",
              "      \n",
              "  <style>\n",
              "    .colab-df-container {\n",
              "      display:flex;\n",
              "      flex-wrap:wrap;\n",
              "      gap: 12px;\n",
              "    }\n",
              "\n",
              "    .colab-df-convert {\n",
              "      background-color: #E8F0FE;\n",
              "      border: none;\n",
              "      border-radius: 50%;\n",
              "      cursor: pointer;\n",
              "      display: none;\n",
              "      fill: #1967D2;\n",
              "      height: 32px;\n",
              "      padding: 0 0 0 0;\n",
              "      width: 32px;\n",
              "    }\n",
              "\n",
              "    .colab-df-convert:hover {\n",
              "      background-color: #E2EBFA;\n",
              "      box-shadow: 0px 1px 2px rgba(60, 64, 67, 0.3), 0px 1px 3px 1px rgba(60, 64, 67, 0.15);\n",
              "      fill: #174EA6;\n",
              "    }\n",
              "\n",
              "    [theme=dark] .colab-df-convert {\n",
              "      background-color: #3B4455;\n",
              "      fill: #D2E3FC;\n",
              "    }\n",
              "\n",
              "    [theme=dark] .colab-df-convert:hover {\n",
              "      background-color: #434B5C;\n",
              "      box-shadow: 0px 1px 3px 1px rgba(0, 0, 0, 0.15);\n",
              "      filter: drop-shadow(0px 1px 2px rgba(0, 0, 0, 0.3));\n",
              "      fill: #FFFFFF;\n",
              "    }\n",
              "  </style>\n",
              "\n",
              "      <script>\n",
              "        const buttonEl =\n",
              "          document.querySelector('#df-90b43d5d-cb29-4537-84e7-ed8985d07929 button.colab-df-convert');\n",
              "        buttonEl.style.display =\n",
              "          google.colab.kernel.accessAllowed ? 'block' : 'none';\n",
              "\n",
              "        async function convertToInteractive(key) {\n",
              "          const element = document.querySelector('#df-90b43d5d-cb29-4537-84e7-ed8985d07929');\n",
              "          const dataTable =\n",
              "            await google.colab.kernel.invokeFunction('convertToInteractive',\n",
              "                                                     [key], {});\n",
              "          if (!dataTable) return;\n",
              "\n",
              "          const docLinkHtml = 'Like what you see? Visit the ' +\n",
              "            '<a target=\"_blank\" href=https://colab.research.google.com/notebooks/data_table.ipynb>data table notebook</a>'\n",
              "            + ' to learn more about interactive tables.';\n",
              "          element.innerHTML = '';\n",
              "          dataTable['output_type'] = 'display_data';\n",
              "          await google.colab.output.renderOutput(dataTable, element);\n",
              "          const docLink = document.createElement('div');\n",
              "          docLink.innerHTML = docLinkHtml;\n",
              "          element.appendChild(docLink);\n",
              "        }\n",
              "      </script>\n",
              "    </div>\n",
              "  </div>\n",
              "  "
            ]
          },
          "metadata": {},
          "execution_count": 31
        }
      ]
    },
    {
      "cell_type": "code",
      "metadata": {
        "id": "_5_Tdv6IcVhk"
      },
      "source": [
        "'''\n",
        "### Randon selection to match the number of patients in T2D cohort\n",
        "\n",
        "A = list(set(df_noncpd.person_id))\n",
        "\n",
        "import random\n",
        "random.seed(1)\n",
        "random.shuffle(A)\n",
        "ranA = A[:5000]"
      ],
      "execution_count": null,
      "outputs": []
    },
    {
      "cell_type": "code",
      "metadata": {
        "id": "fpE4UCmK1b9x"
      },
      "source": [
        "#df_nont2d = df_nont2d[df_nont2d['person_id'].isin(ranA)]"
      ],
      "execution_count": null,
      "outputs": []
    },
    {
      "cell_type": "markdown",
      "metadata": {
        "id": "hnKWqS6ZrHl4"
      },
      "source": [
        "## 5.1 Add smoking feature"
      ]
    },
    {
      "cell_type": "code",
      "metadata": {
        "id": "nB642alUBwFM"
      },
      "source": [
        "def icd_to_smoking(df):\n",
        "    smoking = []\n",
        "    for i, row in df.iterrows():\n",
        "        if row['item_number'] ==\"3051\" or row['item_number'] ==\"64900\" or row['item_number'] ==\"64901\"or row['item_number'] ==\"64902\" or row['item_number'] ==\"64903\" or row['item_number'] ==\"64904\" or row['item_number'] ==\"V1582\" or row['item_number'] ==\"F17\" or row['item_number'] ==\"F17.1\"or row['item_number'] ==\"F17.2\"or row['item_number'] ==\"F17.3\"or row['item_number'] ==\"F17.4\"or row['item_number'] ==\"F17.5\"or row['item_number'] ==\"F17.6\"or row['item_number'] ==\"F17.7\"or row['item_number'] ==\"F17.8\"or row['item_number'] ==\"F17.9\"or row['item_number'] ==\"T65.2\" or row['item_number'] ==\"P04.2\" or row['item_number'] ==\"Z72.0\" or row['item_number'] == \"Z86.43\"or row['item_number'] == \"Z58.7\"or row['item_number'] == \"Z71.6\":\n",
        "          smoking.append(1)\n",
        "        else:\n",
        "          smoking.append('Other')\n",
        "    return smoking\n",
        "\n",
        "df_non['smoking'] = icd_to_smoking(df_non)\n",
        "ids = list(df_non.person_id)\n",
        "smoke = list(df_non.smoking)\n",
        "\n",
        "new = []\n",
        "\n",
        "current_id = ids[0]\n",
        "one = False\n",
        "if smoke[0] == 1:\n",
        "  one = True\n",
        "\n",
        "count = 0\n",
        "for i in range(len(ids)):\n",
        "    id_ = ids[i]\n",
        "    if current_id == id_:\n",
        "        count += 1\n",
        "        current_id = id_\n",
        "\n",
        "        if smoke[i] == 1:\n",
        "            one = True\n",
        "\n",
        "    else:\n",
        "\n",
        "        for _ in range(count):\n",
        "            if one:\n",
        "                new.append(1)\n",
        "            else:\n",
        "                new.append(0)\n",
        "\n",
        "        one = False\n",
        "        count = 1\n",
        "        current_id = id_\n",
        "\n",
        "\n",
        "for _ in range(count):\n",
        "    if one:\n",
        "        new.append(1)\n",
        "    else:\n",
        "        new.append(0)"
      ],
      "execution_count": 32,
      "outputs": []
    },
    {
      "cell_type": "code",
      "metadata": {
        "id": "UXTM1WVUCcJT"
      },
      "source": [
        "df_non[\"smoker\"] = new"
      ],
      "execution_count": 33,
      "outputs": []
    },
    {
      "cell_type": "code",
      "metadata": {
        "id": "06x2RgvYCqcs"
      },
      "source": [
        "def icd_to_disease(df_non):\n",
        "    disease = []\n",
        "    for i, row in df_non.iterrows():\n",
        "        if row['item_number'] ==\"39891\" or row['item_number'] ==\"40211\" or row['item_number'] ==\"i50\"or row['item_number'] ==\"40291\" or row['item_number'] ==\"40411\" or row['item_number'] ==\"40413\" or row['item_number'] ==\"40491\" or row['item_number'] ==\"40493\" or row['item_number'] ==\"4280\" or row['item_number'] ==\"4281\" or row['item_number'] ==\"42820\" or row['item_number'] ==\"42821\" or row['item_number'] ==\"42822\" or row['item_number'] ==\"42823\" or row['item_number'] ==\"42830\" or row['item_number'] ==\"42831\" or row['item_number'] ==\"42832\" or row['item_number'] ==\"42833\" or row['item_number'] ==\"42840\" or row['item_number'] ==\"42841\" or row['item_number'] ==\"42842\" or row['item_number'] ==\"42843\" or row['item_number'] ==\"4289\" or row['item_number'] ==\"I09.9\" or row['item_number'] ==\"I11.0\" or row['item_number'] ==\"I13.0\" or row['item_number'] ==\"I13.2\" or row['item_number'] ==\"I25.5\" or row['item_number'] ==\"I42.0\" or row['item_number'] ==\"I42.5\" or row['item_number'] ==\"I42.6\" or row['item_number'] ==\"I42.7\" or row['item_number'] ==\"I42.8\" or row['item_number'] ==\"I42.9\" or row['item_number'] ==\"P29.0\" or row['item_number'] ==\"I43\" or row['item_number'] ==\"I43.0\" or row['item_number'] ==\"I43.1\" or row['item_number'] ==\"I43.2\" or row['item_number'] ==\"I43.8\" or row['item_number'] ==\"I50\" or row['item_number'] ==\"I50.1\" or row['item_number'] ==\"I50.9\":\n",
        "          disease.append(\"Congestive heart failure\")\n",
        "        elif row['item_number'] ==\"42610\" or row['item_number'] ==\"442611\" or row['item_number'] ==\"i47\"or row['item_number'] ==\"i48\"or row['item_number'] ==\"i49\"or row['item_number'] ==\"42613\" or row['item_number'] ==\"4270\" or row['item_number'] ==\"4272\" or row['item_number'] ==\"42731\" or row['item_number'] ==\"42760\" or row['item_number'] ==\"4279\" or row['item_number'] ==\"7850\" or row['item_number'] ==\"42760\" or row['item_number'] ==\"4279\" or row['item_number'] ==\"7850\" or row['item_number'] ==\"V450\" or row['item_number'] == \"V533\" or row['item_number'] == \"4262\" or row['item_number'] == \"4263\" or row['item_number'] == \"4264\"or row['item_number'] == \"42650\" or row['item_number'] == \"42651\" or row['item_number'] == \"42652\"or row['item_number'] == \"42653\" or row['item_number'] == \"4266\" or row['item_number'] == \"4267\" or row['item_number'] == \"42681\" or row['item_number'] == \"42682\" or row['item_number'] == \"42689\" or row['item_number'] ==\"I44.1\" or row['item_number'] ==\"I44.2\" or row['item_number'] ==\"I44.3\" or row['item_number'] ==\"I45.6\" or row['item_number'] ==\"I45.9\" or row['item_number'] ==\"I45.9\" or row['item_number'] ==\"R00.0\" or row['item_number'] ==\"R00.1\" or row['item_number'] ==\"R00.8\" or row['item_number'] ==\"T82.1\" or row['item_number'] ==\"Z45.0\" or row['item_number'] ==\"Z95.0\" or row['item_number'] ==\"I47.0\" or row['item_number'] ==\"I47.1\" or row['item_number'] ==\"I47\"or row['item_number'] ==\"I47.2\"or row['item_number'] ==\"I47.9\" or row['item_number'] ==\"I48\" or row['item_number'] ==\"I48.0\" or row['item_number'] ==\"I48.1\" or row['item_number'] ==\"I48.2\" or row['item_number'] ==\"I48.3\"or row['item_number'] ==\"I48.4\"or row['item_number'] ==\"I48.9\"or row['item_number'] ==\"I49\"or row['item_number'] ==\"I49.0\"or row['item_number'] ==\"I49.1\"or row['item_number'] ==\"I49.2\"or row['item_number'] ==\"I49.3\"or row['item_number'] ==\"I49.4\"or row['item_number'] ==\"I49.5\"or row['item_number'] ==\"I49.8\"or row['item_number'] ==\"I49.9\":\n",
        "          disease.append(\"Cardiac arrhythmias\")\n",
        "        elif row['item_number'] ==\"09320\" or row['item_number'] ==\"09321\" or row['item_number'] ==\"09322\" or row['item_number'] ==\"09323\" or row['item_number'] ==\"09324\" or row['item_number'] ==\"09320\" or row['item_number'] ==\"3940\" or row['item_number'] ==\"3941\" or row['item_number'] ==\"3942\" or row['item_number'] ==\"3949\" or row['item_number'] ==\"3950\" or row['item_number'] ==\"3951\" or row['item_number'] ==\"3952\" or row['item_number'] ==\"3959\" or row['item_number'] ==\"3960\" or row['item_number'] ==\"3961\" or row['item_number'] ==\"3962\" or row['item_number'] ==\"3963\" or row['item_number'] ==\"3968\" or row['item_number'] ==\"3969\" or row['item_number'] ==\"3970\" or row['item_number'] ==\"3971\" or row['item_number'] ==\"3979\" or row['item_number'] ==\"4240\" or row['item_number'] ==\"4241\" or row['item_number'] ==\"4243\" or row['item_number'] ==\"42490\" or row['item_number'] ==\"42491\" or row['item_number'] ==\"7463\" or row['item_number'] ==\"7464\" or row['item_number'] ==\"7465\" or row['item_number'] ==\"7466\" or row['item_number'] ==\"V422\" or row['item_number'] ==\"V433\" or row['item_number'] ==\"A52.0\" or row['item_number'] ==\"I05\" or row['item_number'] ==\"I05.0\" or row['item_number'] ==\"I05.1\" or row['item_number'] ==\"I05.2\" or row['item_number'] ==\"I05.8\" or row['item_number'] ==\"I05.9\" or row['item_number'] ==\"I06\" or row['item_number'] ==\"I06.0\" or row['item_number'] ==\"I06.1\" or row['item_number'] ==\"I06.2\" or row['item_number'] ==\"I06.8\" or row['item_number'] ==\"I06.9\" or row['item_number'] ==\"I07\" or row['item_number'] ==\"I07.0\" or row['item_number'] ==\"I07.1\" or row['item_number'] ==\"I07.2\" or row['item_number'] ==\"I07.8\" or row['item_number'] ==\"I07.9\" or row['item_number'] ==\"I08\"or row['item_number'] ==\"I08.0\"  or row['item_number'] ==\"I08.1\" or row['item_number'] ==\"I08.2\" or row['item_number'] ==\"I08.8\" or row['item_number'] ==\"I08.9\" or row['item_number'] ==\"I09.1\" or row['item_number'] ==\"I09.8\"or row['item_number'] ==\"I34\" or row['item_number'] ==\"I34.0\" or row['item_number'] ==\"I34.1\"or row['item_number'] ==\"I34.2\" or row['item_number'] ==\"I34.8\" or row['item_number'] ==\"I34.9\" or row['item_number'] ==\"I35\" or row['item_number'] ==\"I35.0\"or row['item_number'] ==\"I35.1\" or row['item_number'] ==\"I35.2\" or row['item_number'] ==\"I35.8\" or row['item_number'] ==\"I35.9\" or row['item_number'] ==\"I36\"or row['item_number'] ==\"I36.0\" or row['item_number'] ==\"I36.1\" or row['item_number'] ==\"I36.2\" or row['item_number'] ==\"I36.8\" or row['item_number'] ==\"I36.9\" or row['item_number'] ==\"I37\" or row['item_number'] ==\"I37.0\"or row['item_number'] ==\"I37.1\" or row['item_number'] ==\"I37.2\" or row['item_number'] ==\"I37.8\"or row['item_number'] ==\"I37.9\"or row['item_number'] ==\"I38\"or row['item_number'] ==\"I39\"or row['item_number'] ==\"I39.0\"or row['item_number'] ==\"I39.1\"or row['item_number'] ==\"I39.2\"or row['item_number'] ==\"I39.3\"or row['item_number'] ==\"I39.4\"or row['item_number'] ==\"I39.8\"or row['item_number'] ==\"Q23.0\"or row['item_number'] ==\"Q23.01\"or row['item_number'] ==\"Q23.02\"or row['item_number'] ==\"Q23.1\"or row['item_number'] ==\"Q23.2\"or row['item_number'] ==\"Q23.21\"or row['item_number'] ==\"Q23.22\"or row['item_number'] ==\"Q23.3\"or row['item_number'] ==\"Z95.2\"or row['item_number'] ==\"Z95.3\"or row['item_number'] ==\"Z95.4\":\n",
        "          disease.append(\"Valvular disease\")\n",
        "        elif row['item_number'] ==\"I26\"or row['item_number'] ==\"I26.0\"or row['item_number'] ==\"I26.8\"or row['item_number'] ==\"I26.9\"or row['item_number'] ==\"I27\"or row['item_number'] ==\"I27.0\"or row['item_number'] ==\"I27.1\"or row['item_number'] ==\"I27.2\"or row['item_number'] ==\"I27.8\"or row['item_number'] ==\"I27.9\" or row['item_number'] ==\"I28.0\" or row['item_number'] ==\"I28.8\"or row['item_number'] ==\"I28.9\"or row['item_number'] ==\"4179\"or row['item_number'] ==\"4160\"or row['item_number'] ==\"4161\"or row['item_number'] ==\"4162\"or row['item_number'] ==\"4168\"or row['item_number'] ==\"4169\":\n",
        "          disease.append(\"Pulmonary circulation disorders\")\n",
        "        elif row['item_number'] ==\"I70\" or row['item_number'] ==\"i70\"or row['item_number'] ==\"i71\"or row['item_number'] ==\"I70.0\"or row['item_number'] ==\"I70.1\"or row['item_number'] ==\"I70.2\"or row['item_number'] ==\"I70.20\"or row['item_number'] ==\"I70.21\"or row['item_number'] ==\"I70.22\"or row['item_number'] ==\"I70.23\"or row['item_number'] ==\"I70.24\" or row['item_number'] ==\"I70.8\"or row['item_number'] ==\"I70.9\" or row['item_number'] ==\"I71\" or row['item_number'] ==\"I71.0\" or row['item_number'] ==\"I71.00\"or row['item_number'] ==\"I71.01\"or row['item_number'] ==\"I71.02\"or row['item_number'] ==\"I71.03\"or row['item_number'] ==\"I71.1\"or row['item_number'] ==\"I71.2\" or row['item_number'] ==\"I71.3\" or row['item_number'] ==\"I71.4\" or row['item_number'] ==\"I71.5\" or row['item_number'] ==\"I71.6\" or row['item_number'] ==\"I71.8\"or row['item_number'] ==\"I71.9\"or row['item_number'] ==\"I73.1\"or row['item_number'] ==\"I73.8\"or row['item_number'] ==\"I73.9\"or row['item_number'] ==\"I77.1\"or row['item_number'] ==\"I79.0\" or row['item_number'] ==\"I79.2\"or row['item_number'] ==\"K55.1\"or row['item_number'] ==\"K55.8\"or row['item_number'] ==\"K55.9\"or row['item_number'] ==\"Z95.8\"or row['item_number'] ==\"Z95.9\"or row['item_number'] ==\"4400\"or row['item_number'] ==\"4401\"or row['item_number'] ==\"44020\"or row['item_number'] ==\"44021\"or row['item_number'] ==\"44022\"or row['item_number'] ==\"44023\"or row['item_number'] ==\"44024\"or row['item_number'] ==\"44029\"or row['item_number'] ==\"44030\"or row['item_number'] ==\"44031\"or row['item_number'] ==\"44032\"or row['item_number'] ==\"4404\"or row['item_number'] ==\"4408\"or row['item_number'] ==\"4409\"or row['item_number'] ==\"4412\"or row['item_number'] ==\"4412\"or row['item_number'] ==\"4414\"or row['item_number'] ==\"4417\"or row['item_number'] ==\"4419\"or row['item_number'] ==\"4471\"or row['item_number'] ==\"5571\"or row['item_number'] ==\"5579\"or row['item_number'] ==\"V43\"or row['item_number'] ==\"4431\"or row['item_number'] ==\"44321\"or row['item_number'] ==\"44322\"or row['item_number'] ==\"44323\"or row['item_number'] ==\"44324\"or row['item_number'] ==\"44329\"or row['item_number'] ==\"44381\"or row['item_number'] ==\"44382\"or row['item_number'] ==\"44389\"or row['item_number'] ==\"4439\":\n",
        "          disease.append(\"Peripheral vascular disorders\")\n",
        "        elif row['item_number'] ==\"I10\" or row['item_number'] ==\"I10.0\"or row['item_number'] ==\"I10.1\"or row['item_number'] ==\"I10.2\" or row['item_number'] ==\"I10.3\" or row['item_number'] ==\"I10.4\"or row['item_number'] ==\"I10.5\"or row['item_number'] ==\"I10.6\"or row['item_number'] ==\"I10.7\"or row['item_number'] ==\"I10.8\"or row['item_number'] ==\"I10.9\"or row['item_number'] ==\"4011\" or row['item_number'] ==\"4019\"or row['item_number'] ==\"I11\"or row['item_number'] ==\"I11.1\"or row['item_number'] ==\"I11.2\"or row['item_number'] ==\"I11.3\"or row['item_number'] ==\"I11.4\"or row['item_number'] ==\"I11.5\"or row['item_number'] ==\"I11.6\"or row['item_number'] ==\"I11.7\"or row['item_number'] ==\"I11.8\"or row['item_number'] ==\"I11.9\"or row['item_number'] ==\"I12.1\"or row['item_number'] ==\"I12.2\"or row['item_number'] ==\"I12.3\"or row['item_number'] ==\"I12.4\"or row['item_number'] ==\"I12.5\"or row['item_number'] ==\"I12.6\"or row['item_number'] ==\"I12.7\"or row['item_number'] ==\"I12.8\"or row['item_number'] ==\"I12.9\"or row['item_number'] ==\"I13.1\"or row['item_number'] ==\"I13.2\"or row['item_number'] ==\"I13.3\"or row['item_number'] ==\"I13.4\"or row['item_number'] ==\"I13.5\"or row['item_number'] ==\"I13.6\"or row['item_number'] ==\"I13.7\"or row['item_number'] ==\"I13.8\"or row['item_number'] ==\"I13.9\"or row['item_number'] ==\"I15.1\"or row['item_number'] ==\"I15.2\"or row['item_number'] ==\"I15.3\"or row['item_number'] ==\"I15.4\"or row['item_number'] ==\"I15.5\"or row['item_number'] ==\"I15.6\"or row['item_number'] ==\"I15.7\"or row['item_number'] ==\"I15.8\"or row['item_number'] ==\"I15.9\"or row['item_number'] ==\"40210\"or row['item_number'] ==\"40290\"or row['item_number'] ==\"40410\"or row['item_number'] ==\"40490\"or row['item_number'] ==\"40511\"or row['item_number'] ==\"40519\"or row['item_number'] ==\"40599\":\n",
        "          disease.append(\"Hypertension, uncomplicated and Hypertension, complicated\")\n",
        "        elif row['item_number'] ==\"G04.\" or row['item_number'] ==\"G11.4\"or row['item_number'] ==\"G80.1\"or row['item_number'] ==\"G80.2\"or row['item_number'] ==\"G81.0\"or row['item_number'] ==\"G81.1\"or row['item_number'] ==\"G81.2\"or row['item_number'] ==\"G81.3\"or row['item_number'] ==\"G81.4\"or row['item_number'] ==\"G81.5\"or row['item_number'] ==\"G81.6\"or row['item_number'] ==\"G81.7\"or row['item_number'] ==\"G81.8\"or row['item_number'] ==\"G81.9\"or row['item_number'] ==\"G82.1\" or row['item_number'] ==\"G82.2\"or row['item_number'] ==\"G82.3\"or row['item_number'] ==\"G82.4\"or row['item_number'] ==\"G82.5\"or row['item_number'] ==\"G82.6\"or row['item_number'] ==\"G82.7\"or row['item_number'] ==\"G82.8\"or row['item_number'] ==\"G82.9\"or row['item_number'] ==\"G82.10\" or row['item_number'] ==\"G82.11\"or row['item_number'] ==\"G82.12\"or row['item_number'] ==\"G82.13\"or row['item_number'] ==\"G82.14\"or row['item_number'] ==\"G82.15\"or row['item_number'] ==\"G82.16\"or row['item_number'] ==\"G82.17\"or row['item_number'] ==\"G82.18\"or row['item_number'] ==\"G82.19\"or row['item_number'] ==\"G82.21\"or row['item_number'] ==\"G82.22\"or row['item_number'] ==\"G82.23\"or row['item_number'] ==\"G82.24\"or row['item_number'] ==\"G82.25\"or row['item_number'] ==\"G82.26\" or row['item_number'] ==\"G82.27\"or row['item_number'] ==\"G82.28\"or row['item_number'] ==\"G82.29\" or row['item_number'] ==\"G82.31\"or row['item_number'] ==\"G82.32\"or row['item_number'] ==\"G82.33\"or row['item_number'] ==\"G82.34\"or row['item_number'] ==\"G82.35\"or row['item_number'] ==\"G82.36\"or row['item_number'] ==\"G82.37\"or row['item_number'] ==\"G82.38\"or row['item_number'] ==\"G82.39\"or row['item_number'] ==\"G82.40\"or row['item_number'] ==\"G82.41\"or row['item_number'] ==\"G82.42\"or row['item_number'] ==\"G82.43\"or row['item_number'] ==\"G82.44\"or row['item_number'] ==\"G82.45\"or row['item_number'] ==\"G82.46\"or row['item_number'] ==\"G82.47\"or row['item_number'] ==\"G82.48\" or row['item_number'] ==\"G82.49\" or row['item_number'] ==\"G82.50\"or row['item_number'] ==\"G82.51\"or row['item_number'] ==\"G82.52\"or row['item_number'] ==\"G82.53\"or row['item_number'] ==\"G82.54\"or row['item_number'] ==\"G82.55\"or row['item_number'] ==\"G82.56\"or row['item_number'] ==\"G82.57\"or row['item_number'] ==\"G82.58\"or row['item_number'] ==\"G82.59\" or row['item_number'] ==\"G83.0\"or row['item_number'] ==\"G83.1\"or row['item_number'] ==\"G83.2\"or row['item_number'] ==\"G83.3\"or row['item_number'] ==\"G83.4\"or row['item_number'] ==\"G83.9\"or row['item_number'] ==\"34200\"or row['item_number'] ==\"34201\"or row['item_number'] ==\"34202\"or row['item_number'] ==\"34210\"or row['item_number'] ==\"34211\"or row['item_number'] ==\"34212\"or row['item_number'] ==\"34290\" or row['item_number'] ==\"34291\"or row['item_number'] ==\"34292\"or row['item_number'] ==\"3430\"or row['item_number'] ==\"3631\"or row['item_number'] ==\"3432\"or row['item_number'] ==\"3433\"or row['item_number'] ==\"3434\"or row['item_number'] ==\"3438\"or row['item_number'] ==\"3439\"or row['item_number'] ==\"34400\" or row['item_number'] ==\"34401\"or row['item_number'] ==\"34402\"or row['item_number'] ==\"34403\"or row['item_number'] ==\"34404\"or row['item_number'] ==\"34409\"or row['item_number'] ==\"3441\"or row['item_number'] ==\"3442\"or row['item_number'] ==\"34430\"or row['item_number'] ==\"34431\"or row['item_number'] ==\"34432\"or row['item_number'] ==\"34440\"or row['item_number'] ==\"34441\"or row['item_number'] ==\"34442\"or row['item_number'] ==\"3445\"or row['item_number'] ==\"34460\"or row['item_number'] ==\"34461\"or row['item_number'] ==\"34481\"or row['item_number'] ==\"34489\"or row['item_number'] ==\"3449\":\n",
        "          disease.append(\"Paralysis\")\n",
        "        elif row['item_number'] ==\"G10.0\"  or row['item_number'] ==\"G10.1\"or row['item_number'] ==\"G10.2\"or row['item_number'] ==\"G10.3\" or row['item_number'] ==\"G10.4\"or row['item_number'] ==\"G10.5\"or row['item_number'] ==\"G10.6\"or row['item_number'] ==\"G10.7\"or row['item_number'] ==\"G10.8\"or row['item_number'] ==\"G10.9\"or row['item_number'] ==\"G11.1\"or row['item_number'] ==\"G11.2\" or row['item_number'] ==\"G11.3\"or row['item_number'] ==\"G11.5\"or row['item_number'] ==\"G11.6\"or row['item_number'] ==\"G11.7\"or row['item_number'] ==\"G11.8\"or row['item_number'] ==\"G11.9\"or row['item_number'] ==\"G12.0\"or row['item_number'] ==\"G12.1\"or row['item_number'] ==\"G12.2\"or row['item_number'] ==\"G12.3\"or row['item_number'] ==\"G12.4\"or row['item_number'] ==\"G12.5\"or row['item_number'] ==\"G12.6\"or row['item_number'] ==\"G12.6\"or row['item_number'] ==\"G12.7\"or row['item_number'] ==\"G12.8\"or row['item_number'] ==\"G12.9\"or row['item_number'] ==\"G13.1\"or row['item_number'] ==\"G13.2\"or row['item_number'] ==\"G13.3\"or row['item_number'] ==\"G13.4\"or row['item_number'] ==\"G13.5\"or row['item_number'] ==\"G13.6\"or row['item_number'] ==\"G13.7\"or row['item_number'] ==\"G13.8\"or row['item_number'] ==\"G13.9\"or row['item_number'] ==\"G20\"or row['item_number'] ==\"G21\"or row['item_number'] ==\"G21.0\"or row['item_number'] ==\"G21.1\"or row['item_number'] ==\"G21.2\"or row['item_number'] ==\"G21.3\"or row['item_number'] ==\"G21.4\"or row['item_number'] ==\"G21.5\"or row['item_number'] ==\"G21.6\"or row['item_number'] ==\"G21.7\"or row['item_number'] ==\"G21.8\"or row['item_number'] ==\"G21.9\"or row['item_number'] ==\"G22\"or row['item_number'] ==\"G254.\"or row['item_number'] ==\"G25.5\"or row['item_number'] ==\"G312.2\"or row['item_number'] ==\"G31.8\"or row['item_number'] ==\"G31.9\"or row['item_number'] ==\"G32.0\"or row['item_number'] ==\"G32.1\"or row['item_number'] ==\"G32.2\"or row['item_number'] ==\"G32.3\" or row['item_number'] ==\"G32.4\"or row['item_number'] ==\"G32.5\"or row['item_number'] ==\"G32.6\"or row['item_number'] ==\"G32.7\"or row['item_number'] ==\"G32.8\"or row['item_number'] ==\"G32.9\"or row['item_number'] ==\"G35.0\"or row['item_number'] ==\"G35.1\"or row['item_number'] ==\"G35.2\"or row['item_number'] ==\"G35.3\"or row['item_number'] ==\"G35.4\"or row['item_number'] ==\"G35.5\"or row['item_number'] ==\"G35.6\"or row['item_number'] ==\"G35.7\"or row['item_number'] ==\"G35.8\"or row['item_number'] ==\"G35.9\"or row['item_number'] ==\"G36.0\"or row['item_number'] ==\"G36.1\"or row['item_number'] ==\"G36.2\"or row['item_number'] ==\"G36.3\"or row['item_number'] ==\"G36.4\"or row['item_number'] ==\"G36.5\"or row['item_number'] ==\"G36.6\"or row['item_number'] ==\"G36.7\"or row['item_number'] ==\"G36.8\"or row['item_number'] ==\"G36.9\"or row['item_number'] ==\"G37.1\"or row['item_number'] ==\"G37.2\"or row['item_number'] ==\"G37.3\"or row['item_number'] ==\"G37.4\"or row['item_number'] ==\"G37.5\"or row['item_number'] ==\"G37.6\"or row['item_number'] ==\"G37.7\"or row['item_number'] ==\"G37.8\"or row['item_number'] ==\"G37.9\"or row['item_number'] ==\"G40.0\"or row['item_number'] ==\"G40.1\"or row['item_number'] ==\"G40.2\"or row['item_number'] ==\"G40.3\"or row['item_number'] ==\"G40.4\"or row['item_number'] ==\"G40.5\"or row['item_number'] ==\"G40.6\"or row['item_number'] ==\"G40.7\"or row['item_number'] ==\"G40.8\"or row['item_number'] ==\"G40.9\"or row['item_number'] ==\"G40.10\"or row['item_number'] ==\"G40.11\"or row['item_number'] ==\"G40.12\"or row['item_number'] ==\"G40.13\"or row['item_number'] ==\"G40.14\"or row['item_number'] ==\"G40.15\"or row['item_number'] ==\"G40.16\"or row['item_number'] ==\"G40.17\"or row['item_number'] ==\"G40.18\"or row['item_number'] ==\"G40.19\"or row['item_number'] ==\"G40.20\"or row['item_number'] ==\"G40.21\"or row['item_number'] ==\"G40.22\"or row['item_number'] ==\"G40.23\"or row['item_number'] ==\"G40.24\"or row['item_number'] ==\"G40.25\" or row['item_number'] ==\"G40.26\"or row['item_number'] ==\"G40.27\"or row['item_number'] ==\"G40.28\"or row['item_number'] ==\"G40.29\"or row['item_number'] ==\"G40.30\"or row['item_number'] ==\"G40.31\"or row['item_number'] ==\"G40.32\"or row['item_number'] ==\"G40.33\"or row['item_number'] ==\"G40.34\"or row['item_number'] ==\"G40.35\" or row['item_number'] ==\"G40.36\"or row['item_number'] ==\"G40.37\"or row['item_number'] ==\"G40.38\"or row['item_number'] ==\"G40.39\"or row['item_number'] ==\"G40.40\"or row['item_number'] ==\"G40.41\"or row['item_number'] ==\"G40.42\"or row['item_number'] ==\"G40.43\"or row['item_number'] ==\"G40.44\"or row['item_number'] ==\"G40.45\"or row['item_number'] ==\"G40.46\"or row['item_number'] ==\"G40.47\"or row['item_number'] ==\"G40.48\"or row['item_number'] ==\"G40.49\"or row['item_number'] ==\"G40.50\"or row['item_number'] ==\"G40.51\"or row['item_number'] ==\"G40.52\"or row['item_number'] ==\"G40.53\"or row['item_number'] ==\"G40.54\"or row['item_number'] ==\"G40.55\"or row['item_number'] ==\"G40.56\"or row['item_number'] ==\"G40.57\"or row['item_number'] ==\"G40.58\"or row['item_number'] ==\"G40.59\"or row['item_number'] ==\"G40.60\"or row['item_number'] ==\"G40.61\"or row['item_number'] ==\"G40.62\"or row['item_number'] ==\"G40.63\"or row['item_number'] ==\"G40.64\"or row['item_number'] ==\"G40.65\"or row['item_number'] ==\"G40.66\"or row['item_number'] ==\"G40.67\" or row['item_number'] ==\"G40.68\"or row['item_number'] ==\"G40.69\"or row['item_number'] ==\"G40.70\"or row['item_number'] ==\"G40.71\" or row['item_number'] ==\"G40.72\"or row['item_number'] ==\"G40.73\"or row['item_number'] ==\"G40.74\"or row['item_number'] ==\"G40.75\"or row['item_number'] ==\"G40.76\"or row['item_number'] ==\"G40.77\"or row['item_number'] ==\"G40.78\"or row['item_number'] ==\"G40.79\"or row['item_number'] ==\"G40.80\"or row['item_number'] ==\"G40.81\"or row['item_number'] ==\"G40.82\"or row['item_number'] ==\"G40.83\"or row['item_number'] ==\"G40.84\"or row['item_number'] ==\"G40.85\"or row['item_number'] ==\"G40.86\"or row['item_number'] ==\"G40.87\"or row['item_number'] ==\"G40.88\"or row['item_number'] ==\"G40.89\"or row['item_number'] ==\"G40.90\"or row['item_number'] ==\"G40.91\"or row['item_number'] ==\"G40.92\"or row['item_number'] ==\"G40.93\"or row['item_number'] ==\"G40.94\"or row['item_number'] ==\"G40.95\"or row['item_number'] ==\"G40.96\"or row['item_number'] ==\"G40.97\"or row['item_number'] ==\"G40.98\"or row['item_number'] ==\"G40.99\"or row['item_number'] ==\"G41.0\"or row['item_number'] ==\"G41.1\"or row['item_number'] ==\"G41.2\"or row['item_number'] ==\"G41.3\"or row['item_number'] ==\"G41.4\"or row['item_number'] ==\"G41.5\"or row['item_number'] ==\"G41.6\"or row['item_number'] ==\"G41.7\"or row['item_number'] ==\"G41.8\"or row['item_number'] ==\"G41.9\"or row['item_number'] ==\"G93.1\"or row['item_number'] ==\"G93.4\"or row['item_number'] ==\"R47.0\"or row['item_number'] ==\"R56.0\"or row['item_number'] ==\"R56.1\"or row['item_number'] ==\"R56.2\"or row['item_number'] ==\"R56.3\"or row['item_number'] ==\"R56.4\"or row['item_number'] ==\"R56.5\"or row['item_number'] ==\"R56.6\"or row['item_number'] ==\"R56.7\"or row['item_number'] ==\"R56.8\"or row['item_number'] ==\"R56.9\"or row['item_number'] ==\"3319\"or row['item_number'] ==\"3320\"or row['item_number'] ==\"3334\"or row['item_number'] ==\"3335\"or row['item_number'] ==\"3340\"or row['item_number'] ==\"3341\"or row['item_number'] ==\"3342\"or row['item_number'] ==\"3335\"or row['item_number'] ==\"3340\"or row['item_number'] ==\"3341\"or row['item_number'] ==\"3342\"or row['item_number'] ==\"3343\"or row['item_number'] ==\"3348\"or row['item_number'] ==\"3349\"or row['item_number'] ==\"3350\"or row['item_number'] ==\"33511\"or row['item_number'] ==\"33519\"or row['item_number'] ==\"33520\"or row['item_number'] ==\"33521\"or row['item_number'] ==\"33522\"or row['item_number'] ==\"33523\"or row['item_number'] ==\"33524\"or row['item_number'] ==\"33529\"or row['item_number'] ==\"3358\"or row['item_number'] ==\"3359\"or row['item_number'] ==\"340\"or row['item_number'] ==\"3481\"or row['item_number'] ==\"3483\"or row['item_number'] ==\"3411\"or row['item_number'] ==\"34120\"or row['item_number'] ==\"34121\"or row['item_number'] ==\"34122\"or row['item_number'] ==\"3418\"or row['item_number'] ==\"3419\"or row['item_number'] ==\"34500\"or row['item_number'] ==\"34501\"or row['item_number'] ==\"34510\"or row['item_number'] ==\"34511\"or row['item_number'] ==\"34540\"or row['item_number'] ==\"34541\"or row['item_number'] ==\"34550\"or row['item_number'] ==\"34551\"or row['item_number'] ==\"34580\"or row['item_number'] ==\"34581\"or row['item_number'] ==\"34590\"or row['item_number'] ==\"34591\":\n",
        "          disease.append(\"Other neurological disorders\")\n",
        "        elif row['item_number'] ==\"I27.8\" or row['item_number'] ==\"I27.9\"or row['item_number'] ==\"J45.9\"or row['item_number'] ==\"j44\"or row['item_number'] ==\"j45\"or row['item_number'] ==\"j45.9\"or row['item_number'] ==\"J40\"or row['item_number'] ==\"J40.1\"or row['item_number'] ==\"J40.0\"or row['item_number'] ==\"J40.2\"or row['item_number'] ==\"J40.3\"or row['item_number'] ==\"J40.4\"or row['item_number'] ==\"J40.5\"or row['item_number'] ==\"J40.6\"or row['item_number'] ==\"J40.7\"or row['item_number'] ==\"J40.8\"or row['item_number'] ==\"J40.9\"or row['item_number'] ==\"J41\"or row['item_number'] ==\"J41.0\"or row['item_number'] ==\"J41.1\"or row['item_number'] ==\"J41.2\"or row['item_number'] ==\"J41.3\"or row['item_number'] ==\"J41.4\"or row['item_number'] ==\"J41.5\"or row['item_number'] ==\"J41.6\"or row['item_number'] ==\"J41.7\"or row['item_number'] ==\"J41.8\"or row['item_number'] ==\"J41.9\"or row['item_number'] ==\"J42\"or row['item_number'] ==\"J43\"or row['item_number'] ==\"J43.1\" or row['item_number'] ==\"J43.0\"or row['item_number'] ==\"J43.2\"or row['item_number'] ==\"J43.3\"or row['item_number'] ==\"J43.4\"or row['item_number'] ==\"J43.5\"or row['item_number'] ==\"J43.6\"or row['item_number'] ==\"J43.7\"or row['item_number'] ==\"J43.8\"or row['item_number'] ==\"J43.9\"or row['item_number'] ==\"J44\"or row['item_number'] ==\"J44.0\"or row['item_number'] ==\"J44.1\"or row['item_number'] ==\"J44.2\"or row['item_number'] ==\"J44.3\"or row['item_number'] ==\"J44.4\"or row['item_number'] ==\"J44.5\"or row['item_number'] ==\"J44.6\"or row['item_number'] ==\"J44.7\"or row['item_number'] ==\"J44.8\"or row['item_number'] ==\"J44.9\"or row['item_number'] ==\"J45\"or row['item_number'] ==\"J46\"or row['item_number'] ==\"J47\"or row['item_number'] ==\"J60\" or row['item_number'] ==\"J61\"or row['item_number'] ==\"J62\"or row['item_number'] ==\"J62.0\"or row['item_number'] ==\"J62.1\"or row['item_number'] ==\"J62.2\"or row['item_number'] ==\"J62.3\"or row['item_number'] ==\"J62.4\"or row['item_number'] ==\"J62.5\"or row['item_number'] ==\"J62.6\"or row['item_number'] ==\"J62.7\"or row['item_number'] ==\"J62.8\"or row['item_number'] ==\"J62.9\"or row['item_number'] ==\"J63\"or row['item_number'] ==\"J63.0\"or row['item_number'] ==\"J63.1\"or row['item_number'] ==\"J63.2\"or row['item_number'] ==\"J63.3\"or row['item_number'] ==\"J63.4\"or row['item_number'] ==\"J63.5\"or row['item_number'] ==\"J63.6\"or row['item_number'] ==\"J63.7\"or row['item_number'] ==\"J63.8\"or row['item_number'] ==\"J63.9\"or row['item_number'] ==\"J64\"or row['item_number'] ==\"J65\"or row['item_number'] ==\"J66\"or row['item_number'] ==\"J66.1\"or row['item_number'] ==\"J66.2\"or row['item_number'] ==\"J66.3\"or row['item_number'] ==\"J66.4\"or row['item_number'] ==\"J66.5\" or row['item_number'] ==\"J66.6\"or row['item_number'] ==\"J66.7\"or row['item_number'] ==\"J66.8\"or row['item_number'] ==\"J66.9\"or row['item_number'] ==\"J67\"or row['item_number'] ==\"J67.1\"or row['item_number'] ==\"J67.2\"or row['item_number'] ==\"J67.3\"or row['item_number'] ==\"J67.4\"or row['item_number'] ==\"J67.5\"or row['item_number'] ==\"J67.6\"or row['item_number'] ==\"J67.8\"or row['item_number'] ==\"J67.9\"or row['item_number'] ==\"J68.4\"or row['item_number'] ==\"J70.1\"or row['item_number'] ==\"J70.3\"or row['item_number'] ==\"490\"or row['item_number'] ==\"4910\"or row['item_number'] ==\"4911\"or row['item_number'] ==\"49120\"or row['item_number'] ==\"49121\"or row['item_number'] ==\"49122\"or row['item_number'] ==\"4918\"or row['item_number'] ==\"4919\"or row['item_number'] ==\"4920\"or row['item_number'] ==\"4928\"or row['item_number'] ==\"49300\"or row['item_number'] ==\"49301\" or row['item_number'] ==\"49302\" or row['item_number'] ==\"49310\" or row['item_number'] ==\"49311\"or row['item_number'] ==\"49312\"or row['item_number'] ==\"49320\"or row['item_number'] ==\"49321\"or row['item_number'] ==\"49322\"or row['item_number'] ==\"49381\"or row['item_number'] ==\"49382\"or row['item_number'] ==\"49390\"or row['item_number'] ==\"49391\"or row['item_number'] ==\"494\"or row['item_number'] ==\"5064\"or row['item_number'] ==\"4950\"or row['item_number'] ==\"4951\"or row['item_number'] ==\"4952\"or row['item_number'] ==\"4953\"or row['item_number'] ==\"4954\"or row['item_number'] ==\"4955\"or row['item_number'] ==\"4956\"or row['item_number'] ==\"4957\"or row['item_number'] ==\"4958\"or row['item_number'] ==\"4959\"or row['item_number'] ==\"496\"or row['item_number'] ==\"500\"or row['item_number'] ==\"501\"or row['item_number'] ==\"502\"or row['item_number'] ==\"503\"or row['item_number'] ==\"504\"or row['item_number'] ==\"505\"or row['item_number'] ==\"5064\":\n",
        "          disease.append(\"Chronic pulmonary disease\")\n",
        "        elif row['item_number'] ==\"E00\" or row['item_number'] ==\"E00.0\" or row['item_number'] ==\"E00.1\"or row['item_number'] ==\"E00.2\"or row['item_number'] ==\"E00.3\"or row['item_number'] ==\"E00.4\"or row['item_number'] ==\"E00.5\"or row['item_number'] ==\"E00.6\"or row['item_number'] ==\"E00.7\"or row['item_number'] ==\"E00.8\"or row['item_number'] ==\"E00.9\"or row['item_number'] ==\"E01\"or row['item_number'] ==\"E01.0\"or row['item_number'] ==\"E01.1\"or row['item_number'] ==\"E01.2\"or row['item_number'] ==\"E01.3\"or row['item_number'] ==\"E01.4\"or row['item_number'] ==\"E01.5\"or row['item_number'] ==\"E01.6\"or row['item_number'] ==\"E01.7\"or row['item_number'] ==\"E01.8\"or row['item_number'] ==\"E01.9\"or row['item_number'] ==\"E02\"or row['item_number'] ==\"E03\"or row['item_number'] ==\"E03.0\"or row['item_number'] ==\"E03.1\"or row['item_number'] ==\"E03.2\"or row['item_number'] ==\"E03.3\"or row['item_number'] ==\"E03.4\"or row['item_number'] ==\"E03.5\"or row['item_number'] ==\"E03.6\"or row['item_number'] ==\"E03.7\"or row['item_number'] ==\"E03.8\"or row['item_number'] ==\"E03.9\"or row['item_number'] ==\"E89.0\"or row['item_number'] ==\"243\"or row['item_number'] ==\"2440\"or row['item_number'] ==\"2441\"or row['item_number'] ==\"2442\"or row['item_number'] ==\"2448\"or row['item_number'] ==\"2449\":\n",
        "          disease.append(\"Hypothyroidism\")\n",
        "        elif row['item_number'] ==\"I12.0\"or row['item_number'] ==\"z49.1\" or row['item_number'] ==\"E13.1\"or row['item_number'] ==\"N18\" or row['item_number'] ==\"N18.0\"or row['item_number'] ==\"N18.1\"or row['item_number'] ==\"N18.2\"or row['item_number'] ==\"N18.3\"or row['item_number'] ==\"N18.4\"or row['item_number'] ==\"N18.5\"or row['item_number'] ==\"N18.6\"or row['item_number'] ==\"N18.7\"or row['item_number'] ==\"N18.8\"or row['item_number'] ==\"N18.9\"or row['item_number'] ==\"N18.90\"or row['item_number'] ==\"N18.91\"or row['item_number'] ==\"N18.92\"or row['item_number'] ==\"N18.93\"or row['item_number'] ==\"N18.94\"or row['item_number'] ==\"N18.95\"or row['item_number'] ==\"N18.96\"or row['item_number'] ==\"N18.97\"or row['item_number'] ==\"N18.98\"or row['item_number'] ==\"N18.99\"or row['item_number'] ==\"N19\"or row['item_number'] ==\"N19.1\"or row['item_number'] ==\"N19.2\"or row['item_number'] ==\"N19.3\"or row['item_number'] ==\"N19.4\"or row['item_number'] ==\"N19.5\"or row['item_number'] ==\"N19.6\"or row['item_number'] ==\"N19.7\"or row['item_number'] ==\"N19.8\"or row['item_number'] ==\"N19.9\"or row['item_number'] ==\"N25.0\"or row['item_number'] ==\"Z49.0\"or row['item_number'] ==\"Z49.1\"or row['item_number'] ==\"Z49.2\"or row['item_number'] ==\"Z94.0\"or row['item_number'] ==\"Z99.2\"or row['item_number'] ==\"40311\"or row['item_number'] ==\"40391\"or row['item_number'] ==\"40412\"or row['item_number'] ==\"40492\"or row['item_number'] ==\"585\"or row['item_number'] ==\"586\"or row['item_number'] ==\"V420\"or row['item_number'] ==\"V451\"or row['item_number'] ==\"V560\"or row['item_number'] ==\"V568\":\n",
        "          disease.append(\"Renal failure\")\n",
        "        elif row['item_number'] ==\"B18\" or row['item_number'] ==\"B18.0\"or row['item_number'] ==\"B18.1\"or row['item_number'] ==\"B18.2\"or row['item_number'] ==\"B18.3\"or row['item_number'] ==\"B18.4\"or row['item_number'] ==\"B18.5\"or row['item_number'] ==\"B18.6\"or row['item_number'] ==\"B18.7\"or row['item_number'] ==\"B18.8\"or row['item_number'] ==\"B18.9\"or row['item_number'] ==\"I85\"or row['item_number'] ==\"I85.0\" or row['item_number'] ==\"I85.1\"or row['item_number'] ==\"I85.2\"or row['item_number'] ==\"I85.3\"or row['item_number'] ==\"I85.4\"or row['item_number'] ==\"I85.5\"or row['item_number'] ==\"I85.6\"or row['item_number'] ==\"I85.7\"or row['item_number'] ==\"I85.8\"or row['item_number'] ==\"I85.9\"or row['item_number'] ==\"I86.4\"or row['item_number'] ==\"I98.2\"or row['item_number'] ==\"K70\"or row['item_number'] ==\"K70.0\"or row['item_number'] ==\"K70.1\"or row['item_number'] ==\"K70.2\"or row['item_number'] ==\"K70.3\"or row['item_number'] ==\"K70.4\"or row['item_number'] ==\"K70.5\"or row['item_number'] ==\"K70.6\"or row['item_number'] ==\"K70.7\"or row['item_number'] ==\"K70.8\"or row['item_number'] ==\"K70.9\"or row['item_number'] ==\"K71.1\"or row['item_number'] ==\"K71.3\"or row['item_number'] ==\"K71.4\"or row['item_number'] ==\"K71.5\"or row['item_number'] ==\"K71.7\"or row['item_number'] ==\"K72\"or row['item_number'] ==\"K72.0\"or row['item_number'] ==\"K72.1\"or row['item_number'] ==\"K72.2\"or row['item_number'] ==\"K72.3\"or row['item_number'] ==\"K72.4\"or row['item_number'] ==\"K72.5\"or row['item_number'] ==\"K72.6\"or row['item_number'] ==\"K72.7\"or row['item_number'] ==\"K72.8\"or row['item_number'] ==\"K72.9\"or row['item_number'] ==\"K73\"or row['item_number'] ==\"K73.0\"or row['item_number'] ==\"K73.1\"or row['item_number'] ==\"K73.2\"or row['item_number'] ==\"K73.3\"or row['item_number'] ==\"K73.4\"or row['item_number'] ==\"K73.5\"or row['item_number'] ==\"K73.6\"or row['item_number'] ==\"K73.7\"or row['item_number'] ==\"K73.8\"or row['item_number'] ==\"K73.9\"or row['item_number'] ==\"K74\"or row['item_number'] ==\"K74.0\"or row['item_number'] ==\"K74.1\"or row['item_number'] ==\"K74.2\"or row['item_number'] ==\"K74.3\"or row['item_number'] ==\"K74.4\"or row['item_number'] ==\"K74.5\"or row['item_number'] ==\"K74.6\"or row['item_number'] ==\"K74.7\"or row['item_number'] ==\"K74.8\"or row['item_number'] ==\"K74.9\"or row['item_number'] ==\"K76.0\"or row['item_number'] ==\"K76.2\"or row['item_number'] ==\"K76.3\"or row['item_number'] ==\"K76.4\"or row['item_number'] ==\"K76.5\"or row['item_number'] ==\"K76.6\"or row['item_number'] ==\"K76.7\"or row['item_number'] ==\"K76.8\"or row['item_number'] ==\"K76.9\"or row['item_number'] ==\"Z94.4\"or row['item_number'] ==\"7032\"or row['item_number'] ==\"7033\"or row['item_number'] ==\"7054\"or row['item_number'] ==\"0754\"or row['item_number'] ==\"4560\"or row['item_number'] ==\"4561\"or row['item_number'] ==\"45620\"or row['item_number'] ==\"45621\"or row['item_number'] ==\"5710\"or row['item_number'] ==\"5712\"or row['item_number'] ==\"5713\"or row['item_number'] ==\"5715\"or row['item_number'] ==\"5616\" or row['item_number'] ==\"5718\"or row['item_number'] ==\"5719\"or row['item_number'] ==\"5723\"or row['item_number'] ==\"5728\"or row['item_number'] ==\"V427\":\n",
        "          disease.append(\"Liver disease\")\n",
        "        elif row['item_number'] ==\"K25.7\"or row['item_number'] ==\"K25.9\"or row['item_number'] ==\"K26.7\"or row['item_number'] ==\"K26.9\"or row['item_number'] ==\"K27.7\"or row['item_number'] ==\"K27.9\"or row['item_number'] ==\"K28.7\"or row['item_number'] ==\"K28.9\"or row['item_number'] ==\"53170\"or row['item_number'] ==\"53190\"or row['item_number'] ==\"53270\"or row['item_number'] ==\"53290\"or row['item_number'] ==\"53370\"or row['item_number'] ==\"53390\"or row['item_number'] ==\"53470\"or row['item_number'] ==\"53490\"or row['item_number'] ==\"V1271\":\n",
        "          disease.append(\"Peptic ulcer disease excluding bleeding\")\n",
        "        elif row['item_number'] == \"B20\" or row['item_number'] ==\"B21\"or row['item_number'] ==\"B22\"or row['item_number'] ==\"B24\"or row['item_number'] ==\"42\"or row['item_number'] ==\"43\"or row['item_number'] ==\"449\"or row['item_number'] ==\"042\"or row['item_number'] ==\"043\"or row['item_number'] ==\"0449\"or row['item_number'] ==\"0441\"or row['item_number'] ==\"0442\"or row['item_number'] ==\"0443\"or row['item_number'] ==\"0444\"or row['item_number'] ==\"0445\":\n",
        "          disease.append(\"AIDS/HIV\")\n",
        "        elif row['item_number'] == \"C81\" or row['item_number'] ==\"201\"or row['item_number'] ==\"2001\"or row['item_number'] ==\"2009\"or row['item_number'] ==\"C81\"or row['item_number'] ==\"C81.0\"or row['item_number'] ==\"C81.1\"or row['item_number'] ==\"C81.2\"or row['item_number'] ==\"C81.3\"or row['item_number'] ==\"C81.4\"or row['item_number'] ==\"C81.5\"or row['item_number'] ==\"C81.6\"or row['item_number'] ==\"C81.7\"or row['item_number'] ==\"C81.8\"or row['item_number'] ==\"C81.9\"or row['item_number'] ==\"C82\"or row['item_number'] ==\"C82.0\"or row['item_number'] ==\"C82.1\"or row['item_number'] ==\"C82.2\"or row['item_number'] ==\"C82.3\"or row['item_number'] ==\"C82.4\"or row['item_number'] ==\"C82.5\"or row['item_number'] ==\"C82.6\"or row['item_number'] ==\"C82.7\"or row['item_number'] ==\"C82.8\"or row['item_number'] ==\"C82.9\"or row['item_number'] ==\"C83\"or row['item_number'] ==\"C83.0\"or row['item_number'] ==\"C83.1\"or row['item_number'] ==\"C83.2\"or row['item_number'] ==\"C83.3\"or row['item_number'] ==\"C83.4\"or row['item_number'] ==\"C83.5\"or row['item_number'] ==\"C83.6\"or row['item_number'] ==\"C83.7\"or row['item_number'] ==\"C83.8\"or row['item_number'] ==\"C83.9\"or row['item_number'] ==\"C84\"or row['item_number'] ==\"C84.0\"or row['item_number'] ==\"C84.1\"or row['item_number'] ==\"C84.2\"or row['item_number'] ==\"C84.3\"or row['item_number'] ==\"C84.4\"or row['item_number'] ==\"C84.5\"or row['item_number'] ==\"C84.6\"or row['item_number'] ==\"C84.7\"or row['item_number'] ==\"C84.8\"or row['item_number'] ==\"C84.9\"or row['item_number'] ==\"C85\"or row['item_number'] ==\"C85.0\"or row['item_number'] ==\"C85.1\"or row['item_number'] ==\"C85.2\"or row['item_number'] ==\"C85.3\"or row['item_number'] ==\"C85.4\"or row['item_number'] ==\"C85.5\"or row['item_number'] ==\"C85.6\"or row['item_number'] ==\"C85.7\"or row['item_number'] ==\"C85.8\"or row['item_number'] ==\"C85.9\"or row['item_number'] ==\"C88.0\"or row['item_number'] ==\"C88.1\"or row['item_number'] ==\"C88.2\"or row['item_number'] ==\"C88.3\"or row['item_number'] ==\"C88.4\"or row['item_number'] ==\"C88.5\"or row['item_number'] ==\"C88.6\"or row['item_number'] ==\"C88.7\"or row['item_number'] ==\"C88.8\"or row['item_number'] ==\"C88.9\"or row['item_number'] ==\"C88.00\"or row['item_number'] ==\"C88.01\"or row['item_number'] ==\"C88.02\"or row['item_number'] ==\"C88.03\"or row['item_number'] ==\"C88.04\"or row['item_number'] ==\"C88.05\"or row['item_number'] ==\"C88.06\"or row['item_number'] ==\"C88.07\"or row['item_number'] ==\"C88.08\"or row['item_number'] ==\"C88.09\"or row['item_number'] ==\"C88.10\"or row['item_number'] ==\"C88.11\"or row['item_number'] ==\"C88.12\"or row['item_number'] ==\"C88.13\"or row['item_number'] ==\"C88.14\"or row['item_number'] ==\"C88.15\"or row['item_number'] ==\"C88.16\"or row['item_number'] ==\"C88.17\"or row['item_number'] ==\"C88.18\"or row['item_number'] ==\"C88.19\"or row['item_number'] ==\"C88.20\"or row['item_number'] ==\"C88.21\"or row['item_number'] ==\"C88.22\"or row['item_number'] ==\"C88.23\"or row['item_number'] ==\"C88.24\"or row['item_number'] ==\"C88.25\"or row['item_number'] ==\"C88.26\"or row['item_number'] ==\"C88.27\"or row['item_number'] ==\"C88.28\"or row['item_number'] ==\"C88.29\"or row['item_number'] ==\"C88.30\"or row['item_number'] ==\"C88.31\"or row['item_number'] ==\"C88.32\"or row['item_number'] ==\"C88.33\"or row['item_number'] ==\"C88.34\"or row['item_number'] ==\"C88.35\"or row['item_number'] ==\"C88.36\"or row['item_number'] ==\"C88.37\"or row['item_number'] ==\"C88.38\"or row['item_number'] ==\"C88.39\"or row['item_number'] ==\"C88.40\"or row['item_number'] ==\"C88.41\"or row['item_number'] ==\"C88.42\"or row['item_number'] ==\"C88.43\"or row['item_number'] ==\"C88.44\"or row['item_number'] ==\"C88.45\"or row['item_number'] ==\"C88.46\"or row['item_number'] ==\"C88.47\"or row['item_number'] ==\"C88.48\"or row['item_number'] ==\"C88.49\"or row['item_number'] ==\"C88.70\"or row['item_number'] ==\"C88.71\"or row['item_number'] ==\"C88.72\"or row['item_number'] ==\"C88.73\"or row['item_number'] ==\"C88.74\"or row['item_number'] ==\"C88.75\"or row['item_number'] ==\"C88.76\"or row['item_number'] ==\"C88.77\"or row['item_number'] ==\"C88.78\"or row['item_number'] ==\"C88.79\"or row['item_number'] ==\"C88.90\"or row['item_number'] ==\"C88.91\"or row['item_number'] ==\"C88.92\"or row['item_number'] ==\"C88.93\"or row['item_number'] ==\"C88.94\"or row['item_number'] ==\"C88.95\"or row['item_number'] ==\"C88.96\"or row['item_number'] ==\"C88.97\"or row['item_number'] ==\"C88.98\"or row['item_number'] ==\"C88.99\"or row['item_number'] ==\"C96.0\"or row['item_number'] ==\"C96.1\"or row['item_number'] ==\"C96.2\"or row['item_number'] ==\"C96.3\"or row['item_number'] ==\"C96.4\"or row['item_number'] ==\"C96.5\"or row['item_number'] ==\"C96.6\"or row['item_number'] ==\"C96.7\"or row['item_number'] ==\"C96.8\"or row['item_number'] ==\"C96.9\"or row['item_number'] ==\"C96\"or row['item_number'] ==\"C90.0\"or row['item_number'] ==\"C90.2\"or row['item_number'] ==\"20010\"or row['item_number'] ==\"20020\"or row['item_number'] ==\"20030\"or row['item_number'] ==\"20040\"or row['item_number'] ==\"20050\"or row['item_number'] ==\"20060\"or row['item_number'] ==\"20070\"or row['item_number'] ==\"20080\"or row['item_number'] ==\"20090\"or row['item_number'] ==\"20100\"or row['item_number'] ==\"20110\"or row['item_number'] ==\"20120\"or row['item_number'] ==\"20130\"or row['item_number'] ==\"20140\"or row['item_number'] ==\"20150\"or row['item_number'] ==\"20160\"or row['item_number'] ==\"20170\"or row['item_number'] ==\"20180\"or row['item_number'] ==\"20190\"or row['item_number'] ==\"20200\"or row['item_number'] ==\"20201\"or row['item_number'] ==\"20202\"or row['item_number'] ==\"20203\"or row['item_number'] ==\"20204\"or row['item_number'] ==\"20205\"or row['item_number'] ==\"20206\"or row['item_number'] ==\"20207\"or row['item_number'] ==\"20208\"or row['item_number'] ==\"20209\"or row['item_number'] ==\"20210\"or row['item_number'] ==\"20211\"or row['item_number'] ==\"20212\"or row['item_number'] ==\"20213\"or row['item_number'] ==\"20214\"or row['item_number'] ==\"20215\"or row['item_number'] ==\"20216\"or row['item_number'] ==\"20217\"or row['item_number'] ==\"20218\"or row['item_number'] ==\"20219\"or row['item_number'] ==\"20220\"or row['item_number'] ==\"20230\"or row['item_number'] ==\"20231\"or row['item_number'] ==\"20232\"or row['item_number'] ==\"20233\"or row['item_number'] ==\"20234\"or row['item_number'] ==\"20235\"or row['item_number'] ==\"20236\"or row['item_number'] ==\"20237\"or row['item_number'] ==\"20238\"or row['item_number'] ==\"20239\"or row['item_number'] ==\"20250\"or row['item_number'] ==\"20251\"or row['item_number'] ==\"20252\"or row['item_number'] ==\"20253\"or row['item_number'] ==\"20254\"or row['item_number'] ==\"20255\"or row['item_number'] ==\"20256\"or row['item_number'] ==\"20257\"or row['item_number'] ==\"20258\"or row['item_number'] ==\"20259\"or row['item_number'] ==\"20260\"or row['item_number'] ==\"20261\"or row['item_number'] ==\"20262\"or row['item_number'] ==\"20263\"or row['item_number'] ==\"20264\"or row['item_number'] ==\"20265\"or row['item_number'] ==\"20266\"or row['item_number'] ==\"20267\"or row['item_number'] ==\"20268\"or row['item_number'] ==\"20269\"or row['item_number'] ==\"20270\"or row['item_number'] ==\"20271\"or row['item_number'] ==\"20272\"or row['item_number'] ==\"20273\"or row['item_number'] ==\"20274\"or row['item_number'] ==\"20275\"or row['item_number'] ==\"20276\"or row['item_number'] ==\"20277\"or row['item_number'] ==\"20278\"or row['item_number'] ==\"20279\"or row['item_number'] ==\"20280\"or row['item_number'] ==\"20281\"or row['item_number'] ==\"20282\"or row['item_number'] ==\"20283\"or row['item_number'] ==\"20284\"or row['item_number'] ==\"20285\"or row['item_number'] ==\"20286\"or row['item_number'] ==\"20287\"or row['item_number'] ==\"20288\"or row['item_number'] ==\"20289\"or row['item_number'] ==\"20290\"or row['item_number'] ==\"20291\"or row['item_number'] ==\"20292\"or row['item_number'] ==\"20293\"or row['item_number'] ==\"20294\"or row['item_number'] ==\"20295\"or row['item_number'] ==\"20296\"or row['item_number'] ==\"20297\"or row['item_number'] ==\"20298\"or row['item_number'] ==\"20299\"or row['item_number'] ==\"20300\"or row['item_number'] ==\"20301\"or row['item_number'] ==\"20380\"or row['item_number'] ==\"20381\"or row['item_number'] ==\"2386\"or row['item_number'] ==\"2733\"or row['item_number'] ==\"V1071\"or row['item_number'] ==\"V1072\"or row['item_number'] ==\"V1079\":\n",
        "          disease.append(\"Lymphoma\")\n",
        "        elif row['item_number'] == \"C77\"or row['item_number'] ==\"C77.0\"or row['item_number'] ==\"C77.1\"or row['item_number'] ==\"C77.2\"or row['item_number'] ==\"C77.3\"or row['item_number'] ==\"C77.4\"or row['item_number'] ==\"C77.5\"or row['item_number'] ==\"C77.6\"or row['item_number'] ==\"C77.7\"or row['item_number'] ==\"C77.8\"or row['item_number'] ==\"C77.9\"or row['item_number'] ==\"C78\"or row['item_number'] ==\"C78.0\"or row['item_number'] ==\"C78.1\"or row['item_number'] ==\"C78.2\"or row['item_number'] ==\"C78.3\"or row['item_number'] ==\"C78.4\"or row['item_number'] ==\"C78.5\"or row['item_number'] ==\"C78.6\"or row['item_number'] ==\"C78.7\"or row['item_number'] ==\"C78.8\"or row['item_number'] ==\"C78.9\"or row['item_number'] ==\"C79\"or row['item_number'] ==\"C79.0\"or row['item_number'] ==\"C79.1\"or row['item_number'] ==\"C79.2\"or row['item_number'] ==\"C79.3\"or row['item_number'] ==\"C79.4\"or row['item_number'] ==\"C79.5\"or row['item_number'] ==\"C79.5\"or row['item_number'] ==\"C79.6\"or row['item_number'] ==\"C79.7\"or row['item_number'] ==\"C79.8\"or row['item_number'] ==\"C79.9\"or row['item_number'] ==\"C79.80\"or row['item_number'] ==\"C79.81\"or row['item_number'] ==\"C79.82\"or row['item_number'] ==\"C79.83\"or row['item_number'] ==\"C79.84\"or row['item_number'] ==\"C79.85\"or row['item_number'] ==\"C79.85\"or row['item_number'] ==\"C79.86\"or row['item_number'] ==\"C79.87\"or row['item_number'] ==\"C79.88\"or row['item_number'] ==\"C79.89\"or row['item_number'] ==\"C80\"or row['item_number'] ==\"C80.0\"or row['item_number'] ==\"C80.1\"or row['item_number'] ==\"C80.2\"or row['item_number'] ==\"C80.3\"or row['item_number'] ==\"C80.4\"or row['item_number'] ==\"C80.5\"or row['item_number'] ==\"C80.6\"or row['item_number'] ==\"C80.7\"or row['item_number'] ==\"C80.8\"or row['item_number'] ==\"C80.9\"or row['item_number'] ==\"1960\"or row['item_number'] ==\"1961\"or row['item_number'] ==\"1962\"or row['item_number'] ==\"1963\"or row['item_number'] ==\"1964\"or row['item_number'] ==\"1965\"or row['item_number'] ==\"1966\"or row['item_number'] ==\"1967\"or row['item_number'] ==\"1968\"or row['item_number'] ==\"1969\"or row['item_number'] ==\"1970\"or row['item_number'] ==\"1971\"or row['item_number'] ==\"1972\"or row['item_number'] ==\"1973\"or row['item_number'] ==\"1974\"or row['item_number'] ==\"1975\"or row['item_number'] ==\"1976\"or row['item_number'] ==\"1977\"or row['item_number'] ==\"1978\"or row['item_number'] ==\"1979\"or row['item_number'] ==\"1980\"or row['item_number'] ==\"19881\"or row['item_number'] ==\"19882\"or row['item_number'] ==\"19889\"or row['item_number'] ==\"1990\"or row['item_number'] ==\"1991\":\n",
        "          disease.append(\"Metastatic cancer\")\n",
        "        elif row['item_number'] == \"C00\"or row['item_number'] ==\"C00.0\"or row['item_number'] ==\"C00.1\"or row['item_number'] ==\"C00.2\"or row['item_number'] ==\"C00.3\"or row['item_number'] ==\"C00.4\"or row['item_number'] ==\"C00.5\"or row['item_number'] ==\"C00.6\"or row['item_number'] ==\"C00.7\"or row['item_number'] ==\"C00.8\"or row['item_number'] ==\"C00.9\"or row['item_number'] ==\"C01\"or row['item_number'] ==\"C02\"or row['item_number'] ==\"C02.0\"or row['item_number'] ==\"C02.3\"or row['item_number'] ==\"C02.4\"or row['item_number'] ==\"C02.5\"or row['item_number'] ==\"C02.6\"or row['item_number'] ==\"C02.7\"or row['item_number'] ==\"C02.8\"or row['item_number'] ==\"C02.9\"or row['item_number'] ==\"C03\"or row['item_number'] ==\"C03.01\"or row['item_number'] ==\"C03.1\"or row['item_number'] ==\"C03.2\"or row['item_number'] ==\"C03.3\"or row['item_number'] ==\"C03.4\"or row['item_number'] ==\"C03.5\"or row['item_number'] ==\"C03.6\"or row['item_number'] ==\"C03.7\"or row['item_number'] ==\"C03.8\"or row['item_number'] ==\"C03.9\"or row['item_number'] ==\"C04\"or row['item_number'] ==\"C04.0\"or row['item_number'] ==\"C04.1\"or row['item_number'] ==\"C04.2\"or row['item_number'] ==\"C04.3\"or row['item_number'] ==\"C04.4\"or row['item_number'] ==\"C04.5\"or row['item_number'] ==\"C04.6\"or row['item_number'] ==\"C04.7\"or row['item_number'] ==\"C04.8\"or row['item_number'] ==\"C04.9\"or row['item_number'] ==\"C05\"or row['item_number'] ==\"C05.0\"or row['item_number'] ==\"C05.1\"or row['item_number'] ==\"C05.2\"or row['item_number'] ==\"C05.3\"or row['item_number'] ==\"C05.4\"or row['item_number'] ==\"C05.5\"or row['item_number'] ==\"C05.6\"or row['item_number'] ==\"C05.7\"or row['item_number'] ==\"C05.8\"or row['item_number'] ==\"C05.9\"or row['item_number'] ==\"C06\"or row['item_number'] ==\"C06.0\"or row['item_number'] ==\"C06.1\"or row['item_number'] ==\"C06.2\"or row['item_number'] ==\"C06.3\"or row['item_number'] ==\"C06.4\"or row['item_number'] ==\"C06.5\"or row['item_number'] ==\"C06.6\"or row['item_number'] ==\"C06.7\"or row['item_number'] ==\"C06.8\"or row['item_number'] ==\"C06.9\"or row['item_number'] ==\"C07\"or row['item_number'] ==\"C08\"or row['item_number'] ==\"C09\"or row['item_number'] ==\"C10\"or row['item_number'] ==\"C11\"or row['item_number'] ==\"C12\"or row['item_number'] ==\"C13\"or row['item_number'] ==\"C14\"or row['item_number'] ==\"C15\"or row['item_number'] ==\"C16\"or row['item_number'] ==\"C17\"or row['item_number'] ==\"C18\"or row['item_number'] ==\"C19\"or row['item_number'] ==\"C20\"or row['item_number'] ==\"C21\"or row['item_number'] ==\"C22\"or row['item_number'] ==\"C23\"or row['item_number'] ==\"C24\"or row['item_number'] ==\"C25\"or row['item_number'] ==\"C26\"or row['item_number'] ==\"C27\"or row['item_number'] ==\"C28\"or row['item_number'] ==\"C29\"or row['item_number'] ==\"C08.0\"or row['item_number'] ==\"C08.1\"or row['item_number'] ==\"C08.2\"or row['item_number'] ==\"C08.3\"or row['item_number'] ==\"C08.4\"or row['item_number'] ==\"C08.5\"or row['item_number'] ==\"C08.6\"or row['item_number'] ==\"C08.7\"or row['item_number'] ==\"C08.8\"or row['item_number'] ==\"C08.9\"or row['item_number'] ==\"C09.0\"or row['item_number'] ==\"C09.1\"or row['item_number'] ==\"C09.2\"or row['item_number'] ==\"C09.3\"or row['item_number'] ==\"C09.4\"or row['item_number'] ==\"C09.5\"or row['item_number'] ==\"C09.6\"or row['item_number'] ==\"C09.7\"or row['item_number'] ==\"C09.8\"or row['item_number'] ==\"C09.9\"or row['item_number'] ==\"C10.0\"or row['item_number'] ==\"C10.1\"or row['item_number'] ==\"C10.2\"or row['item_number'] ==\"C10.3\"or row['item_number'] ==\"C10.4\"or row['item_number'] ==\"C10.5\"or row['item_number'] ==\"C10.6\"or row['item_number'] ==\"C10.7\"or row['item_number'] ==\"C10.8\"or row['item_number'] ==\"C10.9\"or row['item_number'] ==\"C11.0\" or row['item_number'] ==\"C11.1\" or row['item_number'] ==\"C11.2\" or row['item_number'] ==\"C11.3\" or row['item_number'] ==\"C11.4\" or row['item_number'] ==\"C11.5\" or row['item_number'] ==\"C11.6\" or row['item_number'] ==\"C11.7\" or row['item_number'] ==\"C11.8\" or row['item_number'] ==\"C11.9\" or row['item_number'] ==\"C13.0\" or row['item_number'] ==\"C14.0\"or row['item_number'] ==\"C14.1\"or row['item_number'] ==\"C14.2\"or row['item_number'] ==\"C14.3\"or row['item_number'] ==\"C14.4\"or row['item_number'] ==\"C14.5\"or row['item_number'] ==\"C14.6\"or row['item_number'] ==\"C14.7\"or row['item_number'] ==\"C14.8\"or row['item_number'] ==\"C14.9\"or row['item_number'] ==\"C15.0\"or row['item_number'] ==\"C15.1\"or row['item_number'] ==\"C15.2\"or row['item_number'] ==\"C15.3\"or row['item_number'] ==\"C15.4\"or row['item_number'] ==\"C15.5\"or row['item_number'] ==\"C15.6\"or row['item_number'] ==\"C15.7\"or row['item_number'] ==\"C15.8\"or row['item_number'] ==\"C15.9\"or row['item_number'] ==\"C16.0\"or row['item_number'] ==\"C16.1\"or row['item_number'] ==\"C16.2\"or row['item_number'] ==\"C16.3\"or row['item_number'] ==\"C16.4\"or row['item_number'] ==\"C16.5\"or row['item_number'] ==\"C16.6\"or row['item_number'] ==\"C16.7\"or row['item_number'] ==\"C16.8\"or row['item_number'] ==\"C16.9\"or row['item_number'] ==\"C17.0\"or row['item_number'] ==\"C17.1\"or row['item_number'] ==\"C17.2\"or row['item_number'] ==\"C17.3\"or row['item_number'] ==\"C17.4\"or row['item_number'] ==\"C17.5\"or row['item_number'] ==\"C17.6\"or row['item_number'] ==\"C17.7\"or row['item_number'] ==\"C17.8\"or row['item_number'] ==\"C17.9\"or row['item_number'] ==\"C18.0\"or row['item_number'] ==\"C18.1\"or row['item_number'] ==\"C18.2\"or row['item_number'] ==\"C18.3\"or row['item_number'] ==\"C18.4\"or row['item_number'] ==\"C18.5\"or row['item_number'] ==\"C18.6\"or row['item_number'] ==\"C18.7\"or row['item_number'] ==\"C18.8\"or row['item_number'] ==\"C18.9\"or row['item_number'] ==\"C21.0\"or row['item_number'] ==\"C21.1\"or row['item_number'] ==\"C21.2\"or row['item_number'] ==\"C21.3\"or row['item_number'] ==\"C21.4\"or row['item_number'] ==\"C21.5\"or row['item_number'] ==\"C21.6\"or row['item_number'] ==\"C21.7\"or row['item_number'] ==\"C21.8\"or row['item_number'] ==\"C21.9\"or row['item_number'] ==\"C22.0\"or row['item_number'] ==\"C22.1\"or row['item_number'] ==\"C22.2\"or row['item_number'] ==\"C22.3\"or row['item_number'] ==\"C22.4\"or row['item_number'] ==\"C22.5\"or row['item_number'] ==\"C22.6\"or row['item_number'] ==\"C22.7\"or row['item_number'] ==\"C22.8\"or row['item_number'] ==\"C22.9\"or row['item_number'] ==\"C25.0\"or row['item_number'] ==\"C25.1\"or row['item_number'] ==\"C25.2\"or row['item_number'] ==\"C25.3\"or row['item_number'] ==\"C25.4\"or row['item_number'] ==\"C25.5\"or row['item_number'] ==\"C25.6\"or row['item_number'] ==\"C25.7\"or row['item_number'] ==\"C25.8\"or row['item_number'] ==\"C25.9\"or row['item_number'] ==\"C30\"or row['item_number'] ==\"C31\"or row['item_number'] ==\"C32\"or row['item_number'] ==\"C33\"or row['item_number'] ==\"C34\"or row['item_number'] ==\"C35\"or row['item_number'] ==\"C36\"or row['item_number'] ==\"C37\"or row['item_number'] ==\"C38\"or row['item_number'] ==\"C39\"or row['item_number'] ==\"C30.0\"or row['item_number'] ==\"C30.1\"or row['item_number'] ==\"C30.2\"or row['item_number'] ==\"C30.3\"or row['item_number'] ==\"C30.4\"or row['item_number'] ==\"C30.5\"or row['item_number'] ==\"C30.6\"or row['item_number'] ==\"C30.7\"or row['item_number'] ==\"C30.8\"or row['item_number'] ==\"C30.9\"or row['item_number'] ==\"C31.0\"or row['item_number'] ==\"C31.1\"or row['item_number'] ==\"C31.2\"or row['item_number'] ==\"C31.4\"or row['item_number'] ==\"C31.3\"or row['item_number'] ==\"C31.5\"or row['item_number'] ==\"C31.6\"or row['item_number'] ==\"C31.7\"or row['item_number'] ==\"C31.8\"or row['item_number'] ==\"C31.9\"or row['item_number'] ==\"C32.0\"or row['item_number'] ==\"C32.1\"or row['item_number'] ==\"C32.2\"or row['item_number'] ==\"C32.3\"or row['item_number'] ==\"C32.4\"or row['item_number'] ==\"C32.5\"or row['item_number'] ==\"C32.6\"or row['item_number'] ==\"C32.7\"or row['item_number'] ==\"C32.8\"or row['item_number'] ==\"C32.9\"or row['item_number'] ==\"C33.0\"or row['item_number'] ==\"C33.1\"or row['item_number'] ==\"C33.2\"or row['item_number'] ==\"C33.3\"or row['item_number'] ==\"C33.4\"or row['item_number'] ==\"C33.5\"or row['item_number'] ==\"C33.6\"or row['item_number'] ==\"C33.7\"or row['item_number'] ==\"C33.8\"or row['item_number'] ==\"C33.9\"or row['item_number'] ==\"C34.0\"or row['item_number'] ==\"C34.1\"or row['item_number'] ==\"C34.2\"or row['item_number'] ==\"C34.3\"or row['item_number'] ==\"C34.4\"or row['item_number'] ==\"C34.5\"or row['item_number'] ==\"C34.6\"or row['item_number'] ==\"C34.7\"or row['item_number'] ==\"C34.8\"or row['item_number'] ==\"C34.9\"or row['item_number'] ==\"C40\"or row['item_number'] ==\"C41\"or row['item_number'] ==\"C42\"or row['item_number'] ==\"C43\"or row['item_number'] ==\"C44\"or row['item_number'] ==\"C45\"or row['item_number'] ==\"C46\"or row['item_number'] ==\"C47\"or row['item_number'] ==\"C48\"or row['item_number'] ==\"C49\"or row['item_number'] ==\"C38\"or row['item_number'] ==\"C38.0\"or row['item_number'] ==\"C38.1\"or row['item_number'] ==\"C38.2\"or row['item_number'] ==\"C38.3\"or row['item_number'] ==\"C38.4\"or row['item_number'] ==\"C38.5\"or row['item_number'] ==\"C38.6\"or row['item_number'] ==\"C38.7\"or row['item_number'] ==\"C38.8\"or row['item_number'] ==\"C38.9\"or row['item_number'] ==\"C39.0\"or row['item_number'] ==\"C39.1\"or row['item_number'] ==\"C39.2\"or row['item_number'] ==\"C39.3\"or row['item_number'] ==\"C39.4\"or row['item_number'] ==\"C39.5\"or row['item_number'] ==\"C39.6\"or row['item_number'] ==\"C39.7\"or row['item_number'] ==\"C39.8\"or row['item_number'] ==\"C39.9\"or row['item_number'] ==\"C40.0\"or row['item_number'] ==\"C40.1\"or row['item_number'] ==\"C40.2\"or row['item_number'] ==\"C40.3\"or row['item_number'] ==\"C40.4\"or row['item_number'] ==\"C40.5\"or row['item_number'] ==\"C40.6\"or row['item_number'] ==\"C40.7\"or row['item_number'] ==\"C40.8\"or row['item_number'] ==\"C40.9\"or row['item_number'] ==\"C41.0\"or row['item_number'] ==\"C41.1\"or row['item_number'] ==\"C41.2\"or row['item_number'] ==\"C41.3\"or row['item_number'] ==\"C41.4\"or row['item_number'] ==\"C41.5\"or row['item_number'] ==\"C41.6\"or row['item_number'] ==\"C41.7\"or row['item_number'] ==\"C41.8\"or row['item_number'] ==\"C41.9\"or row['item_number'] ==\"C43.0\"or row['item_number'] ==\"C43.1\"or row['item_number'] ==\"C43.2\"or row['item_number'] ==\"C43.3\"or row['item_number'] ==\"C43.4\"\\\n",
        "         or row['item_number'] ==\"V1004\" or row['item_number'] ==\"c15\"or row['item_number'] ==\"c15.5\"or row['item_number'] ==\"C155\"or row['item_number'] ==\"C159\"or row['item_number'] ==\"c16\"or row['item_number'] ==\"c17\"or row['item_number'] ==\"c18\"or row['item_number'] ==\"c19\"or row['item_number'] ==\"1441\"or row['item_number'] ==\"C348\"or row['item_number'] ==\"C71.0\"or row['item_number'] ==\"C71.1\"or row['item_number'] ==\"C349\"or row['item_number'] ==\"C43.5\"or row['item_number'] ==\"c64\"or row['item_number'] ==\"C49.1\"or row['item_number'] ==\"c50.9\"or row['item_number'] ==\"C49.2\"or row['item_number'] ==\"14203\"or row['item_number'] ==\"14218\"or row['item_number'] ==\"14221\"or row['item_number'] ==\"16514\"or row['item_number'] ==\"16522\"or row['item_number'] ==\"18209\"or row['item_number'] ==\"18216\"or row['item_number'] ==\"18270\"or row['item_number'] ==\"1449\"or row['item_number'] ==\"1452\"or row['item_number'] ==\"1474\"or row['item_number'] ==\"1475\"or row['item_number'] ==\"1511\"or row['item_number'] ==\"1519\"or row['item_number'] ==\"1529\"or row['item_number'] ==\"1531\"or row['item_number'] ==\"1532\"or row['item_number'] ==\"1533\"or row['item_number'] ==\"1534\"or row['item_number'] ==\"V1535\"or row['item_number'] ==\"1539\"or row['item_number'] ==\"1541\"or row['item_number'] ==\"1629\"or row['item_number'] ==\"1725\"or row['item_number'] ==\"1726\"or row['item_number'] ==\"1727\"or row['item_number'] ==\"1829\"or row['item_number'] ==\"1879\"or row['item_number'] ==\"1889\"or row['item_number'] ==\"1919\"or row['item_number'] ==\"1983\"or row['item_number'] ==\"1985\"or row['item_number'] ==\"140\"or row['item_number'] ==\"153\" or row['item_number'] ==\"160\" or row['item_number'] ==\"185\"or row['item_number'] ==\"186\"or row['item_number'] ==\"187\" or row['item_number'] ==\"188\"or row['item_number'] ==\"189\"or row['item_number'] ==\"190\"or row['item_number'] ==\"191\"or row['item_number'] ==\"192\"or row['item_number'] ==\"193\"or row['item_number'] ==\"194\"or row['item_number'] ==\"195\" or row['item_number'] ==\"174\" or row['item_number'] ==\"16519\" or row['item_number'] ==\"16520\"or row['item_number'] ==\"V1046\"or row['item_number'] ==\"V1051\"or row['item_number'] ==\"V1082\"or row['item_number'] ==\"C50\"or row['item_number'] ==\"c50\"or row['item_number'] ==\"C50.0\"or row['item_number'] ==\"C50.1\"or row['item_number'] ==\"C50.2\"or row['item_number'] ==\"C50.3\"or row['item_number'] ==\"C50.4\"or row['item_number'] ==\"C50.5\"or row['item_number'] ==\"C50.6\"or row['item_number'] ==\"C50.7\"or row['item_number'] ==\"C50.8\"or row['item_number'] ==\"C50.9\"or row['item_number'] ==\"C50.0\"or row['item_number'] ==\"C50.1\"or row['item_number'] ==\"C50.2\"or row['item_number'] ==\"C50.3\"or row['item_number'] ==\"C50.4\"or row['item_number'] ==\"C50.5\"or row['item_number'] ==\"C50.6\"or row['item_number'] ==\"C50.7\"or row['item_number'] ==\"C50.8\"or row['item_number'] ==\"C50.9\"or row['item_number'] ==\"C51.0\"or row['item_number'] ==\"C51\"or row['item_number'] ==\"C51.1\"or row['item_number'] ==\"C51.2\"or row['item_number'] ==\"C51.3\"or row['item_number'] ==\"C51.4\"or row['item_number'] ==\"C51.5\"or row['item_number'] ==\"C51.6\"or row['item_number'] ==\"C51.7\"or row['item_number'] ==\"C51.8\"or row['item_number'] ==\"C51.9\"or row['item_number'] ==\"C52.0\"or row['item_number'] ==\"C52.1\"or row['item_number'] ==\"C52.2\"or row['item_number'] ==\"C52.3\"or row['item_number'] ==\"C52.4\"or row['item_number'] ==\"C52.5\"or row['item_number'] ==\"C52.6\"or row['item_number'] ==\"C52.7\"or row['item_number'] ==\"C52.8\"or row['item_number'] ==\"C52.9\"or row['item_number'] ==\"C53.0\"or row['item_number'] ==\"C53.1\"or row['item_number'] ==\"C53.2\"or row['item_number'] ==\"C53.3\"or row['item_number'] ==\"C53.4\"or row['item_number'] ==\"C53.5\"or row['item_number'] ==\"C53.6\"or row['item_number'] ==\"C53.7\"or row['item_number'] ==\"C53.8\"or row['item_number'] ==\"C53.9\"or row['item_number'] ==\"C54.0\"or row['item_number'] ==\"C54.1\"or row['item_number'] ==\"C54.2\"or row['item_number'] ==\"C54.3\"or row['item_number'] ==\"C54.5\"or row['item_number'] ==\"C54.6\"or row['item_number'] ==\"C54.7\"or row['item_number'] ==\"C54.8\" or row['item_number'] ==\"C54.9\"   or row['item_number'] ==\"c67\" or row['item_number'] ==\"C67.0\" or row['item_number'] ==\"C67.1\" or row['item_number'] ==\"C67.2\" or row['item_number'] ==\"C67.3\" or row['item_number'] ==\"C67.4\" or row['item_number'] ==\"C67.5\" or row['item_number'] ==\"C67.6\" or row['item_number'] ==\"C67.7\" or row['item_number'] ==\"C67.8\" or row['item_number'] ==\"C67.9\" or row['item_number'] ==\"C71.2\" or row['item_number'] ==\"C71.3\" or row['item_number'] ==\"C71.4\" or row['item_number'] ==\"C71.5\" or row['item_number'] ==\"C71.6\" or row['item_number'] ==\"C71.7\" or row['item_number'] ==\"C71.8\" or row['item_number'] ==\"C71.9\" or row['item_number'] ==\"c73\" or row['item_number'] ==\"C73.3\" or row['item_number'] ==\"C76\" or row['item_number'] ==\"C76.1\" or row['item_number'] ==\"C76.2\" or row['item_number'] ==\"C76.3\" or row['item_number'] ==\"C76.4\" or row['item_number'] ==\"C76.5\" or row['item_number'] ==\"C76.6\" or row['item_number'] ==\"C76.7\" or row['item_number'] ==\"C76.8\" or row['item_number'] ==\"C76.9\"or row['item_number'] ==\"C62.9\"or row['item_number'] ==\"C55.0\" or row['item_number'] ==\"C55.1\" or row['item_number'] ==\"C55.2\" or row['item_number'] ==\"C55.3\" or row['item_number'] ==\"C55.4\" or row['item_number'] ==\"C55.5\" or row['item_number'] ==\"C55.6\"or row['item_number'] ==\"C55.7\" or row['item_number'] ==\"C55.8\" or row['item_number'] ==\"C55.9\" or row['item_number'] ==\"C57.0\"or row['item_number'] ==\"c56\"or row['item_number'] ==\"C57.8\" or row['item_number'] ==\"c61\" or row['item_number'] ==\"C62.1\"or row['item_number'] ==\"C24.0\"or row['item_number'] ==\"C24.1\"or row['item_number'] ==\"C24.8\"or row['item_number'] ==\"C24.9\"or row['item_number'] ==\"c25\"or row['item_number'] ==\"c25.1\"or row['item_number'] ==\"C26.0\"or row['item_number'] ==\"C26.9\"or row['item_number'] ==\"c34\"or row['item_number'] ==\"C10.01\"or row['item_number'] ==\"c43\"or row['item_number'] ==\"c44\"or row['item_number'] ==\"C44.0\"or row['item_number'] ==\"C43.6\"or row['item_number'] ==\"C20\"or row['item_number'] ==\"c20\"or row['item_number'] ==\"C20.0\"or row['item_number'] ==\"c21\"or row['item_number'] ==\"C21\"or row['item_number'] ==\"C43.7\"or row['item_number'] ==\"C43.8\"or row['item_number'] ==\"C43.9\"or row['item_number'] ==\"C50\"or row['item_number'] ==\"C51\"or row['item_number'] ==\"C52\"or row['item_number'] ==\"C53\"or row['item_number'] ==\"C54\"or row['item_number'] ==\"C55\"or row['item_number'] ==\"C56\"or row['item_number'] ==\"C57\"or row['item_number'] ==\"C58\"or row['item_number'] ==\"C59\"or row['item_number'] ==\"C60\"or row['item_number'] ==\"C61\"or row['item_number'] ==\"C62\"or row['item_number'] ==\"C63\"or row['item_number'] ==\"C64\"or row['item_number'] ==\"C65\"or row['item_number'] ==\"C66\"or row['item_number'] ==\"C67\"or row['item_number'] ==\"C68\"or row['item_number'] ==\"C69\"or row['item_number'] ==\"C70\"or row['item_number'] ==\"C71\"or row['item_number'] ==\"C72\"or row['item_number'] ==\"C73\"or row['item_number'] ==\"C74\"or row['item_number'] ==\"C75\"or row['item_number'] ==\"C76\"or row['item_number'] ==\"C77\"or row['item_number'] ==\"C78\"or row['item_number'] ==\"C79\"or row['item_number'] ==\"C97\"or row['item_number'] ==\"1400\"or row['item_number'] ==\"1401\"or row['item_number'] ==\"1402\"or row['item_number'] ==\"1403\"or row['item_number'] ==\"1404\"or row['item_number'] ==\"1405\"or row['item_number'] ==\"1406\"or row['item_number'] ==\"1407\"or row['item_number'] ==\"1408\"or row['item_number'] ==\"1409\"or row['item_number'] ==\"1410\"or row['item_number'] ==\"1411\"or row['item_number'] ==\"1412\"or row['item_number'] ==\"1413\"or row['item_number'] ==\"1414\"or row['item_number'] ==\"1415\"or row['item_number'] ==\"1416\"or row['item_number'] ==\"1417\"or row['item_number'] ==\"1418\"or row['item_number'] ==\"1419\"or row['item_number'] ==\"1420\"or row['item_number'] ==\"1430\"or row['item_number'] ==\"1440\"or row['item_number'] ==\"1450\"or row['item_number'] ==\"1460\"or row['item_number'] ==\"1470\"or row['item_number'] ==\"1480\"or row['item_number'] ==\"1490\"or row['item_number'] ==\"1500\"or row['item_number'] ==\"1510\"or row['item_number'] ==\"1520\"or row['item_number'] ==\"1530\"or row['item_number'] ==\"1540\"or row['item_number'] ==\"1550\"or row['item_number'] ==\"1560\"or row['item_number'] ==\"1570\"or row['item_number'] ==\"1580\"or row['item_number'] ==\"1590\"or row['item_number'] ==\"1600\"or row['item_number'] ==\"1610\"or row['item_number'] ==\"1620\"or row['item_number'] ==\"1630\"or row['item_number'] ==\"1640\"or row['item_number'] ==\"1650\"or row['item_number'] ==\"1660\"or row['item_number'] ==\"1670\"or row['item_number'] ==\"1680\"or row['item_number'] ==\"1690\"or row['item_number'] ==\"1700\"or row['item_number'] ==\"1710\"or row['item_number'] ==\"1720\"or row['item_number'] ==\"1740\"or row['item_number'] ==\"1741\"or row['item_number'] ==\"1742\"or row['item_number'] ==\"1743\"or row['item_number'] ==\"1744\"or row['item_number'] ==\"1745\"or row['item_number'] ==\"1746\"or row['item_number'] ==\"1747\"or row['item_number'] ==\"1748\"or row['item_number'] ==\"1749\"or row['item_number'] ==\"1750\"or row['item_number'] ==\"1751\"or row['item_number'] ==\"1752\"or row['item_number'] ==\"1753\"or row['item_number'] ==\"1754\"or row['item_number'] ==\"1755\"or row['item_number'] ==\"1756\"or row['item_number'] ==\"1757\"or row['item_number'] ==\"1758\"or row['item_number'] ==\"1759\"or row['item_number'] ==\"1790\"or row['item_number'] ==\"1800\"or row['item_number'] ==\"1810\"or row['item_number'] ==\"1820\"or row['item_number'] ==\"1830\"or row['item_number'] ==\"1840\"or row['item_number'] ==\"1850\"or row['item_number'] ==\"1860\"or row['item_number'] ==\"1870\"or row['item_number'] ==\"1880\"or row['item_number'] ==\"1890\"or row['item_number'] ==\"1900\"or row['item_number'] ==\"1910\"or row['item_number'] ==\"1920\"or row['item_number'] ==\"1930\"or row['item_number'] ==\"1940\"or row['item_number'] ==\"1950\"or row['item_number'] ==\"V101\"or row['item_number'] ==\"V102\"or row['item_number'] ==\"V103\"or row['item_number'] ==\"V104\"or row['item_number'] ==\"V105\"or row['item_number'] ==\"V106\"or row['item_number'] ==\"V107\"or row['item_number'] ==\"V108\"or row['item_number'] ==\"V109\":\n",
        "          disease.append(\"Solid tumor without metastasis\")\n",
        "        elif row['item_number'] == \"L94.0\"or row['item_number'] ==\"7100\" or row['item_number'] ==\"M05.99\"or row['item_number'] ==\"M06.95\"or row['item_number'] ==\"M06.90\"or row['item_number'] ==\"M06.91\"or row['item_number'] ==\"M06.94\"or row['item_number'] ==\"M06.96\"or row['item_number'] ==\"M06.97\"or row['item_number'] ==\"M06.98\"or row['item_number'] ==\"M06.99\"or row['item_number'] ==\"7200\"or row['item_number'] ==\"720\"or row['item_number'] ==\"725\"or row['item_number'] ==\"L94.1\"or row['item_number'] ==\"L94.3\"or row['item_number'] ==\"M05\"or row['item_number'] ==\"M05.0\"or row['item_number'] ==\"M05.1\"or row['item_number'] ==\"M05.2\"or row['item_number'] ==\"M05.3\"or row['item_number'] ==\"M05.4\"or row['item_number'] ==\"M05.5\"or row['item_number'] ==\"M05.6\"or row['item_number'] ==\"M05.7\"or row['item_number'] ==\"M05.8\"or row['item_number'] ==\"M05.9\"or row['item_number'] ==\"M06.0\"or row['item_number'] ==\"M06.1\"or row['item_number'] ==\"M06.2\"or row['item_number'] ==\"M06.3\"or row['item_number'] ==\"M06.4\"or row['item_number'] ==\"M06.5\"or row['item_number'] ==\"M06.6\"or row['item_number'] ==\"M06.7\"or row['item_number'] ==\"M06.8\"or row['item_number'] ==\"M06.9\"or row['item_number'] ==\"M08.0\"or row['item_number'] ==\"M08.1\"or row['item_number'] ==\"M08.2\"or row['item_number'] ==\"M08.3\"or row['item_number'] ==\"M08.4\"or row['item_number'] ==\"M08.5\"or row['item_number'] ==\"M08.6\"or row['item_number'] ==\"M08.7\"or row['item_number'] ==\"M08.8\"or row['item_number'] ==\"M08.9\"or row['item_number'] ==\"M12.0\"or row['item_number'] ==\"M12.3\"or row['item_number'] ==\"M30.0\"or row['item_number'] ==\"M30.1\"or row['item_number'] ==\"M30.2\"or row['item_number'] ==\"M30.3\"or row['item_number'] ==\"M30.4\"or row['item_number'] ==\"M30.5\"or row['item_number'] ==\"M30.6\"or row['item_number'] ==\"M30.7\"or row['item_number'] ==\"M30.8\"or row['item_number'] ==\"M30.9\"or row['item_number'] ==\"M31.0\"or row['item_number'] ==\"M31.1\"or row['item_number'] ==\"M31.2\"or row['item_number'] ==\"M31.3\"or row['item_number'] ==\"M32\"or row['item_number'] ==\"M33\"or row['item_number'] ==\"M34\"or row['item_number'] ==\"M35\"or row['item_number'] ==\"M32.0\"or row['item_number'] ==\"M32.1\"or row['item_number'] ==\"M32.2\"or row['item_number'] ==\"M32.3\"or row['item_number'] ==\"M32.4\"or row['item_number'] ==\"M32.5\"or row['item_number'] ==\"M32.6\"or row['item_number'] ==\"M32.7\"or row['item_number'] ==\"M32.8\"or row['item_number'] ==\"M32.9\"or row['item_number'] ==\"M33.0\"or row['item_number'] ==\"M33.1\"or row['item_number'] ==\"M33.2\"or row['item_number'] ==\"M33.3\"or row['item_number'] ==\"M33.4\"or row['item_number'] ==\"M33.5\"or row['item_number'] ==\"M33.6\"or row['item_number'] ==\"M33.7\"or row['item_number'] ==\"M33.8\"or row['item_number'] ==\"M33.9\"or row['item_number'] ==\"M34.0\"or row['item_number'] ==\"M34.1\"or row['item_number'] ==\"M34.2\"or row['item_number'] ==\"M34.3\"or row['item_number'] ==\"M34.4\"or row['item_number'] ==\"M34.5\"or row['item_number'] ==\"M34.6\"or row['item_number'] ==\"M34.7\"or row['item_number'] ==\"M34.8\"or row['item_number'] ==\"M34.9\"or row['item_number'] ==\"M35.0\"or row['item_number'] ==\"M35.1\"or row['item_number'] ==\"M35.2\"or row['item_number'] ==\"M35.3\"or row['item_number'] ==\"M35.4\"or row['item_number'] ==\"M35.5\"or row['item_number'] ==\"M35.6\"or row['item_number'] ==\"M35.7\"or row['item_number'] ==\"M35.8\"or row['item_number'] ==\"M35.9\"or row['item_number'] ==\"M45\"or row['item_number'] ==\"M45.0\"or row['item_number'] ==\"M45.01\"or row['item_number'] ==\"M45.02\"or row['item_number'] ==\"M45.03\"or row['item_number'] ==\"M45.04\"or row['item_number'] ==\"M45.05\"or row['item_number'] ==\"M45.06\"or row['item_number'] ==\"M45.07\"or row['item_number'] ==\"M45.08\"or row['item_number'] ==\"M45.09\"or row['item_number'] ==\"M46.1\"or row['item_number'] ==\"46.8\"or row['item_number'] ==\"M46.9\"or row['item_number'] ==\"7010\"or row['item_number'] ==\"7101\"or row['item_number'] ==\"7102\"or row['item_number'] ==\"7103\"or row['item_number'] ==\"7104\"or row['item_number'] ==\"7105\"or row['item_number'] ==\"7106\"or row['item_number'] ==\"7107\"or row['item_number'] ==\"7108\"or row['item_number'] ==\"7109\"or row['item_number'] ==\"7140\"or row['item_number'] ==\"7141\"or row['item_number'] ==\"7142\"or row['item_number'] ==\"7143\"or row['item_number'] ==\"7144\"or row['item_number'] ==\"71481\"or row['item_number'] ==\"71489\"or row['item_number'] ==\"7149\"or row['item_number'] ==\"7201\"or row['item_number'] ==\"7202\"or row['item_number'] ==\"7203\"or row['item_number'] ==\"7204\"or row['item_number'] ==\"7205\"or row['item_number'] ==\"7206\"or row['item_number'] ==\"7207\"or row['item_number'] ==\"7208\"or row['item_number'] ==\"7209\"or row['item_number'] ==\"72081\"or row['item_number'] ==\"72089\"or row['item_number'] ==\"728\":\n",
        "          disease.append(\"Rheumatoid arthritis/ collagen vascular diseases\")\n",
        "        elif row['item_number'] ==\"286\" or row['item_number'] == \"D65\"or row['item_number'] ==\"D66\"or row['item_number'] ==\"D67\"or row['item_number'] ==\"D68\"or row['item_number'] ==\"D68.0\"or row['item_number'] ==\"D68.1\"or row['item_number'] ==\"D68.2\"or row['item_number'] ==\"D68.3\"or row['item_number'] ==\"D68.4\"or row['item_number'] ==\"D68.5\"or row['item_number'] ==\"D68.6\"or row['item_number'] ==\"D68.7\"or row['item_number'] ==\"D68.8\"or row['item_number'] ==\"D68.9\"or row['item_number'] ==\"D69.1\"or row['item_number'] ==\"D69.3\"or row['item_number'] ==\"D69.2\"or row['item_number'] ==\"D69.4\"or row['item_number'] ==\"D69.5\"or row['item_number'] ==\"2860\"or row['item_number'] ==\"2861\"or row['item_number'] ==\"2862\"or row['item_number'] ==\"2863\"or row['item_number'] ==\"2864\"or row['item_number'] ==\"2865\"or row['item_number'] ==\"2866\"or row['item_number'] ==\"2867\"or row['item_number'] ==\"2868\"or row['item_number'] ==\"2869\"or row['item_number'] ==\"2871\"or row['item_number'] ==\"2780\"or row['item_number'] ==\"D28730\"or row['item_number'] ==\"28731\"or row['item_number'] ==\"28732\"or row['item_number'] ==\"28733\"or row['item_number'] ==\"28734\"or row['item_number'] ==\"28735\"or row['item_number'] ==\"28736\"or row['item_number'] ==\"28737\"or row['item_number'] ==\"28738\"or row['item_number'] ==\"28739\"or row['item_number'] ==\"28741\"or row['item_number'] ==\"28749\"or row['item_number'] ==\"2875\":\n",
        "          disease.append(\"Coagulopathy\")\n",
        "        elif row['item_number'] ==\"E66\" or row['item_number'] ==\"e66\" or row['item_number'] ==\"e66.8\" or row['item_number'] ==\"E66.92\"or row['item_number'] ==\"E66.90\"or row['item_number'] ==\"E66.91\"or row['item_number'] ==\"E66.93\"or row['item_number'] ==\"E66.0\"or row['item_number'] ==\"E66.1\"or row['item_number'] ==\"E66.2\"or row['item_number'] ==\"E66.3\"or row['item_number'] ==\"E66.4\"or row['item_number'] ==\"E66.5\"or row['item_number'] ==\"E66.6\"or row['item_number'] ==\"E66.7\"or row['item_number'] ==\"E66.8\"or row['item_number'] ==\"E66.9\"or row['item_number'] ==\"278\":\n",
        "          disease.append(\"Obesity\")\n",
        "        elif row['item_number'] ==\"E40\" or row['item_number'] ==\"E41\"or row['item_number'] ==\"E42\"or row['item_number'] ==\"E43\"or row['item_number'] ==\"E44\"or row['item_number'] ==\"E44.0\"or row['item_number'] ==\"E44.1\"or row['item_number'] ==\"E44.2\"or row['item_number'] ==\"E44.3\"or row['item_number'] ==\"E44.4\"or row['item_number'] ==\"E44.5\"or row['item_number'] ==\"E44.6\"or row['item_number'] ==\"E44.7\"or row['item_number'] ==\"E44.8\"or row['item_number'] ==\"E44.9\"or row['item_number'] ==\"E45\"or row['item_number'] ==\"E46\"or row['item_number'] ==\"R63.4\"or row['item_number'] ==\"R64\"or row['item_number'] ==\"260\"or row['item_number'] ==\"261\"or row['item_number'] ==\"262\"or row['item_number'] ==\"2630\"or row['item_number'] ==\"2631\"or row['item_number'] ==\"2632\"or row['item_number'] ==\"2633\"or row['item_number'] ==\"2634\"or row['item_number'] ==\"2635\"or row['item_number'] ==\"2636\"or row['item_number'] ==\"2637\"or row['item_number'] ==\"2638\"or row['item_number'] ==\"2639\":\n",
        "          disease.append(\"Weight Loss\")\n",
        "        elif row['item_number'] ==\"E22.2\"or row['item_number'] ==\"E86\"or row['item_number'] ==\"e86\"or row['item_number'] ==\"E87.0\"or row['item_number'] ==\"E87\"or row['item_number'] ==\"E87.1\"or row['item_number'] ==\"E87.2\"or row['item_number'] ==\"E87.3\"or row['item_number'] ==\"E87.4\"or row['item_number'] ==\"E87.5\"or row['item_number'] ==\"E87.6\"or row['item_number'] ==\"E87.7\"or row['item_number'] ==\"E87.8\"or row['item_number'] ==\"E87.9\"or row['item_number'] ==\"2760\"or row['item_number'] ==\"2761\"or row['item_number'] ==\"2762\"or row['item_number'] ==\"2763\"or row['item_number'] ==\"2764\"or row['item_number'] ==\"2765\"or row['item_number'] ==\"2766\"or row['item_number'] ==\"2767\"or row['item_number'] ==\"2768\"or row['item_number'] ==\"2769\"or row['item_number'] ==\"27650\"or row['item_number'] ==\"27651\"or row['item_number'] ==\"27652\"or row['item_number'] ==\"27653\"or row['item_number'] ==\"27654\"or row['item_number'] ==\"27655\"or row['item_number'] ==\"27656\"or row['item_number'] ==\"27657\"or row['item_number'] ==\"27658\"or row['item_number'] ==\"27659\"or row['item_number'] ==\"2760\"or row['item_number'] ==\"2761\"or row['item_number'] ==\"2762\"or row['item_number'] ==\"2763\"or row['item_number'] ==\"2764\"or row['item_number'] ==\"2765\"or row['item_number'] ==\"2766\"or row['item_number'] ==\"2767\"or row['item_number'] ==\"2768\"or row['item_number'] ==\"2769\":\n",
        "          disease.append(\"Fluid and electrolyte disorders\")\n",
        "        elif row['item_number'] ==\"D50.0\" or row['item_number'] ==\"2800\":\n",
        "          disease.append(\"Blood loss anemia\")\n",
        "        elif row['item_number'] ==\"D50.8\"or row['item_number'] ==\"D50.9\"or row['item_number'] ==\"2859\" or row['item_number'] ==\"D51\"or row['item_number'] ==\"D51.0\"or row['item_number'] ==\"D51.1\"or row['item_number'] ==\"D51.2\"or row['item_number'] ==\"D51.2\"or row['item_number'] ==\"D51.4\"or row['item_number'] ==\"D51.3\"or row['item_number'] ==\"D51.5\"or row['item_number'] ==\"D51.6\"or row['item_number'] ==\"D51.7\"or row['item_number'] ==\"D51.8\"or row['item_number'] ==\"D51.9\"or row['item_number'] ==\"D52\"or row['item_number'] ==\"D52.0\"or row['item_number'] ==\"D52.1\"or row['item_number'] ==\"D52.2\"or row['item_number'] ==\"D52.3\"or row['item_number'] ==\"D52.4\"or row['item_number'] ==\"D52.5\"or row['item_number'] ==\"D52.6\"or row['item_number'] ==\"D52.7\"or row['item_number'] ==\"D52.8\"or row['item_number'] ==\"D52.9\"or row['item_number'] ==\"D53\"or row['item_number'] ==\"D53.0\"or row['item_number'] ==\"D53.1\"or row['item_number'] ==\"D53.2\"or row['item_number'] ==\"D53.3\"or row['item_number'] ==\"D53.4\"or row['item_number'] ==\"D53.5\"or row['item_number'] ==\"D53.6\"or row['item_number'] ==\"D53.7\"or row['item_number'] ==\"D53.8\"or row['item_number'] ==\"D53.9\"or row['item_number'] ==\"2800\"or row['item_number'] ==\"2810\"or row['item_number'] ==\"2811\"or row['item_number'] ==\"2812\"or row['item_number'] ==\"2813\"or row['item_number'] ==\"2814\"or row['item_number'] ==\"2815\"or row['item_number'] ==\"2816\"or row['item_number'] ==\"2817\"or row['item_number'] ==\"2818\"or row['item_number'] ==\"2819\"or row['item_number'] ==\"2801\"or row['item_number'] ==\"2808\"or row['item_number'] ==\"2809\"or row['item_number'] ==\"2858\":\n",
        "          disease.append(\"Deficiency anemia\")\n",
        "        elif row['item_number'] ==\"2911\"or row['item_number'] ==\"2912\"or row['item_number'] ==\"f10\"or row['item_number'] ==\"30390\"or row['item_number'] ==\"30391\"or row['item_number'] ==\"30392\"or row['item_number'] ==\"30393\"or row['item_number'] ==\"30394\"or row['item_number'] ==\"30395\"or row['item_number'] ==\"30396\"or row['item_number'] ==\"30397\"or row['item_number'] ==\"30398\"or row['item_number'] ==\"30399\"or row['item_number'] ==\"2915\"or row['item_number'] ==\"2916\"or row['item_number'] ==\"2917\"or row['item_number'] ==\"2918\"or row['item_number'] ==\"2919\"or row['item_number'] ==\"3039\"or row['item_number'] ==\"3050\" or row['item_number'] ==\"V113\" or row['item_number'] ==\"F10\"or row['item_number'] ==\"E52\"or row['item_number'] ==\"G62.1\"or row['item_number'] ==\"I42.6\"or row['item_number'] ==\"K29.2\"or row['item_number'] ==\"K70.0\"or row['item_number'] ==\"K70.3\"or row['item_number'] ==\"K70.9\"or row['item_number'] ==\"T51.0\"or row['item_number'] ==\"T51.1\"or row['item_number'] ==\"T51.2\"or row['item_number'] ==\"T51.3\"or row['item_number'] ==\"T51.4\"or row['item_number'] ==\"T51.5\"or row['item_number'] ==\"T51.6\"or row['item_number'] ==\"T51.7\"or row['item_number'] ==\"T51.8\"or row['item_number'] ==\"T51.9\"or row['item_number'] ==\"Z50.2\"or row['item_number'] ==\"Z71.4\"or row['item_number'] ==\"Z72.1\":\n",
        "          disease.append(\"Alcohol abuse\")\n",
        "        elif row['item_number'] ==\"F11\" or row['item_number'] ==\"F15.11\" or row['item_number'] ==\"30439\" or row['item_number'] ==\"30473\"or row['item_number'] ==\"F15.19\"or row['item_number'] ==\"F15.20\"or row['item_number'] ==\"F15.21\"or row['item_number'] ==\"F15.29\"or row['item_number'] ==\"F13.19\"or row['item_number'] ==\"F13.20\"or row['item_number'] ==\"F13.21\"or row['item_number'] ==\"F13.29\"or row['item_number'] ==\"30571\"or row['item_number'] ==\"30572\"or row['item_number'] ==\"30573\"or row['item_number'] ==\"30574\"or row['item_number'] ==\"30575\"or row['item_number'] ==\"30576\"or row['item_number'] ==\"30577\"or row['item_number'] ==\"30578\"or row['item_number'] ==\"30579\"or row['item_number'] ==\"30400\"or row['item_number'] ==\"30401\"or row['item_number'] ==\"30402\"or row['item_number'] ==\"30403\"or row['item_number'] ==\"30404\"or row['item_number'] ==\"30405\"or row['item_number'] ==\"30406\"or row['item_number'] ==\"30407\"or row['item_number'] ==\"30408\"or row['item_number'] ==\"30409\"or row['item_number'] ==\"F11.0\"or row['item_number'] ==\"F11.1\"or row['item_number'] ==\"F11.2\"or row['item_number'] ==\"F11.3\"or row['item_number'] ==\"F11.4\"or row['item_number'] ==\"F11.5\"or row['item_number'] ==\"F11.6\"or row['item_number'] ==\"F11.7\"or row['item_number'] ==\"F11.8\"or row['item_number'] ==\"F11.9\"or row['item_number'] ==\"F12\"or row['item_number'] ==\"F12.0\"or row['item_number'] ==\"F12.1\"or row['item_number'] ==\"F12.2\"or row['item_number'] ==\"F12.3\"or row['item_number'] ==\"F12.4\"or row['item_number'] ==\"F12.5\"or row['item_number'] ==\"F12.6\"or row['item_number'] ==\"F12.7\"or row['item_number'] ==\"F12.8\"or row['item_number'] ==\"F12.9\"or row['item_number'] ==\"F13\"or row['item_number'] ==\"F13.0\"or row['item_number'] ==\"F13.1\"or row['item_number'] ==\"F13.2\"or row['item_number'] ==\"F13.3\"or row['item_number'] ==\"F13.4\"or row['item_number'] ==\"F13.5\"or row['item_number'] ==\"F13.6\"or row['item_number'] ==\"F13.7\"or row['item_number'] ==\"F13.8\"or row['item_number'] ==\"F13.9\"or row['item_number'] ==\"F14\"or row['item_number'] ==\"F14.1\"or row['item_number'] ==\"F14.2\"or row['item_number'] ==\"F14.3\"or row['item_number'] ==\"F14.4\"or row['item_number'] ==\"F14.5\"or row['item_number'] ==\"F14.6\"or row['item_number'] ==\"F14.7\"or row['item_number'] ==\"F14.8\"or row['item_number'] ==\"F14.9\"or row['item_number'] ==\"F15\"or row['item_number'] ==\"F15.0\"or row['item_number'] ==\"F15.1\"or row['item_number'] ==\"F15.2\"or row['item_number'] ==\"F15.3\"or row['item_number'] ==\"F15.4\"or row['item_number'] ==\"F15.5\"or row['item_number'] ==\"F15.5\"or row['item_number'] ==\"F15.7\"or row['item_number'] ==\"F15.8\"or row['item_number'] ==\"F15.9\"or row['item_number'] ==\"F16\"or row['item_number'] ==\"F16.1\"or row['item_number'] ==\"F16.2\"or row['item_number'] ==\"F16.3\"or row['item_number'] ==\"F16.4\"or row['item_number'] ==\"F16.5\"or row['item_number'] ==\"F16.6\"or row['item_number'] ==\"F16.7\"or row['item_number'] ==\"F16.8\"or row['item_number'] ==\"F16.9\"or row['item_number'] ==\"F18\"or row['item_number'] ==\"F18.0\"or row['item_number'] ==\"F18.1\"or row['item_number'] ==\"F18.2\"or row['item_number'] ==\"F18.3\"or row['item_number'] ==\"F18.4\"or row['item_number'] ==\"F18.5\"or row['item_number'] ==\"F18.6\"or row['item_number'] ==\"F18.7\"or row['item_number'] ==\"F18.8\"or row['item_number'] ==\"F18.9\"or row['item_number'] ==\"F19\"or row['item_number'] ==\"F19.1\"or row['item_number'] ==\"F19.2\"or row['item_number'] ==\"F19.0\"or row['item_number'] ==\"F19.3\"or row['item_number'] ==\"F19.4\"or row['item_number'] ==\"F19.5\"or row['item_number'] ==\"F19.6\"or row['item_number'] ==\"F19.7\"or row['item_number'] ==\"F19.8\"or row['item_number'] ==\"F19.9\"or row['item_number'] ==\"Z71.5\"or row['item_number'] ==\"Z72.2\"or row['item_number'] ==\"2920\"or row['item_number'] ==\"2929\"or row['item_number'] ==\"29282\"or row['item_number'] ==\"29283\"or row['item_number'] ==\"29284\"or row['item_number'] ==\"29285\"or row['item_number'] ==\"29289\"or row['item_number'] ==\"3040\"or row['item_number'] ==\"30520\"or row['item_number'] ==\"3053\"or row['item_number'] ==\"3054\"or row['item_number'] ==\"3055\"or row['item_number'] ==\"3056\"or row['item_number'] ==\"3057\"or row['item_number'] ==\"3058\"or row['item_number'] ==\"3059\":\n",
        "          disease.append(\"Drug abuse\")\n",
        "        elif row['item_number'] ==\"F20\" or row['item_number'] ==\"F20.0\"or row['item_number'] ==\"29620\"or row['item_number'] ==\"29630\"or row['item_number'] ==\"29633\"or row['item_number'] ==\"29634\"or row['item_number'] ==\"29635\"or row['item_number'] ==\"29636\"or row['item_number'] ==\"29637\"or row['item_number'] ==\"29638\"or row['item_number'] ==\"29639\" or row['item_number'] ==\"F20.1\" or row['item_number'] ==\"F20.2\"or row['item_number'] ==\"F20.3\"or row['item_number'] ==\"F20.4\"or row['item_number'] ==\"F20.5\"or row['item_number'] ==\"F20.6\"or row['item_number'] ==\"F20.7\"or row['item_number'] ==\"F20.8\"or row['item_number'] ==\"F20.9\"or row['item_number'] ==\"F22\"or row['item_number'] ==\"F22.0\"or row['item_number'] ==\"F22.1\"or row['item_number'] ==\"F22.2\"or row['item_number'] ==\"F22.3\"or row['item_number'] ==\"F22.4\"or row['item_number'] ==\"F22.5\"or row['item_number'] ==\"F22.6\"or row['item_number'] ==\"F22.7\"or row['item_number'] ==\"F22.8\"or row['item_number'] ==\"F22.9\"or row['item_number'] ==\"F23\"or row['item_number'] ==\"F23.0\"or row['item_number'] ==\"F23.1\"or row['item_number'] ==\"F23.2\"or row['item_number'] ==\"F23.3\"or row['item_number'] ==\"F23.4\"or row['item_number'] ==\"F23.5\"or row['item_number'] ==\"F23.6\"or row['item_number'] ==\"F23.7\"or row['item_number'] ==\"F23.8\"or row['item_number'] ==\"F23.9\"or row['item_number'] ==\"F24\"or row['item_number'] ==\"F25\"or row['item_number'] ==\"F25.0\"or row['item_number'] ==\"F25.1\"or row['item_number'] ==\"F25.2\"or row['item_number'] ==\"F25.3\"or row['item_number'] ==\"F25.4\"or row['item_number'] ==\"F25.5\"or row['item_number'] ==\"F25.6\"or row['item_number'] ==\"F25.7\"or row['item_number'] ==\"F25.8\"or row['item_number'] ==\"F25.9\"or row['item_number'] ==\"F28\"or row['item_number'] ==\"F29\"or row['item_number'] ==\"F29.0\"or row['item_number'] ==\"F29.1\"or row['item_number'] ==\"F29.2\"or row['item_number'] ==\"F29.3\"or row['item_number'] ==\"F29.4\"or row['item_number'] ==\"F29.5\"or row['item_number'] ==\"F29.6\"or row['item_number'] ==\"F29.7\"or row['item_number'] ==\"F29.8\"or row['item_number'] ==\"F29.9\"or row['item_number'] ==\"F30.2\"or row['item_number'] ==\"F31.2\"or row['item_number'] ==\"F31.5\"or row['item_number'] ==\"F2950\"or row['item_number'] ==\"2951\"or row['item_number'] ==\"2952\"or row['item_number'] ==\"2953\"or row['item_number'] ==\"2954\"or row['item_number'] ==\"2955\"or row['item_number'] ==\"2956\"or row['item_number'] ==\"2957\"or row['item_number'] ==\"2958\"or row['item_number'] ==\"2959\"or row['item_number'] ==\"2960\"or row['item_number'] ==\"2961\"or row['item_number'] ==\"2962\"or row['item_number'] ==\"2963\"or row['item_number'] ==\"2964\"or row['item_number'] ==\"2965\"or row['item_number'] ==\"2966\"or row['item_number'] ==\"2967\"or row['item_number'] ==\"2968\"or row['item_number'] ==\"2969\"or row['item_number'] ==\"2990\"or row['item_number'] ==\"2971\"or row['item_number'] ==\"2972\"or row['item_number'] ==\"2973\"or row['item_number'] ==\"2974\"or row['item_number'] ==\"2975\"or row['item_number'] ==\"2976\"or row['item_number'] ==\"2977\"or row['item_number'] ==\"2978\"or row['item_number'] ==\"2979\"or row['item_number'] ==\"2980\"or row['item_number'] ==\"2981\"or row['item_number'] ==\"2982\"or row['item_number'] ==\"2983\"or row['item_number'] ==\"2984\"or row['item_number'] ==\"2985\"or row['item_number'] ==\"2986\"or row['item_number'] ==\"2987\"or row['item_number'] ==\"2988\"or row['item_number'] ==\"2989\"or row['item_number'] ==\"29910\"or row['item_number'] ==\"29911\":\n",
        "          disease.append(\"Psychoses\")\n",
        "        elif row['item_number'] ==\"F20.4\"or row['item_number'] ==\"f32\" or row['item_number'] ==\"f32.20\"or row['item_number'] ==\"f32.3\"or row['item_number'] ==\"F32.30\" or row['item_number'] ==\"F32.80\"or row['item_number'] ==\"F32.00\"or row['item_number'] ==\"F32.10\"or row['item_number'] ==\"f32.2\"or row['item_number'] ==\"F32.20\"or row['item_number'] ==\"F32.21\"or row['item_number'] ==\"F32.90\"or row['item_number'] ==\"F32.91\"or row['item_number'] ==\"f33\"or row['item_number'] ==\"f33.3\"or row['item_number'] ==\"f33.9\"or row['item_number'] ==\"F31.3\"or row['item_number'] ==\"F31.4\"or row['item_number'] ==\"F31.5\"or row['item_number'] ==\"F32\"or row['item_number'] ==\"F32.0\"or row['item_number'] ==\"F32.1\"or row['item_number'] ==\"F32.2\"or row['item_number'] ==\"F32.3\"or row['item_number'] ==\"F32.4\"or row['item_number'] ==\"F32.5\"or row['item_number'] ==\"F32.6\"or row['item_number'] ==\"F32.7\"or row['item_number'] ==\"F32.8\"or row['item_number'] ==\"F32.9\"or row['item_number'] ==\"F33\"or row['item_number'] ==\"F33.0\"or row['item_number'] ==\"F33.1\"or row['item_number'] ==\"F33.2\"or row['item_number'] ==\"F33.3\"or row['item_number'] ==\"F33.4\"or row['item_number'] ==\"F33.5\"or row['item_number'] ==\"F33.6\"or row['item_number'] ==\"F33.7\"or row['item_number'] ==\"F33.8\"or row['item_number'] ==\"F33.9\"or row['item_number'] ==\"F34.1\"or row['item_number'] ==\"F41.2\"or row['item_number'] ==\"F43.2\"or row['item_number'] ==\"3004\"or row['item_number'] ==\"30112\"or row['item_number'] ==\"3090\"or row['item_number'] ==\"3091\"or row['item_number'] ==\"311\":\n",
        "          disease.append('Depression')\n",
        "        else:\n",
        "          disease.append('Other')\n",
        "    return disease\n"
      ],
      "execution_count": 34,
      "outputs": []
    },
    {
      "cell_type": "code",
      "metadata": {
        "id": "VX9BlD750coW"
      },
      "source": [
        "df_non['disease'] = icd_to_disease(df_non)"
      ],
      "execution_count": 35,
      "outputs": []
    },
    {
      "cell_type": "code",
      "metadata": {
        "id": "Sgfa0_RbIRiH"
      },
      "source": [
        "df_other = df_non[df_non['disease']==\"Other\"]"
      ],
      "execution_count": 36,
      "outputs": []
    },
    {
      "cell_type": "code",
      "metadata": {
        "id": "PWhqcVA2IY1Q"
      },
      "source": [
        "df_non_disease = df_non.drop(df_non[df_non['disease']==\"Other\"].index)"
      ],
      "execution_count": 37,
      "outputs": []
    },
    {
      "cell_type": "code",
      "metadata": {
        "id": "Fx0jIsTeIwi8"
      },
      "source": [
        "def disease_to_id(df_disease):\n",
        "    disease_id = []\n",
        "    for i, row in df_disease.iterrows():\n",
        "        if row['disease'] ==\"Congestive heart failure\":\n",
        "          disease_id.append(\"1\")\n",
        "        elif row['disease'] ==\"Cardiac arrhythmias\":\n",
        "          disease_id.append(\"2\")\n",
        "        elif row['disease'] ==\"Valvular disease\":\n",
        "          disease_id.append(\"3\")\n",
        "        elif row['disease'] ==\"Pulmonary circulation disorders\":\n",
        "          disease_id.append(\"4\")\n",
        "        elif row['disease'] ==\"Peripheral vascular disorders\":\n",
        "          disease_id.append(\"5\")\n",
        "        elif row['disease'] ==\"Hypertension, uncomplicated and Hypertension, complicated\":\n",
        "          disease_id.append(\"6\")\n",
        "        elif row['disease'] ==\"Paralysis\":\n",
        "          disease_id.append(\"7\")\n",
        "        elif row['disease'] ==\"Other neurological disorders\":\n",
        "          disease_id.append(\"8\")\n",
        "        elif row['disease'] ==\"Chronic pulmonary disease\":\n",
        "          disease_id.append(\"9\")\n",
        "        elif row['disease'] ==\"Diabetes, uncomplicated\":\n",
        "          disease_id.append(\"10\")\n",
        "        elif row['disease'] ==\"Diabetes, complicated\":\n",
        "          disease_id.append(\"11\")\n",
        "        elif row['disease'] ==\"Hypothyroidism\":\n",
        "          disease_id.append(\"12\")\n",
        "        elif row['disease'] ==\"Renal failure\":\n",
        "          disease_id.append(\"13\")\n",
        "        elif row['disease'] ==\"Liver disease\":\n",
        "          disease_id.append(\"14\")\n",
        "        elif row['disease'] ==\"Peptic ulcer disease excluding bleeding\":\n",
        "          disease_id.append(\"15\")\n",
        "        elif row['disease'] ==\"AIDS/HIV\":\n",
        "          disease_id.append(\"16\")\n",
        "        elif row['disease'] ==\"Lymphoma\":\n",
        "          disease_id.append(\"17\")\n",
        "        elif row['disease'] ==\"Metastatic cancer\":\n",
        "          disease_id.append(\"18\")\n",
        "        elif row['disease'] ==\"Solid tumor without metastasis\":\n",
        "          disease_id.append(\"19\")\n",
        "        elif row['disease'] ==\"Rheumatoid arthritis/ collagen vascular diseases\":\n",
        "          disease_id.append(\"20\")\n",
        "        elif row['disease'] ==\"Coagulopathy\":\n",
        "          disease_id.append(\"21\")\n",
        "        elif row['disease'] ==\"Obesity\":\n",
        "          disease_id.append(\"22\")\n",
        "        elif row['disease'] ==\"Weight Loss\":\n",
        "          disease_id.append(\"23\")\n",
        "        elif row['disease'] ==\"Fluid and electrolyte disorders\":\n",
        "          disease_id.append(\"24\")\n",
        "        elif row['disease'] ==\"Blood loss anemia\":\n",
        "          disease_id.append(\"25\")\n",
        "        elif row['disease'] ==\"Deficiency anemia\":\n",
        "          disease_id.append(\"26\")\n",
        "        elif row['disease'] ==\"Alcohol abuse\":\n",
        "          disease_id.append(\"27\")\n",
        "        elif row['disease'] ==\"Drug abuse\":\n",
        "          disease_id.append(\"28\")\n",
        "        elif row['disease'] ==\"Psychoses\":\n",
        "          disease_id.append(\"29\")\n",
        "        elif row['disease'] ==\"Depression\":\n",
        "          disease_id.append(\"30\")\n",
        "        else:\n",
        "          disease_id.append(\"Other\")\n",
        "    return disease_id"
      ],
      "execution_count": 38,
      "outputs": []
    },
    {
      "cell_type": "code",
      "metadata": {
        "id": "M2BTbz-LI0B7"
      },
      "source": [
        "df_non_disease['disease_id'] = disease_to_id(df_non_disease)\n",
        "df_other2 = df_non_disease[df_non_disease['disease_id']==\"Other\"]\n",
        "df_diseaseonly1 = df_non_disease.drop_duplicates(subset=['person_id'], keep=False)\n",
        "data_non=pd.concat([df_non_disease,df_diseaseonly1]).drop_duplicates(keep=False)\n",
        "topdisease_non = data_non.groupby(['item_number']).agg({'item_number': 'count'})\n",
        "topdisease_non['proportion']=topdisease_non['item_number']/len(data_non)*100\n",
        "topdisease_non.sort_values(by='proportion', ascending=False)\n",
        "toppatient = data_non.groupby(['person_id']).agg({'person_id': 'count'})\n",
        "toppatient['proportion']=toppatient['person_id']/len(data_non) *100\n",
        "topnonP = toppatient.sort_values(by='proportion', ascending=False)\n",
        "topnonP50 = topnonP[topnonP['person_id']>50]\n",
        "topnonP50_index = topnonP50.index\n",
        "topnonP50list = topnonP50_index.tolist()\n",
        "df_non_disease = df_non_disease[-df_non_disease['person_id'].isin(topnonP50list)]\n",
        "df_non_u = pd.DataFrame(df_non_disease, columns=['person_id', 'item_number'])\n",
        "onlyinnon = df_non_u[-df_non_u['item_number'].isin(itemcpd)]\n",
        "df_non_u = pd.DataFrame(df_non_disease, columns=['person_id', 'item_number'])\n",
        "onlyinnon = df_non_u[-df_non_u['item_number'].isin(itemcpd)]\n",
        "onlyinnonlist = onlyinnon['person_id'].tolist()\n",
        "df_non_u = df_non_u[df_non_u['person_id'].isin(onlyinnonlist)]\n",
        "df_non_u['Size']=3\n",
        "df_non_u=df_non_u.groupby([\"person_id\", \"item_number\"], as_index=False)['Size'].count()"
      ],
      "execution_count": 41,
      "outputs": []
    },
    {
      "cell_type": "code",
      "metadata": {
        "id": "PjZWkv_-Ntva"
      },
      "source": [
        "df_non_u.to_csv(\"b1.csv\", sep=',')\n",
        "user_non_df = pd.DataFrame(df_non_disease, columns=['person_id', 'gender','age','smoker','CPD'])"
      ],
      "execution_count": 42,
      "outputs": []
    },
    {
      "cell_type": "code",
      "metadata": {
        "id": "Grrx0RBuE-vM"
      },
      "source": [
        "user_non_df = pd.DataFrame(df_non_disease, columns=['person_id', 'gender','age','smoker','CPD'])"
      ],
      "execution_count": 43,
      "outputs": []
    },
    {
      "cell_type": "code",
      "metadata": {
        "id": "EZTDyDlhFO_q"
      },
      "source": [
        "user_non_df = user_non_df.drop_duplicates(subset = 'person_id', keep = 'last')"
      ],
      "execution_count": 44,
      "outputs": []
    },
    {
      "cell_type": "code",
      "metadata": {
        "id": "TMIR83u_2qDs"
      },
      "source": [
        "B = list(set(df_non_u.person_id))"
      ],
      "execution_count": 45,
      "outputs": []
    },
    {
      "cell_type": "code",
      "metadata": {
        "colab": {
          "base_uri": "https://localhost:8080/"
        },
        "id": "tVbTXrGw2rpN",
        "outputId": "63cf5e67-f3c4-4b70-b9af-4142463e009a"
      },
      "source": [
        "len(B)"
      ],
      "execution_count": 46,
      "outputs": [
        {
          "output_type": "execute_result",
          "data": {
            "text/plain": [
              "4056"
            ]
          },
          "metadata": {},
          "execution_count": 46
        }
      ]
    },
    {
      "cell_type": "code",
      "metadata": {
        "id": "ojkA9gnGF6yv"
      },
      "source": [
        "#B = list(set(user_non_t2d_df.person_id))\n",
        "\n",
        "import random\n",
        "random.seed(2)\n",
        "ranB = B[:1024]"
      ],
      "execution_count": 47,
      "outputs": []
    },
    {
      "cell_type": "code",
      "metadata": {
        "colab": {
          "base_uri": "https://localhost:8080/"
        },
        "id": "CIEX31cgHUrI",
        "outputId": "fe85fa19-3e0d-408b-8d51-2c6b66db0e6c"
      },
      "source": [
        "len(ranB )"
      ],
      "execution_count": 48,
      "outputs": [
        {
          "output_type": "execute_result",
          "data": {
            "text/plain": [
              "1024"
            ]
          },
          "metadata": {},
          "execution_count": 48
        }
      ]
    },
    {
      "cell_type": "code",
      "metadata": {
        "id": "CnX8VdQLGMW-"
      },
      "source": [
        "user_non_df = user_non_df[user_non_df['person_id'].isin(ranB)]\n",
        "user_non_df = user_non_df.sort_values(by=\"person_id\")\n",
        "C = list(set(user_non_df.person_id))"
      ],
      "execution_count": 49,
      "outputs": []
    },
    {
      "cell_type": "code",
      "metadata": {
        "id": "aeJFSR8nH8TB"
      },
      "source": [
        "df_non_u = df_non_u[df_non_u['person_id'].isin(C)]\n",
        "user_non_df = user_non_df.reset_index(drop = True)\n",
        "user_non_df.index = np.arange(len(user_df)+1, len(user_df)+len(user_non_df)+1)\n",
        "user_non_df = user_non_df.reset_index()\n",
        "user_non_df = user_non_df.rename(columns={\"index\": \"patient_id\"})"
      ],
      "execution_count": 52,
      "outputs": []
    },
    {
      "cell_type": "markdown",
      "metadata": {
        "id": "BLWgJNVdIHOn"
      },
      "source": [
        "# concat t2d and non t2d"
      ]
    },
    {
      "cell_type": "code",
      "metadata": {
        "id": "RC7AeHSnIfrl"
      },
      "source": [
        "user_non_df[\"T2D\"]=0"
      ],
      "execution_count": 53,
      "outputs": []
    },
    {
      "cell_type": "code",
      "metadata": {
        "id": "PzZtba9iIp4_"
      },
      "source": [
        "user_df = pd.concat([user_df, user_non_df])"
      ],
      "execution_count": 57,
      "outputs": []
    },
    {
      "cell_type": "code",
      "metadata": {
        "id": "x5h2fpWxM4nq"
      },
      "source": [
        "user_df = user_df.reset_index(drop=True)"
      ],
      "execution_count": 58,
      "outputs": []
    },
    {
      "cell_type": "code",
      "metadata": {
        "id": "mavzjY6hI-Nk"
      },
      "source": [
        "from sklearn.utils import shuffle\n",
        "\n",
        "user_df = shuffle(user_df, random_state=2)"
      ],
      "execution_count": 60,
      "outputs": []
    },
    {
      "cell_type": "code",
      "metadata": {
        "id": "Z3GKuNTpMi7e"
      },
      "source": [
        "from sklearn.preprocessing import MinMaxScaler\n",
        "import pandas as pd\n",
        "\n",
        "scaler=MinMaxScaler()\n",
        "\n",
        "user_df['age'] = scaler.fit_transform(user_df[[\"age\"]])"
      ],
      "execution_count": 61,
      "outputs": []
    },
    {
      "cell_type": "code",
      "metadata": {
        "colab": {
          "base_uri": "https://localhost:8080/"
        },
        "id": "5VlbXQlfPbcu",
        "outputId": "bab55042-aa72-437f-ed7c-3a320009074b"
      },
      "source": [
        "user_df['gender'][user_df['gender'] == 'M'] = 1\n",
        "user_df['gender'][user_df['gender'] == 'F'] = 0"
      ],
      "execution_count": 62,
      "outputs": [
        {
          "output_type": "stream",
          "name": "stderr",
          "text": [
            "<ipython-input-62-5be2934181de>:1: SettingWithCopyWarning: \n",
            "A value is trying to be set on a copy of a slice from a DataFrame\n",
            "\n",
            "See the caveats in the documentation: https://pandas.pydata.org/pandas-docs/stable/user_guide/indexing.html#returning-a-view-versus-a-copy\n",
            "  user_df['gender'][user_df['gender'] == 'M'] = 1\n",
            "<ipython-input-62-5be2934181de>:2: SettingWithCopyWarning: \n",
            "A value is trying to be set on a copy of a slice from a DataFrame\n",
            "\n",
            "See the caveats in the documentation: https://pandas.pydata.org/pandas-docs/stable/user_guide/indexing.html#returning-a-view-versus-a-copy\n",
            "  user_df['gender'][user_df['gender'] == 'F'] = 0\n"
          ]
        }
      ]
    },
    {
      "cell_type": "code",
      "metadata": {
        "colab": {
          "base_uri": "https://localhost:8080/",
          "height": 419
        },
        "id": "HSQwBs7HNzqN",
        "outputId": "e4f51b4b-c7cd-4f7d-bed7-4b0647a6c3d7"
      },
      "source": [
        "user_df"
      ],
      "execution_count": 63,
      "outputs": [
        {
          "output_type": "execute_result",
          "data": {
            "text/plain": [
              "      patient_id  person_id gender       age  smoker  T2D  CPD\n",
              "1182        1183       9727      1  0.756522       0    0  NaN\n",
              "757          758  200244442      0  0.669565       0    1  NaN\n",
              "599          600      58844      0  0.721739       0    1  NaN\n",
              "284          285      54738      1  0.521739       0    1  NaN\n",
              "1719        1720     148364      0  0.217391       0    0  NaN\n",
              "...          ...        ...    ...       ...     ...  ...  ...\n",
              "1071        1072       1055      1  0.843478       0    0  NaN\n",
              "433          434       5287      0  0.626087       0    1  NaN\n",
              "674          675      11105      1  0.504348       0    1  NaN\n",
              "1099        1100       1377      1  0.817391       0    0  NaN\n",
              "1608        1609     115508      1  0.426087       0    0  NaN\n",
              "\n",
              "[2063 rows x 7 columns]"
            ],
            "text/html": [
              "\n",
              "  <div id=\"df-7d024580-6ee5-41d1-9cd0-b43c3f809fe1\">\n",
              "    <div class=\"colab-df-container\">\n",
              "      <div>\n",
              "<style scoped>\n",
              "    .dataframe tbody tr th:only-of-type {\n",
              "        vertical-align: middle;\n",
              "    }\n",
              "\n",
              "    .dataframe tbody tr th {\n",
              "        vertical-align: top;\n",
              "    }\n",
              "\n",
              "    .dataframe thead th {\n",
              "        text-align: right;\n",
              "    }\n",
              "</style>\n",
              "<table border=\"1\" class=\"dataframe\">\n",
              "  <thead>\n",
              "    <tr style=\"text-align: right;\">\n",
              "      <th></th>\n",
              "      <th>patient_id</th>\n",
              "      <th>person_id</th>\n",
              "      <th>gender</th>\n",
              "      <th>age</th>\n",
              "      <th>smoker</th>\n",
              "      <th>T2D</th>\n",
              "      <th>CPD</th>\n",
              "    </tr>\n",
              "  </thead>\n",
              "  <tbody>\n",
              "    <tr>\n",
              "      <th>1182</th>\n",
              "      <td>1183</td>\n",
              "      <td>9727</td>\n",
              "      <td>1</td>\n",
              "      <td>0.756522</td>\n",
              "      <td>0</td>\n",
              "      <td>0</td>\n",
              "      <td>NaN</td>\n",
              "    </tr>\n",
              "    <tr>\n",
              "      <th>757</th>\n",
              "      <td>758</td>\n",
              "      <td>200244442</td>\n",
              "      <td>0</td>\n",
              "      <td>0.669565</td>\n",
              "      <td>0</td>\n",
              "      <td>1</td>\n",
              "      <td>NaN</td>\n",
              "    </tr>\n",
              "    <tr>\n",
              "      <th>599</th>\n",
              "      <td>600</td>\n",
              "      <td>58844</td>\n",
              "      <td>0</td>\n",
              "      <td>0.721739</td>\n",
              "      <td>0</td>\n",
              "      <td>1</td>\n",
              "      <td>NaN</td>\n",
              "    </tr>\n",
              "    <tr>\n",
              "      <th>284</th>\n",
              "      <td>285</td>\n",
              "      <td>54738</td>\n",
              "      <td>1</td>\n",
              "      <td>0.521739</td>\n",
              "      <td>0</td>\n",
              "      <td>1</td>\n",
              "      <td>NaN</td>\n",
              "    </tr>\n",
              "    <tr>\n",
              "      <th>1719</th>\n",
              "      <td>1720</td>\n",
              "      <td>148364</td>\n",
              "      <td>0</td>\n",
              "      <td>0.217391</td>\n",
              "      <td>0</td>\n",
              "      <td>0</td>\n",
              "      <td>NaN</td>\n",
              "    </tr>\n",
              "    <tr>\n",
              "      <th>...</th>\n",
              "      <td>...</td>\n",
              "      <td>...</td>\n",
              "      <td>...</td>\n",
              "      <td>...</td>\n",
              "      <td>...</td>\n",
              "      <td>...</td>\n",
              "      <td>...</td>\n",
              "    </tr>\n",
              "    <tr>\n",
              "      <th>1071</th>\n",
              "      <td>1072</td>\n",
              "      <td>1055</td>\n",
              "      <td>1</td>\n",
              "      <td>0.843478</td>\n",
              "      <td>0</td>\n",
              "      <td>0</td>\n",
              "      <td>NaN</td>\n",
              "    </tr>\n",
              "    <tr>\n",
              "      <th>433</th>\n",
              "      <td>434</td>\n",
              "      <td>5287</td>\n",
              "      <td>0</td>\n",
              "      <td>0.626087</td>\n",
              "      <td>0</td>\n",
              "      <td>1</td>\n",
              "      <td>NaN</td>\n",
              "    </tr>\n",
              "    <tr>\n",
              "      <th>674</th>\n",
              "      <td>675</td>\n",
              "      <td>11105</td>\n",
              "      <td>1</td>\n",
              "      <td>0.504348</td>\n",
              "      <td>0</td>\n",
              "      <td>1</td>\n",
              "      <td>NaN</td>\n",
              "    </tr>\n",
              "    <tr>\n",
              "      <th>1099</th>\n",
              "      <td>1100</td>\n",
              "      <td>1377</td>\n",
              "      <td>1</td>\n",
              "      <td>0.817391</td>\n",
              "      <td>0</td>\n",
              "      <td>0</td>\n",
              "      <td>NaN</td>\n",
              "    </tr>\n",
              "    <tr>\n",
              "      <th>1608</th>\n",
              "      <td>1609</td>\n",
              "      <td>115508</td>\n",
              "      <td>1</td>\n",
              "      <td>0.426087</td>\n",
              "      <td>0</td>\n",
              "      <td>0</td>\n",
              "      <td>NaN</td>\n",
              "    </tr>\n",
              "  </tbody>\n",
              "</table>\n",
              "<p>2063 rows × 7 columns</p>\n",
              "</div>\n",
              "      <button class=\"colab-df-convert\" onclick=\"convertToInteractive('df-7d024580-6ee5-41d1-9cd0-b43c3f809fe1')\"\n",
              "              title=\"Convert this dataframe to an interactive table.\"\n",
              "              style=\"display:none;\">\n",
              "        \n",
              "  <svg xmlns=\"http://www.w3.org/2000/svg\" height=\"24px\"viewBox=\"0 0 24 24\"\n",
              "       width=\"24px\">\n",
              "    <path d=\"M0 0h24v24H0V0z\" fill=\"none\"/>\n",
              "    <path d=\"M18.56 5.44l.94 2.06.94-2.06 2.06-.94-2.06-.94-.94-2.06-.94 2.06-2.06.94zm-11 1L8.5 8.5l.94-2.06 2.06-.94-2.06-.94L8.5 2.5l-.94 2.06-2.06.94zm10 10l.94 2.06.94-2.06 2.06-.94-2.06-.94-.94-2.06-.94 2.06-2.06.94z\"/><path d=\"M17.41 7.96l-1.37-1.37c-.4-.4-.92-.59-1.43-.59-.52 0-1.04.2-1.43.59L10.3 9.45l-7.72 7.72c-.78.78-.78 2.05 0 2.83L4 21.41c.39.39.9.59 1.41.59.51 0 1.02-.2 1.41-.59l7.78-7.78 2.81-2.81c.8-.78.8-2.07 0-2.86zM5.41 20L4 18.59l7.72-7.72 1.47 1.35L5.41 20z\"/>\n",
              "  </svg>\n",
              "      </button>\n",
              "      \n",
              "  <style>\n",
              "    .colab-df-container {\n",
              "      display:flex;\n",
              "      flex-wrap:wrap;\n",
              "      gap: 12px;\n",
              "    }\n",
              "\n",
              "    .colab-df-convert {\n",
              "      background-color: #E8F0FE;\n",
              "      border: none;\n",
              "      border-radius: 50%;\n",
              "      cursor: pointer;\n",
              "      display: none;\n",
              "      fill: #1967D2;\n",
              "      height: 32px;\n",
              "      padding: 0 0 0 0;\n",
              "      width: 32px;\n",
              "    }\n",
              "\n",
              "    .colab-df-convert:hover {\n",
              "      background-color: #E2EBFA;\n",
              "      box-shadow: 0px 1px 2px rgba(60, 64, 67, 0.3), 0px 1px 3px 1px rgba(60, 64, 67, 0.15);\n",
              "      fill: #174EA6;\n",
              "    }\n",
              "\n",
              "    [theme=dark] .colab-df-convert {\n",
              "      background-color: #3B4455;\n",
              "      fill: #D2E3FC;\n",
              "    }\n",
              "\n",
              "    [theme=dark] .colab-df-convert:hover {\n",
              "      background-color: #434B5C;\n",
              "      box-shadow: 0px 1px 3px 1px rgba(0, 0, 0, 0.15);\n",
              "      filter: drop-shadow(0px 1px 2px rgba(0, 0, 0, 0.3));\n",
              "      fill: #FFFFFF;\n",
              "    }\n",
              "  </style>\n",
              "\n",
              "      <script>\n",
              "        const buttonEl =\n",
              "          document.querySelector('#df-7d024580-6ee5-41d1-9cd0-b43c3f809fe1 button.colab-df-convert');\n",
              "        buttonEl.style.display =\n",
              "          google.colab.kernel.accessAllowed ? 'block' : 'none';\n",
              "\n",
              "        async function convertToInteractive(key) {\n",
              "          const element = document.querySelector('#df-7d024580-6ee5-41d1-9cd0-b43c3f809fe1');\n",
              "          const dataTable =\n",
              "            await google.colab.kernel.invokeFunction('convertToInteractive',\n",
              "                                                     [key], {});\n",
              "          if (!dataTable) return;\n",
              "\n",
              "          const docLinkHtml = 'Like what you see? Visit the ' +\n",
              "            '<a target=\"_blank\" href=https://colab.research.google.com/notebooks/data_table.ipynb>data table notebook</a>'\n",
              "            + ' to learn more about interactive tables.';\n",
              "          element.innerHTML = '';\n",
              "          dataTable['output_type'] = 'display_data';\n",
              "          await google.colab.output.renderOutput(dataTable, element);\n",
              "          const docLink = document.createElement('div');\n",
              "          docLink.innerHTML = docLinkHtml;\n",
              "          element.appendChild(docLink);\n",
              "        }\n",
              "      </script>\n",
              "    </div>\n",
              "  </div>\n",
              "  "
            ]
          },
          "metadata": {},
          "execution_count": 63
        }
      ]
    },
    {
      "cell_type": "code",
      "metadata": {
        "id": "C42iYVcCJVts"
      },
      "source": [
        "user_df.to_csv(\"patient.csv\", index = False)\n",
        "df_non_u['patient_id']=df_non_u['person_id'].rank(ascending=1, method='dense')\n",
        "df_non_u['patient_id'] = df_non_u['patient_id'].astype('int32')"
      ],
      "execution_count": 64,
      "outputs": []
    },
    {
      "cell_type": "code",
      "metadata": {
        "id": "Of8NKnMWOEQg"
      },
      "source": [
        "df_non_u['patient_id'] = df_non_u['patient_id'] + 1024"
      ],
      "execution_count": 66,
      "outputs": []
    },
    {
      "cell_type": "code",
      "metadata": {
        "id": "YZ4mumt0RqV7"
      },
      "source": [
        "df_non_u = pd.DataFrame(df_non_u, columns=['patient_id', 'item_number','Size', 'person_id'])\n",
        "df_u = pd.concat([df_u, df_non_u])\n",
        "from sklearn.utils import shuffle\n",
        "df_u = shuffle(df_u, random_state=2)"
      ],
      "execution_count": 67,
      "outputs": []
    },
    {
      "cell_type": "code",
      "metadata": {
        "id": "-PpmaTZJJ59_"
      },
      "source": [
        "df_u.to_csv(\"graph.csv\", index = False)"
      ],
      "execution_count": 74,
      "outputs": []
    },
    {
      "cell_type": "code",
      "source": [],
      "metadata": {
        "id": "m3XwFBH6qo66"
      },
      "execution_count": null,
      "outputs": []
    }
  ]
}