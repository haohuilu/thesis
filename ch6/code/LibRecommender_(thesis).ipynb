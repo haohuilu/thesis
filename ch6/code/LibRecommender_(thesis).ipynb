{
  "nbformat": 4,
  "nbformat_minor": 0,
  "metadata": {
    "colab": {
      "provenance": []
    },
    "kernelspec": {
      "name": "python3",
      "display_name": "Python 3"
    },
    "language_info": {
      "name": "python"
    }
  },
  "cells": [
    {
      "cell_type": "code",
      "metadata": {
        "colab": {
          "base_uri": "https://localhost:8080/"
        },
        "id": "IcIvSpU-vb-H",
        "outputId": "50ac57ee-5a54-436d-9cb3-174b24e76605"
      },
      "source": [
        "! pip install LibRecommender"
      ],
      "execution_count": 1,
      "outputs": [
        {
          "output_type": "stream",
          "name": "stdout",
          "text": [
            "Collecting LibRecommender\n",
            "  Downloading LibRecommender-1.2.2-cp310-cp310-manylinux_2_17_x86_64.manylinux2014_x86_64.whl (2.1 MB)\n",
            "\u001b[?25l     \u001b[90m━━━━━━━━━━━━━━━━━━━━━━━━━━━━━━━━━━━━━━━━\u001b[0m \u001b[32m0.0/2.1 MB\u001b[0m \u001b[31m?\u001b[0m eta \u001b[36m-:--:--\u001b[0m\r\u001b[2K     \u001b[91m━━━━━━━━━━━━━\u001b[0m\u001b[90m╺\u001b[0m\u001b[90m━━━━━━━━━━━━━━━━━━━━━━━━━━\u001b[0m \u001b[32m0.7/2.1 MB\u001b[0m \u001b[31m20.8 MB/s\u001b[0m eta \u001b[36m0:00:01\u001b[0m\r\u001b[2K     \u001b[91m━━━━━━━━━━━━━━━━━━━━━━━━━━━━━━━━━━━━━━━\u001b[0m\u001b[91m╸\u001b[0m \u001b[32m2.1/2.1 MB\u001b[0m \u001b[31m45.5 MB/s\u001b[0m eta \u001b[36m0:00:01\u001b[0m\r\u001b[2K     \u001b[90m━━━━━━━━━━━━━━━━━━━━━━━━━━━━━━━━━━━━━━━━\u001b[0m \u001b[32m2.1/2.1 MB\u001b[0m \u001b[31m22.0 MB/s\u001b[0m eta \u001b[36m0:00:00\u001b[0m\n",
            "\u001b[?25hRequirement already satisfied: gensim>=4.0.0 in /usr/local/lib/python3.10/dist-packages (from LibRecommender) (4.3.1)\n",
            "Requirement already satisfied: tqdm in /usr/local/lib/python3.10/dist-packages (from LibRecommender) (4.65.0)\n",
            "Requirement already satisfied: numpy>=1.18.5 in /usr/local/lib/python3.10/dist-packages (from gensim>=4.0.0->LibRecommender) (1.22.4)\n",
            "Requirement already satisfied: scipy>=1.7.0 in /usr/local/lib/python3.10/dist-packages (from gensim>=4.0.0->LibRecommender) (1.10.1)\n",
            "Requirement already satisfied: smart-open>=1.8.1 in /usr/local/lib/python3.10/dist-packages (from gensim>=4.0.0->LibRecommender) (6.3.0)\n",
            "Installing collected packages: LibRecommender\n",
            "Successfully installed LibRecommender-1.2.2\n"
          ]
        }
      ]
    },
    {
      "cell_type": "code",
      "metadata": {
        "id": "wHdmbteFvrCa",
        "colab": {
          "base_uri": "https://localhost:8080/"
        },
        "outputId": "f6813b31-17e6-46ba-aeaa-b4066f68a3a9"
      },
      "source": [
        "import time\n",
        "import numpy as np\n",
        "import pandas as pd\n",
        "from libreco.data import split_by_ratio_chrono, DatasetFeat, split_by_ratio, random_split, split_by_num\n",
        "from libreco.algorithms import FM, WideDeep, DeepFM, AutoInt, DIN\n",
        "\n"
      ],
      "execution_count": 2,
      "outputs": [
        {
          "output_type": "stream",
          "name": "stderr",
          "text": [
            "WARNING:tensorflow:From /usr/local/lib/python3.10/dist-packages/tensorflow/python/compat/v2_compat.py:107: disable_resource_variables (from tensorflow.python.ops.variable_scope) is deprecated and will be removed in a future version.\n",
            "Instructions for updating:\n",
            "non-resource variables are not supported in the long term\n"
          ]
        }
      ]
    },
    {
      "cell_type": "code",
      "metadata": {
        "id": "ZCp2pUaJ6EJ0"
      },
      "source": [
        "import os\n",
        "import tensorflow as tf\n",
        "os.environ['TF_CPP_MIN_LOG_LEVEL'] = '3'\n",
        "os.environ[\"KMP_WARNINGS\"] = \"FALSE\"\n",
        "tf.compat.v1.logging.set_verbosity(tf.compat.v1.logging.ERROR)\n"
      ],
      "execution_count": 3,
      "outputs": []
    },
    {
      "cell_type": "code",
      "metadata": {
        "id": "aWNEQsZi6G4i"
      },
      "source": [
        "def reset_state(name):\n",
        "    tf.compat.v1.reset_default_graph()\n",
        "    print(\"\\n\", \"=\" * 30, name, \"=\" * 30)"
      ],
      "execution_count": 4,
      "outputs": []
    },
    {
      "cell_type": "code",
      "metadata": {
        "id": "f4vRf9jcXSoy"
      },
      "source": [
        "import pandas as pd\n",
        "#start_time = time.perf_counter()\n",
        "data = pd.read_csv(\"patientrs.csv\",sep=\",\", header=0)\n",
        "train_data, eval_data = split_by_ratio(data, test_size=0.2)\n"
      ],
      "execution_count": 13,
      "outputs": []
    },
    {
      "cell_type": "code",
      "metadata": {
        "colab": {
          "base_uri": "https://localhost:8080/",
          "height": 248
        },
        "id": "_Id1I_HpRUXr",
        "outputId": "1aa127f0-8407-40a3-ec9b-c8dd5dadeffe"
      },
      "source": [
        "data.head()"
      ],
      "execution_count": 14,
      "outputs": [
        {
          "output_type": "execute_result",
          "data": {
            "text/plain": [
              "   user  item  label  person_id  \\\n",
              "0     1     6      1          2   \n",
              "1     1    24      1          2   \n",
              "2     2     2      1         49   \n",
              "3     2    24      1         49   \n",
              "4     2    32      1         49   \n",
              "\n",
              "                                             disease  age gender  \\\n",
              "0  Hypertension, uncomplicated and Hypertension, ...  108      F   \n",
              "1                    Fluid and electrolyte disorders  108      F   \n",
              "2                                Cardiac arrhythmias  117      F   \n",
              "3                    Fluid and electrolyte disorders  117      F   \n",
              "4                            Cerebrovascular disease  117      F   \n",
              "\n",
              "   DEGREE_CENTRALITY  EIGENVECTOR  BETWEENNESS_CENTRALITY  CLUSTCOEF  \\\n",
              "0                1.0     0.092622                     0.0   0.035508   \n",
              "1                1.0     0.307246                     0.0   0.074907   \n",
              "2                1.0     0.339093                     0.0   0.078110   \n",
              "3                1.0     0.307246                     0.0   0.074907   \n",
              "4                1.0     0.123452                     0.0   0.040629   \n",
              "\n",
              "   PAGERANK  Comorbidities  Behavioural  Mental  \n",
              "0  0.024782              1            0       0  \n",
              "1  0.069379              1            0       0  \n",
              "2  0.074771              1            0       0  \n",
              "3  0.069379              1            0       0  \n",
              "4  0.031130              1            0       0  "
            ],
            "text/html": [
              "\n",
              "  <div id=\"df-2e5e00cf-a43d-49ea-b3be-6325a85e1460\">\n",
              "    <div class=\"colab-df-container\">\n",
              "      <div>\n",
              "<style scoped>\n",
              "    .dataframe tbody tr th:only-of-type {\n",
              "        vertical-align: middle;\n",
              "    }\n",
              "\n",
              "    .dataframe tbody tr th {\n",
              "        vertical-align: top;\n",
              "    }\n",
              "\n",
              "    .dataframe thead th {\n",
              "        text-align: right;\n",
              "    }\n",
              "</style>\n",
              "<table border=\"1\" class=\"dataframe\">\n",
              "  <thead>\n",
              "    <tr style=\"text-align: right;\">\n",
              "      <th></th>\n",
              "      <th>user</th>\n",
              "      <th>item</th>\n",
              "      <th>label</th>\n",
              "      <th>person_id</th>\n",
              "      <th>disease</th>\n",
              "      <th>age</th>\n",
              "      <th>gender</th>\n",
              "      <th>DEGREE_CENTRALITY</th>\n",
              "      <th>EIGENVECTOR</th>\n",
              "      <th>BETWEENNESS_CENTRALITY</th>\n",
              "      <th>CLUSTCOEF</th>\n",
              "      <th>PAGERANK</th>\n",
              "      <th>Comorbidities</th>\n",
              "      <th>Behavioural</th>\n",
              "      <th>Mental</th>\n",
              "    </tr>\n",
              "  </thead>\n",
              "  <tbody>\n",
              "    <tr>\n",
              "      <th>0</th>\n",
              "      <td>1</td>\n",
              "      <td>6</td>\n",
              "      <td>1</td>\n",
              "      <td>2</td>\n",
              "      <td>Hypertension, uncomplicated and Hypertension, ...</td>\n",
              "      <td>108</td>\n",
              "      <td>F</td>\n",
              "      <td>1.0</td>\n",
              "      <td>0.092622</td>\n",
              "      <td>0.0</td>\n",
              "      <td>0.035508</td>\n",
              "      <td>0.024782</td>\n",
              "      <td>1</td>\n",
              "      <td>0</td>\n",
              "      <td>0</td>\n",
              "    </tr>\n",
              "    <tr>\n",
              "      <th>1</th>\n",
              "      <td>1</td>\n",
              "      <td>24</td>\n",
              "      <td>1</td>\n",
              "      <td>2</td>\n",
              "      <td>Fluid and electrolyte disorders</td>\n",
              "      <td>108</td>\n",
              "      <td>F</td>\n",
              "      <td>1.0</td>\n",
              "      <td>0.307246</td>\n",
              "      <td>0.0</td>\n",
              "      <td>0.074907</td>\n",
              "      <td>0.069379</td>\n",
              "      <td>1</td>\n",
              "      <td>0</td>\n",
              "      <td>0</td>\n",
              "    </tr>\n",
              "    <tr>\n",
              "      <th>2</th>\n",
              "      <td>2</td>\n",
              "      <td>2</td>\n",
              "      <td>1</td>\n",
              "      <td>49</td>\n",
              "      <td>Cardiac arrhythmias</td>\n",
              "      <td>117</td>\n",
              "      <td>F</td>\n",
              "      <td>1.0</td>\n",
              "      <td>0.339093</td>\n",
              "      <td>0.0</td>\n",
              "      <td>0.078110</td>\n",
              "      <td>0.074771</td>\n",
              "      <td>1</td>\n",
              "      <td>0</td>\n",
              "      <td>0</td>\n",
              "    </tr>\n",
              "    <tr>\n",
              "      <th>3</th>\n",
              "      <td>2</td>\n",
              "      <td>24</td>\n",
              "      <td>1</td>\n",
              "      <td>49</td>\n",
              "      <td>Fluid and electrolyte disorders</td>\n",
              "      <td>117</td>\n",
              "      <td>F</td>\n",
              "      <td>1.0</td>\n",
              "      <td>0.307246</td>\n",
              "      <td>0.0</td>\n",
              "      <td>0.074907</td>\n",
              "      <td>0.069379</td>\n",
              "      <td>1</td>\n",
              "      <td>0</td>\n",
              "      <td>0</td>\n",
              "    </tr>\n",
              "    <tr>\n",
              "      <th>4</th>\n",
              "      <td>2</td>\n",
              "      <td>32</td>\n",
              "      <td>1</td>\n",
              "      <td>49</td>\n",
              "      <td>Cerebrovascular disease</td>\n",
              "      <td>117</td>\n",
              "      <td>F</td>\n",
              "      <td>1.0</td>\n",
              "      <td>0.123452</td>\n",
              "      <td>0.0</td>\n",
              "      <td>0.040629</td>\n",
              "      <td>0.031130</td>\n",
              "      <td>1</td>\n",
              "      <td>0</td>\n",
              "      <td>0</td>\n",
              "    </tr>\n",
              "  </tbody>\n",
              "</table>\n",
              "</div>\n",
              "      <button class=\"colab-df-convert\" onclick=\"convertToInteractive('df-2e5e00cf-a43d-49ea-b3be-6325a85e1460')\"\n",
              "              title=\"Convert this dataframe to an interactive table.\"\n",
              "              style=\"display:none;\">\n",
              "        \n",
              "  <svg xmlns=\"http://www.w3.org/2000/svg\" height=\"24px\"viewBox=\"0 0 24 24\"\n",
              "       width=\"24px\">\n",
              "    <path d=\"M0 0h24v24H0V0z\" fill=\"none\"/>\n",
              "    <path d=\"M18.56 5.44l.94 2.06.94-2.06 2.06-.94-2.06-.94-.94-2.06-.94 2.06-2.06.94zm-11 1L8.5 8.5l.94-2.06 2.06-.94-2.06-.94L8.5 2.5l-.94 2.06-2.06.94zm10 10l.94 2.06.94-2.06 2.06-.94-2.06-.94-.94-2.06-.94 2.06-2.06.94z\"/><path d=\"M17.41 7.96l-1.37-1.37c-.4-.4-.92-.59-1.43-.59-.52 0-1.04.2-1.43.59L10.3 9.45l-7.72 7.72c-.78.78-.78 2.05 0 2.83L4 21.41c.39.39.9.59 1.41.59.51 0 1.02-.2 1.41-.59l7.78-7.78 2.81-2.81c.8-.78.8-2.07 0-2.86zM5.41 20L4 18.59l7.72-7.72 1.47 1.35L5.41 20z\"/>\n",
              "  </svg>\n",
              "      </button>\n",
              "      \n",
              "  <style>\n",
              "    .colab-df-container {\n",
              "      display:flex;\n",
              "      flex-wrap:wrap;\n",
              "      gap: 12px;\n",
              "    }\n",
              "\n",
              "    .colab-df-convert {\n",
              "      background-color: #E8F0FE;\n",
              "      border: none;\n",
              "      border-radius: 50%;\n",
              "      cursor: pointer;\n",
              "      display: none;\n",
              "      fill: #1967D2;\n",
              "      height: 32px;\n",
              "      padding: 0 0 0 0;\n",
              "      width: 32px;\n",
              "    }\n",
              "\n",
              "    .colab-df-convert:hover {\n",
              "      background-color: #E2EBFA;\n",
              "      box-shadow: 0px 1px 2px rgba(60, 64, 67, 0.3), 0px 1px 3px 1px rgba(60, 64, 67, 0.15);\n",
              "      fill: #174EA6;\n",
              "    }\n",
              "\n",
              "    [theme=dark] .colab-df-convert {\n",
              "      background-color: #3B4455;\n",
              "      fill: #D2E3FC;\n",
              "    }\n",
              "\n",
              "    [theme=dark] .colab-df-convert:hover {\n",
              "      background-color: #434B5C;\n",
              "      box-shadow: 0px 1px 3px 1px rgba(0, 0, 0, 0.15);\n",
              "      filter: drop-shadow(0px 1px 2px rgba(0, 0, 0, 0.3));\n",
              "      fill: #FFFFFF;\n",
              "    }\n",
              "  </style>\n",
              "\n",
              "      <script>\n",
              "        const buttonEl =\n",
              "          document.querySelector('#df-2e5e00cf-a43d-49ea-b3be-6325a85e1460 button.colab-df-convert');\n",
              "        buttonEl.style.display =\n",
              "          google.colab.kernel.accessAllowed ? 'block' : 'none';\n",
              "\n",
              "        async function convertToInteractive(key) {\n",
              "          const element = document.querySelector('#df-2e5e00cf-a43d-49ea-b3be-6325a85e1460');\n",
              "          const dataTable =\n",
              "            await google.colab.kernel.invokeFunction('convertToInteractive',\n",
              "                                                     [key], {});\n",
              "          if (!dataTable) return;\n",
              "\n",
              "          const docLinkHtml = 'Like what you see? Visit the ' +\n",
              "            '<a target=\"_blank\" href=https://colab.research.google.com/notebooks/data_table.ipynb>data table notebook</a>'\n",
              "            + ' to learn more about interactive tables.';\n",
              "          element.innerHTML = '';\n",
              "          dataTable['output_type'] = 'display_data';\n",
              "          await google.colab.output.renderOutput(dataTable, element);\n",
              "          const docLink = document.createElement('div');\n",
              "          docLink.innerHTML = docLinkHtml;\n",
              "          element.appendChild(docLink);\n",
              "        }\n",
              "      </script>\n",
              "    </div>\n",
              "  </div>\n",
              "  "
            ]
          },
          "metadata": {},
          "execution_count": 14
        }
      ]
    },
    {
      "cell_type": "code",
      "metadata": {
        "colab": {
          "base_uri": "https://localhost:8080/",
          "height": 173
        },
        "id": "q3nSCvHlCPvJ",
        "outputId": "632edcdf-33c7-46e3-e6b5-b2f334da240b"
      },
      "source": [
        "data[data[\"user\"]==2916]"
      ],
      "execution_count": 15,
      "outputs": [
        {
          "output_type": "execute_result",
          "data": {
            "text/plain": [
              "      user  item  label  person_id                          disease  age  \\\n",
              "8556  2916    10      1      10483          Diabetes, uncomplicated   61   \n",
              "8557  2916    11      1      10483            Diabetes, complicated   61   \n",
              "8558  2916    24      1      10483  Fluid and electrolyte disorders   61   \n",
              "8559  2916    34      1      10483                          Smoking   61   \n",
              "\n",
              "     gender  DEGREE_CENTRALITY  EIGENVECTOR  BETWEENNESS_CENTRALITY  \\\n",
              "8556      M                1.0     0.337493                     0.0   \n",
              "8557      M                1.0     0.208104                     0.0   \n",
              "8558      M                1.0     0.307246                     0.0   \n",
              "8559      M                1.0     0.511474                     0.0   \n",
              "\n",
              "      CLUSTCOEF  PAGERANK  Comorbidities  Behavioural  Mental  \n",
              "8556   0.069097  0.066129              1            0       0  \n",
              "8557   0.049615  0.042058              1            0       0  \n",
              "8558   0.074907  0.069379              1            0       0  \n",
              "8559   0.105483  0.121583              0            1       0  "
            ],
            "text/html": [
              "\n",
              "  <div id=\"df-aac8fc99-67c4-4ce4-bc28-9bbc93068c4e\">\n",
              "    <div class=\"colab-df-container\">\n",
              "      <div>\n",
              "<style scoped>\n",
              "    .dataframe tbody tr th:only-of-type {\n",
              "        vertical-align: middle;\n",
              "    }\n",
              "\n",
              "    .dataframe tbody tr th {\n",
              "        vertical-align: top;\n",
              "    }\n",
              "\n",
              "    .dataframe thead th {\n",
              "        text-align: right;\n",
              "    }\n",
              "</style>\n",
              "<table border=\"1\" class=\"dataframe\">\n",
              "  <thead>\n",
              "    <tr style=\"text-align: right;\">\n",
              "      <th></th>\n",
              "      <th>user</th>\n",
              "      <th>item</th>\n",
              "      <th>label</th>\n",
              "      <th>person_id</th>\n",
              "      <th>disease</th>\n",
              "      <th>age</th>\n",
              "      <th>gender</th>\n",
              "      <th>DEGREE_CENTRALITY</th>\n",
              "      <th>EIGENVECTOR</th>\n",
              "      <th>BETWEENNESS_CENTRALITY</th>\n",
              "      <th>CLUSTCOEF</th>\n",
              "      <th>PAGERANK</th>\n",
              "      <th>Comorbidities</th>\n",
              "      <th>Behavioural</th>\n",
              "      <th>Mental</th>\n",
              "    </tr>\n",
              "  </thead>\n",
              "  <tbody>\n",
              "    <tr>\n",
              "      <th>8556</th>\n",
              "      <td>2916</td>\n",
              "      <td>10</td>\n",
              "      <td>1</td>\n",
              "      <td>10483</td>\n",
              "      <td>Diabetes, uncomplicated</td>\n",
              "      <td>61</td>\n",
              "      <td>M</td>\n",
              "      <td>1.0</td>\n",
              "      <td>0.337493</td>\n",
              "      <td>0.0</td>\n",
              "      <td>0.069097</td>\n",
              "      <td>0.066129</td>\n",
              "      <td>1</td>\n",
              "      <td>0</td>\n",
              "      <td>0</td>\n",
              "    </tr>\n",
              "    <tr>\n",
              "      <th>8557</th>\n",
              "      <td>2916</td>\n",
              "      <td>11</td>\n",
              "      <td>1</td>\n",
              "      <td>10483</td>\n",
              "      <td>Diabetes, complicated</td>\n",
              "      <td>61</td>\n",
              "      <td>M</td>\n",
              "      <td>1.0</td>\n",
              "      <td>0.208104</td>\n",
              "      <td>0.0</td>\n",
              "      <td>0.049615</td>\n",
              "      <td>0.042058</td>\n",
              "      <td>1</td>\n",
              "      <td>0</td>\n",
              "      <td>0</td>\n",
              "    </tr>\n",
              "    <tr>\n",
              "      <th>8558</th>\n",
              "      <td>2916</td>\n",
              "      <td>24</td>\n",
              "      <td>1</td>\n",
              "      <td>10483</td>\n",
              "      <td>Fluid and electrolyte disorders</td>\n",
              "      <td>61</td>\n",
              "      <td>M</td>\n",
              "      <td>1.0</td>\n",
              "      <td>0.307246</td>\n",
              "      <td>0.0</td>\n",
              "      <td>0.074907</td>\n",
              "      <td>0.069379</td>\n",
              "      <td>1</td>\n",
              "      <td>0</td>\n",
              "      <td>0</td>\n",
              "    </tr>\n",
              "    <tr>\n",
              "      <th>8559</th>\n",
              "      <td>2916</td>\n",
              "      <td>34</td>\n",
              "      <td>1</td>\n",
              "      <td>10483</td>\n",
              "      <td>Smoking</td>\n",
              "      <td>61</td>\n",
              "      <td>M</td>\n",
              "      <td>1.0</td>\n",
              "      <td>0.511474</td>\n",
              "      <td>0.0</td>\n",
              "      <td>0.105483</td>\n",
              "      <td>0.121583</td>\n",
              "      <td>0</td>\n",
              "      <td>1</td>\n",
              "      <td>0</td>\n",
              "    </tr>\n",
              "  </tbody>\n",
              "</table>\n",
              "</div>\n",
              "      <button class=\"colab-df-convert\" onclick=\"convertToInteractive('df-aac8fc99-67c4-4ce4-bc28-9bbc93068c4e')\"\n",
              "              title=\"Convert this dataframe to an interactive table.\"\n",
              "              style=\"display:none;\">\n",
              "        \n",
              "  <svg xmlns=\"http://www.w3.org/2000/svg\" height=\"24px\"viewBox=\"0 0 24 24\"\n",
              "       width=\"24px\">\n",
              "    <path d=\"M0 0h24v24H0V0z\" fill=\"none\"/>\n",
              "    <path d=\"M18.56 5.44l.94 2.06.94-2.06 2.06-.94-2.06-.94-.94-2.06-.94 2.06-2.06.94zm-11 1L8.5 8.5l.94-2.06 2.06-.94-2.06-.94L8.5 2.5l-.94 2.06-2.06.94zm10 10l.94 2.06.94-2.06 2.06-.94-2.06-.94-.94-2.06-.94 2.06-2.06.94z\"/><path d=\"M17.41 7.96l-1.37-1.37c-.4-.4-.92-.59-1.43-.59-.52 0-1.04.2-1.43.59L10.3 9.45l-7.72 7.72c-.78.78-.78 2.05 0 2.83L4 21.41c.39.39.9.59 1.41.59.51 0 1.02-.2 1.41-.59l7.78-7.78 2.81-2.81c.8-.78.8-2.07 0-2.86zM5.41 20L4 18.59l7.72-7.72 1.47 1.35L5.41 20z\"/>\n",
              "  </svg>\n",
              "      </button>\n",
              "      \n",
              "  <style>\n",
              "    .colab-df-container {\n",
              "      display:flex;\n",
              "      flex-wrap:wrap;\n",
              "      gap: 12px;\n",
              "    }\n",
              "\n",
              "    .colab-df-convert {\n",
              "      background-color: #E8F0FE;\n",
              "      border: none;\n",
              "      border-radius: 50%;\n",
              "      cursor: pointer;\n",
              "      display: none;\n",
              "      fill: #1967D2;\n",
              "      height: 32px;\n",
              "      padding: 0 0 0 0;\n",
              "      width: 32px;\n",
              "    }\n",
              "\n",
              "    .colab-df-convert:hover {\n",
              "      background-color: #E2EBFA;\n",
              "      box-shadow: 0px 1px 2px rgba(60, 64, 67, 0.3), 0px 1px 3px 1px rgba(60, 64, 67, 0.15);\n",
              "      fill: #174EA6;\n",
              "    }\n",
              "\n",
              "    [theme=dark] .colab-df-convert {\n",
              "      background-color: #3B4455;\n",
              "      fill: #D2E3FC;\n",
              "    }\n",
              "\n",
              "    [theme=dark] .colab-df-convert:hover {\n",
              "      background-color: #434B5C;\n",
              "      box-shadow: 0px 1px 3px 1px rgba(0, 0, 0, 0.15);\n",
              "      filter: drop-shadow(0px 1px 2px rgba(0, 0, 0, 0.3));\n",
              "      fill: #FFFFFF;\n",
              "    }\n",
              "  </style>\n",
              "\n",
              "      <script>\n",
              "        const buttonEl =\n",
              "          document.querySelector('#df-aac8fc99-67c4-4ce4-bc28-9bbc93068c4e button.colab-df-convert');\n",
              "        buttonEl.style.display =\n",
              "          google.colab.kernel.accessAllowed ? 'block' : 'none';\n",
              "\n",
              "        async function convertToInteractive(key) {\n",
              "          const element = document.querySelector('#df-aac8fc99-67c4-4ce4-bc28-9bbc93068c4e');\n",
              "          const dataTable =\n",
              "            await google.colab.kernel.invokeFunction('convertToInteractive',\n",
              "                                                     [key], {});\n",
              "          if (!dataTable) return;\n",
              "\n",
              "          const docLinkHtml = 'Like what you see? Visit the ' +\n",
              "            '<a target=\"_blank\" href=https://colab.research.google.com/notebooks/data_table.ipynb>data table notebook</a>'\n",
              "            + ' to learn more about interactive tables.';\n",
              "          element.innerHTML = '';\n",
              "          dataTable['output_type'] = 'display_data';\n",
              "          await google.colab.output.renderOutput(dataTable, element);\n",
              "          const docLink = document.createElement('div');\n",
              "          docLink.innerHTML = docLinkHtml;\n",
              "          element.appendChild(docLink);\n",
              "        }\n",
              "      </script>\n",
              "    </div>\n",
              "  </div>\n",
              "  "
            ]
          },
          "metadata": {},
          "execution_count": 15
        }
      ]
    },
    {
      "cell_type": "code",
      "metadata": {
        "id": "Ya5cxWdeXVUZ"
      },
      "source": [
        "#train_data.to_csv(\"patientrs_train.csv\")\n",
        "#eval_data.to_csv(\"patientrs_test.csv\")"
      ],
      "execution_count": 16,
      "outputs": []
    },
    {
      "cell_type": "code",
      "metadata": {
        "id": "0PdJ0WUqt-ls"
      },
      "source": [
        "\n",
        "    # specify complete columns information\n",
        "sparse_col = [ 'age',\"gender\", \"DEGREE_CENTRALITY\",\"EIGENVECTOR\",'BETWEENNESS_CENTRALITY','CLUSTCOEF','PAGERANK','Comorbidities','Behavioural','Mental']\n",
        "#sparse_col = [\"gender\",'Comorbidities','Behavioural','Mental']\n",
        "dense_col = [\"age\"]\n",
        "user_col = [\"age\", \"gender\"]\n",
        "item_col = [\"DEGREE_CENTRALITY\",\"EIGENVECTOR\",'BETWEENNESS_CENTRALITY','CLUSTCOEF','PAGERANK','Comorbidities','Behavioural','Mental']\n",
        "#item_col = ['Comorbidities','Behavioural','Mental']\n",
        "train_data, data_info = DatasetFeat.build_trainset(train_data, user_col, item_col, sparse_col, dense_col)\n",
        "eval_data = DatasetFeat.build_testset(eval_data)\n",
        "print(data_info)"
      ],
      "execution_count": null,
      "outputs": []
    },
    {
      "cell_type": "code",
      "metadata": {
        "colab": {
          "base_uri": "https://localhost:8080/"
        },
        "id": "to2j43hN6LFf",
        "outputId": "d7612804-6ba4-4870-c859-ee76a0e30515"
      },
      "source": [
        "reset_state(\"FM\")\n",
        "fm = FM(\"rating\", data_info, embed_size=16, n_epochs=10,\n",
        "            lr=1e-4, lr_decay=False, reg=None, batch_size=256,\n",
        "            num_neg=1, use_bn=True, dropout_rate=None, tf_sess_config=None)\n",
        "fm.fit(train_data, verbose=2, shuffle=True, eval_data=eval_data,\n",
        "           metrics=[\"rmse\", \"mae\", \"r2\"])\n",
        "#print(\"prediction: \", fm.predict(user=1, item=18))\n",
        "print(\"recommendation: \", fm.recommend_user(user=2916, n_rec=10))"
      ],
      "execution_count": null,
      "outputs": [
        {
          "output_type": "stream",
          "name": "stdout",
          "text": [
            "\n",
            " ============================== FM ==============================\n",
            "Training start time: \u001b[35m2021-09-22 04:45:06\u001b[0m\n",
            "total params: \u001b[33m337,966\u001b[0m | embedding params: \u001b[33m337,911\u001b[0m | network params: \u001b[33m55\u001b[0m\n"
          ]
        },
        {
          "output_type": "stream",
          "name": "stderr",
          "text": [
            "train: 100%|██████████| 169/169 [00:00<00:00, 222.32it/s]\n"
          ]
        },
        {
          "output_type": "stream",
          "name": "stdout",
          "text": [
            "Epoch 1 elapsed: 0.784s\n",
            "\t \u001b[32mtrain_loss: 2.0519\u001b[0m\n"
          ]
        },
        {
          "output_type": "stream",
          "name": "stderr",
          "text": [
            "eval_pred: 100%|██████████| 1/1 [00:00<00:00, 25.93it/s]\n"
          ]
        },
        {
          "output_type": "stream",
          "name": "stdout",
          "text": [
            "\t eval rmse: 1.2804\n",
            "\t eval mae: 0.8980\n",
            "\t eval r2: -0.9075\n",
            "==============================\n"
          ]
        },
        {
          "output_type": "stream",
          "name": "stderr",
          "text": [
            "train: 100%|██████████| 169/169 [00:00<00:00, 296.49it/s]\n"
          ]
        },
        {
          "output_type": "stream",
          "name": "stdout",
          "text": [
            "Epoch 2 elapsed: 0.601s\n",
            "\t \u001b[32mtrain_loss: 1.0479\u001b[0m\n"
          ]
        },
        {
          "output_type": "stream",
          "name": "stderr",
          "text": [
            "eval_pred: 100%|██████████| 1/1 [00:00<00:00, 116.26it/s]\n"
          ]
        },
        {
          "output_type": "stream",
          "name": "stdout",
          "text": [
            "\t eval rmse: 1.0738\n",
            "\t eval mae: 0.8374\n",
            "\t eval r2: -0.3416\n",
            "==============================\n"
          ]
        },
        {
          "output_type": "stream",
          "name": "stderr",
          "text": [
            "train: 100%|██████████| 169/169 [00:00<00:00, 332.18it/s]\n"
          ]
        },
        {
          "output_type": "stream",
          "name": "stdout",
          "text": [
            "Epoch 3 elapsed: 0.538s\n",
            "\t \u001b[32mtrain_loss: 0.7179\u001b[0m\n"
          ]
        },
        {
          "output_type": "stream",
          "name": "stderr",
          "text": [
            "eval_pred: 100%|██████████| 1/1 [00:00<00:00, 161.72it/s]\n"
          ]
        },
        {
          "output_type": "stream",
          "name": "stdout",
          "text": [
            "\t eval rmse: 0.9157\n",
            "\t eval mae: 0.7489\n",
            "\t eval r2: 0.0243\n",
            "==============================\n"
          ]
        },
        {
          "output_type": "stream",
          "name": "stderr",
          "text": [
            "train: 100%|██████████| 169/169 [00:00<00:00, 296.40it/s]\n"
          ]
        },
        {
          "output_type": "stream",
          "name": "stdout",
          "text": [
            "Epoch 4 elapsed: 0.602s\n",
            "\t \u001b[32mtrain_loss: 0.6081\u001b[0m\n"
          ]
        },
        {
          "output_type": "stream",
          "name": "stderr",
          "text": [
            "eval_pred: 100%|██████████| 1/1 [00:00<00:00, 118.68it/s]\n"
          ]
        },
        {
          "output_type": "stream",
          "name": "stdout",
          "text": [
            "\t eval rmse: 0.8842\n",
            "\t eval mae: 0.7240\n",
            "\t eval r2: 0.0902\n",
            "==============================\n"
          ]
        },
        {
          "output_type": "stream",
          "name": "stderr",
          "text": [
            "train: 100%|██████████| 169/169 [00:00<00:00, 303.70it/s]\n"
          ]
        },
        {
          "output_type": "stream",
          "name": "stdout",
          "text": [
            "Epoch 5 elapsed: 0.588s\n",
            "\t \u001b[32mtrain_loss: 0.5556\u001b[0m\n"
          ]
        },
        {
          "output_type": "stream",
          "name": "stderr",
          "text": [
            "eval_pred: 100%|██████████| 1/1 [00:00<00:00, 111.59it/s]\n"
          ]
        },
        {
          "output_type": "stream",
          "name": "stdout",
          "text": [
            "\t eval rmse: 0.8933\n",
            "\t eval mae: 0.7311\n",
            "\t eval r2: 0.0714\n",
            "==============================\n"
          ]
        },
        {
          "output_type": "stream",
          "name": "stderr",
          "text": [
            "train: 100%|██████████| 169/169 [00:00<00:00, 276.94it/s]\n"
          ]
        },
        {
          "output_type": "stream",
          "name": "stdout",
          "text": [
            "Epoch 6 elapsed: 0.648s\n",
            "\t \u001b[32mtrain_loss: 0.5127\u001b[0m\n"
          ]
        },
        {
          "output_type": "stream",
          "name": "stderr",
          "text": [
            "eval_pred: 100%|██████████| 1/1 [00:00<00:00, 110.36it/s]\n"
          ]
        },
        {
          "output_type": "stream",
          "name": "stdout",
          "text": [
            "\t eval rmse: 0.8903\n",
            "\t eval mae: 0.7204\n",
            "\t eval r2: 0.0777\n",
            "==============================\n"
          ]
        },
        {
          "output_type": "stream",
          "name": "stderr",
          "text": [
            "train: 100%|██████████| 169/169 [00:00<00:00, 290.56it/s]\n"
          ]
        },
        {
          "output_type": "stream",
          "name": "stdout",
          "text": [
            "Epoch 7 elapsed: 0.612s\n",
            "\t \u001b[32mtrain_loss: 0.4699\u001b[0m\n"
          ]
        },
        {
          "output_type": "stream",
          "name": "stderr",
          "text": [
            "eval_pred: 100%|██████████| 1/1 [00:00<00:00, 107.76it/s]\n"
          ]
        },
        {
          "output_type": "stream",
          "name": "stdout",
          "text": [
            "\t eval rmse: 0.8856\n",
            "\t eval mae: 0.7081\n",
            "\t eval r2: 0.0875\n",
            "==============================\n"
          ]
        },
        {
          "output_type": "stream",
          "name": "stderr",
          "text": [
            "train: 100%|██████████| 169/169 [00:00<00:00, 278.71it/s]\n"
          ]
        },
        {
          "output_type": "stream",
          "name": "stdout",
          "text": [
            "Epoch 8 elapsed: 0.637s\n",
            "\t \u001b[32mtrain_loss: 0.4312\u001b[0m\n"
          ]
        },
        {
          "output_type": "stream",
          "name": "stderr",
          "text": [
            "eval_pred: 100%|██████████| 1/1 [00:00<00:00, 169.02it/s]\n"
          ]
        },
        {
          "output_type": "stream",
          "name": "stdout",
          "text": [
            "\t eval rmse: 0.8883\n",
            "\t eval mae: 0.7156\n",
            "\t eval r2: 0.0818\n",
            "==============================\n"
          ]
        },
        {
          "output_type": "stream",
          "name": "stderr",
          "text": [
            "train: 100%|██████████| 169/169 [00:00<00:00, 318.99it/s]\n"
          ]
        },
        {
          "output_type": "stream",
          "name": "stdout",
          "text": [
            "Epoch 9 elapsed: 0.564s\n",
            "\t \u001b[32mtrain_loss: 0.3969\u001b[0m\n"
          ]
        },
        {
          "output_type": "stream",
          "name": "stderr",
          "text": [
            "eval_pred: 100%|██████████| 1/1 [00:00<00:00, 132.79it/s]\n"
          ]
        },
        {
          "output_type": "stream",
          "name": "stdout",
          "text": [
            "\t eval rmse: 0.8867\n",
            "\t eval mae: 0.7137\n",
            "\t eval r2: 0.0852\n",
            "==============================\n"
          ]
        },
        {
          "output_type": "stream",
          "name": "stderr",
          "text": [
            "train: 100%|██████████| 169/169 [00:00<00:00, 310.96it/s]\n"
          ]
        },
        {
          "output_type": "stream",
          "name": "stdout",
          "text": [
            "Epoch 10 elapsed: 0.576s\n",
            "\t \u001b[32mtrain_loss: 0.369\u001b[0m\n"
          ]
        },
        {
          "output_type": "stream",
          "name": "stderr",
          "text": [
            "eval_pred: 100%|██████████| 1/1 [00:00<00:00, 150.38it/s]\n"
          ]
        },
        {
          "output_type": "stream",
          "name": "stdout",
          "text": [
            "\t eval rmse: 0.8847\n",
            "\t eval mae: 0.7028\n",
            "\t eval r2: 0.0894\n",
            "==============================\n",
            "recommendation:  [(30, 1.5336154), (18, 1.4285427), (17, 1.3611647), (34, 1.2481079), (19, 1.2131763), (33, 0.92220896), (2, 0.90934175), (29, 0.9013186), (13, 0.8541895), (8, 0.8512492)]\n"
          ]
        }
      ]
    },
    {
      "cell_type": "code",
      "metadata": {
        "colab": {
          "base_uri": "https://localhost:8080/"
        },
        "id": "nAVhpE5l4IWC",
        "outputId": "3cb73afc-d2da-4349-b32f-be25fa35b84e"
      },
      "source": [
        "#data[\"label\"] = 1  # convert to implicit data and do negative sampling afterwards\n",
        "\n",
        "# split into train and test data based on time\n",
        "train_data, test_data = split_by_ratio(data, test_size=0.2)\n",
        "\n",
        "# specify complete columns information\n",
        "sparse_col = [ 'age',\"gender\", \"DEGREE_CENTRALITY\",\"EIGENVECTOR\",'BETWEENNESS_CENTRALITY','CLUSTCOEF','PAGERANK','Comorbidities','Behavioural','Mental']\n",
        "#sparse_col = [\"gender\",'Comorbidities','Behavioural','Mental']\n",
        "dense_col = [\"age\"]\n",
        "user_col = [\"age\", \"gender\"]\n",
        "item_col = [\"DEGREE_CENTRALITY\",\"EIGENVECTOR\",'BETWEENNESS_CENTRALITY','CLUSTCOEF','PAGERANK','Comorbidities','Behavioural','Mental']\n",
        "#item_col = ['Comorbidities','Behavioural','Mental']\n",
        "train_data, data_info = DatasetFeat.build_trainset(\n",
        "    train_data, user_col, item_col, sparse_col, dense_col\n",
        ")\n",
        "test_data = DatasetFeat.build_testset(test_data)\n",
        "train_data.build_negative_samples(data_info)  # sample negative items for each record\n",
        "test_data.build_negative_samples(data_info)\n",
        "print(data_info)  # n_users: 5962, n_items: 3226, data sparsity: 0.4185 %\n",
        "reset_state(\"FM\")\n",
        "fm = FM(\"ranking\", data_info, embed_size=16, n_epochs=20,\n",
        "            lr=1e-4, lr_decay=False, reg=None, batch_size=256,\n",
        "            num_neg=0, use_bn=True, dropout_rate=0, tf_sess_config=None)\n",
        "fm.fit(train_data, verbose=2, shuffle=True, eval_data=test_data,\n",
        "                metrics=[\"loss\", \"roc_auc\", \"precision\", \"recall\", \"map\", \"ndcg\"])\n",
        "\n",
        "# predict preference of user 2211 to item 110\n",
        "#print(\"prediction: \", fm.predict(user=2916, item=1))\n",
        "# recommend 7 items for user 2916\n",
        "print(\"recommendation(id, probability): \", fm.recommend_user(user=2916, n_rec=10))\n",
        "\n"
      ],
      "execution_count": null,
      "outputs": [
        {
          "output_type": "stream",
          "name": "stdout",
          "text": [
            "random neg item sampling elapsed: 0.046s\n",
            "random neg item sampling elapsed: 0.006s\n",
            "n_users: 19828, n_items: 34, data sparsity: 6.3931 %\n",
            "\n",
            " ============================== FM ==============================\n",
            "Training start time: \u001b[35m2021-09-22 05:06:13\u001b[0m\n",
            "total params: \u001b[33m341,984\u001b[0m | embedding params: \u001b[33m341,923\u001b[0m | network params: \u001b[33m61\u001b[0m\n"
          ]
        },
        {
          "output_type": "stream",
          "name": "stderr",
          "text": [
            "train: 100%|██████████| 337/337 [00:01<00:00, 239.13it/s]\n"
          ]
        },
        {
          "output_type": "stream",
          "name": "stdout",
          "text": [
            "Epoch 1 elapsed: 1.448s\n",
            "\t \u001b[32mtrain_loss: 0.5948\u001b[0m\n"
          ]
        },
        {
          "output_type": "stream",
          "name": "stderr",
          "text": [
            "eval_pred: 100%|██████████| 1/1 [00:00<00:00, 20.26it/s]\n",
            "eval_rec: 100%|██████████| 2048/2048 [00:01<00:00, 1111.39it/s]\n"
          ]
        },
        {
          "output_type": "stream",
          "name": "stdout",
          "text": [
            "\t eval log_loss: 0.5565\n",
            "\t eval roc_auc: 0.7800\n",
            "\t eval precision@10: 0.0813\n",
            "\t eval recall@10: 0.7503\n",
            "\t eval map@10: 0.6240\n",
            "\t eval ndcg@10: 0.6633\n",
            "==============================\n"
          ]
        },
        {
          "output_type": "stream",
          "name": "stderr",
          "text": [
            "train: 100%|██████████| 337/337 [00:01<00:00, 281.04it/s]\n"
          ]
        },
        {
          "output_type": "stream",
          "name": "stdout",
          "text": [
            "Epoch 2 elapsed: 1.242s\n",
            "\t \u001b[32mtrain_loss: 0.5635\u001b[0m\n"
          ]
        },
        {
          "output_type": "stream",
          "name": "stderr",
          "text": [
            "eval_pred: 100%|██████████| 1/1 [00:00<00:00, 75.67it/s]\n",
            "eval_rec: 100%|██████████| 2048/2048 [00:01<00:00, 1153.28it/s]\n"
          ]
        },
        {
          "output_type": "stream",
          "name": "stdout",
          "text": [
            "\t eval log_loss: 0.5466\n",
            "\t eval roc_auc: 0.7869\n",
            "\t eval precision@10: 0.0776\n",
            "\t eval recall@10: 0.7167\n",
            "\t eval map@10: 0.6200\n",
            "\t eval ndcg@10: 0.6528\n",
            "==============================\n"
          ]
        },
        {
          "output_type": "stream",
          "name": "stderr",
          "text": [
            "train: 100%|██████████| 337/337 [00:01<00:00, 293.74it/s]\n"
          ]
        },
        {
          "output_type": "stream",
          "name": "stdout",
          "text": [
            "Epoch 3 elapsed: 1.188s\n",
            "\t \u001b[32mtrain_loss: 0.5533\u001b[0m\n"
          ]
        },
        {
          "output_type": "stream",
          "name": "stderr",
          "text": [
            "eval_pred: 100%|██████████| 1/1 [00:00<00:00, 56.61it/s]\n",
            "eval_rec: 100%|██████████| 2048/2048 [00:01<00:00, 1152.63it/s]\n"
          ]
        },
        {
          "output_type": "stream",
          "name": "stdout",
          "text": [
            "\t eval log_loss: 0.5404\n",
            "\t eval roc_auc: 0.7964\n",
            "\t eval precision@10: 0.0800\n",
            "\t eval recall@10: 0.7371\n",
            "\t eval map@10: 0.6204\n",
            "\t eval ndcg@10: 0.6575\n",
            "==============================\n"
          ]
        },
        {
          "output_type": "stream",
          "name": "stderr",
          "text": [
            "train: 100%|██████████| 337/337 [00:01<00:00, 291.54it/s]\n"
          ]
        },
        {
          "output_type": "stream",
          "name": "stdout",
          "text": [
            "Epoch 4 elapsed: 1.196s\n",
            "\t \u001b[32mtrain_loss: 0.5438\u001b[0m\n"
          ]
        },
        {
          "output_type": "stream",
          "name": "stderr",
          "text": [
            "eval_pred: 100%|██████████| 1/1 [00:00<00:00, 79.05it/s]\n",
            "eval_rec: 100%|██████████| 2048/2048 [00:01<00:00, 1133.55it/s]\n"
          ]
        },
        {
          "output_type": "stream",
          "name": "stdout",
          "text": [
            "\t eval log_loss: 0.5430\n",
            "\t eval roc_auc: 0.7954\n",
            "\t eval precision@10: 0.0803\n",
            "\t eval recall@10: 0.7338\n",
            "\t eval map@10: 0.6166\n",
            "\t eval ndcg@10: 0.6540\n",
            "==============================\n"
          ]
        },
        {
          "output_type": "stream",
          "name": "stderr",
          "text": [
            "train: 100%|██████████| 337/337 [00:01<00:00, 272.47it/s]\n"
          ]
        },
        {
          "output_type": "stream",
          "name": "stdout",
          "text": [
            "Epoch 5 elapsed: 1.280s\n",
            "\t \u001b[32mtrain_loss: 0.535\u001b[0m\n"
          ]
        },
        {
          "output_type": "stream",
          "name": "stderr",
          "text": [
            "eval_pred: 100%|██████████| 1/1 [00:00<00:00, 53.92it/s]\n",
            "eval_rec: 100%|██████████| 2048/2048 [00:01<00:00, 1128.14it/s]\n"
          ]
        },
        {
          "output_type": "stream",
          "name": "stdout",
          "text": [
            "\t eval log_loss: 0.5347\n",
            "\t eval roc_auc: 0.8097\n",
            "\t eval precision@10: 0.0865\n",
            "\t eval recall@10: 0.7885\n",
            "\t eval map@10: 0.6161\n",
            "\t eval ndcg@10: 0.6652\n",
            "==============================\n"
          ]
        },
        {
          "output_type": "stream",
          "name": "stderr",
          "text": [
            "train: 100%|██████████| 337/337 [00:01<00:00, 290.67it/s]\n"
          ]
        },
        {
          "output_type": "stream",
          "name": "stdout",
          "text": [
            "Epoch 6 elapsed: 1.205s\n",
            "\t \u001b[32mtrain_loss: 0.5264\u001b[0m\n"
          ]
        },
        {
          "output_type": "stream",
          "name": "stderr",
          "text": [
            "eval_pred: 100%|██████████| 1/1 [00:00<00:00, 74.55it/s]\n",
            "eval_rec: 100%|██████████| 2048/2048 [00:01<00:00, 1106.86it/s]\n"
          ]
        },
        {
          "output_type": "stream",
          "name": "stdout",
          "text": [
            "\t eval log_loss: 0.5433\n",
            "\t eval roc_auc: 0.7956\n",
            "\t eval precision@10: 0.0813\n",
            "\t eval recall@10: 0.7419\n",
            "\t eval map@10: 0.5472\n",
            "\t eval ndcg@10: 0.6036\n",
            "==============================\n"
          ]
        },
        {
          "output_type": "stream",
          "name": "stderr",
          "text": [
            "train: 100%|██████████| 337/337 [00:01<00:00, 286.99it/s]\n"
          ]
        },
        {
          "output_type": "stream",
          "name": "stdout",
          "text": [
            "Epoch 7 elapsed: 1.221s\n",
            "\t \u001b[32mtrain_loss: 0.5195\u001b[0m\n"
          ]
        },
        {
          "output_type": "stream",
          "name": "stderr",
          "text": [
            "eval_pred: 100%|██████████| 1/1 [00:00<00:00, 82.69it/s]\n",
            "eval_rec: 100%|██████████| 2048/2048 [00:01<00:00, 1089.87it/s]\n"
          ]
        },
        {
          "output_type": "stream",
          "name": "stdout",
          "text": [
            "\t eval log_loss: 0.5643\n",
            "\t eval roc_auc: 0.7911\n",
            "\t eval precision@10: 0.0799\n",
            "\t eval recall@10: 0.7324\n",
            "\t eval map@10: 0.5148\n",
            "\t eval ndcg@10: 0.5770\n",
            "==============================\n"
          ]
        },
        {
          "output_type": "stream",
          "name": "stderr",
          "text": [
            "train: 100%|██████████| 337/337 [00:01<00:00, 288.44it/s]\n"
          ]
        },
        {
          "output_type": "stream",
          "name": "stdout",
          "text": [
            "Epoch 8 elapsed: 1.210s\n",
            "\t \u001b[32mtrain_loss: 0.5113\u001b[0m\n"
          ]
        },
        {
          "output_type": "stream",
          "name": "stderr",
          "text": [
            "eval_pred: 100%|██████████| 1/1 [00:00<00:00, 68.14it/s]\n",
            "eval_rec: 100%|██████████| 2048/2048 [00:01<00:00, 1158.08it/s]\n"
          ]
        },
        {
          "output_type": "stream",
          "name": "stdout",
          "text": [
            "\t eval log_loss: 0.5374\n",
            "\t eval roc_auc: 0.8056\n",
            "\t eval precision@10: 0.0850\n",
            "\t eval recall@10: 0.7754\n",
            "\t eval map@10: 0.5239\n",
            "\t eval ndcg@10: 0.5927\n",
            "==============================\n"
          ]
        },
        {
          "output_type": "stream",
          "name": "stderr",
          "text": [
            "train: 100%|██████████| 337/337 [00:01<00:00, 301.91it/s]\n"
          ]
        },
        {
          "output_type": "stream",
          "name": "stdout",
          "text": [
            "Epoch 9 elapsed: 1.161s\n",
            "\t \u001b[32mtrain_loss: 0.5036\u001b[0m\n"
          ]
        },
        {
          "output_type": "stream",
          "name": "stderr",
          "text": [
            "eval_pred: 100%|██████████| 1/1 [00:00<00:00, 76.22it/s]\n",
            "eval_rec: 100%|██████████| 2048/2048 [00:01<00:00, 1075.43it/s]\n"
          ]
        },
        {
          "output_type": "stream",
          "name": "stdout",
          "text": [
            "\t eval log_loss: 0.5416\n",
            "\t eval roc_auc: 0.8042\n",
            "\t eval precision@10: 0.0844\n",
            "\t eval recall@10: 0.7699\n",
            "\t eval map@10: 0.5284\n",
            "\t eval ndcg@10: 0.5949\n",
            "==============================\n"
          ]
        },
        {
          "output_type": "stream",
          "name": "stderr",
          "text": [
            "train: 100%|██████████| 337/337 [00:01<00:00, 287.00it/s]\n"
          ]
        },
        {
          "output_type": "stream",
          "name": "stdout",
          "text": [
            "Epoch 10 elapsed: 1.217s\n",
            "\t \u001b[32mtrain_loss: 0.4962\u001b[0m\n"
          ]
        },
        {
          "output_type": "stream",
          "name": "stderr",
          "text": [
            "eval_pred: 100%|██████████| 1/1 [00:00<00:00, 79.73it/s]\n",
            "eval_rec: 100%|██████████| 2048/2048 [00:01<00:00, 1111.13it/s]\n"
          ]
        },
        {
          "output_type": "stream",
          "name": "stdout",
          "text": [
            "\t eval log_loss: 0.5413\n",
            "\t eval roc_auc: 0.8071\n",
            "\t eval precision@10: 0.0868\n",
            "\t eval recall@10: 0.7913\n",
            "\t eval map@10: 0.5348\n",
            "\t eval ndcg@10: 0.6044\n",
            "==============================\n"
          ]
        },
        {
          "output_type": "stream",
          "name": "stderr",
          "text": [
            "train: 100%|██████████| 337/337 [00:01<00:00, 280.64it/s]\n"
          ]
        },
        {
          "output_type": "stream",
          "name": "stdout",
          "text": [
            "Epoch 11 elapsed: 1.247s\n",
            "\t \u001b[32mtrain_loss: 0.4879\u001b[0m\n"
          ]
        },
        {
          "output_type": "stream",
          "name": "stderr",
          "text": [
            "eval_pred: 100%|██████████| 1/1 [00:00<00:00, 87.23it/s]\n",
            "eval_rec: 100%|██████████| 2048/2048 [00:01<00:00, 1118.90it/s]\n"
          ]
        },
        {
          "output_type": "stream",
          "name": "stdout",
          "text": [
            "\t eval log_loss: 0.5797\n",
            "\t eval roc_auc: 0.7845\n",
            "\t eval precision@10: 0.0832\n",
            "\t eval recall@10: 0.7602\n",
            "\t eval map@10: 0.4835\n",
            "\t eval ndcg@10: 0.5581\n",
            "==============================\n"
          ]
        },
        {
          "output_type": "stream",
          "name": "stderr",
          "text": [
            "train: 100%|██████████| 337/337 [00:01<00:00, 293.54it/s]\n"
          ]
        },
        {
          "output_type": "stream",
          "name": "stdout",
          "text": [
            "Epoch 12 elapsed: 1.196s\n",
            "\t \u001b[32mtrain_loss: 0.48\u001b[0m\n"
          ]
        },
        {
          "output_type": "stream",
          "name": "stderr",
          "text": [
            "eval_pred: 100%|██████████| 1/1 [00:00<00:00, 86.63it/s]\n",
            "eval_rec: 100%|██████████| 2048/2048 [00:01<00:00, 1148.36it/s]\n"
          ]
        },
        {
          "output_type": "stream",
          "name": "stdout",
          "text": [
            "\t eval log_loss: 0.5866\n",
            "\t eval roc_auc: 0.7784\n",
            "\t eval precision@10: 0.0821\n",
            "\t eval recall@10: 0.7508\n",
            "\t eval map@10: 0.4748\n",
            "\t eval ndcg@10: 0.5493\n",
            "==============================\n"
          ]
        },
        {
          "output_type": "stream",
          "name": "stderr",
          "text": [
            "train: 100%|██████████| 337/337 [00:01<00:00, 296.30it/s]\n"
          ]
        },
        {
          "output_type": "stream",
          "name": "stdout",
          "text": [
            "Epoch 13 elapsed: 1.177s\n",
            "\t \u001b[32mtrain_loss: 0.4711\u001b[0m\n"
          ]
        },
        {
          "output_type": "stream",
          "name": "stderr",
          "text": [
            "eval_pred: 100%|██████████| 1/1 [00:00<00:00, 58.97it/s]\n",
            "eval_rec: 100%|██████████| 2048/2048 [00:01<00:00, 1130.09it/s]\n"
          ]
        },
        {
          "output_type": "stream",
          "name": "stdout",
          "text": [
            "\t eval log_loss: 0.5695\n",
            "\t eval roc_auc: 0.7872\n",
            "\t eval precision@10: 0.0843\n",
            "\t eval recall@10: 0.7677\n",
            "\t eval map@10: 0.4927\n",
            "\t eval ndcg@10: 0.5666\n",
            "==============================\n"
          ]
        },
        {
          "output_type": "stream",
          "name": "stderr",
          "text": [
            "train: 100%|██████████| 337/337 [00:01<00:00, 282.24it/s]\n"
          ]
        },
        {
          "output_type": "stream",
          "name": "stdout",
          "text": [
            "Epoch 14 elapsed: 1.237s\n",
            "\t \u001b[32mtrain_loss: 0.4614\u001b[0m\n"
          ]
        },
        {
          "output_type": "stream",
          "name": "stderr",
          "text": [
            "eval_pred: 100%|██████████| 1/1 [00:00<00:00, 62.86it/s]\n",
            "eval_rec: 100%|██████████| 2048/2048 [00:01<00:00, 1107.46it/s]\n"
          ]
        },
        {
          "output_type": "stream",
          "name": "stdout",
          "text": [
            "\t eval log_loss: 0.5856\n",
            "\t eval roc_auc: 0.7810\n",
            "\t eval precision@10: 0.0838\n",
            "\t eval recall@10: 0.7660\n",
            "\t eval map@10: 0.4862\n",
            "\t eval ndcg@10: 0.5610\n",
            "==============================\n"
          ]
        },
        {
          "output_type": "stream",
          "name": "stderr",
          "text": [
            "train: 100%|██████████| 337/337 [00:01<00:00, 285.43it/s]\n"
          ]
        },
        {
          "output_type": "stream",
          "name": "stdout",
          "text": [
            "Epoch 15 elapsed: 1.225s\n",
            "\t \u001b[32mtrain_loss: 0.4518\u001b[0m\n"
          ]
        },
        {
          "output_type": "stream",
          "name": "stderr",
          "text": [
            "eval_pred: 100%|██████████| 1/1 [00:00<00:00, 77.74it/s]\n",
            "eval_rec: 100%|██████████| 2048/2048 [00:01<00:00, 1136.73it/s]\n"
          ]
        },
        {
          "output_type": "stream",
          "name": "stdout",
          "text": [
            "\t eval log_loss: 0.5664\n",
            "\t eval roc_auc: 0.7974\n",
            "\t eval precision@10: 0.0866\n",
            "\t eval recall@10: 0.7896\n",
            "\t eval map@10: 0.5402\n",
            "\t eval ndcg@10: 0.6081\n",
            "==============================\n"
          ]
        },
        {
          "output_type": "stream",
          "name": "stderr",
          "text": [
            "train: 100%|██████████| 337/337 [00:01<00:00, 264.69it/s]\n"
          ]
        },
        {
          "output_type": "stream",
          "name": "stdout",
          "text": [
            "Epoch 16 elapsed: 1.316s\n",
            "\t \u001b[32mtrain_loss: 0.4413\u001b[0m\n"
          ]
        },
        {
          "output_type": "stream",
          "name": "stderr",
          "text": [
            "eval_pred: 100%|██████████| 1/1 [00:00<00:00, 72.30it/s]\n",
            "eval_rec: 100%|██████████| 2048/2048 [00:01<00:00, 1139.26it/s]\n"
          ]
        },
        {
          "output_type": "stream",
          "name": "stdout",
          "text": [
            "\t eval log_loss: 0.5796\n",
            "\t eval roc_auc: 0.7880\n",
            "\t eval precision@10: 0.0867\n",
            "\t eval recall@10: 0.7902\n",
            "\t eval map@10: 0.4847\n",
            "\t eval ndcg@10: 0.5655\n",
            "==============================\n"
          ]
        },
        {
          "output_type": "stream",
          "name": "stderr",
          "text": [
            "train: 100%|██████████| 337/337 [00:01<00:00, 298.24it/s]\n"
          ]
        },
        {
          "output_type": "stream",
          "name": "stdout",
          "text": [
            "Epoch 17 elapsed: 1.171s\n",
            "\t \u001b[32mtrain_loss: 0.4294\u001b[0m\n"
          ]
        },
        {
          "output_type": "stream",
          "name": "stderr",
          "text": [
            "eval_pred: 100%|██████████| 1/1 [00:00<00:00, 81.96it/s]\n",
            "eval_rec: 100%|██████████| 2048/2048 [00:01<00:00, 1144.30it/s]\n"
          ]
        },
        {
          "output_type": "stream",
          "name": "stdout",
          "text": [
            "\t eval log_loss: 0.5866\n",
            "\t eval roc_auc: 0.7902\n",
            "\t eval precision@10: 0.0859\n",
            "\t eval recall@10: 0.7856\n",
            "\t eval map@10: 0.5305\n",
            "\t eval ndcg@10: 0.5997\n",
            "==============================\n"
          ]
        },
        {
          "output_type": "stream",
          "name": "stderr",
          "text": [
            "train: 100%|██████████| 337/337 [00:01<00:00, 305.55it/s]\n"
          ]
        },
        {
          "output_type": "stream",
          "name": "stdout",
          "text": [
            "Epoch 18 elapsed: 1.143s\n",
            "\t \u001b[32mtrain_loss: 0.4174\u001b[0m\n"
          ]
        },
        {
          "output_type": "stream",
          "name": "stderr",
          "text": [
            "eval_pred: 100%|██████████| 1/1 [00:00<00:00, 73.62it/s]\n",
            "eval_rec: 100%|██████████| 2048/2048 [00:01<00:00, 1113.22it/s]\n"
          ]
        },
        {
          "output_type": "stream",
          "name": "stdout",
          "text": [
            "\t eval log_loss: 0.5951\n",
            "\t eval roc_auc: 0.7844\n",
            "\t eval precision@10: 0.0851\n",
            "\t eval recall@10: 0.7774\n",
            "\t eval map@10: 0.5058\n",
            "\t eval ndcg@10: 0.5789\n",
            "==============================\n"
          ]
        },
        {
          "output_type": "stream",
          "name": "stderr",
          "text": [
            "train: 100%|██████████| 337/337 [00:01<00:00, 272.49it/s]\n"
          ]
        },
        {
          "output_type": "stream",
          "name": "stdout",
          "text": [
            "Epoch 19 elapsed: 1.276s\n",
            "\t \u001b[32mtrain_loss: 0.4049\u001b[0m\n"
          ]
        },
        {
          "output_type": "stream",
          "name": "stderr",
          "text": [
            "eval_pred: 100%|██████████| 1/1 [00:00<00:00, 79.62it/s]\n",
            "eval_rec: 100%|██████████| 2048/2048 [00:01<00:00, 1119.88it/s]\n"
          ]
        },
        {
          "output_type": "stream",
          "name": "stdout",
          "text": [
            "\t eval log_loss: 0.6035\n",
            "\t eval roc_auc: 0.7790\n",
            "\t eval precision@10: 0.0840\n",
            "\t eval recall@10: 0.7667\n",
            "\t eval map@10: 0.4837\n",
            "\t eval ndcg@10: 0.5595\n",
            "==============================\n"
          ]
        },
        {
          "output_type": "stream",
          "name": "stderr",
          "text": [
            "train: 100%|██████████| 337/337 [00:01<00:00, 288.78it/s]\n"
          ]
        },
        {
          "output_type": "stream",
          "name": "stdout",
          "text": [
            "Epoch 20 elapsed: 1.214s\n",
            "\t \u001b[32mtrain_loss: 0.3924\u001b[0m\n"
          ]
        },
        {
          "output_type": "stream",
          "name": "stderr",
          "text": [
            "eval_pred: 100%|██████████| 1/1 [00:00<00:00, 85.18it/s]\n",
            "eval_rec: 100%|██████████| 2048/2048 [00:01<00:00, 1151.93it/s]\n"
          ]
        },
        {
          "output_type": "stream",
          "name": "stdout",
          "text": [
            "\t eval log_loss: 0.6231\n",
            "\t eval roc_auc: 0.7696\n",
            "\t eval precision@10: 0.0831\n",
            "\t eval recall@10: 0.7584\n",
            "\t eval map@10: 0.4416\n",
            "\t eval ndcg@10: 0.5248\n",
            "==============================\n",
            "recommendation(id, probability):  [(34, 0.94981056), (2, 0.87971807), (9, 0.75267345), (18, 0.7046006), (23, 0.67034405), (19, 0.5019464), (32, 0.38405478), (28, 0.34472543), (8, 0.30627713), (26, 0.2827779)]\n"
          ]
        }
      ]
    },
    {
      "cell_type": "code",
      "metadata": {
        "id": "q3I2Hh6T6TA5",
        "colab": {
          "base_uri": "https://localhost:8080/"
        },
        "outputId": "ee904e60-3777-43e3-ba03-a7ab358bc504"
      },
      "source": [
        "    reset_state(\"Wide_Deep\")\n",
        "    wd = WideDeep(\"rating\", data_info, embed_size=16, n_epochs=20,\n",
        "                  lr={\"wide\": 0.01, \"deep\": 1e-4}, lr_decay=False, reg=None,\n",
        "                  batch_size=256, num_neg=1, use_bn=False, dropout_rate=None,\n",
        "                  hidden_units=\"128,64,32\", tf_sess_config=None)\n",
        "    wd.fit(train_data, verbose=2, shuffle=True, eval_data=eval_data,\n",
        "           metrics=[\"rmse\", \"mae\", \"r2\"])\n",
        "    #print(\"prediction: \", wd.predict(user=1, item=2333))\n",
        "    print(\"recommendation: \", wd.recommend_user(user=2916, n_rec=10))"
      ],
      "execution_count": null,
      "outputs": [
        {
          "output_type": "stream",
          "name": "stdout",
          "text": [
            "\n",
            " ============================== Wide_Deep ==============================\n",
            "Training start time: \u001b[35m2021-09-22 04:59:13\u001b[0m\n",
            "total params: \u001b[33m362,750\u001b[0m | embedding params: \u001b[33m338,135\u001b[0m | network params: \u001b[33m24,615\u001b[0m\n"
          ]
        },
        {
          "output_type": "stream",
          "name": "stderr",
          "text": [
            "train: 100%|██████████| 169/169 [00:00<00:00, 169.02it/s]\n"
          ]
        },
        {
          "output_type": "stream",
          "name": "stdout",
          "text": [
            "Epoch 1 elapsed: 1.024s\n",
            "\t \u001b[32mtrain_loss: 0.9739\u001b[0m\n"
          ]
        },
        {
          "output_type": "stream",
          "name": "stderr",
          "text": [
            "eval_pred: 100%|██████████| 1/1 [00:00<00:00, 23.65it/s]\n"
          ]
        },
        {
          "output_type": "stream",
          "name": "stdout",
          "text": [
            "\t eval rmse: 0.9503\n",
            "\t eval mae: 0.7815\n",
            "\t eval r2: -0.0507\n",
            "==============================\n"
          ]
        },
        {
          "output_type": "stream",
          "name": "stderr",
          "text": [
            "train: 100%|██████████| 169/169 [00:00<00:00, 205.00it/s]\n"
          ]
        },
        {
          "output_type": "stream",
          "name": "stdout",
          "text": [
            "Epoch 2 elapsed: 0.854s\n",
            "\t \u001b[32mtrain_loss: 0.716\u001b[0m\n"
          ]
        },
        {
          "output_type": "stream",
          "name": "stderr",
          "text": [
            "eval_pred: 100%|██████████| 1/1 [00:00<00:00, 73.78it/s]\n"
          ]
        },
        {
          "output_type": "stream",
          "name": "stdout",
          "text": [
            "\t eval rmse: 0.8818\n",
            "\t eval mae: 0.7172\n",
            "\t eval r2: 0.0952\n",
            "==============================\n"
          ]
        },
        {
          "output_type": "stream",
          "name": "stderr",
          "text": [
            "train: 100%|██████████| 169/169 [00:00<00:00, 226.02it/s]\n"
          ]
        },
        {
          "output_type": "stream",
          "name": "stdout",
          "text": [
            "Epoch 3 elapsed: 0.777s\n",
            "\t \u001b[32mtrain_loss: 0.606\u001b[0m\n"
          ]
        },
        {
          "output_type": "stream",
          "name": "stderr",
          "text": [
            "eval_pred: 100%|██████████| 1/1 [00:00<00:00, 82.48it/s]\n"
          ]
        },
        {
          "output_type": "stream",
          "name": "stdout",
          "text": [
            "\t eval rmse: 0.8759\n",
            "\t eval mae: 0.7143\n",
            "\t eval r2: 0.1072\n",
            "==============================\n"
          ]
        },
        {
          "output_type": "stream",
          "name": "stderr",
          "text": [
            "train: 100%|██████████| 169/169 [00:00<00:00, 210.71it/s]\n"
          ]
        },
        {
          "output_type": "stream",
          "name": "stdout",
          "text": [
            "Epoch 4 elapsed: 0.831s\n",
            "\t \u001b[32mtrain_loss: 0.5196\u001b[0m\n"
          ]
        },
        {
          "output_type": "stream",
          "name": "stderr",
          "text": [
            "eval_pred: 100%|██████████| 1/1 [00:00<00:00, 63.17it/s]\n"
          ]
        },
        {
          "output_type": "stream",
          "name": "stdout",
          "text": [
            "\t eval rmse: 0.8737\n",
            "\t eval mae: 0.7084\n",
            "\t eval r2: 0.1119\n",
            "==============================\n"
          ]
        },
        {
          "output_type": "stream",
          "name": "stderr",
          "text": [
            "train: 100%|██████████| 169/169 [00:00<00:00, 200.39it/s]\n"
          ]
        },
        {
          "output_type": "stream",
          "name": "stdout",
          "text": [
            "Epoch 5 elapsed: 0.875s\n",
            "\t \u001b[32mtrain_loss: 0.4208\u001b[0m\n"
          ]
        },
        {
          "output_type": "stream",
          "name": "stderr",
          "text": [
            "eval_pred: 100%|██████████| 1/1 [00:00<00:00, 78.60it/s]\n"
          ]
        },
        {
          "output_type": "stream",
          "name": "stdout",
          "text": [
            "\t eval rmse: 0.8817\n",
            "\t eval mae: 0.7154\n",
            "\t eval r2: 0.0956\n",
            "==============================\n"
          ]
        },
        {
          "output_type": "stream",
          "name": "stderr",
          "text": [
            "train: 100%|██████████| 169/169 [00:00<00:00, 206.16it/s]\n"
          ]
        },
        {
          "output_type": "stream",
          "name": "stdout",
          "text": [
            "Epoch 6 elapsed: 0.852s\n",
            "\t \u001b[32mtrain_loss: 0.3634\u001b[0m\n"
          ]
        },
        {
          "output_type": "stream",
          "name": "stderr",
          "text": [
            "eval_pred: 100%|██████████| 1/1 [00:00<00:00, 85.68it/s]\n"
          ]
        },
        {
          "output_type": "stream",
          "name": "stdout",
          "text": [
            "\t eval rmse: 0.8932\n",
            "\t eval mae: 0.7178\n",
            "\t eval r2: 0.0717\n",
            "==============================\n"
          ]
        },
        {
          "output_type": "stream",
          "name": "stderr",
          "text": [
            "train: 100%|██████████| 169/169 [00:00<00:00, 196.57it/s]\n"
          ]
        },
        {
          "output_type": "stream",
          "name": "stdout",
          "text": [
            "Epoch 7 elapsed: 0.889s\n",
            "\t \u001b[32mtrain_loss: 0.3368\u001b[0m\n"
          ]
        },
        {
          "output_type": "stream",
          "name": "stderr",
          "text": [
            "eval_pred: 100%|██████████| 1/1 [00:00<00:00, 81.12it/s]\n"
          ]
        },
        {
          "output_type": "stream",
          "name": "stdout",
          "text": [
            "\t eval rmse: 0.8841\n",
            "\t eval mae: 0.7131\n",
            "\t eval r2: 0.0906\n",
            "==============================\n"
          ]
        },
        {
          "output_type": "stream",
          "name": "stderr",
          "text": [
            "train: 100%|██████████| 169/169 [00:00<00:00, 223.84it/s]\n"
          ]
        },
        {
          "output_type": "stream",
          "name": "stdout",
          "text": [
            "Epoch 8 elapsed: 0.782s\n",
            "\t \u001b[32mtrain_loss: 0.3237\u001b[0m\n"
          ]
        },
        {
          "output_type": "stream",
          "name": "stderr",
          "text": [
            "eval_pred: 100%|██████████| 1/1 [00:00<00:00, 105.82it/s]\n"
          ]
        },
        {
          "output_type": "stream",
          "name": "stdout",
          "text": [
            "\t eval rmse: 0.8901\n",
            "\t eval mae: 0.7123\n",
            "\t eval r2: 0.0781\n",
            "==============================\n"
          ]
        },
        {
          "output_type": "stream",
          "name": "stderr",
          "text": [
            "train: 100%|██████████| 169/169 [00:00<00:00, 211.34it/s]\n"
          ]
        },
        {
          "output_type": "stream",
          "name": "stdout",
          "text": [
            "Epoch 9 elapsed: 0.826s\n",
            "\t \u001b[32mtrain_loss: 0.3159\u001b[0m\n"
          ]
        },
        {
          "output_type": "stream",
          "name": "stderr",
          "text": [
            "eval_pred: 100%|██████████| 1/1 [00:00<00:00, 89.34it/s]\n"
          ]
        },
        {
          "output_type": "stream",
          "name": "stdout",
          "text": [
            "\t eval rmse: 0.8790\n",
            "\t eval mae: 0.7123\n",
            "\t eval r2: 0.1009\n",
            "==============================\n"
          ]
        },
        {
          "output_type": "stream",
          "name": "stderr",
          "text": [
            "train: 100%|██████████| 169/169 [00:00<00:00, 208.32it/s]\n"
          ]
        },
        {
          "output_type": "stream",
          "name": "stdout",
          "text": [
            "Epoch 10 elapsed: 0.841s\n",
            "\t \u001b[32mtrain_loss: 0.3107\u001b[0m\n"
          ]
        },
        {
          "output_type": "stream",
          "name": "stderr",
          "text": [
            "eval_pred: 100%|██████████| 1/1 [00:00<00:00, 71.63it/s]\n"
          ]
        },
        {
          "output_type": "stream",
          "name": "stdout",
          "text": [
            "\t eval rmse: 0.8792\n",
            "\t eval mae: 0.7083\n",
            "\t eval r2: 0.1006\n",
            "==============================\n"
          ]
        },
        {
          "output_type": "stream",
          "name": "stderr",
          "text": [
            "train: 100%|██████████| 169/169 [00:00<00:00, 232.73it/s]\n"
          ]
        },
        {
          "output_type": "stream",
          "name": "stdout",
          "text": [
            "Epoch 11 elapsed: 0.754s\n",
            "\t \u001b[32mtrain_loss: 0.3069\u001b[0m\n"
          ]
        },
        {
          "output_type": "stream",
          "name": "stderr",
          "text": [
            "eval_pred: 100%|██████████| 1/1 [00:00<00:00, 66.28it/s]\n"
          ]
        },
        {
          "output_type": "stream",
          "name": "stdout",
          "text": [
            "\t eval rmse: 0.8780\n",
            "\t eval mae: 0.7054\n",
            "\t eval r2: 0.1031\n",
            "==============================\n"
          ]
        },
        {
          "output_type": "stream",
          "name": "stderr",
          "text": [
            "train: 100%|██████████| 169/169 [00:00<00:00, 196.64it/s]\n"
          ]
        },
        {
          "output_type": "stream",
          "name": "stdout",
          "text": [
            "Epoch 12 elapsed: 0.885s\n",
            "\t \u001b[32mtrain_loss: 0.3045\u001b[0m\n"
          ]
        },
        {
          "output_type": "stream",
          "name": "stderr",
          "text": [
            "eval_pred: 100%|██████████| 1/1 [00:00<00:00, 66.34it/s]\n"
          ]
        },
        {
          "output_type": "stream",
          "name": "stdout",
          "text": [
            "\t eval rmse: 0.8761\n",
            "\t eval mae: 0.7106\n",
            "\t eval r2: 0.1068\n",
            "==============================\n"
          ]
        },
        {
          "output_type": "stream",
          "name": "stderr",
          "text": [
            "train: 100%|██████████| 169/169 [00:00<00:00, 210.62it/s]\n"
          ]
        },
        {
          "output_type": "stream",
          "name": "stdout",
          "text": [
            "Epoch 13 elapsed: 0.837s\n",
            "\t \u001b[32mtrain_loss: 0.3021\u001b[0m\n"
          ]
        },
        {
          "output_type": "stream",
          "name": "stderr",
          "text": [
            "eval_pred: 100%|██████████| 1/1 [00:00<00:00, 81.59it/s]\n"
          ]
        },
        {
          "output_type": "stream",
          "name": "stdout",
          "text": [
            "\t eval rmse: 0.8795\n",
            "\t eval mae: 0.7049\n",
            "\t eval r2: 0.0999\n",
            "==============================\n"
          ]
        },
        {
          "output_type": "stream",
          "name": "stderr",
          "text": [
            "train: 100%|██████████| 169/169 [00:00<00:00, 232.99it/s]\n"
          ]
        },
        {
          "output_type": "stream",
          "name": "stdout",
          "text": [
            "Epoch 14 elapsed: 0.758s\n",
            "\t \u001b[32mtrain_loss: 0.3005\u001b[0m\n"
          ]
        },
        {
          "output_type": "stream",
          "name": "stderr",
          "text": [
            "eval_pred: 100%|██████████| 1/1 [00:00<00:00, 84.60it/s]\n"
          ]
        },
        {
          "output_type": "stream",
          "name": "stdout",
          "text": [
            "\t eval rmse: 0.8755\n",
            "\t eval mae: 0.7088\n",
            "\t eval r2: 0.1082\n",
            "==============================\n"
          ]
        },
        {
          "output_type": "stream",
          "name": "stderr",
          "text": [
            "train: 100%|██████████| 169/169 [00:00<00:00, 209.94it/s]\n"
          ]
        },
        {
          "output_type": "stream",
          "name": "stdout",
          "text": [
            "Epoch 15 elapsed: 0.844s\n",
            "\t \u001b[32mtrain_loss: 0.3004\u001b[0m\n"
          ]
        },
        {
          "output_type": "stream",
          "name": "stderr",
          "text": [
            "eval_pred: 100%|██████████| 1/1 [00:00<00:00, 61.21it/s]\n"
          ]
        },
        {
          "output_type": "stream",
          "name": "stdout",
          "text": [
            "\t eval rmse: 0.8741\n",
            "\t eval mae: 0.7075\n",
            "\t eval r2: 0.1110\n",
            "==============================\n"
          ]
        },
        {
          "output_type": "stream",
          "name": "stderr",
          "text": [
            "train: 100%|██████████| 169/169 [00:00<00:00, 231.55it/s]\n"
          ]
        },
        {
          "output_type": "stream",
          "name": "stdout",
          "text": [
            "Epoch 16 elapsed: 0.759s\n",
            "\t \u001b[32mtrain_loss: 0.2986\u001b[0m\n"
          ]
        },
        {
          "output_type": "stream",
          "name": "stderr",
          "text": [
            "eval_pred: 100%|██████████| 1/1 [00:00<00:00, 80.19it/s]\n"
          ]
        },
        {
          "output_type": "stream",
          "name": "stdout",
          "text": [
            "\t eval rmse: 0.8736\n",
            "\t eval mae: 0.7050\n",
            "\t eval r2: 0.1120\n",
            "==============================\n"
          ]
        },
        {
          "output_type": "stream",
          "name": "stderr",
          "text": [
            "train: 100%|██████████| 169/169 [00:00<00:00, 208.88it/s]\n"
          ]
        },
        {
          "output_type": "stream",
          "name": "stdout",
          "text": [
            "Epoch 17 elapsed: 0.848s\n",
            "\t \u001b[32mtrain_loss: 0.2969\u001b[0m\n"
          ]
        },
        {
          "output_type": "stream",
          "name": "stderr",
          "text": [
            "eval_pred: 100%|██████████| 1/1 [00:00<00:00, 68.96it/s]\n"
          ]
        },
        {
          "output_type": "stream",
          "name": "stdout",
          "text": [
            "\t eval rmse: 0.8742\n",
            "\t eval mae: 0.7064\n",
            "\t eval r2: 0.1108\n",
            "==============================\n"
          ]
        },
        {
          "output_type": "stream",
          "name": "stderr",
          "text": [
            "train: 100%|██████████| 169/169 [00:00<00:00, 227.74it/s]\n"
          ]
        },
        {
          "output_type": "stream",
          "name": "stdout",
          "text": [
            "Epoch 18 elapsed: 0.772s\n",
            "\t \u001b[32mtrain_loss: 0.2968\u001b[0m\n"
          ]
        },
        {
          "output_type": "stream",
          "name": "stderr",
          "text": [
            "eval_pred: 100%|██████████| 1/1 [00:00<00:00, 76.78it/s]\n"
          ]
        },
        {
          "output_type": "stream",
          "name": "stdout",
          "text": [
            "\t eval rmse: 0.8755\n",
            "\t eval mae: 0.7071\n",
            "\t eval r2: 0.1082\n",
            "==============================\n"
          ]
        },
        {
          "output_type": "stream",
          "name": "stderr",
          "text": [
            "train: 100%|██████████| 169/169 [00:00<00:00, 209.51it/s]\n"
          ]
        },
        {
          "output_type": "stream",
          "name": "stdout",
          "text": [
            "Epoch 19 elapsed: 0.838s\n",
            "\t \u001b[32mtrain_loss: 0.2955\u001b[0m\n"
          ]
        },
        {
          "output_type": "stream",
          "name": "stderr",
          "text": [
            "eval_pred: 100%|██████████| 1/1 [00:00<00:00, 80.75it/s]\n"
          ]
        },
        {
          "output_type": "stream",
          "name": "stdout",
          "text": [
            "\t eval rmse: 0.8723\n",
            "\t eval mae: 0.7028\n",
            "\t eval r2: 0.1146\n",
            "==============================\n"
          ]
        },
        {
          "output_type": "stream",
          "name": "stderr",
          "text": [
            "train: 100%|██████████| 169/169 [00:00<00:00, 231.80it/s]\n"
          ]
        },
        {
          "output_type": "stream",
          "name": "stdout",
          "text": [
            "Epoch 20 elapsed: 0.761s\n",
            "\t \u001b[32mtrain_loss: 0.2953\u001b[0m\n"
          ]
        },
        {
          "output_type": "stream",
          "name": "stderr",
          "text": [
            "eval_pred: 100%|██████████| 1/1 [00:00<00:00, 68.38it/s]\n"
          ]
        },
        {
          "output_type": "stream",
          "name": "stdout",
          "text": [
            "\t eval rmse: 0.8728\n",
            "\t eval mae: 0.7022\n",
            "\t eval r2: 0.1136\n",
            "==============================\n",
            "recommendation:  [(18, 1.4362942), (30, 1.3606696), (17, 1.3321054), (19, 1.2585492), (34, 1.1712719), (33, 1.0719392), (29, 0.89466435), (20, 0.89213336), (2, 0.87747395), (13, 0.86994696)]\n"
          ]
        }
      ]
    },
    {
      "cell_type": "code",
      "metadata": {
        "colab": {
          "base_uri": "https://localhost:8080/"
        },
        "id": "Wh0VgwL6KK4I",
        "outputId": "587cb950-9071-4775-b159-52da5fa6f199"
      },
      "source": [
        "train_data, test_data = split_by_ratio(data, test_size=0.2)\n",
        "\n",
        "# specify complete columns information\n",
        "#sparse_col = [ 'age',\"gender\", \"DEGREE_CENTRALITY\",\"EIGENVECTOR\",'BETWEENNESS_CENTRALITY','CLUSTCOEF','PAGERANK','Comorbidities','Behavioural','Mental']\n",
        "sparse_col = [\"gender\",'Comorbidities','Behavioural','Mental']\n",
        "dense_col = [\"age\"]\n",
        "user_col = [\"age\", \"gender\"]\n",
        "#item_col = [\"DEGREE_CENTRALITY\",\"EIGENVECTOR\",'BETWEENNESS_CENTRALITY','CLUSTCOEF','PAGERANK','Comorbidities','Behavioural','Mental']\n",
        "item_col = ['Comorbidities','Behavioural','Mental']\n",
        "\n",
        "\n",
        "\n",
        "train_data, data_info = DatasetFeat.build_trainset(\n",
        "    train_data, user_col, item_col, sparse_col, dense_col\n",
        ")\n",
        "test_data = DatasetFeat.build_testset(test_data)\n",
        "train_data.build_negative_samples(data_info)  # sample negative items for each record\n",
        "test_data.build_negative_samples(data_info)\n",
        "print(data_info)  # n_users: 5962, n_items: 3226, data sparsity: 0.4185 %\n",
        "reset_state(\"Wide_Deep\")\n",
        "wd = WideDeep(\"ranking\", data_info, embed_size=16, n_epochs=20,\n",
        "                  lr={\"wide\": 0.01, \"deep\": 1e-4}, lr_decay=False, reg=None,\n",
        "                  batch_size=256, num_neg=1, use_bn=False, dropout_rate=None,\n",
        "                  hidden_units=\"128,64,32\", tf_sess_config=None)\n",
        "wd.fit(train_data, verbose=2, shuffle=True, eval_data=test_data,\n",
        "                metrics=[\"loss\", \"roc_auc\", \"precision\", \"recall\", \"map\", \"ndcg\"])\n",
        "\n",
        "# predict preference of user 2211 to item 110\n",
        "#print(\"prediction: \", fm.predict(user=2916, item=1))\n",
        "# recommend 7 items for user 2916\n",
        "print(\"recommendation(id, probability): \", wd.recommend_user(user=2916, n_rec=10))\n"
      ],
      "execution_count": null,
      "outputs": [
        {
          "output_type": "stream",
          "name": "stdout",
          "text": [
            "random neg item sampling elapsed: 0.046s\n",
            "random neg item sampling elapsed: 0.004s\n",
            "n_users: 19828, n_items: 34, data sparsity: 6.3931 %\n",
            "\n",
            " ============================== Wide_Deep ==============================\n",
            "Training start time: \u001b[35m2021-09-22 05:11:18\u001b[0m\n",
            "total params: \u001b[33m362,750\u001b[0m | embedding params: \u001b[33m338,135\u001b[0m | network params: \u001b[33m24,615\u001b[0m\n"
          ]
        },
        {
          "output_type": "stream",
          "name": "stderr",
          "text": [
            "train: 100%|██████████| 337/337 [00:01<00:00, 204.63it/s]\n"
          ]
        },
        {
          "output_type": "stream",
          "name": "stdout",
          "text": [
            "Epoch 1 elapsed: 1.683s\n",
            "\t \u001b[32mtrain_loss: 0.6235\u001b[0m\n"
          ]
        },
        {
          "output_type": "stream",
          "name": "stderr",
          "text": [
            "eval_pred: 100%|██████████| 1/1 [00:00<00:00, 22.89it/s]\n",
            "eval_rec: 100%|██████████| 2048/2048 [00:02<00:00, 957.20it/s]\n"
          ]
        },
        {
          "output_type": "stream",
          "name": "stdout",
          "text": [
            "\t eval log_loss: 0.5278\n",
            "\t eval roc_auc: 0.8055\n",
            "\t eval precision@10: 0.0798\n",
            "\t eval recall@10: 0.7345\n",
            "\t eval map@10: 0.6201\n",
            "\t eval ndcg@10: 0.6565\n",
            "==============================\n"
          ]
        },
        {
          "output_type": "stream",
          "name": "stderr",
          "text": [
            "train: 100%|██████████| 337/337 [00:01<00:00, 221.78it/s]\n"
          ]
        },
        {
          "output_type": "stream",
          "name": "stdout",
          "text": [
            "Epoch 2 elapsed: 1.558s\n",
            "\t \u001b[32mtrain_loss: 0.5455\u001b[0m\n"
          ]
        },
        {
          "output_type": "stream",
          "name": "stderr",
          "text": [
            "eval_pred: 100%|██████████| 1/1 [00:00<00:00, 55.20it/s]\n",
            "eval_rec: 100%|██████████| 2048/2048 [00:02<00:00, 954.95it/s]\n"
          ]
        },
        {
          "output_type": "stream",
          "name": "stdout",
          "text": [
            "\t eval log_loss: 0.5236\n",
            "\t eval roc_auc: 0.8043\n",
            "\t eval precision@10: 0.0795\n",
            "\t eval recall@10: 0.7325\n",
            "\t eval map@10: 0.6203\n",
            "\t eval ndcg@10: 0.6562\n",
            "==============================\n"
          ]
        },
        {
          "output_type": "stream",
          "name": "stderr",
          "text": [
            "train: 100%|██████████| 337/337 [00:01<00:00, 218.96it/s]\n"
          ]
        },
        {
          "output_type": "stream",
          "name": "stdout",
          "text": [
            "Epoch 3 elapsed: 1.581s\n",
            "\t \u001b[32mtrain_loss: 0.5441\u001b[0m\n"
          ]
        },
        {
          "output_type": "stream",
          "name": "stderr",
          "text": [
            "eval_pred: 100%|██████████| 1/1 [00:00<00:00, 58.64it/s]\n",
            "eval_rec: 100%|██████████| 2048/2048 [00:02<00:00, 951.91it/s]\n"
          ]
        },
        {
          "output_type": "stream",
          "name": "stdout",
          "text": [
            "\t eval log_loss: 0.5270\n",
            "\t eval roc_auc: 0.8108\n",
            "\t eval precision@10: 0.0797\n",
            "\t eval recall@10: 0.7327\n",
            "\t eval map@10: 0.6195\n",
            "\t eval ndcg@10: 0.6558\n",
            "==============================\n"
          ]
        },
        {
          "output_type": "stream",
          "name": "stderr",
          "text": [
            "train: 100%|██████████| 337/337 [00:01<00:00, 217.14it/s]\n"
          ]
        },
        {
          "output_type": "stream",
          "name": "stdout",
          "text": [
            "Epoch 4 elapsed: 1.596s\n",
            "\t \u001b[32mtrain_loss: 0.544\u001b[0m\n"
          ]
        },
        {
          "output_type": "stream",
          "name": "stderr",
          "text": [
            "eval_pred: 100%|██████████| 1/1 [00:00<00:00, 54.98it/s]\n",
            "eval_rec: 100%|██████████| 2048/2048 [00:02<00:00, 970.49it/s]\n"
          ]
        },
        {
          "output_type": "stream",
          "name": "stdout",
          "text": [
            "\t eval log_loss: 0.5250\n",
            "\t eval roc_auc: 0.8089\n",
            "\t eval precision@10: 0.0801\n",
            "\t eval recall@10: 0.7352\n",
            "\t eval map@10: 0.6186\n",
            "\t eval ndcg@10: 0.6556\n",
            "==============================\n"
          ]
        },
        {
          "output_type": "stream",
          "name": "stderr",
          "text": [
            "train: 100%|██████████| 337/337 [00:01<00:00, 211.12it/s]\n"
          ]
        },
        {
          "output_type": "stream",
          "name": "stdout",
          "text": [
            "Epoch 5 elapsed: 1.643s\n",
            "\t \u001b[32mtrain_loss: 0.5437\u001b[0m\n"
          ]
        },
        {
          "output_type": "stream",
          "name": "stderr",
          "text": [
            "eval_pred: 100%|██████████| 1/1 [00:00<00:00, 61.74it/s]\n",
            "eval_rec: 100%|██████████| 2048/2048 [00:02<00:00, 966.37it/s]\n"
          ]
        },
        {
          "output_type": "stream",
          "name": "stdout",
          "text": [
            "\t eval log_loss: 0.5224\n",
            "\t eval roc_auc: 0.8075\n",
            "\t eval precision@10: 0.0799\n",
            "\t eval recall@10: 0.7338\n",
            "\t eval map@10: 0.6192\n",
            "\t eval ndcg@10: 0.6557\n",
            "==============================\n"
          ]
        },
        {
          "output_type": "stream",
          "name": "stderr",
          "text": [
            "train: 100%|██████████| 337/337 [00:01<00:00, 222.31it/s]\n"
          ]
        },
        {
          "output_type": "stream",
          "name": "stdout",
          "text": [
            "Epoch 6 elapsed: 1.553s\n",
            "\t \u001b[32mtrain_loss: 0.5437\u001b[0m\n"
          ]
        },
        {
          "output_type": "stream",
          "name": "stderr",
          "text": [
            "eval_pred: 100%|██████████| 1/1 [00:00<00:00, 51.46it/s]\n",
            "eval_rec: 100%|██████████| 2048/2048 [00:02<00:00, 945.26it/s]\n"
          ]
        },
        {
          "output_type": "stream",
          "name": "stdout",
          "text": [
            "\t eval log_loss: 0.5210\n",
            "\t eval roc_auc: 0.8075\n",
            "\t eval precision@10: 0.0797\n",
            "\t eval recall@10: 0.7327\n",
            "\t eval map@10: 0.6195\n",
            "\t eval ndcg@10: 0.6558\n",
            "==============================\n"
          ]
        },
        {
          "output_type": "stream",
          "name": "stderr",
          "text": [
            "train: 100%|██████████| 337/337 [00:01<00:00, 225.74it/s]\n"
          ]
        },
        {
          "output_type": "stream",
          "name": "stdout",
          "text": [
            "Epoch 7 elapsed: 1.535s\n",
            "\t \u001b[32mtrain_loss: 0.5429\u001b[0m\n"
          ]
        },
        {
          "output_type": "stream",
          "name": "stderr",
          "text": [
            "eval_pred: 100%|██████████| 1/1 [00:00<00:00, 60.98it/s]\n",
            "eval_rec: 100%|██████████| 2048/2048 [00:02<00:00, 943.18it/s]\n"
          ]
        },
        {
          "output_type": "stream",
          "name": "stdout",
          "text": [
            "\t eval log_loss: 0.5300\n",
            "\t eval roc_auc: 0.8080\n",
            "\t eval precision@10: 0.0795\n",
            "\t eval recall@10: 0.7325\n",
            "\t eval map@10: 0.6203\n",
            "\t eval ndcg@10: 0.6562\n",
            "==============================\n"
          ]
        },
        {
          "output_type": "stream",
          "name": "stderr",
          "text": [
            "train: 100%|██████████| 337/337 [00:01<00:00, 226.15it/s]\n"
          ]
        },
        {
          "output_type": "stream",
          "name": "stdout",
          "text": [
            "Epoch 8 elapsed: 1.530s\n",
            "\t \u001b[32mtrain_loss: 0.5412\u001b[0m\n"
          ]
        },
        {
          "output_type": "stream",
          "name": "stderr",
          "text": [
            "eval_pred: 100%|██████████| 1/1 [00:00<00:00, 52.85it/s]\n",
            "eval_rec: 100%|██████████| 2048/2048 [00:02<00:00, 909.72it/s]\n"
          ]
        },
        {
          "output_type": "stream",
          "name": "stdout",
          "text": [
            "\t eval log_loss: 0.5216\n",
            "\t eval roc_auc: 0.8116\n",
            "\t eval precision@10: 0.0799\n",
            "\t eval recall@10: 0.7338\n",
            "\t eval map@10: 0.6192\n",
            "\t eval ndcg@10: 0.6557\n",
            "==============================\n"
          ]
        },
        {
          "output_type": "stream",
          "name": "stderr",
          "text": [
            "train: 100%|██████████| 337/337 [00:01<00:00, 209.61it/s]\n"
          ]
        },
        {
          "output_type": "stream",
          "name": "stdout",
          "text": [
            "Epoch 9 elapsed: 1.647s\n",
            "\t \u001b[32mtrain_loss: 0.5376\u001b[0m\n"
          ]
        },
        {
          "output_type": "stream",
          "name": "stderr",
          "text": [
            "eval_pred: 100%|██████████| 1/1 [00:00<00:00, 60.63it/s]\n",
            "eval_rec: 100%|██████████| 2048/2048 [00:02<00:00, 949.62it/s]\n"
          ]
        },
        {
          "output_type": "stream",
          "name": "stdout",
          "text": [
            "\t eval log_loss: 0.5301\n",
            "\t eval roc_auc: 0.8099\n",
            "\t eval precision@10: 0.0798\n",
            "\t eval recall@10: 0.7333\n",
            "\t eval map@10: 0.6193\n",
            "\t eval ndcg@10: 0.6558\n",
            "==============================\n"
          ]
        },
        {
          "output_type": "stream",
          "name": "stderr",
          "text": [
            "train: 100%|██████████| 337/337 [00:01<00:00, 222.59it/s]\n"
          ]
        },
        {
          "output_type": "stream",
          "name": "stdout",
          "text": [
            "Epoch 10 elapsed: 1.549s\n",
            "\t \u001b[32mtrain_loss: 0.533\u001b[0m\n"
          ]
        },
        {
          "output_type": "stream",
          "name": "stderr",
          "text": [
            "eval_pred: 100%|██████████| 1/1 [00:00<00:00, 56.64it/s]\n",
            "eval_rec: 100%|██████████| 2048/2048 [00:02<00:00, 956.12it/s]\n"
          ]
        },
        {
          "output_type": "stream",
          "name": "stdout",
          "text": [
            "\t eval log_loss: 0.5311\n",
            "\t eval roc_auc: 0.8102\n",
            "\t eval precision@10: 0.0794\n",
            "\t eval recall@10: 0.7315\n",
            "\t eval map@10: 0.6205\n",
            "\t eval ndcg@10: 0.6562\n",
            "==============================\n"
          ]
        },
        {
          "output_type": "stream",
          "name": "stderr",
          "text": [
            "train: 100%|██████████| 337/337 [00:01<00:00, 221.85it/s]\n"
          ]
        },
        {
          "output_type": "stream",
          "name": "stdout",
          "text": [
            "Epoch 11 elapsed: 1.560s\n",
            "\t \u001b[32mtrain_loss: 0.5278\u001b[0m\n"
          ]
        },
        {
          "output_type": "stream",
          "name": "stderr",
          "text": [
            "eval_pred: 100%|██████████| 1/1 [00:00<00:00, 55.86it/s]\n",
            "eval_rec: 100%|██████████| 2048/2048 [00:02<00:00, 957.10it/s]\n"
          ]
        },
        {
          "output_type": "stream",
          "name": "stdout",
          "text": [
            "\t eval log_loss: 0.5413\n",
            "\t eval roc_auc: 0.8085\n",
            "\t eval precision@10: 0.0806\n",
            "\t eval recall@10: 0.7408\n",
            "\t eval map@10: 0.6202\n",
            "\t eval ndcg@10: 0.6582\n",
            "==============================\n"
          ]
        },
        {
          "output_type": "stream",
          "name": "stderr",
          "text": [
            "train: 100%|██████████| 337/337 [00:01<00:00, 219.41it/s]\n"
          ]
        },
        {
          "output_type": "stream",
          "name": "stdout",
          "text": [
            "Epoch 12 elapsed: 1.577s\n",
            "\t \u001b[32mtrain_loss: 0.5232\u001b[0m\n"
          ]
        },
        {
          "output_type": "stream",
          "name": "stderr",
          "text": [
            "eval_pred: 100%|██████████| 1/1 [00:00<00:00, 53.19it/s]\n",
            "eval_rec: 100%|██████████| 2048/2048 [00:02<00:00, 955.77it/s]\n"
          ]
        },
        {
          "output_type": "stream",
          "name": "stdout",
          "text": [
            "\t eval log_loss: 0.5462\n",
            "\t eval roc_auc: 0.8078\n",
            "\t eval precision@10: 0.0806\n",
            "\t eval recall@10: 0.7405\n",
            "\t eval map@10: 0.6201\n",
            "\t eval ndcg@10: 0.6581\n",
            "==============================\n"
          ]
        },
        {
          "output_type": "stream",
          "name": "stderr",
          "text": [
            "train: 100%|██████████| 337/337 [00:01<00:00, 213.91it/s]\n"
          ]
        },
        {
          "output_type": "stream",
          "name": "stdout",
          "text": [
            "Epoch 13 elapsed: 1.633s\n",
            "\t \u001b[32mtrain_loss: 0.519\u001b[0m\n"
          ]
        },
        {
          "output_type": "stream",
          "name": "stderr",
          "text": [
            "eval_pred: 100%|██████████| 1/1 [00:00<00:00, 50.60it/s]\n",
            "eval_rec: 100%|██████████| 2048/2048 [00:02<00:00, 966.58it/s]\n"
          ]
        },
        {
          "output_type": "stream",
          "name": "stdout",
          "text": [
            "\t eval log_loss: 0.5533\n",
            "\t eval roc_auc: 0.8075\n",
            "\t eval precision@10: 0.0796\n",
            "\t eval recall@10: 0.7320\n",
            "\t eval map@10: 0.6191\n",
            "\t eval ndcg@10: 0.6552\n",
            "==============================\n"
          ]
        },
        {
          "output_type": "stream",
          "name": "stderr",
          "text": [
            "train: 100%|██████████| 337/337 [00:01<00:00, 220.66it/s]\n"
          ]
        },
        {
          "output_type": "stream",
          "name": "stdout",
          "text": [
            "Epoch 14 elapsed: 1.568s\n",
            "\t \u001b[32mtrain_loss: 0.515\u001b[0m\n"
          ]
        },
        {
          "output_type": "stream",
          "name": "stderr",
          "text": [
            "eval_pred: 100%|██████████| 1/1 [00:00<00:00, 54.15it/s]\n",
            "eval_rec: 100%|██████████| 2048/2048 [00:02<00:00, 933.80it/s]\n"
          ]
        },
        {
          "output_type": "stream",
          "name": "stdout",
          "text": [
            "\t eval log_loss: 0.5457\n",
            "\t eval roc_auc: 0.8098\n",
            "\t eval precision@10: 0.0811\n",
            "\t eval recall@10: 0.7417\n",
            "\t eval map@10: 0.6182\n",
            "\t eval ndcg@10: 0.6566\n",
            "==============================\n"
          ]
        },
        {
          "output_type": "stream",
          "name": "stderr",
          "text": [
            "train: 100%|██████████| 337/337 [00:01<00:00, 219.27it/s]\n"
          ]
        },
        {
          "output_type": "stream",
          "name": "stdout",
          "text": [
            "Epoch 15 elapsed: 1.580s\n",
            "\t \u001b[32mtrain_loss: 0.5099\u001b[0m\n"
          ]
        },
        {
          "output_type": "stream",
          "name": "stderr",
          "text": [
            "eval_pred: 100%|██████████| 1/1 [00:00<00:00, 52.39it/s]\n",
            "eval_rec: 100%|██████████| 2048/2048 [00:02<00:00, 961.37it/s]\n"
          ]
        },
        {
          "output_type": "stream",
          "name": "stdout",
          "text": [
            "\t eval log_loss: 0.5439\n",
            "\t eval roc_auc: 0.8093\n",
            "\t eval precision@10: 0.0820\n",
            "\t eval recall@10: 0.7506\n",
            "\t eval map@10: 0.6188\n",
            "\t eval ndcg@10: 0.6591\n",
            "==============================\n"
          ]
        },
        {
          "output_type": "stream",
          "name": "stderr",
          "text": [
            "train: 100%|██████████| 337/337 [00:01<00:00, 221.12it/s]\n"
          ]
        },
        {
          "output_type": "stream",
          "name": "stdout",
          "text": [
            "Epoch 16 elapsed: 1.564s\n",
            "\t \u001b[32mtrain_loss: 0.5042\u001b[0m\n"
          ]
        },
        {
          "output_type": "stream",
          "name": "stderr",
          "text": [
            "eval_pred: 100%|██████████| 1/1 [00:00<00:00, 57.04it/s]\n",
            "eval_rec: 100%|██████████| 2048/2048 [00:02<00:00, 973.28it/s]\n"
          ]
        },
        {
          "output_type": "stream",
          "name": "stdout",
          "text": [
            "\t eval log_loss: 0.5457\n",
            "\t eval roc_auc: 0.8105\n",
            "\t eval precision@10: 0.0841\n",
            "\t eval recall@10: 0.7675\n",
            "\t eval map@10: 0.6191\n",
            "\t eval ndcg@10: 0.6629\n",
            "==============================\n"
          ]
        },
        {
          "output_type": "stream",
          "name": "stderr",
          "text": [
            "train: 100%|██████████| 337/337 [00:01<00:00, 222.97it/s]\n"
          ]
        },
        {
          "output_type": "stream",
          "name": "stdout",
          "text": [
            "Epoch 17 elapsed: 1.548s\n",
            "\t \u001b[32mtrain_loss: 0.4959\u001b[0m\n"
          ]
        },
        {
          "output_type": "stream",
          "name": "stderr",
          "text": [
            "eval_pred: 100%|██████████| 1/1 [00:00<00:00, 49.33it/s]\n",
            "eval_rec: 100%|██████████| 2048/2048 [00:02<00:00, 925.77it/s]\n"
          ]
        },
        {
          "output_type": "stream",
          "name": "stdout",
          "text": [
            "\t eval log_loss: 0.5535\n",
            "\t eval roc_auc: 0.8085\n",
            "\t eval precision@10: 0.0840\n",
            "\t eval recall@10: 0.7681\n",
            "\t eval map@10: 0.6199\n",
            "\t eval ndcg@10: 0.6638\n",
            "==============================\n"
          ]
        },
        {
          "output_type": "stream",
          "name": "stderr",
          "text": [
            "train: 100%|██████████| 337/337 [00:01<00:00, 216.12it/s]\n"
          ]
        },
        {
          "output_type": "stream",
          "name": "stdout",
          "text": [
            "Epoch 18 elapsed: 1.608s\n",
            "\t \u001b[32mtrain_loss: 0.483\u001b[0m\n"
          ]
        },
        {
          "output_type": "stream",
          "name": "stderr",
          "text": [
            "eval_pred: 100%|██████████| 1/1 [00:00<00:00, 68.58it/s]\n",
            "eval_rec: 100%|██████████| 2048/2048 [00:02<00:00, 945.24it/s]\n"
          ]
        },
        {
          "output_type": "stream",
          "name": "stdout",
          "text": [
            "\t eval log_loss: 0.5597\n",
            "\t eval roc_auc: 0.8048\n",
            "\t eval precision@10: 0.0857\n",
            "\t eval recall@10: 0.7842\n",
            "\t eval map@10: 0.6202\n",
            "\t eval ndcg@10: 0.6673\n",
            "==============================\n"
          ]
        },
        {
          "output_type": "stream",
          "name": "stderr",
          "text": [
            "train: 100%|██████████| 337/337 [00:01<00:00, 225.17it/s]\n"
          ]
        },
        {
          "output_type": "stream",
          "name": "stdout",
          "text": [
            "Epoch 19 elapsed: 1.541s\n",
            "\t \u001b[32mtrain_loss: 0.4634\u001b[0m\n"
          ]
        },
        {
          "output_type": "stream",
          "name": "stderr",
          "text": [
            "eval_pred: 100%|██████████| 1/1 [00:00<00:00, 58.19it/s]\n",
            "eval_rec: 100%|██████████| 2048/2048 [00:02<00:00, 959.93it/s]\n"
          ]
        },
        {
          "output_type": "stream",
          "name": "stdout",
          "text": [
            "\t eval log_loss: 0.5687\n",
            "\t eval roc_auc: 0.7903\n",
            "\t eval precision@10: 0.0853\n",
            "\t eval recall@10: 0.7787\n",
            "\t eval map@10: 0.6064\n",
            "\t eval ndcg@10: 0.6555\n",
            "==============================\n"
          ]
        },
        {
          "output_type": "stream",
          "name": "stderr",
          "text": [
            "train: 100%|██████████| 337/337 [00:01<00:00, 225.35it/s]\n"
          ]
        },
        {
          "output_type": "stream",
          "name": "stdout",
          "text": [
            "Epoch 20 elapsed: 1.540s\n",
            "\t \u001b[32mtrain_loss: 0.4425\u001b[0m\n"
          ]
        },
        {
          "output_type": "stream",
          "name": "stderr",
          "text": [
            "eval_pred: 100%|██████████| 1/1 [00:00<00:00, 52.95it/s]\n",
            "eval_rec: 100%|██████████| 2048/2048 [00:02<00:00, 948.36it/s]\n"
          ]
        },
        {
          "output_type": "stream",
          "name": "stdout",
          "text": [
            "\t eval log_loss: 0.5936\n",
            "\t eval roc_auc: 0.7708\n",
            "\t eval precision@10: 0.0839\n",
            "\t eval recall@10: 0.7651\n",
            "\t eval map@10: 0.5652\n",
            "\t eval ndcg@10: 0.6204\n",
            "==============================\n",
            "recommendation(id, probability):  [(34, 0.8905234), (19, 0.83848953), (2, 0.83236617), (18, 0.7930578), (9, 0.7339003), (22, 0.6386224), (30, 0.6239816), (23, 0.5420456), (26, 0.43297508), (31, 0.39628348)]\n"
          ]
        }
      ]
    },
    {
      "cell_type": "code",
      "metadata": {
        "colab": {
          "base_uri": "https://localhost:8080/"
        },
        "id": "aOnMlzNqeZEe",
        "outputId": "b64ea62a-9bea-4808-8288-06879075c2f4"
      },
      "source": [
        "reset_state(\"DeepFM\")\n",
        "deepfm = DeepFM(\"rating\", data_info, embed_size=16, n_epochs=30,\n",
        "                    lr=1e-4, lr_decay=False, reg=None, batch_size=2048,\n",
        "                    num_neg=1, use_bn=False, dropout_rate=None,\n",
        "                    hidden_units=\"128,64,32\", tf_sess_config=None)\n",
        "deepfm.fit(train_data, verbose=2, shuffle=True, eval_data=eval_data,\n",
        "               metrics=[\"rmse\", \"mae\", \"r2\"])\n",
        "#print(\"prediction: \", deepfm.predict(user=1, item=2333))\n",
        "print(\"recommendation: \", deepfm.recommend_user(user=2916, n_rec=7))"
      ],
      "execution_count": null,
      "outputs": [
        {
          "output_type": "stream",
          "name": "stdout",
          "text": [
            "\n",
            " ============================== DeepFM ==============================\n",
            "Training start time: \u001b[35m2021-09-21 08:19:07\u001b[0m\n",
            "total params: \u001b[33m362,767\u001b[0m | embedding params: \u001b[33m338,135\u001b[0m | network params: \u001b[33m24,632\u001b[0m\n"
          ]
        },
        {
          "output_type": "stream",
          "name": "stderr",
          "text": [
            "train: 100%|██████████| 22/22 [00:00<00:00, 34.96it/s]\n"
          ]
        },
        {
          "output_type": "stream",
          "name": "stdout",
          "text": [
            "Epoch 1 elapsed: 0.652s\n",
            "\t \u001b[32mtrain_loss: 3.5593\u001b[0m\n"
          ]
        },
        {
          "output_type": "stream",
          "name": "stderr",
          "text": [
            "eval_pred: 100%|██████████| 1/1 [00:00<00:00, 20.66it/s]\n"
          ]
        },
        {
          "output_type": "stream",
          "name": "stdout",
          "text": [
            "\t eval rmse: 1.2919\n",
            "\t eval mae: 0.8998\n",
            "\t eval r2: -0.9421\n",
            "==============================\n"
          ]
        },
        {
          "output_type": "stream",
          "name": "stderr",
          "text": [
            "train: 100%|██████████| 22/22 [00:00<00:00, 56.95it/s]\n"
          ]
        },
        {
          "output_type": "stream",
          "name": "stdout",
          "text": [
            "Epoch 2 elapsed: 0.415s\n",
            "\t \u001b[32mtrain_loss: 1.4506\u001b[0m\n"
          ]
        },
        {
          "output_type": "stream",
          "name": "stderr",
          "text": [
            "eval_pred: 100%|██████████| 1/1 [00:00<00:00, 58.99it/s]\n"
          ]
        },
        {
          "output_type": "stream",
          "name": "stdout",
          "text": [
            "\t eval rmse: 1.0637\n",
            "\t eval mae: 0.8492\n",
            "\t eval r2: -0.3165\n",
            "==============================\n"
          ]
        },
        {
          "output_type": "stream",
          "name": "stderr",
          "text": [
            "train: 100%|██████████| 22/22 [00:00<00:00, 57.15it/s]\n"
          ]
        },
        {
          "output_type": "stream",
          "name": "stdout",
          "text": [
            "Epoch 3 elapsed: 0.417s\n",
            "\t \u001b[32mtrain_loss: 0.8995\u001b[0m\n"
          ]
        },
        {
          "output_type": "stream",
          "name": "stderr",
          "text": [
            "eval_pred: 100%|██████████| 1/1 [00:00<00:00, 82.11it/s]\n"
          ]
        },
        {
          "output_type": "stream",
          "name": "stdout",
          "text": [
            "\t eval rmse: 0.9910\n",
            "\t eval mae: 0.8181\n",
            "\t eval r2: -0.1428\n",
            "==============================\n"
          ]
        },
        {
          "output_type": "stream",
          "name": "stderr",
          "text": [
            "train: 100%|██████████| 22/22 [00:00<00:00, 58.38it/s]\n"
          ]
        },
        {
          "output_type": "stream",
          "name": "stdout",
          "text": [
            "Epoch 4 elapsed: 0.406s\n",
            "\t \u001b[32mtrain_loss: 0.8712\u001b[0m\n"
          ]
        },
        {
          "output_type": "stream",
          "name": "stderr",
          "text": [
            "eval_pred: 100%|██████████| 1/1 [00:00<00:00, 63.85it/s]\n"
          ]
        },
        {
          "output_type": "stream",
          "name": "stdout",
          "text": [
            "\t eval rmse: 0.9864\n",
            "\t eval mae: 0.8123\n",
            "\t eval r2: -0.1320\n",
            "==============================\n"
          ]
        },
        {
          "output_type": "stream",
          "name": "stderr",
          "text": [
            "train: 100%|██████████| 22/22 [00:00<00:00, 57.42it/s]\n"
          ]
        },
        {
          "output_type": "stream",
          "name": "stdout",
          "text": [
            "Epoch 5 elapsed: 0.415s\n",
            "\t \u001b[32mtrain_loss: 0.8513\u001b[0m\n"
          ]
        },
        {
          "output_type": "stream",
          "name": "stderr",
          "text": [
            "eval_pred: 100%|██████████| 1/1 [00:00<00:00, 67.81it/s]\n"
          ]
        },
        {
          "output_type": "stream",
          "name": "stdout",
          "text": [
            "\t eval rmse: 0.9818\n",
            "\t eval mae: 0.8052\n",
            "\t eval r2: -0.1216\n",
            "==============================\n"
          ]
        },
        {
          "output_type": "stream",
          "name": "stderr",
          "text": [
            "train: 100%|██████████| 22/22 [00:00<00:00, 58.18it/s]\n"
          ]
        },
        {
          "output_type": "stream",
          "name": "stdout",
          "text": [
            "Epoch 6 elapsed: 0.401s\n",
            "\t \u001b[32mtrain_loss: 0.8396\u001b[0m\n"
          ]
        },
        {
          "output_type": "stream",
          "name": "stderr",
          "text": [
            "eval_pred: 100%|██████████| 1/1 [00:00<00:00, 67.12it/s]\n"
          ]
        },
        {
          "output_type": "stream",
          "name": "stdout",
          "text": [
            "\t eval rmse: 0.9757\n",
            "\t eval mae: 0.8005\n",
            "\t eval r2: -0.1077\n",
            "==============================\n"
          ]
        },
        {
          "output_type": "stream",
          "name": "stderr",
          "text": [
            "train: 100%|██████████| 22/22 [00:00<00:00, 57.65it/s]\n"
          ]
        },
        {
          "output_type": "stream",
          "name": "stdout",
          "text": [
            "Epoch 7 elapsed: 0.413s\n",
            "\t \u001b[32mtrain_loss: 0.8299\u001b[0m\n"
          ]
        },
        {
          "output_type": "stream",
          "name": "stderr",
          "text": [
            "eval_pred: 100%|██████████| 1/1 [00:00<00:00, 65.04it/s]\n"
          ]
        },
        {
          "output_type": "stream",
          "name": "stdout",
          "text": [
            "\t eval rmse: 0.9681\n",
            "\t eval mae: 0.7951\n",
            "\t eval r2: -0.0906\n",
            "==============================\n"
          ]
        },
        {
          "output_type": "stream",
          "name": "stderr",
          "text": [
            "train: 100%|██████████| 22/22 [00:00<00:00, 57.83it/s]\n"
          ]
        },
        {
          "output_type": "stream",
          "name": "stdout",
          "text": [
            "Epoch 8 elapsed: 0.406s\n",
            "\t \u001b[32mtrain_loss: 0.8156\u001b[0m\n"
          ]
        },
        {
          "output_type": "stream",
          "name": "stderr",
          "text": [
            "eval_pred: 100%|██████████| 1/1 [00:00<00:00, 60.72it/s]\n"
          ]
        },
        {
          "output_type": "stream",
          "name": "stdout",
          "text": [
            "\t eval rmse: 0.9596\n",
            "\t eval mae: 0.7886\n",
            "\t eval r2: -0.0715\n",
            "==============================\n"
          ]
        },
        {
          "output_type": "stream",
          "name": "stderr",
          "text": [
            "train: 100%|██████████| 22/22 [00:00<00:00, 59.18it/s]\n"
          ]
        },
        {
          "output_type": "stream",
          "name": "stdout",
          "text": [
            "Epoch 9 elapsed: 0.397s\n",
            "\t \u001b[32mtrain_loss: 0.8099\u001b[0m\n"
          ]
        },
        {
          "output_type": "stream",
          "name": "stderr",
          "text": [
            "eval_pred: 100%|██████████| 1/1 [00:00<00:00, 67.78it/s]\n"
          ]
        },
        {
          "output_type": "stream",
          "name": "stdout",
          "text": [
            "\t eval rmse: 0.9501\n",
            "\t eval mae: 0.7816\n",
            "\t eval r2: -0.0503\n",
            "==============================\n"
          ]
        },
        {
          "output_type": "stream",
          "name": "stderr",
          "text": [
            "train: 100%|██████████| 22/22 [00:00<00:00, 59.11it/s]\n"
          ]
        },
        {
          "output_type": "stream",
          "name": "stdout",
          "text": [
            "Epoch 10 elapsed: 0.407s\n",
            "\t \u001b[32mtrain_loss: 0.7746\u001b[0m\n"
          ]
        },
        {
          "output_type": "stream",
          "name": "stderr",
          "text": [
            "eval_pred: 100%|██████████| 1/1 [00:00<00:00, 56.33it/s]\n"
          ]
        },
        {
          "output_type": "stream",
          "name": "stdout",
          "text": [
            "\t eval rmse: 0.9396\n",
            "\t eval mae: 0.7741\n",
            "\t eval r2: -0.0273\n",
            "==============================\n"
          ]
        },
        {
          "output_type": "stream",
          "name": "stderr",
          "text": [
            "train: 100%|██████████| 22/22 [00:00<00:00, 56.73it/s]\n"
          ]
        },
        {
          "output_type": "stream",
          "name": "stdout",
          "text": [
            "Epoch 11 elapsed: 0.415s\n",
            "\t \u001b[32mtrain_loss: 0.7523\u001b[0m\n"
          ]
        },
        {
          "output_type": "stream",
          "name": "stderr",
          "text": [
            "eval_pred: 100%|██████████| 1/1 [00:00<00:00, 51.03it/s]\n"
          ]
        },
        {
          "output_type": "stream",
          "name": "stdout",
          "text": [
            "\t eval rmse: 0.9289\n",
            "\t eval mae: 0.7665\n",
            "\t eval r2: -0.0041\n",
            "==============================\n"
          ]
        },
        {
          "output_type": "stream",
          "name": "stderr",
          "text": [
            "train: 100%|██████████| 22/22 [00:00<00:00, 55.97it/s]\n"
          ]
        },
        {
          "output_type": "stream",
          "name": "stdout",
          "text": [
            "Epoch 12 elapsed: 0.421s\n",
            "\t \u001b[32mtrain_loss: 0.7196\u001b[0m\n"
          ]
        },
        {
          "output_type": "stream",
          "name": "stderr",
          "text": [
            "eval_pred: 100%|██████████| 1/1 [00:00<00:00, 79.67it/s]\n"
          ]
        },
        {
          "output_type": "stream",
          "name": "stdout",
          "text": [
            "\t eval rmse: 0.9177\n",
            "\t eval mae: 0.7583\n",
            "\t eval r2: 0.0200\n",
            "==============================\n"
          ]
        },
        {
          "output_type": "stream",
          "name": "stderr",
          "text": [
            "train: 100%|██████████| 22/22 [00:00<00:00, 58.54it/s]\n"
          ]
        },
        {
          "output_type": "stream",
          "name": "stdout",
          "text": [
            "Epoch 13 elapsed: 0.400s\n",
            "\t \u001b[32mtrain_loss: 0.7012\u001b[0m\n"
          ]
        },
        {
          "output_type": "stream",
          "name": "stderr",
          "text": [
            "eval_pred: 100%|██████████| 1/1 [00:00<00:00, 51.60it/s]\n"
          ]
        },
        {
          "output_type": "stream",
          "name": "stdout",
          "text": [
            "\t eval rmse: 0.9067\n",
            "\t eval mae: 0.7501\n",
            "\t eval r2: 0.0434\n",
            "==============================\n"
          ]
        },
        {
          "output_type": "stream",
          "name": "stderr",
          "text": [
            "train: 100%|██████████| 22/22 [00:00<00:00, 58.57it/s]\n"
          ]
        },
        {
          "output_type": "stream",
          "name": "stdout",
          "text": [
            "Epoch 14 elapsed: 0.406s\n",
            "\t \u001b[32mtrain_loss: 0.6756\u001b[0m\n"
          ]
        },
        {
          "output_type": "stream",
          "name": "stderr",
          "text": [
            "eval_pred: 100%|██████████| 1/1 [00:00<00:00, 60.97it/s]\n"
          ]
        },
        {
          "output_type": "stream",
          "name": "stdout",
          "text": [
            "\t eval rmse: 0.8959\n",
            "\t eval mae: 0.7422\n",
            "\t eval r2: 0.0662\n",
            "==============================\n"
          ]
        },
        {
          "output_type": "stream",
          "name": "stderr",
          "text": [
            "train: 100%|██████████| 22/22 [00:00<00:00, 58.79it/s]\n"
          ]
        },
        {
          "output_type": "stream",
          "name": "stdout",
          "text": [
            "Epoch 15 elapsed: 0.405s\n",
            "\t \u001b[32mtrain_loss: 0.6484\u001b[0m\n"
          ]
        },
        {
          "output_type": "stream",
          "name": "stderr",
          "text": [
            "eval_pred: 100%|██████████| 1/1 [00:00<00:00, 59.02it/s]\n"
          ]
        },
        {
          "output_type": "stream",
          "name": "stdout",
          "text": [
            "\t eval rmse: 0.8861\n",
            "\t eval mae: 0.7338\n",
            "\t eval r2: 0.0864\n",
            "==============================\n"
          ]
        },
        {
          "output_type": "stream",
          "name": "stderr",
          "text": [
            "train: 100%|██████████| 22/22 [00:00<00:00, 58.76it/s]\n"
          ]
        },
        {
          "output_type": "stream",
          "name": "stdout",
          "text": [
            "Epoch 16 elapsed: 0.400s\n",
            "\t \u001b[32mtrain_loss: 0.6163\u001b[0m\n"
          ]
        },
        {
          "output_type": "stream",
          "name": "stderr",
          "text": [
            "eval_pred: 100%|██████████| 1/1 [00:00<00:00, 54.44it/s]\n"
          ]
        },
        {
          "output_type": "stream",
          "name": "stdout",
          "text": [
            "\t eval rmse: 0.8771\n",
            "\t eval mae: 0.7261\n",
            "\t eval r2: 0.1049\n",
            "==============================\n"
          ]
        },
        {
          "output_type": "stream",
          "name": "stderr",
          "text": [
            "train: 100%|██████████| 22/22 [00:00<00:00, 57.78it/s]\n"
          ]
        },
        {
          "output_type": "stream",
          "name": "stdout",
          "text": [
            "Epoch 17 elapsed: 0.410s\n",
            "\t \u001b[32mtrain_loss: 0.5768\u001b[0m\n"
          ]
        },
        {
          "output_type": "stream",
          "name": "stderr",
          "text": [
            "eval_pred: 100%|██████████| 1/1 [00:00<00:00, 58.77it/s]\n"
          ]
        },
        {
          "output_type": "stream",
          "name": "stdout",
          "text": [
            "\t eval rmse: 0.8691\n",
            "\t eval mae: 0.7197\n",
            "\t eval r2: 0.1211\n",
            "==============================\n"
          ]
        },
        {
          "output_type": "stream",
          "name": "stderr",
          "text": [
            "train: 100%|██████████| 22/22 [00:00<00:00, 59.81it/s]\n"
          ]
        },
        {
          "output_type": "stream",
          "name": "stdout",
          "text": [
            "Epoch 18 elapsed: 0.395s\n",
            "\t \u001b[32mtrain_loss: 0.5532\u001b[0m\n"
          ]
        },
        {
          "output_type": "stream",
          "name": "stderr",
          "text": [
            "eval_pred: 100%|██████████| 1/1 [00:00<00:00, 66.83it/s]\n"
          ]
        },
        {
          "output_type": "stream",
          "name": "stdout",
          "text": [
            "\t eval rmse: 0.8635\n",
            "\t eval mae: 0.7135\n",
            "\t eval r2: 0.1325\n",
            "==============================\n"
          ]
        },
        {
          "output_type": "stream",
          "name": "stderr",
          "text": [
            "train: 100%|██████████| 22/22 [00:00<00:00, 58.60it/s]\n"
          ]
        },
        {
          "output_type": "stream",
          "name": "stdout",
          "text": [
            "Epoch 19 elapsed: 0.410s\n",
            "\t \u001b[32mtrain_loss: 0.5231\u001b[0m\n"
          ]
        },
        {
          "output_type": "stream",
          "name": "stderr",
          "text": [
            "eval_pred: 100%|██████████| 1/1 [00:00<00:00, 61.40it/s]\n"
          ]
        },
        {
          "output_type": "stream",
          "name": "stdout",
          "text": [
            "\t eval rmse: 0.8603\n",
            "\t eval mae: 0.7093\n",
            "\t eval r2: 0.1389\n",
            "==============================\n"
          ]
        },
        {
          "output_type": "stream",
          "name": "stderr",
          "text": [
            "train: 100%|██████████| 22/22 [00:00<00:00, 59.01it/s]\n"
          ]
        },
        {
          "output_type": "stream",
          "name": "stdout",
          "text": [
            "Epoch 20 elapsed: 0.403s\n",
            "\t \u001b[32mtrain_loss: 0.5034\u001b[0m\n"
          ]
        },
        {
          "output_type": "stream",
          "name": "stderr",
          "text": [
            "eval_pred: 100%|██████████| 1/1 [00:00<00:00, 68.11it/s]\n"
          ]
        },
        {
          "output_type": "stream",
          "name": "stdout",
          "text": [
            "\t eval rmse: 0.8593\n",
            "\t eval mae: 0.7064\n",
            "\t eval r2: 0.1409\n",
            "==============================\n"
          ]
        },
        {
          "output_type": "stream",
          "name": "stderr",
          "text": [
            "train: 100%|██████████| 22/22 [00:00<00:00, 60.00it/s]\n"
          ]
        },
        {
          "output_type": "stream",
          "name": "stdout",
          "text": [
            "Epoch 21 elapsed: 0.396s\n",
            "\t \u001b[32mtrain_loss: 0.4683\u001b[0m\n"
          ]
        },
        {
          "output_type": "stream",
          "name": "stderr",
          "text": [
            "eval_pred: 100%|██████████| 1/1 [00:00<00:00, 57.23it/s]\n"
          ]
        },
        {
          "output_type": "stream",
          "name": "stdout",
          "text": [
            "\t eval rmse: 0.8554\n",
            "\t eval mae: 0.7050\n",
            "\t eval r2: 0.1487\n",
            "==============================\n"
          ]
        },
        {
          "output_type": "stream",
          "name": "stderr",
          "text": [
            "train: 100%|██████████| 22/22 [00:00<00:00, 59.25it/s]\n"
          ]
        },
        {
          "output_type": "stream",
          "name": "stdout",
          "text": [
            "Epoch 22 elapsed: 0.411s\n",
            "\t \u001b[32mtrain_loss: 0.4403\u001b[0m\n"
          ]
        },
        {
          "output_type": "stream",
          "name": "stderr",
          "text": [
            "eval_pred: 100%|██████████| 1/1 [00:00<00:00, 61.81it/s]\n"
          ]
        },
        {
          "output_type": "stream",
          "name": "stdout",
          "text": [
            "\t eval rmse: 0.8583\n",
            "\t eval mae: 0.7045\n",
            "\t eval r2: 0.1428\n",
            "==============================\n"
          ]
        },
        {
          "output_type": "stream",
          "name": "stderr",
          "text": [
            "train: 100%|██████████| 22/22 [00:00<00:00, 58.06it/s]\n"
          ]
        },
        {
          "output_type": "stream",
          "name": "stdout",
          "text": [
            "Epoch 23 elapsed: 0.409s\n",
            "\t \u001b[32mtrain_loss: 0.4222\u001b[0m\n"
          ]
        },
        {
          "output_type": "stream",
          "name": "stderr",
          "text": [
            "eval_pred: 100%|██████████| 1/1 [00:00<00:00, 63.91it/s]\n"
          ]
        },
        {
          "output_type": "stream",
          "name": "stdout",
          "text": [
            "\t eval rmse: 0.8582\n",
            "\t eval mae: 0.7051\n",
            "\t eval r2: 0.1430\n",
            "==============================\n"
          ]
        },
        {
          "output_type": "stream",
          "name": "stderr",
          "text": [
            "train: 100%|██████████| 22/22 [00:00<00:00, 59.75it/s]\n"
          ]
        },
        {
          "output_type": "stream",
          "name": "stdout",
          "text": [
            "Epoch 24 elapsed: 0.398s\n",
            "\t \u001b[32mtrain_loss: 0.4039\u001b[0m\n"
          ]
        },
        {
          "output_type": "stream",
          "name": "stderr",
          "text": [
            "eval_pred: 100%|██████████| 1/1 [00:00<00:00, 58.15it/s]\n"
          ]
        },
        {
          "output_type": "stream",
          "name": "stdout",
          "text": [
            "\t eval rmse: 0.8610\n",
            "\t eval mae: 0.7060\n",
            "\t eval r2: 0.1374\n",
            "==============================\n"
          ]
        },
        {
          "output_type": "stream",
          "name": "stderr",
          "text": [
            "train: 100%|██████████| 22/22 [00:00<00:00, 56.87it/s]\n"
          ]
        },
        {
          "output_type": "stream",
          "name": "stdout",
          "text": [
            "Epoch 25 elapsed: 0.421s\n",
            "\t \u001b[32mtrain_loss: 0.3817\u001b[0m\n"
          ]
        },
        {
          "output_type": "stream",
          "name": "stderr",
          "text": [
            "eval_pred: 100%|██████████| 1/1 [00:00<00:00, 75.17it/s]\n"
          ]
        },
        {
          "output_type": "stream",
          "name": "stdout",
          "text": [
            "\t eval rmse: 0.8675\n",
            "\t eval mae: 0.7062\n",
            "\t eval r2: 0.1243\n",
            "==============================\n"
          ]
        },
        {
          "output_type": "stream",
          "name": "stderr",
          "text": [
            "train: 100%|██████████| 22/22 [00:00<00:00, 57.54it/s]\n"
          ]
        },
        {
          "output_type": "stream",
          "name": "stdout",
          "text": [
            "Epoch 26 elapsed: 0.414s\n",
            "\t \u001b[32mtrain_loss: 0.371\u001b[0m\n"
          ]
        },
        {
          "output_type": "stream",
          "name": "stderr",
          "text": [
            "eval_pred: 100%|██████████| 1/1 [00:00<00:00, 59.16it/s]\n"
          ]
        },
        {
          "output_type": "stream",
          "name": "stdout",
          "text": [
            "\t eval rmse: 0.8696\n",
            "\t eval mae: 0.7084\n",
            "\t eval r2: 0.1201\n",
            "==============================\n"
          ]
        },
        {
          "output_type": "stream",
          "name": "stderr",
          "text": [
            "train: 100%|██████████| 22/22 [00:00<00:00, 58.86it/s]\n"
          ]
        },
        {
          "output_type": "stream",
          "name": "stdout",
          "text": [
            "Epoch 27 elapsed: 0.400s\n",
            "\t \u001b[32mtrain_loss: 0.353\u001b[0m\n"
          ]
        },
        {
          "output_type": "stream",
          "name": "stderr",
          "text": [
            "eval_pred: 100%|██████████| 1/1 [00:00<00:00, 56.55it/s]\n"
          ]
        },
        {
          "output_type": "stream",
          "name": "stdout",
          "text": [
            "\t eval rmse: 0.8726\n",
            "\t eval mae: 0.7096\n",
            "\t eval r2: 0.1140\n",
            "==============================\n"
          ]
        },
        {
          "output_type": "stream",
          "name": "stderr",
          "text": [
            "train: 100%|██████████| 22/22 [00:00<00:00, 60.11it/s]\n"
          ]
        },
        {
          "output_type": "stream",
          "name": "stdout",
          "text": [
            "Epoch 28 elapsed: 0.401s\n",
            "\t \u001b[32mtrain_loss: 0.3441\u001b[0m\n"
          ]
        },
        {
          "output_type": "stream",
          "name": "stderr",
          "text": [
            "eval_pred: 100%|██████████| 1/1 [00:00<00:00, 72.23it/s]\n"
          ]
        },
        {
          "output_type": "stream",
          "name": "stdout",
          "text": [
            "\t eval rmse: 0.8758\n",
            "\t eval mae: 0.7109\n",
            "\t eval r2: 0.1075\n",
            "==============================\n"
          ]
        },
        {
          "output_type": "stream",
          "name": "stderr",
          "text": [
            "train: 100%|██████████| 22/22 [00:00<00:00, 57.40it/s]\n"
          ]
        },
        {
          "output_type": "stream",
          "name": "stdout",
          "text": [
            "Epoch 29 elapsed: 0.418s\n",
            "\t \u001b[32mtrain_loss: 0.3334\u001b[0m\n"
          ]
        },
        {
          "output_type": "stream",
          "name": "stderr",
          "text": [
            "eval_pred: 100%|██████████| 1/1 [00:00<00:00, 54.35it/s]\n"
          ]
        },
        {
          "output_type": "stream",
          "name": "stdout",
          "text": [
            "\t eval rmse: 0.8795\n",
            "\t eval mae: 0.7115\n",
            "\t eval r2: 0.0999\n",
            "==============================\n"
          ]
        },
        {
          "output_type": "stream",
          "name": "stderr",
          "text": [
            "train: 100%|██████████| 22/22 [00:00<00:00, 59.52it/s]\n"
          ]
        },
        {
          "output_type": "stream",
          "name": "stdout",
          "text": [
            "Epoch 30 elapsed: 0.402s\n",
            "\t \u001b[32mtrain_loss: 0.3328\u001b[0m\n"
          ]
        },
        {
          "output_type": "stream",
          "name": "stderr",
          "text": [
            "eval_pred: 100%|██████████| 1/1 [00:00<00:00, 41.16it/s]\n"
          ]
        },
        {
          "output_type": "stream",
          "name": "stdout",
          "text": [
            "\t eval rmse: 0.8815\n",
            "\t eval mae: 0.7124\n",
            "\t eval r2: 0.0958\n",
            "==============================\n",
            "recommendation:  [(30, 1.5681673), (18, 1.5471661), (17, 1.3904479), (19, 1.2498953), (34, 1.1190872), (29, 0.9994422), (20, 0.9435787)]\n"
          ]
        }
      ]
    },
    {
      "cell_type": "code",
      "metadata": {
        "colab": {
          "base_uri": "https://localhost:8080/"
        },
        "id": "0O5iIsSgQXaZ",
        "outputId": "e9386550-4186-4b4d-d884-68a0345f18a2"
      },
      "source": [
        "train_data, test_data = split_by_ratio(data, test_size=0.2)\n",
        "\n",
        "# specify complete columns information\n",
        "sparse_col = [ 'age',\"gender\", \"DEGREE_CENTRALITY\",\"EIGENVECTOR\",'BETWEENNESS_CENTRALITY','CLUSTCOEF','PAGERANK','Comorbidities','Behavioural','Mental']\n",
        "#sparse_col = [\"gender\",'Comorbidities','Behavioural','Mental']\n",
        "dense_col = [\"age\"]\n",
        "user_col = [\"age\", \"gender\"]\n",
        "item_col = [\"DEGREE_CENTRALITY\",\"EIGENVECTOR\",'BETWEENNESS_CENTRALITY','CLUSTCOEF','PAGERANK','Comorbidities','Behavioural','Mental']\n",
        "#item_col = ['Comorbidities','Behavioural','Mental']\n",
        "\n",
        "\n",
        "\n",
        "train_data, data_info = DatasetFeat.build_trainset(\n",
        "    train_data, user_col, item_col, sparse_col, dense_col\n",
        ")\n",
        "test_data = DatasetFeat.build_testset(test_data)\n",
        "train_data.build_negative_samples(data_info)  # sample negative items for each record\n",
        "test_data.build_negative_samples(data_info)\n",
        "print(data_info)  # n_users: 5962, n_items: 3226, data sparsity: 0.4185 %\n",
        "reset_state(\"DeepFM\")\n",
        "deepfm = DeepFM(\"ranking\", data_info, embed_size=16, n_epochs=30,\n",
        "                    lr=1e-4, lr_decay=False, reg=None, batch_size=2048,\n",
        "                    num_neg=1, use_bn=False, dropout_rate=None,\n",
        "                    hidden_units=\"128,64,32\", tf_sess_config=None)\n",
        "deepfm.fit(train_data, verbose=2, shuffle=True, eval_data=test_data,\n",
        "                metrics=[\"loss\", \"roc_auc\", \"precision\", \"recall\", \"map\", \"ndcg\"])\n",
        "\n",
        "# predict preference of user 2211 to item 110\n",
        "#print(\"prediction: \", fm.predict(user=2916, item=1))\n",
        "# recommend 7 items for user 2916\n",
        "print(\"recommendation(id, probability): \", deepfm.recommend_user(user=2916, n_rec=10))"
      ],
      "execution_count": null,
      "outputs": [
        {
          "output_type": "stream",
          "name": "stdout",
          "text": [
            "random neg item sampling elapsed: 0.053s\n",
            "random neg item sampling elapsed: 0.004s\n",
            "n_users: 19828, n_items: 34, data sparsity: 6.3931 %\n",
            "\n",
            " ============================== DeepFM ==============================\n",
            "Training start time: \u001b[35m2021-09-22 06:07:39\u001b[0m\n",
            "total params: \u001b[33m379,073\u001b[0m | embedding params: \u001b[33m342,147\u001b[0m | network params: \u001b[33m36,926\u001b[0m\n"
          ]
        },
        {
          "output_type": "stream",
          "name": "stderr",
          "text": [
            "train: 100%|██████████| 43/43 [00:01<00:00, 41.57it/s]\n"
          ]
        },
        {
          "output_type": "stream",
          "name": "stdout",
          "text": [
            "Epoch 1 elapsed: 1.081s\n",
            "\t \u001b[32mtrain_loss: 0.6858\u001b[0m\n"
          ]
        },
        {
          "output_type": "stream",
          "name": "stderr",
          "text": [
            "eval_pred: 100%|██████████| 1/1 [00:00<00:00, 17.73it/s]\n",
            "eval_rec: 100%|██████████| 2048/2048 [00:02<00:00, 890.70it/s]\n"
          ]
        },
        {
          "output_type": "stream",
          "name": "stdout",
          "text": [
            "\t eval log_loss: 0.6692\n",
            "\t eval roc_auc: 0.7936\n",
            "\t eval precision@10: 0.0873\n",
            "\t eval recall@10: 0.7965\n",
            "\t eval map@10: 0.6081\n",
            "\t eval ndcg@10: 0.6607\n",
            "==============================\n"
          ]
        },
        {
          "output_type": "stream",
          "name": "stderr",
          "text": [
            "train: 100%|██████████| 43/43 [00:00<00:00, 53.73it/s]\n"
          ]
        },
        {
          "output_type": "stream",
          "name": "stdout",
          "text": [
            "Epoch 2 elapsed: 0.847s\n",
            "\t \u001b[32mtrain_loss: 0.6581\u001b[0m\n"
          ]
        },
        {
          "output_type": "stream",
          "name": "stderr",
          "text": [
            "eval_pred: 100%|██████████| 1/1 [00:00<00:00, 35.81it/s]\n",
            "eval_rec: 100%|██████████| 2048/2048 [00:02<00:00, 908.28it/s]\n"
          ]
        },
        {
          "output_type": "stream",
          "name": "stdout",
          "text": [
            "\t eval log_loss: 0.6163\n",
            "\t eval roc_auc: 0.8106\n",
            "\t eval precision@10: 0.0847\n",
            "\t eval recall@10: 0.7744\n",
            "\t eval map@10: 0.6113\n",
            "\t eval ndcg@10: 0.6584\n",
            "==============================\n"
          ]
        },
        {
          "output_type": "stream",
          "name": "stderr",
          "text": [
            "train: 100%|██████████| 43/43 [00:00<00:00, 54.31it/s]\n"
          ]
        },
        {
          "output_type": "stream",
          "name": "stdout",
          "text": [
            "Epoch 3 elapsed: 0.838s\n",
            "\t \u001b[32mtrain_loss: 0.5985\u001b[0m\n"
          ]
        },
        {
          "output_type": "stream",
          "name": "stderr",
          "text": [
            "eval_pred: 100%|██████████| 1/1 [00:00<00:00, 26.07it/s]\n",
            "eval_rec: 100%|██████████| 2048/2048 [00:02<00:00, 920.41it/s]\n"
          ]
        },
        {
          "output_type": "stream",
          "name": "stdout",
          "text": [
            "\t eval log_loss: 0.5444\n",
            "\t eval roc_auc: 0.8062\n",
            "\t eval precision@10: 0.0808\n",
            "\t eval recall@10: 0.7436\n",
            "\t eval map@10: 0.6182\n",
            "\t eval ndcg@10: 0.6573\n",
            "==============================\n"
          ]
        },
        {
          "output_type": "stream",
          "name": "stderr",
          "text": [
            "train: 100%|██████████| 43/43 [00:00<00:00, 56.29it/s]\n"
          ]
        },
        {
          "output_type": "stream",
          "name": "stdout",
          "text": [
            "Epoch 4 elapsed: 0.811s\n",
            "\t \u001b[32mtrain_loss: 0.5536\u001b[0m\n"
          ]
        },
        {
          "output_type": "stream",
          "name": "stderr",
          "text": [
            "eval_pred: 100%|██████████| 1/1 [00:00<00:00, 44.66it/s]\n",
            "eval_rec: 100%|██████████| 2048/2048 [00:02<00:00, 915.33it/s]\n"
          ]
        },
        {
          "output_type": "stream",
          "name": "stdout",
          "text": [
            "\t eval log_loss: 0.5266\n",
            "\t eval roc_auc: 0.8039\n",
            "\t eval precision@10: 0.0807\n",
            "\t eval recall@10: 0.7437\n",
            "\t eval map@10: 0.6217\n",
            "\t eval ndcg@10: 0.6598\n",
            "==============================\n"
          ]
        },
        {
          "output_type": "stream",
          "name": "stderr",
          "text": [
            "train: 100%|██████████| 43/43 [00:00<00:00, 53.35it/s]\n"
          ]
        },
        {
          "output_type": "stream",
          "name": "stdout",
          "text": [
            "Epoch 5 elapsed: 0.851s\n",
            "\t \u001b[32mtrain_loss: 0.5446\u001b[0m\n"
          ]
        },
        {
          "output_type": "stream",
          "name": "stderr",
          "text": [
            "eval_pred: 100%|██████████| 1/1 [00:00<00:00, 41.01it/s]\n",
            "eval_rec: 100%|██████████| 2048/2048 [00:02<00:00, 908.06it/s]\n"
          ]
        },
        {
          "output_type": "stream",
          "name": "stdout",
          "text": [
            "\t eval log_loss: 0.5253\n",
            "\t eval roc_auc: 0.8042\n",
            "\t eval precision@10: 0.0791\n",
            "\t eval recall@10: 0.7288\n",
            "\t eval map@10: 0.6208\n",
            "\t eval ndcg@10: 0.6559\n",
            "==============================\n"
          ]
        },
        {
          "output_type": "stream",
          "name": "stderr",
          "text": [
            "train: 100%|██████████| 43/43 [00:00<00:00, 55.29it/s]\n"
          ]
        },
        {
          "output_type": "stream",
          "name": "stdout",
          "text": [
            "Epoch 6 elapsed: 0.827s\n",
            "\t \u001b[32mtrain_loss: 0.5422\u001b[0m\n"
          ]
        },
        {
          "output_type": "stream",
          "name": "stderr",
          "text": [
            "eval_pred: 100%|██████████| 1/1 [00:00<00:00, 45.86it/s]\n",
            "eval_rec: 100%|██████████| 2048/2048 [00:02<00:00, 914.70it/s]\n"
          ]
        },
        {
          "output_type": "stream",
          "name": "stdout",
          "text": [
            "\t eval log_loss: 0.5255\n",
            "\t eval roc_auc: 0.8093\n",
            "\t eval precision@10: 0.0804\n",
            "\t eval recall@10: 0.7393\n",
            "\t eval map@10: 0.6208\n",
            "\t eval ndcg@10: 0.6582\n",
            "==============================\n"
          ]
        },
        {
          "output_type": "stream",
          "name": "stderr",
          "text": [
            "train: 100%|██████████| 43/43 [00:00<00:00, 52.50it/s]\n"
          ]
        },
        {
          "output_type": "stream",
          "name": "stdout",
          "text": [
            "Epoch 7 elapsed: 0.861s\n",
            "\t \u001b[32mtrain_loss: 0.5415\u001b[0m\n"
          ]
        },
        {
          "output_type": "stream",
          "name": "stderr",
          "text": [
            "eval_pred: 100%|██████████| 1/1 [00:00<00:00, 40.86it/s]\n",
            "eval_rec: 100%|██████████| 2048/2048 [00:02<00:00, 833.87it/s]\n"
          ]
        },
        {
          "output_type": "stream",
          "name": "stdout",
          "text": [
            "\t eval log_loss: 0.5228\n",
            "\t eval roc_auc: 0.8119\n",
            "\t eval precision@10: 0.0799\n",
            "\t eval recall@10: 0.7342\n",
            "\t eval map@10: 0.6191\n",
            "\t eval ndcg@10: 0.6558\n",
            "==============================\n"
          ]
        },
        {
          "output_type": "stream",
          "name": "stderr",
          "text": [
            "train: 100%|██████████| 43/43 [00:00<00:00, 54.18it/s]\n"
          ]
        },
        {
          "output_type": "stream",
          "name": "stdout",
          "text": [
            "Epoch 8 elapsed: 0.836s\n",
            "\t \u001b[32mtrain_loss: 0.5411\u001b[0m\n"
          ]
        },
        {
          "output_type": "stream",
          "name": "stderr",
          "text": [
            "eval_pred: 100%|██████████| 1/1 [00:00<00:00, 41.34it/s]\n",
            "eval_rec: 100%|██████████| 2048/2048 [00:02<00:00, 926.93it/s]\n"
          ]
        },
        {
          "output_type": "stream",
          "name": "stdout",
          "text": [
            "\t eval log_loss: 0.5211\n",
            "\t eval roc_auc: 0.8102\n",
            "\t eval precision@10: 0.0796\n",
            "\t eval recall@10: 0.7323\n",
            "\t eval map@10: 0.6197\n",
            "\t eval ndcg@10: 0.6558\n",
            "==============================\n"
          ]
        },
        {
          "output_type": "stream",
          "name": "stderr",
          "text": [
            "train: 100%|██████████| 43/43 [00:00<00:00, 53.26it/s]\n"
          ]
        },
        {
          "output_type": "stream",
          "name": "stdout",
          "text": [
            "Epoch 9 elapsed: 0.849s\n",
            "\t \u001b[32mtrain_loss: 0.5409\u001b[0m\n"
          ]
        },
        {
          "output_type": "stream",
          "name": "stderr",
          "text": [
            "eval_pred: 100%|██████████| 1/1 [00:00<00:00, 39.51it/s]\n",
            "eval_rec: 100%|██████████| 2048/2048 [00:02<00:00, 910.53it/s]\n"
          ]
        },
        {
          "output_type": "stream",
          "name": "stdout",
          "text": [
            "\t eval log_loss: 0.5213\n",
            "\t eval roc_auc: 0.8133\n",
            "\t eval precision@10: 0.0797\n",
            "\t eval recall@10: 0.7329\n",
            "\t eval map@10: 0.6196\n",
            "\t eval ndcg@10: 0.6558\n",
            "==============================\n"
          ]
        },
        {
          "output_type": "stream",
          "name": "stderr",
          "text": [
            "train: 100%|██████████| 43/43 [00:00<00:00, 52.31it/s]\n"
          ]
        },
        {
          "output_type": "stream",
          "name": "stdout",
          "text": [
            "Epoch 10 elapsed: 0.869s\n",
            "\t \u001b[32mtrain_loss: 0.5394\u001b[0m\n"
          ]
        },
        {
          "output_type": "stream",
          "name": "stderr",
          "text": [
            "eval_pred: 100%|██████████| 1/1 [00:00<00:00, 44.06it/s]\n",
            "eval_rec: 100%|██████████| 2048/2048 [00:02<00:00, 918.81it/s]\n"
          ]
        },
        {
          "output_type": "stream",
          "name": "stdout",
          "text": [
            "\t eval log_loss: 0.5238\n",
            "\t eval roc_auc: 0.8124\n",
            "\t eval precision@10: 0.0797\n",
            "\t eval recall@10: 0.7329\n",
            "\t eval map@10: 0.6195\n",
            "\t eval ndcg@10: 0.6558\n",
            "==============================\n"
          ]
        },
        {
          "output_type": "stream",
          "name": "stderr",
          "text": [
            "train: 100%|██████████| 43/43 [00:00<00:00, 53.69it/s]\n"
          ]
        },
        {
          "output_type": "stream",
          "name": "stdout",
          "text": [
            "Epoch 11 elapsed: 0.845s\n",
            "\t \u001b[32mtrain_loss: 0.537\u001b[0m\n"
          ]
        },
        {
          "output_type": "stream",
          "name": "stderr",
          "text": [
            "eval_pred: 100%|██████████| 1/1 [00:00<00:00, 41.53it/s]\n",
            "eval_rec: 100%|██████████| 2048/2048 [00:02<00:00, 916.56it/s]\n"
          ]
        },
        {
          "output_type": "stream",
          "name": "stdout",
          "text": [
            "\t eval log_loss: 0.5230\n",
            "\t eval roc_auc: 0.8151\n",
            "\t eval precision@10: 0.0804\n",
            "\t eval recall@10: 0.7373\n",
            "\t eval map@10: 0.6187\n",
            "\t eval ndcg@10: 0.6561\n",
            "==============================\n"
          ]
        },
        {
          "output_type": "stream",
          "name": "stderr",
          "text": [
            "train: 100%|██████████| 43/43 [00:00<00:00, 53.94it/s]\n"
          ]
        },
        {
          "output_type": "stream",
          "name": "stdout",
          "text": [
            "Epoch 12 elapsed: 0.838s\n",
            "\t \u001b[32mtrain_loss: 0.5349\u001b[0m\n"
          ]
        },
        {
          "output_type": "stream",
          "name": "stderr",
          "text": [
            "eval_pred: 100%|██████████| 1/1 [00:00<00:00, 44.72it/s]\n",
            "eval_rec: 100%|██████████| 2048/2048 [00:02<00:00, 920.93it/s]\n"
          ]
        },
        {
          "output_type": "stream",
          "name": "stdout",
          "text": [
            "\t eval log_loss: 0.5263\n",
            "\t eval roc_auc: 0.8157\n",
            "\t eval precision@10: 0.0811\n",
            "\t eval recall@10: 0.7439\n",
            "\t eval map@10: 0.6196\n",
            "\t eval ndcg@10: 0.6584\n",
            "==============================\n"
          ]
        },
        {
          "output_type": "stream",
          "name": "stderr",
          "text": [
            "train: 100%|██████████| 43/43 [00:00<00:00, 53.15it/s]\n"
          ]
        },
        {
          "output_type": "stream",
          "name": "stdout",
          "text": [
            "Epoch 13 elapsed: 0.851s\n",
            "\t \u001b[32mtrain_loss: 0.5323\u001b[0m\n"
          ]
        },
        {
          "output_type": "stream",
          "name": "stderr",
          "text": [
            "eval_pred: 100%|██████████| 1/1 [00:00<00:00, 41.35it/s]\n",
            "eval_rec: 100%|██████████| 2048/2048 [00:02<00:00, 932.51it/s]\n"
          ]
        },
        {
          "output_type": "stream",
          "name": "stdout",
          "text": [
            "\t eval log_loss: 0.5265\n",
            "\t eval roc_auc: 0.8141\n",
            "\t eval precision@10: 0.0800\n",
            "\t eval recall@10: 0.7351\n",
            "\t eval map@10: 0.6194\n",
            "\t eval ndcg@10: 0.6562\n",
            "==============================\n"
          ]
        },
        {
          "output_type": "stream",
          "name": "stderr",
          "text": [
            "train: 100%|██████████| 43/43 [00:00<00:00, 54.99it/s]\n"
          ]
        },
        {
          "output_type": "stream",
          "name": "stdout",
          "text": [
            "Epoch 14 elapsed: 0.833s\n",
            "\t \u001b[32mtrain_loss: 0.5297\u001b[0m\n"
          ]
        },
        {
          "output_type": "stream",
          "name": "stderr",
          "text": [
            "eval_pred: 100%|██████████| 1/1 [00:00<00:00, 34.65it/s]\n",
            "eval_rec: 100%|██████████| 2048/2048 [00:02<00:00, 921.01it/s]\n"
          ]
        },
        {
          "output_type": "stream",
          "name": "stdout",
          "text": [
            "\t eval log_loss: 0.5313\n",
            "\t eval roc_auc: 0.8148\n",
            "\t eval precision@10: 0.0798\n",
            "\t eval recall@10: 0.7331\n",
            "\t eval map@10: 0.6192\n",
            "\t eval ndcg@10: 0.6555\n",
            "==============================\n"
          ]
        },
        {
          "output_type": "stream",
          "name": "stderr",
          "text": [
            "train: 100%|██████████| 43/43 [00:00<00:00, 53.82it/s]\n"
          ]
        },
        {
          "output_type": "stream",
          "name": "stdout",
          "text": [
            "Epoch 15 elapsed: 0.844s\n",
            "\t \u001b[32mtrain_loss: 0.5257\u001b[0m\n"
          ]
        },
        {
          "output_type": "stream",
          "name": "stderr",
          "text": [
            "eval_pred: 100%|██████████| 1/1 [00:00<00:00, 40.96it/s]\n",
            "eval_rec: 100%|██████████| 2048/2048 [00:02<00:00, 913.84it/s]\n"
          ]
        },
        {
          "output_type": "stream",
          "name": "stdout",
          "text": [
            "\t eval log_loss: 0.5254\n",
            "\t eval roc_auc: 0.8144\n",
            "\t eval precision@10: 0.0803\n",
            "\t eval recall@10: 0.7362\n",
            "\t eval map@10: 0.6187\n",
            "\t eval ndcg@10: 0.6558\n",
            "==============================\n"
          ]
        },
        {
          "output_type": "stream",
          "name": "stderr",
          "text": [
            "train: 100%|██████████| 43/43 [00:00<00:00, 54.53it/s]\n"
          ]
        },
        {
          "output_type": "stream",
          "name": "stdout",
          "text": [
            "Epoch 16 elapsed: 0.831s\n",
            "\t \u001b[32mtrain_loss: 0.5238\u001b[0m\n"
          ]
        },
        {
          "output_type": "stream",
          "name": "stderr",
          "text": [
            "eval_pred: 100%|██████████| 1/1 [00:00<00:00, 41.62it/s]\n",
            "eval_rec: 100%|██████████| 2048/2048 [00:02<00:00, 934.33it/s]\n"
          ]
        },
        {
          "output_type": "stream",
          "name": "stdout",
          "text": [
            "\t eval log_loss: 0.5310\n",
            "\t eval roc_auc: 0.8134\n",
            "\t eval precision@10: 0.0799\n",
            "\t eval recall@10: 0.7338\n",
            "\t eval map@10: 0.6192\n",
            "\t eval ndcg@10: 0.6558\n",
            "==============================\n"
          ]
        },
        {
          "output_type": "stream",
          "name": "stderr",
          "text": [
            "train: 100%|██████████| 43/43 [00:00<00:00, 53.83it/s]\n"
          ]
        },
        {
          "output_type": "stream",
          "name": "stdout",
          "text": [
            "Epoch 17 elapsed: 0.842s\n",
            "\t \u001b[32mtrain_loss: 0.5206\u001b[0m\n"
          ]
        },
        {
          "output_type": "stream",
          "name": "stderr",
          "text": [
            "eval_pred: 100%|██████████| 1/1 [00:00<00:00, 41.22it/s]\n",
            "eval_rec: 100%|██████████| 2048/2048 [00:02<00:00, 926.67it/s]\n"
          ]
        },
        {
          "output_type": "stream",
          "name": "stdout",
          "text": [
            "\t eval log_loss: 0.5378\n",
            "\t eval roc_auc: 0.8138\n",
            "\t eval precision@10: 0.0801\n",
            "\t eval recall@10: 0.7356\n",
            "\t eval map@10: 0.6195\n",
            "\t eval ndcg@10: 0.6565\n",
            "==============================\n"
          ]
        },
        {
          "output_type": "stream",
          "name": "stderr",
          "text": [
            "train: 100%|██████████| 43/43 [00:00<00:00, 54.62it/s]\n"
          ]
        },
        {
          "output_type": "stream",
          "name": "stdout",
          "text": [
            "Epoch 18 elapsed: 0.833s\n",
            "\t \u001b[32mtrain_loss: 0.5172\u001b[0m\n"
          ]
        },
        {
          "output_type": "stream",
          "name": "stderr",
          "text": [
            "eval_pred: 100%|██████████| 1/1 [00:00<00:00, 40.92it/s]\n",
            "eval_rec: 100%|██████████| 2048/2048 [00:02<00:00, 924.09it/s]\n"
          ]
        },
        {
          "output_type": "stream",
          "name": "stdout",
          "text": [
            "\t eval log_loss: 0.5361\n",
            "\t eval roc_auc: 0.8133\n",
            "\t eval precision@10: 0.0808\n",
            "\t eval recall@10: 0.7413\n",
            "\t eval map@10: 0.6191\n",
            "\t eval ndcg@10: 0.6573\n",
            "==============================\n"
          ]
        },
        {
          "output_type": "stream",
          "name": "stderr",
          "text": [
            "train: 100%|██████████| 43/43 [00:00<00:00, 55.61it/s]\n"
          ]
        },
        {
          "output_type": "stream",
          "name": "stdout",
          "text": [
            "Epoch 19 elapsed: 0.815s\n",
            "\t \u001b[32mtrain_loss: 0.5129\u001b[0m\n"
          ]
        },
        {
          "output_type": "stream",
          "name": "stderr",
          "text": [
            "eval_pred: 100%|██████████| 1/1 [00:00<00:00, 44.15it/s]\n",
            "eval_rec: 100%|██████████| 2048/2048 [00:02<00:00, 906.19it/s]\n"
          ]
        },
        {
          "output_type": "stream",
          "name": "stdout",
          "text": [
            "\t eval log_loss: 0.5426\n",
            "\t eval roc_auc: 0.8127\n",
            "\t eval precision@10: 0.0813\n",
            "\t eval recall@10: 0.7454\n",
            "\t eval map@10: 0.6191\n",
            "\t eval ndcg@10: 0.6583\n",
            "==============================\n"
          ]
        },
        {
          "output_type": "stream",
          "name": "stderr",
          "text": [
            "train: 100%|██████████| 43/43 [00:00<00:00, 55.59it/s]\n"
          ]
        },
        {
          "output_type": "stream",
          "name": "stdout",
          "text": [
            "Epoch 20 elapsed: 0.815s\n",
            "\t \u001b[32mtrain_loss: 0.5104\u001b[0m\n"
          ]
        },
        {
          "output_type": "stream",
          "name": "stderr",
          "text": [
            "eval_pred: 100%|██████████| 1/1 [00:00<00:00, 40.93it/s]\n",
            "eval_rec: 100%|██████████| 2048/2048 [00:02<00:00, 930.46it/s]\n"
          ]
        },
        {
          "output_type": "stream",
          "name": "stdout",
          "text": [
            "\t eval log_loss: 0.5497\n",
            "\t eval roc_auc: 0.8115\n",
            "\t eval precision@10: 0.0811\n",
            "\t eval recall@10: 0.7422\n",
            "\t eval map@10: 0.6189\n",
            "\t eval ndcg@10: 0.6576\n",
            "==============================\n"
          ]
        },
        {
          "output_type": "stream",
          "name": "stderr",
          "text": [
            "train: 100%|██████████| 43/43 [00:00<00:00, 55.06it/s]\n"
          ]
        },
        {
          "output_type": "stream",
          "name": "stdout",
          "text": [
            "Epoch 21 elapsed: 0.824s\n",
            "\t \u001b[32mtrain_loss: 0.5068\u001b[0m\n"
          ]
        },
        {
          "output_type": "stream",
          "name": "stderr",
          "text": [
            "eval_pred: 100%|██████████| 1/1 [00:00<00:00, 33.36it/s]\n",
            "eval_rec: 100%|██████████| 2048/2048 [00:02<00:00, 919.25it/s]\n"
          ]
        },
        {
          "output_type": "stream",
          "name": "stdout",
          "text": [
            "\t eval log_loss: 0.5552\n",
            "\t eval roc_auc: 0.8121\n",
            "\t eval precision@10: 0.0815\n",
            "\t eval recall@10: 0.7461\n",
            "\t eval map@10: 0.6193\n",
            "\t eval ndcg@10: 0.6588\n",
            "==============================\n"
          ]
        },
        {
          "output_type": "stream",
          "name": "stderr",
          "text": [
            "train: 100%|██████████| 43/43 [00:00<00:00, 54.11it/s]\n"
          ]
        },
        {
          "output_type": "stream",
          "name": "stdout",
          "text": [
            "Epoch 22 elapsed: 0.839s\n",
            "\t \u001b[32mtrain_loss: 0.5052\u001b[0m\n"
          ]
        },
        {
          "output_type": "stream",
          "name": "stderr",
          "text": [
            "eval_pred: 100%|██████████| 1/1 [00:00<00:00, 42.64it/s]\n",
            "eval_rec: 100%|██████████| 2048/2048 [00:02<00:00, 925.68it/s]\n"
          ]
        },
        {
          "output_type": "stream",
          "name": "stdout",
          "text": [
            "\t eval log_loss: 0.5553\n",
            "\t eval roc_auc: 0.8104\n",
            "\t eval precision@10: 0.0810\n",
            "\t eval recall@10: 0.7432\n",
            "\t eval map@10: 0.6208\n",
            "\t eval ndcg@10: 0.6592\n",
            "==============================\n"
          ]
        },
        {
          "output_type": "stream",
          "name": "stderr",
          "text": [
            "train: 100%|██████████| 43/43 [00:00<00:00, 53.02it/s]\n"
          ]
        },
        {
          "output_type": "stream",
          "name": "stdout",
          "text": [
            "Epoch 23 elapsed: 0.858s\n",
            "\t \u001b[32mtrain_loss: 0.5019\u001b[0m\n"
          ]
        },
        {
          "output_type": "stream",
          "name": "stderr",
          "text": [
            "eval_pred: 100%|██████████| 1/1 [00:00<00:00, 39.20it/s]\n",
            "eval_rec: 100%|██████████| 2048/2048 [00:02<00:00, 919.38it/s]\n"
          ]
        },
        {
          "output_type": "stream",
          "name": "stdout",
          "text": [
            "\t eval log_loss: 0.5658\n",
            "\t eval roc_auc: 0.8120\n",
            "\t eval precision@10: 0.0819\n",
            "\t eval recall@10: 0.7498\n",
            "\t eval map@10: 0.6199\n",
            "\t eval ndcg@10: 0.6598\n",
            "==============================\n"
          ]
        },
        {
          "output_type": "stream",
          "name": "stderr",
          "text": [
            "train: 100%|██████████| 43/43 [00:00<00:00, 55.11it/s]\n"
          ]
        },
        {
          "output_type": "stream",
          "name": "stdout",
          "text": [
            "Epoch 24 elapsed: 0.825s\n",
            "\t \u001b[32mtrain_loss: 0.5009\u001b[0m\n"
          ]
        },
        {
          "output_type": "stream",
          "name": "stderr",
          "text": [
            "eval_pred: 100%|██████████| 1/1 [00:00<00:00, 39.19it/s]\n",
            "eval_rec: 100%|██████████| 2048/2048 [00:02<00:00, 899.03it/s]\n"
          ]
        },
        {
          "output_type": "stream",
          "name": "stdout",
          "text": [
            "\t eval log_loss: 0.5654\n",
            "\t eval roc_auc: 0.8130\n",
            "\t eval precision@10: 0.0839\n",
            "\t eval recall@10: 0.7653\n",
            "\t eval map@10: 0.6190\n",
            "\t eval ndcg@10: 0.6626\n",
            "==============================\n"
          ]
        },
        {
          "output_type": "stream",
          "name": "stderr",
          "text": [
            "train: 100%|██████████| 43/43 [00:00<00:00, 54.92it/s]\n"
          ]
        },
        {
          "output_type": "stream",
          "name": "stdout",
          "text": [
            "Epoch 25 elapsed: 0.824s\n",
            "\t \u001b[32mtrain_loss: 0.5009\u001b[0m\n"
          ]
        },
        {
          "output_type": "stream",
          "name": "stderr",
          "text": [
            "eval_pred: 100%|██████████| 1/1 [00:00<00:00, 39.11it/s]\n",
            "eval_rec: 100%|██████████| 2048/2048 [00:02<00:00, 923.35it/s]\n"
          ]
        },
        {
          "output_type": "stream",
          "name": "stdout",
          "text": [
            "\t eval log_loss: 0.5693\n",
            "\t eval roc_auc: 0.8133\n",
            "\t eval precision@10: 0.0836\n",
            "\t eval recall@10: 0.7643\n",
            "\t eval map@10: 0.6200\n",
            "\t eval ndcg@10: 0.6630\n",
            "==============================\n"
          ]
        },
        {
          "output_type": "stream",
          "name": "stderr",
          "text": [
            "train: 100%|██████████| 43/43 [00:00<00:00, 53.64it/s]\n"
          ]
        },
        {
          "output_type": "stream",
          "name": "stdout",
          "text": [
            "Epoch 26 elapsed: 0.843s\n",
            "\t \u001b[32mtrain_loss: 0.4966\u001b[0m\n"
          ]
        },
        {
          "output_type": "stream",
          "name": "stderr",
          "text": [
            "eval_pred: 100%|██████████| 1/1 [00:00<00:00, 42.65it/s]\n",
            "eval_rec: 100%|██████████| 2048/2048 [00:02<00:00, 926.32it/s]\n"
          ]
        },
        {
          "output_type": "stream",
          "name": "stdout",
          "text": [
            "\t eval log_loss: 0.5468\n",
            "\t eval roc_auc: 0.8137\n",
            "\t eval precision@10: 0.0847\n",
            "\t eval recall@10: 0.7724\n",
            "\t eval map@10: 0.6199\n",
            "\t eval ndcg@10: 0.6648\n",
            "==============================\n"
          ]
        },
        {
          "output_type": "stream",
          "name": "stderr",
          "text": [
            "train: 100%|██████████| 43/43 [00:00<00:00, 55.12it/s]\n"
          ]
        },
        {
          "output_type": "stream",
          "name": "stdout",
          "text": [
            "Epoch 27 elapsed: 0.825s\n",
            "\t \u001b[32mtrain_loss: 0.4951\u001b[0m\n"
          ]
        },
        {
          "output_type": "stream",
          "name": "stderr",
          "text": [
            "eval_pred: 100%|██████████| 1/1 [00:00<00:00, 41.83it/s]\n",
            "eval_rec: 100%|██████████| 2048/2048 [00:02<00:00, 918.48it/s]\n"
          ]
        },
        {
          "output_type": "stream",
          "name": "stdout",
          "text": [
            "\t eval log_loss: 0.5481\n",
            "\t eval roc_auc: 0.8121\n",
            "\t eval precision@10: 0.0830\n",
            "\t eval recall@10: 0.7580\n",
            "\t eval map@10: 0.6200\n",
            "\t eval ndcg@10: 0.6616\n",
            "==============================\n"
          ]
        },
        {
          "output_type": "stream",
          "name": "stderr",
          "text": [
            "train: 100%|██████████| 43/43 [00:00<00:00, 55.12it/s]\n"
          ]
        },
        {
          "output_type": "stream",
          "name": "stdout",
          "text": [
            "Epoch 28 elapsed: 0.825s\n",
            "\t \u001b[32mtrain_loss: 0.4931\u001b[0m\n"
          ]
        },
        {
          "output_type": "stream",
          "name": "stderr",
          "text": [
            "eval_pred: 100%|██████████| 1/1 [00:00<00:00, 45.03it/s]\n",
            "eval_rec: 100%|██████████| 2048/2048 [00:02<00:00, 898.88it/s]\n"
          ]
        },
        {
          "output_type": "stream",
          "name": "stdout",
          "text": [
            "\t eval log_loss: 0.5584\n",
            "\t eval roc_auc: 0.8144\n",
            "\t eval precision@10: 0.0848\n",
            "\t eval recall@10: 0.7726\n",
            "\t eval map@10: 0.6193\n",
            "\t eval ndcg@10: 0.6642\n",
            "==============================\n"
          ]
        },
        {
          "output_type": "stream",
          "name": "stderr",
          "text": [
            "train: 100%|██████████| 43/43 [00:00<00:00, 56.22it/s]\n"
          ]
        },
        {
          "output_type": "stream",
          "name": "stdout",
          "text": [
            "Epoch 29 elapsed: 0.813s\n",
            "\t \u001b[32mtrain_loss: 0.4917\u001b[0m\n"
          ]
        },
        {
          "output_type": "stream",
          "name": "stderr",
          "text": [
            "eval_pred: 100%|██████████| 1/1 [00:00<00:00, 37.98it/s]\n",
            "eval_rec: 100%|██████████| 2048/2048 [00:02<00:00, 916.44it/s]\n"
          ]
        },
        {
          "output_type": "stream",
          "name": "stdout",
          "text": [
            "\t eval log_loss: 0.5609\n",
            "\t eval roc_auc: 0.8131\n",
            "\t eval precision@10: 0.0833\n",
            "\t eval recall@10: 0.7595\n",
            "\t eval map@10: 0.6190\n",
            "\t eval ndcg@10: 0.6612\n",
            "==============================\n"
          ]
        },
        {
          "output_type": "stream",
          "name": "stderr",
          "text": [
            "train: 100%|██████████| 43/43 [00:00<00:00, 54.35it/s]\n"
          ]
        },
        {
          "output_type": "stream",
          "name": "stdout",
          "text": [
            "Epoch 30 elapsed: 0.835s\n",
            "\t \u001b[32mtrain_loss: 0.4899\u001b[0m\n"
          ]
        },
        {
          "output_type": "stream",
          "name": "stderr",
          "text": [
            "eval_pred: 100%|██████████| 1/1 [00:00<00:00, 41.24it/s]\n",
            "eval_rec: 100%|██████████| 2048/2048 [00:02<00:00, 920.04it/s]\n"
          ]
        },
        {
          "output_type": "stream",
          "name": "stdout",
          "text": [
            "\t eval log_loss: 0.5549\n",
            "\t eval roc_auc: 0.8129\n",
            "\t eval precision@10: 0.0842\n",
            "\t eval recall@10: 0.7671\n",
            "\t eval map@10: 0.6168\n",
            "\t eval ndcg@10: 0.6612\n",
            "==============================\n",
            "recommendation(id, probability):  [(34, 0.940829), (19, 0.85177267), (2, 0.762323), (18, 0.5894073), (9, 0.5131422), (30, 0.4105088), (22, 0.39129686), (23, 0.32068872), (8, 0.29409093), (26, 0.29104593)]\n"
          ]
        }
      ]
    },
    {
      "cell_type": "code",
      "metadata": {
        "colab": {
          "base_uri": "https://localhost:8080/"
        },
        "id": "FjYMJIiVdMwf",
        "outputId": "0fca73a5-eb66-4bea-b525-1770e15212aa"
      },
      "source": [
        "    reset_state(\"AutoInt\")\n",
        "    autoint = AutoInt(\"rating\", data_info, embed_size=16, n_epochs=30,\n",
        "                      att_embed_size=(8, 8, 8), num_heads=4, use_residual=False,\n",
        "                      lr=1e-3, lr_decay=False, reg=None, batch_size=2048,\n",
        "                      num_neg=1, use_bn=False, dropout_rate=None,\n",
        "                      hidden_units=\"128,64,32\", tf_sess_config=None)\n",
        "    autoint.fit(train_data, verbose=2, shuffle=True, eval_data=eval_data,\n",
        "                metrics=[\"rmse\", \"mae\", \"r2\"])\n",
        "    #print(\"prediction: \", autoint.predict(user=1, item=2333))\n",
        "    print(\"recommendation: \", deepfm.recommend_user(user=2916, n_rec=7))"
      ],
      "execution_count": null,
      "outputs": [
        {
          "output_type": "stream",
          "name": "stdout",
          "text": [
            "\n",
            " ============================== AutoInt ==============================\n",
            "Training start time: \u001b[35m2021-09-21 08:22:55\u001b[0m\n"
          ]
        },
        {
          "output_type": "stream",
          "name": "stderr",
          "text": [
            "train: 100%|██████████| 22/22 [00:03<00:00,  6.63it/s]\n"
          ]
        },
        {
          "output_type": "stream",
          "name": "stdout",
          "text": [
            "Epoch 1 elapsed: 3.342s\n",
            "\t \u001b[32mtrain_loss: 3.6886\u001b[0m\n"
          ]
        },
        {
          "output_type": "stream",
          "name": "stderr",
          "text": [
            "eval_pred: 100%|██████████| 1/1 [00:00<00:00,  6.29it/s]\n"
          ]
        },
        {
          "output_type": "stream",
          "name": "stdout",
          "text": [
            "\t eval rmse: 1.2919\n",
            "\t eval mae: 0.8998\n",
            "\t eval r2: -0.9421\n",
            "==============================\n"
          ]
        },
        {
          "output_type": "stream",
          "name": "stderr",
          "text": [
            "train: 100%|██████████| 22/22 [00:02<00:00,  7.37it/s]\n"
          ]
        },
        {
          "output_type": "stream",
          "name": "stdout",
          "text": [
            "Epoch 2 elapsed: 3.018s\n",
            "\t \u001b[32mtrain_loss: 2.1984\u001b[0m\n"
          ]
        },
        {
          "output_type": "stream",
          "name": "stderr",
          "text": [
            "eval_pred: 100%|██████████| 1/1 [00:00<00:00,  9.37it/s]\n"
          ]
        },
        {
          "output_type": "stream",
          "name": "stdout",
          "text": [
            "\t eval rmse: 1.0797\n",
            "\t eval mae: 0.8947\n",
            "\t eval r2: -0.3564\n",
            "==============================\n"
          ]
        },
        {
          "output_type": "stream",
          "name": "stderr",
          "text": [
            "train: 100%|██████████| 22/22 [00:03<00:00,  7.32it/s]\n"
          ]
        },
        {
          "output_type": "stream",
          "name": "stdout",
          "text": [
            "Epoch 3 elapsed: 3.030s\n",
            "\t \u001b[32mtrain_loss: 1.0481\u001b[0m\n"
          ]
        },
        {
          "output_type": "stream",
          "name": "stderr",
          "text": [
            "eval_pred: 100%|██████████| 1/1 [00:00<00:00, 10.49it/s]\n"
          ]
        },
        {
          "output_type": "stream",
          "name": "stdout",
          "text": [
            "\t eval rmse: 1.0379\n",
            "\t eval mae: 0.8651\n",
            "\t eval r2: -0.2535\n",
            "==============================\n"
          ]
        },
        {
          "output_type": "stream",
          "name": "stderr",
          "text": [
            "train: 100%|██████████| 22/22 [00:03<00:00,  7.31it/s]\n"
          ]
        },
        {
          "output_type": "stream",
          "name": "stdout",
          "text": [
            "Epoch 4 elapsed: 3.037s\n",
            "\t \u001b[32mtrain_loss: 0.9638\u001b[0m\n"
          ]
        },
        {
          "output_type": "stream",
          "name": "stderr",
          "text": [
            "eval_pred: 100%|██████████| 1/1 [00:00<00:00, 10.18it/s]\n"
          ]
        },
        {
          "output_type": "stream",
          "name": "stdout",
          "text": [
            "\t eval rmse: 1.0148\n",
            "\t eval mae: 0.8386\n",
            "\t eval r2: -0.1982\n",
            "==============================\n"
          ]
        },
        {
          "output_type": "stream",
          "name": "stderr",
          "text": [
            "train: 100%|██████████| 22/22 [00:03<00:00,  7.29it/s]\n"
          ]
        },
        {
          "output_type": "stream",
          "name": "stdout",
          "text": [
            "Epoch 5 elapsed: 3.045s\n",
            "\t \u001b[32mtrain_loss: 0.9178\u001b[0m\n"
          ]
        },
        {
          "output_type": "stream",
          "name": "stderr",
          "text": [
            "eval_pred: 100%|██████████| 1/1 [00:00<00:00,  9.18it/s]\n"
          ]
        },
        {
          "output_type": "stream",
          "name": "stdout",
          "text": [
            "\t eval rmse: 1.0021\n",
            "\t eval mae: 0.8199\n",
            "\t eval r2: -0.1686\n",
            "==============================\n"
          ]
        },
        {
          "output_type": "stream",
          "name": "stderr",
          "text": [
            "train: 100%|██████████| 22/22 [00:02<00:00,  7.39it/s]\n"
          ]
        },
        {
          "output_type": "stream",
          "name": "stdout",
          "text": [
            "Epoch 6 elapsed: 3.005s\n",
            "\t \u001b[32mtrain_loss: 0.874\u001b[0m\n"
          ]
        },
        {
          "output_type": "stream",
          "name": "stderr",
          "text": [
            "eval_pred: 100%|██████████| 1/1 [00:00<00:00, 10.47it/s]\n"
          ]
        },
        {
          "output_type": "stream",
          "name": "stdout",
          "text": [
            "\t eval rmse: 0.9911\n",
            "\t eval mae: 0.8085\n",
            "\t eval r2: -0.1429\n",
            "==============================\n"
          ]
        },
        {
          "output_type": "stream",
          "name": "stderr",
          "text": [
            "train: 100%|██████████| 22/22 [00:02<00:00,  7.36it/s]\n"
          ]
        },
        {
          "output_type": "stream",
          "name": "stdout",
          "text": [
            "Epoch 7 elapsed: 3.019s\n",
            "\t \u001b[32mtrain_loss: 0.7938\u001b[0m\n"
          ]
        },
        {
          "output_type": "stream",
          "name": "stderr",
          "text": [
            "eval_pred: 100%|██████████| 1/1 [00:00<00:00,  9.23it/s]\n"
          ]
        },
        {
          "output_type": "stream",
          "name": "stdout",
          "text": [
            "\t eval rmse: 0.9204\n",
            "\t eval mae: 0.7621\n",
            "\t eval r2: 0.0143\n",
            "==============================\n"
          ]
        },
        {
          "output_type": "stream",
          "name": "stderr",
          "text": [
            "train: 100%|██████████| 22/22 [00:03<00:00,  7.13it/s]\n"
          ]
        },
        {
          "output_type": "stream",
          "name": "stdout",
          "text": [
            "Epoch 8 elapsed: 3.111s\n",
            "\t \u001b[32mtrain_loss: 0.6559\u001b[0m\n"
          ]
        },
        {
          "output_type": "stream",
          "name": "stderr",
          "text": [
            "eval_pred: 100%|██████████| 1/1 [00:00<00:00,  9.77it/s]\n"
          ]
        },
        {
          "output_type": "stream",
          "name": "stdout",
          "text": [
            "\t eval rmse: 0.8713\n",
            "\t eval mae: 0.7224\n",
            "\t eval r2: 0.1166\n",
            "==============================\n"
          ]
        },
        {
          "output_type": "stream",
          "name": "stderr",
          "text": [
            "train: 100%|██████████| 22/22 [00:03<00:00,  7.16it/s]\n"
          ]
        },
        {
          "output_type": "stream",
          "name": "stdout",
          "text": [
            "Epoch 9 elapsed: 3.097s\n",
            "\t \u001b[32mtrain_loss: 0.5743\u001b[0m\n"
          ]
        },
        {
          "output_type": "stream",
          "name": "stderr",
          "text": [
            "eval_pred: 100%|██████████| 1/1 [00:00<00:00,  8.91it/s]\n"
          ]
        },
        {
          "output_type": "stream",
          "name": "stdout",
          "text": [
            "\t eval rmse: 0.8561\n",
            "\t eval mae: 0.7165\n",
            "\t eval r2: 0.1472\n",
            "==============================\n"
          ]
        },
        {
          "output_type": "stream",
          "name": "stderr",
          "text": [
            "train: 100%|██████████| 22/22 [00:03<00:00,  7.08it/s]\n"
          ]
        },
        {
          "output_type": "stream",
          "name": "stdout",
          "text": [
            "Epoch 10 elapsed: 3.142s\n",
            "\t \u001b[32mtrain_loss: 0.4887\u001b[0m\n"
          ]
        },
        {
          "output_type": "stream",
          "name": "stderr",
          "text": [
            "eval_pred: 100%|██████████| 1/1 [00:00<00:00,  9.29it/s]\n"
          ]
        },
        {
          "output_type": "stream",
          "name": "stdout",
          "text": [
            "\t eval rmse: 0.8712\n",
            "\t eval mae: 0.7006\n",
            "\t eval r2: 0.1168\n",
            "==============================\n"
          ]
        },
        {
          "output_type": "stream",
          "name": "stderr",
          "text": [
            "train: 100%|██████████| 22/22 [00:03<00:00,  7.21it/s]\n"
          ]
        },
        {
          "output_type": "stream",
          "name": "stdout",
          "text": [
            "Epoch 11 elapsed: 3.078s\n",
            "\t \u001b[32mtrain_loss: 0.4347\u001b[0m\n"
          ]
        },
        {
          "output_type": "stream",
          "name": "stderr",
          "text": [
            "eval_pred: 100%|██████████| 1/1 [00:00<00:00, 10.60it/s]\n"
          ]
        },
        {
          "output_type": "stream",
          "name": "stdout",
          "text": [
            "\t eval rmse: 0.8761\n",
            "\t eval mae: 0.6873\n",
            "\t eval r2: 0.1069\n",
            "==============================\n"
          ]
        },
        {
          "output_type": "stream",
          "name": "stderr",
          "text": [
            "train: 100%|██████████| 22/22 [00:03<00:00,  7.32it/s]\n"
          ]
        },
        {
          "output_type": "stream",
          "name": "stdout",
          "text": [
            "Epoch 12 elapsed: 3.037s\n",
            "\t \u001b[32mtrain_loss: 0.394\u001b[0m\n"
          ]
        },
        {
          "output_type": "stream",
          "name": "stderr",
          "text": [
            "eval_pred: 100%|██████████| 1/1 [00:00<00:00, 10.41it/s]\n"
          ]
        },
        {
          "output_type": "stream",
          "name": "stdout",
          "text": [
            "\t eval rmse: 0.9139\n",
            "\t eval mae: 0.7264\n",
            "\t eval r2: 0.0281\n",
            "==============================\n"
          ]
        },
        {
          "output_type": "stream",
          "name": "stderr",
          "text": [
            "train: 100%|██████████| 22/22 [00:03<00:00,  7.21it/s]\n"
          ]
        },
        {
          "output_type": "stream",
          "name": "stdout",
          "text": [
            "Epoch 13 elapsed: 3.086s\n",
            "\t \u001b[32mtrain_loss: 0.3721\u001b[0m\n"
          ]
        },
        {
          "output_type": "stream",
          "name": "stderr",
          "text": [
            "eval_pred: 100%|██████████| 1/1 [00:00<00:00, 10.41it/s]\n"
          ]
        },
        {
          "output_type": "stream",
          "name": "stdout",
          "text": [
            "\t eval rmse: 0.8921\n",
            "\t eval mae: 0.6971\n",
            "\t eval r2: 0.0739\n",
            "==============================\n"
          ]
        },
        {
          "output_type": "stream",
          "name": "stderr",
          "text": [
            "train: 100%|██████████| 22/22 [00:03<00:00,  7.22it/s]\n"
          ]
        },
        {
          "output_type": "stream",
          "name": "stdout",
          "text": [
            "Epoch 14 elapsed: 3.074s\n",
            "\t \u001b[32mtrain_loss: 0.3364\u001b[0m\n"
          ]
        },
        {
          "output_type": "stream",
          "name": "stderr",
          "text": [
            "eval_pred: 100%|██████████| 1/1 [00:00<00:00, 10.19it/s]\n"
          ]
        },
        {
          "output_type": "stream",
          "name": "stdout",
          "text": [
            "\t eval rmse: 0.8876\n",
            "\t eval mae: 0.6988\n",
            "\t eval r2: 0.0832\n",
            "==============================\n"
          ]
        },
        {
          "output_type": "stream",
          "name": "stderr",
          "text": [
            "train: 100%|██████████| 22/22 [00:03<00:00,  7.23it/s]\n"
          ]
        },
        {
          "output_type": "stream",
          "name": "stdout",
          "text": [
            "Epoch 15 elapsed: 3.073s\n",
            "\t \u001b[32mtrain_loss: 0.3278\u001b[0m\n"
          ]
        },
        {
          "output_type": "stream",
          "name": "stderr",
          "text": [
            "eval_pred: 100%|██████████| 1/1 [00:00<00:00, 10.33it/s]\n"
          ]
        },
        {
          "output_type": "stream",
          "name": "stdout",
          "text": [
            "\t eval rmse: 0.8881\n",
            "\t eval mae: 0.6923\n",
            "\t eval r2: 0.0823\n",
            "==============================\n"
          ]
        },
        {
          "output_type": "stream",
          "name": "stderr",
          "text": [
            "train: 100%|██████████| 22/22 [00:03<00:00,  7.31it/s]\n"
          ]
        },
        {
          "output_type": "stream",
          "name": "stdout",
          "text": [
            "Epoch 16 elapsed: 3.039s\n",
            "\t \u001b[32mtrain_loss: 0.3138\u001b[0m\n"
          ]
        },
        {
          "output_type": "stream",
          "name": "stderr",
          "text": [
            "eval_pred: 100%|██████████| 1/1 [00:00<00:00,  8.86it/s]\n"
          ]
        },
        {
          "output_type": "stream",
          "name": "stdout",
          "text": [
            "\t eval rmse: 0.8948\n",
            "\t eval mae: 0.6970\n",
            "\t eval r2: 0.0683\n",
            "==============================\n"
          ]
        },
        {
          "output_type": "stream",
          "name": "stderr",
          "text": [
            "train: 100%|██████████| 22/22 [00:02<00:00,  7.38it/s]\n"
          ]
        },
        {
          "output_type": "stream",
          "name": "stdout",
          "text": [
            "Epoch 17 elapsed: 3.010s\n",
            "\t \u001b[32mtrain_loss: 0.3023\u001b[0m\n"
          ]
        },
        {
          "output_type": "stream",
          "name": "stderr",
          "text": [
            "eval_pred: 100%|██████████| 1/1 [00:00<00:00, 10.74it/s]\n"
          ]
        },
        {
          "output_type": "stream",
          "name": "stdout",
          "text": [
            "\t eval rmse: 0.9123\n",
            "\t eval mae: 0.7078\n",
            "\t eval r2: 0.0315\n",
            "==============================\n"
          ]
        },
        {
          "output_type": "stream",
          "name": "stderr",
          "text": [
            "train: 100%|██████████| 22/22 [00:02<00:00,  7.40it/s]\n"
          ]
        },
        {
          "output_type": "stream",
          "name": "stdout",
          "text": [
            "Epoch 18 elapsed: 2.999s\n",
            "\t \u001b[32mtrain_loss: 0.302\u001b[0m\n"
          ]
        },
        {
          "output_type": "stream",
          "name": "stderr",
          "text": [
            "eval_pred: 100%|██████████| 1/1 [00:00<00:00, 10.68it/s]\n"
          ]
        },
        {
          "output_type": "stream",
          "name": "stdout",
          "text": [
            "\t eval rmse: 0.9068\n",
            "\t eval mae: 0.7026\n",
            "\t eval r2: 0.0433\n",
            "==============================\n"
          ]
        },
        {
          "output_type": "stream",
          "name": "stderr",
          "text": [
            "train: 100%|██████████| 22/22 [00:02<00:00,  7.40it/s]\n"
          ]
        },
        {
          "output_type": "stream",
          "name": "stdout",
          "text": [
            "Epoch 19 elapsed: 3.001s\n",
            "\t \u001b[32mtrain_loss: 0.2896\u001b[0m\n"
          ]
        },
        {
          "output_type": "stream",
          "name": "stderr",
          "text": [
            "eval_pred: 100%|██████████| 1/1 [00:00<00:00, 10.24it/s]\n"
          ]
        },
        {
          "output_type": "stream",
          "name": "stdout",
          "text": [
            "\t eval rmse: 0.9086\n",
            "\t eval mae: 0.7029\n",
            "\t eval r2: 0.0394\n",
            "==============================\n"
          ]
        },
        {
          "output_type": "stream",
          "name": "stderr",
          "text": [
            "train: 100%|██████████| 22/22 [00:02<00:00,  7.41it/s]\n"
          ]
        },
        {
          "output_type": "stream",
          "name": "stdout",
          "text": [
            "Epoch 20 elapsed: 2.998s\n",
            "\t \u001b[32mtrain_loss: 0.2938\u001b[0m\n"
          ]
        },
        {
          "output_type": "stream",
          "name": "stderr",
          "text": [
            "eval_pred: 100%|██████████| 1/1 [00:00<00:00, 10.35it/s]\n"
          ]
        },
        {
          "output_type": "stream",
          "name": "stdout",
          "text": [
            "\t eval rmse: 0.9240\n",
            "\t eval mae: 0.7075\n",
            "\t eval r2: 0.0065\n",
            "==============================\n"
          ]
        },
        {
          "output_type": "stream",
          "name": "stderr",
          "text": [
            "train: 100%|██████████| 22/22 [00:02<00:00,  7.49it/s]\n"
          ]
        },
        {
          "output_type": "stream",
          "name": "stdout",
          "text": [
            "Epoch 21 elapsed: 2.967s\n",
            "\t \u001b[32mtrain_loss: 0.2895\u001b[0m\n"
          ]
        },
        {
          "output_type": "stream",
          "name": "stderr",
          "text": [
            "eval_pred: 100%|██████████| 1/1 [00:00<00:00,  9.41it/s]\n"
          ]
        },
        {
          "output_type": "stream",
          "name": "stdout",
          "text": [
            "\t eval rmse: 0.9120\n",
            "\t eval mae: 0.7068\n",
            "\t eval r2: 0.0321\n",
            "==============================\n"
          ]
        },
        {
          "output_type": "stream",
          "name": "stderr",
          "text": [
            "train: 100%|██████████| 22/22 [00:02<00:00,  7.42it/s]\n"
          ]
        },
        {
          "output_type": "stream",
          "name": "stdout",
          "text": [
            "Epoch 22 elapsed: 2.993s\n",
            "\t \u001b[32mtrain_loss: 0.2831\u001b[0m\n"
          ]
        },
        {
          "output_type": "stream",
          "name": "stderr",
          "text": [
            "eval_pred: 100%|██████████| 1/1 [00:00<00:00, 10.44it/s]\n"
          ]
        },
        {
          "output_type": "stream",
          "name": "stdout",
          "text": [
            "\t eval rmse: 0.9026\n",
            "\t eval mae: 0.6977\n",
            "\t eval r2: 0.0521\n",
            "==============================\n"
          ]
        },
        {
          "output_type": "stream",
          "name": "stderr",
          "text": [
            "train: 100%|██████████| 22/22 [00:02<00:00,  7.54it/s]\n"
          ]
        },
        {
          "output_type": "stream",
          "name": "stdout",
          "text": [
            "Epoch 23 elapsed: 2.949s\n",
            "\t \u001b[32mtrain_loss: 0.2824\u001b[0m\n"
          ]
        },
        {
          "output_type": "stream",
          "name": "stderr",
          "text": [
            "eval_pred: 100%|██████████| 1/1 [00:00<00:00, 10.48it/s]\n"
          ]
        },
        {
          "output_type": "stream",
          "name": "stdout",
          "text": [
            "\t eval rmse: 0.9063\n",
            "\t eval mae: 0.7059\n",
            "\t eval r2: 0.0443\n",
            "==============================\n"
          ]
        },
        {
          "output_type": "stream",
          "name": "stderr",
          "text": [
            "train: 100%|██████████| 22/22 [00:02<00:00,  7.44it/s]\n"
          ]
        },
        {
          "output_type": "stream",
          "name": "stdout",
          "text": [
            "Epoch 24 elapsed: 2.980s\n",
            "\t \u001b[32mtrain_loss: 0.2867\u001b[0m\n"
          ]
        },
        {
          "output_type": "stream",
          "name": "stderr",
          "text": [
            "eval_pred: 100%|██████████| 1/1 [00:00<00:00,  9.81it/s]\n"
          ]
        },
        {
          "output_type": "stream",
          "name": "stdout",
          "text": [
            "\t eval rmse: 0.9184\n",
            "\t eval mae: 0.7135\n",
            "\t eval r2: 0.0185\n",
            "==============================\n"
          ]
        },
        {
          "output_type": "stream",
          "name": "stderr",
          "text": [
            "train: 100%|██████████| 22/22 [00:02<00:00,  7.49it/s]\n"
          ]
        },
        {
          "output_type": "stream",
          "name": "stdout",
          "text": [
            "Epoch 25 elapsed: 2.967s\n",
            "\t \u001b[32mtrain_loss: 0.2805\u001b[0m\n"
          ]
        },
        {
          "output_type": "stream",
          "name": "stderr",
          "text": [
            "eval_pred: 100%|██████████| 1/1 [00:00<00:00,  9.32it/s]\n"
          ]
        },
        {
          "output_type": "stream",
          "name": "stdout",
          "text": [
            "\t eval rmse: 0.8901\n",
            "\t eval mae: 0.6924\n",
            "\t eval r2: 0.0782\n",
            "==============================\n"
          ]
        },
        {
          "output_type": "stream",
          "name": "stderr",
          "text": [
            "train: 100%|██████████| 22/22 [00:02<00:00,  7.53it/s]\n"
          ]
        },
        {
          "output_type": "stream",
          "name": "stdout",
          "text": [
            "Epoch 26 elapsed: 2.951s\n",
            "\t \u001b[32mtrain_loss: 0.2776\u001b[0m\n"
          ]
        },
        {
          "output_type": "stream",
          "name": "stderr",
          "text": [
            "eval_pred: 100%|██████████| 1/1 [00:00<00:00, 10.15it/s]\n"
          ]
        },
        {
          "output_type": "stream",
          "name": "stdout",
          "text": [
            "\t eval rmse: 0.9220\n",
            "\t eval mae: 0.7075\n",
            "\t eval r2: 0.0108\n",
            "==============================\n"
          ]
        },
        {
          "output_type": "stream",
          "name": "stderr",
          "text": [
            "train: 100%|██████████| 22/22 [00:02<00:00,  7.49it/s]\n"
          ]
        },
        {
          "output_type": "stream",
          "name": "stdout",
          "text": [
            "Epoch 27 elapsed: 2.967s\n",
            "\t \u001b[32mtrain_loss: 0.2749\u001b[0m\n"
          ]
        },
        {
          "output_type": "stream",
          "name": "stderr",
          "text": [
            "eval_pred: 100%|██████████| 1/1 [00:00<00:00, 10.43it/s]\n"
          ]
        },
        {
          "output_type": "stream",
          "name": "stdout",
          "text": [
            "\t eval rmse: 0.8858\n",
            "\t eval mae: 0.6911\n",
            "\t eval r2: 0.0870\n",
            "==============================\n"
          ]
        },
        {
          "output_type": "stream",
          "name": "stderr",
          "text": [
            "train: 100%|██████████| 22/22 [00:02<00:00,  7.37it/s]\n"
          ]
        },
        {
          "output_type": "stream",
          "name": "stdout",
          "text": [
            "Epoch 28 elapsed: 3.012s\n",
            "\t \u001b[32mtrain_loss: 0.2782\u001b[0m\n"
          ]
        },
        {
          "output_type": "stream",
          "name": "stderr",
          "text": [
            "eval_pred: 100%|██████████| 1/1 [00:00<00:00,  9.47it/s]\n"
          ]
        },
        {
          "output_type": "stream",
          "name": "stdout",
          "text": [
            "\t eval rmse: 0.9273\n",
            "\t eval mae: 0.7093\n",
            "\t eval r2: -0.0004\n",
            "==============================\n"
          ]
        },
        {
          "output_type": "stream",
          "name": "stderr",
          "text": [
            "train: 100%|██████████| 22/22 [00:02<00:00,  7.43it/s]\n"
          ]
        },
        {
          "output_type": "stream",
          "name": "stdout",
          "text": [
            "Epoch 29 elapsed: 2.991s\n",
            "\t \u001b[32mtrain_loss: 0.2689\u001b[0m\n"
          ]
        },
        {
          "output_type": "stream",
          "name": "stderr",
          "text": [
            "eval_pred: 100%|██████████| 1/1 [00:00<00:00, 10.44it/s]\n"
          ]
        },
        {
          "output_type": "stream",
          "name": "stdout",
          "text": [
            "\t eval rmse: 0.9008\n",
            "\t eval mae: 0.6986\n",
            "\t eval r2: 0.0558\n",
            "==============================\n"
          ]
        },
        {
          "output_type": "stream",
          "name": "stderr",
          "text": [
            "train: 100%|██████████| 22/22 [00:02<00:00,  7.37it/s]\n"
          ]
        },
        {
          "output_type": "stream",
          "name": "stdout",
          "text": [
            "Epoch 30 elapsed: 3.012s\n",
            "\t \u001b[32mtrain_loss: 0.2683\u001b[0m\n"
          ]
        },
        {
          "output_type": "stream",
          "name": "stderr",
          "text": [
            "eval_pred: 100%|██████████| 1/1 [00:00<00:00, 11.06it/s]\n"
          ]
        },
        {
          "output_type": "stream",
          "name": "stdout",
          "text": [
            "\t eval rmse: 0.9017\n",
            "\t eval mae: 0.6956\n",
            "\t eval r2: 0.0540\n",
            "==============================\n",
            "recommendation:  [(34, 0.9379472), (19, 0.8462674), (2, 0.7604815), (18, 0.5789426), (9, 0.49785006), (30, 0.4083643), (22, 0.3768336)]\n"
          ]
        }
      ]
    },
    {
      "cell_type": "code",
      "metadata": {
        "colab": {
          "base_uri": "https://localhost:8080/"
        },
        "id": "yY9jGDOSSYBj",
        "outputId": "6bfe3e04-a61d-46f4-d5d2-47b3f3090dc2"
      },
      "source": [
        "train_data, test_data = split_by_ratio(data, test_size=0.2)\n",
        "\n",
        "# specify complete columns information\n",
        "sparse_col = [ 'age',\"gender\", \"DEGREE_CENTRALITY\",\"EIGENVECTOR\",'BETWEENNESS_CENTRALITY','CLUSTCOEF','PAGERANK','Comorbidities','Behavioural','Mental']\n",
        "#sparse_col = [\"gender\",'Comorbidities','Behavioural','Mental']\n",
        "dense_col = [\"age\"]\n",
        "user_col = [\"age\", \"gender\"]\n",
        "item_col = [\"DEGREE_CENTRALITY\",\"EIGENVECTOR\",'BETWEENNESS_CENTRALITY','CLUSTCOEF','PAGERANK','Comorbidities','Behavioural','Mental']\n",
        "#item_col = ['Comorbidities','Behavioural','Mental']\n",
        "\n",
        "\n",
        "\n",
        "train_data, data_info = DatasetFeat.build_trainset(\n",
        "    train_data, user_col, item_col, sparse_col, dense_col\n",
        ")\n",
        "test_data = DatasetFeat.build_testset(test_data)\n",
        "train_data.build_negative_samples(data_info)  # sample negative items for each record\n",
        "test_data.build_negative_samples(data_info)\n",
        "print(data_info)  # n_users: 5962, n_items: 3226, data sparsity: 0.4185 %\n",
        "reset_state(\"AutoInt\")\n",
        "autoint = AutoInt(\"ranking\", data_info, embed_size=16, n_epochs=30,\n",
        "                      att_embed_size=(8, 8, 8), num_heads=4, use_residual=False,\n",
        "                      lr=1e-3, lr_decay=False, reg=None, batch_size=2048,\n",
        "                      num_neg=1, use_bn=False, dropout_rate=None,\n",
        "                      hidden_units=\"128,64,32\", tf_sess_config=None)\n",
        "autoint.fit(train_data, verbose=2, shuffle=True, eval_data=test_data,\n",
        "                metrics=[\"loss\", \"roc_auc\", \"precision\", \"recall\", \"map\", \"ndcg\"])\n",
        "\n",
        "# predict preference of user 2211 to item 110\n",
        "#print(\"prediction: \", fm.predict(user=2916, item=1))\n",
        "# recommend 7 items for user 2916\n",
        "print(\"recommendation(id, probability): \", autoint.recommend_user(user=2916, n_rec=7))"
      ],
      "execution_count": null,
      "outputs": [
        {
          "output_type": "stream",
          "name": "stdout",
          "text": [
            "random neg item sampling elapsed: 0.049s\n",
            "random neg item sampling elapsed: 0.004s\n",
            "n_users: 19828, n_items: 34, data sparsity: 6.3931 %\n",
            "\n",
            " ============================== AutoInt ==============================\n",
            "Training start time: \u001b[35m2021-09-22 06:09:55\u001b[0m\n"
          ]
        },
        {
          "output_type": "stream",
          "name": "stderr",
          "text": [
            "train: 100%|██████████| 43/43 [00:08<00:00,  5.06it/s]\n"
          ]
        },
        {
          "output_type": "stream",
          "name": "stdout",
          "text": [
            "Epoch 1 elapsed: 8.541s\n",
            "\t \u001b[32mtrain_loss: 0.6931\u001b[0m\n"
          ]
        },
        {
          "output_type": "stream",
          "name": "stderr",
          "text": [
            "eval_pred: 100%|██████████| 1/1 [00:00<00:00,  3.25it/s]\n",
            "eval_rec: 100%|██████████| 2048/2048 [00:05<00:00, 400.58it/s]\n"
          ]
        },
        {
          "output_type": "stream",
          "name": "stdout",
          "text": [
            "\t eval log_loss: 0.6920\n",
            "\t eval roc_auc: 0.7617\n",
            "\t eval precision@10: 0.0821\n",
            "\t eval recall@10: 0.7514\n",
            "\t eval map@10: 0.6197\n",
            "\t eval ndcg@10: 0.6601\n",
            "==============================\n"
          ]
        },
        {
          "output_type": "stream",
          "name": "stderr",
          "text": [
            "train: 100%|██████████| 43/43 [00:08<00:00,  5.17it/s]\n"
          ]
        },
        {
          "output_type": "stream",
          "name": "stdout",
          "text": [
            "Epoch 2 elapsed: 8.367s\n",
            "\t \u001b[32mtrain_loss: 0.6565\u001b[0m\n"
          ]
        },
        {
          "output_type": "stream",
          "name": "stderr",
          "text": [
            "eval_pred: 100%|██████████| 1/1 [00:00<00:00,  3.83it/s]\n",
            "eval_rec: 100%|██████████| 2048/2048 [00:05<00:00, 399.66it/s]\n"
          ]
        },
        {
          "output_type": "stream",
          "name": "stdout",
          "text": [
            "\t eval log_loss: 0.5879\n",
            "\t eval roc_auc: 0.7555\n",
            "\t eval precision@10: 0.0789\n",
            "\t eval recall@10: 0.7278\n",
            "\t eval map@10: 0.6229\n",
            "\t eval ndcg@10: 0.6574\n",
            "==============================\n"
          ]
        },
        {
          "output_type": "stream",
          "name": "stderr",
          "text": [
            "train: 100%|██████████| 43/43 [00:08<00:00,  5.13it/s]\n"
          ]
        },
        {
          "output_type": "stream",
          "name": "stdout",
          "text": [
            "Epoch 3 elapsed: 8.421s\n",
            "\t \u001b[32mtrain_loss: 0.5613\u001b[0m\n"
          ]
        },
        {
          "output_type": "stream",
          "name": "stderr",
          "text": [
            "eval_pred: 100%|██████████| 1/1 [00:00<00:00,  3.71it/s]\n",
            "eval_rec: 100%|██████████| 2048/2048 [00:05<00:00, 408.74it/s]\n"
          ]
        },
        {
          "output_type": "stream",
          "name": "stdout",
          "text": [
            "\t eval log_loss: 0.5326\n",
            "\t eval roc_auc: 0.8120\n",
            "\t eval precision@10: 0.0797\n",
            "\t eval recall@10: 0.7327\n",
            "\t eval map@10: 0.6195\n",
            "\t eval ndcg@10: 0.6558\n",
            "==============================\n"
          ]
        },
        {
          "output_type": "stream",
          "name": "stderr",
          "text": [
            "train: 100%|██████████| 43/43 [00:08<00:00,  5.17it/s]\n"
          ]
        },
        {
          "output_type": "stream",
          "name": "stdout",
          "text": [
            "Epoch 4 elapsed: 8.356s\n",
            "\t \u001b[32mtrain_loss: 0.545\u001b[0m\n"
          ]
        },
        {
          "output_type": "stream",
          "name": "stderr",
          "text": [
            "eval_pred: 100%|██████████| 1/1 [00:00<00:00,  4.00it/s]\n",
            "eval_rec: 100%|██████████| 2048/2048 [00:05<00:00, 407.59it/s]\n"
          ]
        },
        {
          "output_type": "stream",
          "name": "stdout",
          "text": [
            "\t eval log_loss: 0.5558\n",
            "\t eval roc_auc: 0.8142\n",
            "\t eval precision@10: 0.0802\n",
            "\t eval recall@10: 0.7354\n",
            "\t eval map@10: 0.6181\n",
            "\t eval ndcg@10: 0.6554\n",
            "==============================\n"
          ]
        },
        {
          "output_type": "stream",
          "name": "stderr",
          "text": [
            "train: 100%|██████████| 43/43 [00:08<00:00,  5.10it/s]\n"
          ]
        },
        {
          "output_type": "stream",
          "name": "stdout",
          "text": [
            "Epoch 5 elapsed: 8.473s\n",
            "\t \u001b[32mtrain_loss: 0.5436\u001b[0m\n"
          ]
        },
        {
          "output_type": "stream",
          "name": "stderr",
          "text": [
            "eval_pred: 100%|██████████| 1/1 [00:00<00:00,  4.03it/s]\n",
            "eval_rec: 100%|██████████| 2048/2048 [00:05<00:00, 406.38it/s]\n"
          ]
        },
        {
          "output_type": "stream",
          "name": "stdout",
          "text": [
            "\t eval log_loss: 0.5229\n",
            "\t eval roc_auc: 0.8114\n",
            "\t eval precision@10: 0.0795\n",
            "\t eval recall@10: 0.7321\n",
            "\t eval map@10: 0.6203\n",
            "\t eval ndcg@10: 0.6562\n",
            "==============================\n"
          ]
        },
        {
          "output_type": "stream",
          "name": "stderr",
          "text": [
            "train: 100%|██████████| 43/43 [00:08<00:00,  5.17it/s]\n"
          ]
        },
        {
          "output_type": "stream",
          "name": "stdout",
          "text": [
            "Epoch 6 elapsed: 8.355s\n",
            "\t \u001b[32mtrain_loss: 0.5376\u001b[0m\n"
          ]
        },
        {
          "output_type": "stream",
          "name": "stderr",
          "text": [
            "eval_pred: 100%|██████████| 1/1 [00:00<00:00,  3.80it/s]\n",
            "eval_rec: 100%|██████████| 2048/2048 [00:05<00:00, 399.71it/s]\n"
          ]
        },
        {
          "output_type": "stream",
          "name": "stdout",
          "text": [
            "\t eval log_loss: 0.5242\n",
            "\t eval roc_auc: 0.8149\n",
            "\t eval precision@10: 0.0815\n",
            "\t eval recall@10: 0.7475\n",
            "\t eval map@10: 0.6108\n",
            "\t eval ndcg@10: 0.6525\n",
            "==============================\n"
          ]
        },
        {
          "output_type": "stream",
          "name": "stderr",
          "text": [
            "train: 100%|██████████| 43/43 [00:08<00:00,  5.13it/s]\n"
          ]
        },
        {
          "output_type": "stream",
          "name": "stdout",
          "text": [
            "Epoch 7 elapsed: 8.429s\n",
            "\t \u001b[32mtrain_loss: 0.5314\u001b[0m\n"
          ]
        },
        {
          "output_type": "stream",
          "name": "stderr",
          "text": [
            "eval_pred: 100%|██████████| 1/1 [00:00<00:00,  3.72it/s]\n",
            "eval_rec: 100%|██████████| 2048/2048 [00:05<00:00, 400.64it/s]\n"
          ]
        },
        {
          "output_type": "stream",
          "name": "stdout",
          "text": [
            "\t eval log_loss: 0.5206\n",
            "\t eval roc_auc: 0.8184\n",
            "\t eval precision@10: 0.0798\n",
            "\t eval recall@10: 0.7333\n",
            "\t eval map@10: 0.5596\n",
            "\t eval ndcg@10: 0.6108\n",
            "==============================\n"
          ]
        },
        {
          "output_type": "stream",
          "name": "stderr",
          "text": [
            "train: 100%|██████████| 43/43 [00:08<00:00,  5.10it/s]\n"
          ]
        },
        {
          "output_type": "stream",
          "name": "stdout",
          "text": [
            "Epoch 8 elapsed: 8.470s\n",
            "\t \u001b[32mtrain_loss: 0.5248\u001b[0m\n"
          ]
        },
        {
          "output_type": "stream",
          "name": "stderr",
          "text": [
            "eval_pred: 100%|██████████| 1/1 [00:00<00:00,  3.95it/s]\n",
            "eval_rec: 100%|██████████| 2048/2048 [00:05<00:00, 392.24it/s]\n"
          ]
        },
        {
          "output_type": "stream",
          "name": "stdout",
          "text": [
            "\t eval log_loss: 0.5275\n",
            "\t eval roc_auc: 0.8134\n",
            "\t eval precision@10: 0.0830\n",
            "\t eval recall@10: 0.7579\n",
            "\t eval map@10: 0.5184\n",
            "\t eval ndcg@10: 0.5847\n",
            "==============================\n"
          ]
        },
        {
          "output_type": "stream",
          "name": "stderr",
          "text": [
            "train: 100%|██████████| 43/43 [00:08<00:00,  5.06it/s]\n"
          ]
        },
        {
          "output_type": "stream",
          "name": "stdout",
          "text": [
            "Epoch 9 elapsed: 8.547s\n",
            "\t \u001b[32mtrain_loss: 0.5185\u001b[0m\n"
          ]
        },
        {
          "output_type": "stream",
          "name": "stderr",
          "text": [
            "eval_pred: 100%|██████████| 1/1 [00:00<00:00,  3.90it/s]\n",
            "eval_rec: 100%|██████████| 2048/2048 [00:05<00:00, 402.50it/s]\n"
          ]
        },
        {
          "output_type": "stream",
          "name": "stdout",
          "text": [
            "\t eval log_loss: 0.5371\n",
            "\t eval roc_auc: 0.8067\n",
            "\t eval precision@10: 0.0813\n",
            "\t eval recall@10: 0.7415\n",
            "\t eval map@10: 0.4838\n",
            "\t eval ndcg@10: 0.5533\n",
            "==============================\n"
          ]
        },
        {
          "output_type": "stream",
          "name": "stderr",
          "text": [
            "train: 100%|██████████| 43/43 [00:08<00:00,  4.84it/s]\n"
          ]
        },
        {
          "output_type": "stream",
          "name": "stdout",
          "text": [
            "Epoch 10 elapsed: 8.927s\n",
            "\t \u001b[32mtrain_loss: 0.5136\u001b[0m\n"
          ]
        },
        {
          "output_type": "stream",
          "name": "stderr",
          "text": [
            "eval_pred: 100%|██████████| 1/1 [00:00<00:00,  3.82it/s]\n",
            "eval_rec: 100%|██████████| 2048/2048 [00:05<00:00, 400.67it/s]\n"
          ]
        },
        {
          "output_type": "stream",
          "name": "stdout",
          "text": [
            "\t eval log_loss: 0.5345\n",
            "\t eval roc_auc: 0.8212\n",
            "\t eval precision@10: 0.0841\n",
            "\t eval recall@10: 0.7677\n",
            "\t eval map@10: 0.5125\n",
            "\t eval ndcg@10: 0.5818\n",
            "==============================\n"
          ]
        },
        {
          "output_type": "stream",
          "name": "stderr",
          "text": [
            "train: 100%|██████████| 43/43 [00:08<00:00,  4.85it/s]\n"
          ]
        },
        {
          "output_type": "stream",
          "name": "stdout",
          "text": [
            "Epoch 11 elapsed: 8.904s\n",
            "\t \u001b[32mtrain_loss: 0.505\u001b[0m\n"
          ]
        },
        {
          "output_type": "stream",
          "name": "stderr",
          "text": [
            "eval_pred: 100%|██████████| 1/1 [00:00<00:00,  3.72it/s]\n",
            "eval_rec: 100%|██████████| 2048/2048 [00:05<00:00, 402.41it/s]\n"
          ]
        },
        {
          "output_type": "stream",
          "name": "stdout",
          "text": [
            "\t eval log_loss: 0.5414\n",
            "\t eval roc_auc: 0.8078\n",
            "\t eval precision@10: 0.0817\n",
            "\t eval recall@10: 0.7442\n",
            "\t eval map@10: 0.4628\n",
            "\t eval ndcg@10: 0.5373\n",
            "==============================\n"
          ]
        },
        {
          "output_type": "stream",
          "name": "stderr",
          "text": [
            "train: 100%|██████████| 43/43 [00:08<00:00,  4.96it/s]\n"
          ]
        },
        {
          "output_type": "stream",
          "name": "stdout",
          "text": [
            "Epoch 12 elapsed: 8.713s\n",
            "\t \u001b[32mtrain_loss: 0.4951\u001b[0m\n"
          ]
        },
        {
          "output_type": "stream",
          "name": "stderr",
          "text": [
            "eval_pred: 100%|██████████| 1/1 [00:00<00:00,  3.85it/s]\n",
            "eval_rec: 100%|██████████| 2048/2048 [00:05<00:00, 402.22it/s]\n"
          ]
        },
        {
          "output_type": "stream",
          "name": "stdout",
          "text": [
            "\t eval log_loss: 0.5722\n",
            "\t eval roc_auc: 0.7757\n",
            "\t eval precision@10: 0.0770\n",
            "\t eval recall@10: 0.7016\n",
            "\t eval map@10: 0.4193\n",
            "\t eval ndcg@10: 0.4937\n",
            "==============================\n"
          ]
        },
        {
          "output_type": "stream",
          "name": "stderr",
          "text": [
            "train: 100%|██████████| 43/43 [00:08<00:00,  4.93it/s]\n"
          ]
        },
        {
          "output_type": "stream",
          "name": "stdout",
          "text": [
            "Epoch 13 elapsed: 8.764s\n",
            "\t \u001b[32mtrain_loss: 0.4803\u001b[0m\n"
          ]
        },
        {
          "output_type": "stream",
          "name": "stderr",
          "text": [
            "eval_pred: 100%|██████████| 1/1 [00:00<00:00,  3.74it/s]\n",
            "eval_rec: 100%|██████████| 2048/2048 [00:05<00:00, 407.44it/s]\n"
          ]
        },
        {
          "output_type": "stream",
          "name": "stdout",
          "text": [
            "\t eval log_loss: 0.7662\n",
            "\t eval roc_auc: 0.6567\n",
            "\t eval precision@10: 0.0626\n",
            "\t eval recall@10: 0.5739\n",
            "\t eval map@10: 0.2937\n",
            "\t eval ndcg@10: 0.3665\n",
            "==============================\n"
          ]
        },
        {
          "output_type": "stream",
          "name": "stderr",
          "text": [
            "train: 100%|██████████| 43/43 [00:08<00:00,  5.03it/s]\n"
          ]
        },
        {
          "output_type": "stream",
          "name": "stdout",
          "text": [
            "Epoch 14 elapsed: 8.589s\n",
            "\t \u001b[32mtrain_loss: 0.4634\u001b[0m\n"
          ]
        },
        {
          "output_type": "stream",
          "name": "stderr",
          "text": [
            "eval_pred: 100%|██████████| 1/1 [00:00<00:00,  3.92it/s]\n",
            "eval_rec: 100%|██████████| 2048/2048 [00:05<00:00, 402.56it/s]\n"
          ]
        },
        {
          "output_type": "stream",
          "name": "stdout",
          "text": [
            "\t eval log_loss: 0.8880\n",
            "\t eval roc_auc: 0.6186\n",
            "\t eval precision@10: 0.0618\n",
            "\t eval recall@10: 0.5635\n",
            "\t eval map@10: 0.2733\n",
            "\t eval ndcg@10: 0.3485\n",
            "==============================\n"
          ]
        },
        {
          "output_type": "stream",
          "name": "stderr",
          "text": [
            "train: 100%|██████████| 43/43 [00:08<00:00,  4.98it/s]\n"
          ]
        },
        {
          "output_type": "stream",
          "name": "stdout",
          "text": [
            "Epoch 15 elapsed: 8.682s\n",
            "\t \u001b[32mtrain_loss: 0.4484\u001b[0m\n"
          ]
        },
        {
          "output_type": "stream",
          "name": "stderr",
          "text": [
            "eval_pred: 100%|██████████| 1/1 [00:00<00:00,  3.81it/s]\n",
            "eval_rec: 100%|██████████| 2048/2048 [00:05<00:00, 404.60it/s]\n"
          ]
        },
        {
          "output_type": "stream",
          "name": "stdout",
          "text": [
            "\t eval log_loss: 0.7623\n",
            "\t eval roc_auc: 0.7089\n",
            "\t eval precision@10: 0.0698\n",
            "\t eval recall@10: 0.6358\n",
            "\t eval map@10: 0.4027\n",
            "\t eval ndcg@10: 0.4651\n",
            "==============================\n"
          ]
        },
        {
          "output_type": "stream",
          "name": "stderr",
          "text": [
            "train: 100%|██████████| 43/43 [00:08<00:00,  5.08it/s]\n"
          ]
        },
        {
          "output_type": "stream",
          "name": "stdout",
          "text": [
            "Epoch 16 elapsed: 8.507s\n",
            "\t \u001b[32mtrain_loss: 0.4365\u001b[0m\n"
          ]
        },
        {
          "output_type": "stream",
          "name": "stderr",
          "text": [
            "eval_pred: 100%|██████████| 1/1 [00:00<00:00,  3.78it/s]\n",
            "eval_rec: 100%|██████████| 2048/2048 [00:05<00:00, 402.73it/s]\n"
          ]
        },
        {
          "output_type": "stream",
          "name": "stdout",
          "text": [
            "\t eval log_loss: 0.9373\n",
            "\t eval roc_auc: 0.6681\n",
            "\t eval precision@10: 0.0703\n",
            "\t eval recall@10: 0.6379\n",
            "\t eval map@10: 0.3810\n",
            "\t eval ndcg@10: 0.4482\n",
            "==============================\n"
          ]
        },
        {
          "output_type": "stream",
          "name": "stderr",
          "text": [
            "train: 100%|██████████| 43/43 [00:08<00:00,  5.04it/s]\n"
          ]
        },
        {
          "output_type": "stream",
          "name": "stdout",
          "text": [
            "Epoch 17 elapsed: 8.571s\n",
            "\t \u001b[32mtrain_loss: 0.4269\u001b[0m\n"
          ]
        },
        {
          "output_type": "stream",
          "name": "stderr",
          "text": [
            "eval_pred: 100%|██████████| 1/1 [00:00<00:00,  3.94it/s]\n",
            "eval_rec: 100%|██████████| 2048/2048 [00:05<00:00, 402.38it/s]\n"
          ]
        },
        {
          "output_type": "stream",
          "name": "stdout",
          "text": [
            "\t eval log_loss: 1.0330\n",
            "\t eval roc_auc: 0.6444\n",
            "\t eval precision@10: 0.0628\n",
            "\t eval recall@10: 0.5696\n",
            "\t eval map@10: 0.3753\n",
            "\t eval ndcg@10: 0.4283\n",
            "==============================\n"
          ]
        },
        {
          "output_type": "stream",
          "name": "stderr",
          "text": [
            "train: 100%|██████████| 43/43 [00:08<00:00,  5.08it/s]\n"
          ]
        },
        {
          "output_type": "stream",
          "name": "stdout",
          "text": [
            "Epoch 18 elapsed: 8.514s\n",
            "\t \u001b[32mtrain_loss: 0.4153\u001b[0m\n"
          ]
        },
        {
          "output_type": "stream",
          "name": "stderr",
          "text": [
            "eval_pred: 100%|██████████| 1/1 [00:00<00:00,  3.83it/s]\n",
            "eval_rec: 100%|██████████| 2048/2048 [00:05<00:00, 404.21it/s]\n"
          ]
        },
        {
          "output_type": "stream",
          "name": "stdout",
          "text": [
            "\t eval log_loss: 0.8697\n",
            "\t eval roc_auc: 0.6629\n",
            "\t eval precision@10: 0.0645\n",
            "\t eval recall@10: 0.5881\n",
            "\t eval map@10: 0.3533\n",
            "\t eval ndcg@10: 0.4157\n",
            "==============================\n"
          ]
        },
        {
          "output_type": "stream",
          "name": "stderr",
          "text": [
            "train: 100%|██████████| 43/43 [00:08<00:00,  5.03it/s]\n"
          ]
        },
        {
          "output_type": "stream",
          "name": "stdout",
          "text": [
            "Epoch 19 elapsed: 8.594s\n",
            "\t \u001b[32mtrain_loss: 0.4024\u001b[0m\n"
          ]
        },
        {
          "output_type": "stream",
          "name": "stderr",
          "text": [
            "eval_pred: 100%|██████████| 1/1 [00:00<00:00,  3.86it/s]\n",
            "eval_rec: 100%|██████████| 2048/2048 [00:05<00:00, 398.84it/s]\n"
          ]
        },
        {
          "output_type": "stream",
          "name": "stdout",
          "text": [
            "\t eval log_loss: 0.8656\n",
            "\t eval roc_auc: 0.6680\n",
            "\t eval precision@10: 0.0659\n",
            "\t eval recall@10: 0.5987\n",
            "\t eval map@10: 0.3771\n",
            "\t eval ndcg@10: 0.4367\n",
            "==============================\n"
          ]
        },
        {
          "output_type": "stream",
          "name": "stderr",
          "text": [
            "train: 100%|██████████| 43/43 [00:08<00:00,  5.07it/s]\n"
          ]
        },
        {
          "output_type": "stream",
          "name": "stdout",
          "text": [
            "Epoch 20 elapsed: 8.520s\n",
            "\t \u001b[32mtrain_loss: 0.3971\u001b[0m\n"
          ]
        },
        {
          "output_type": "stream",
          "name": "stderr",
          "text": [
            "eval_pred: 100%|██████████| 1/1 [00:00<00:00,  3.79it/s]\n",
            "eval_rec: 100%|██████████| 2048/2048 [00:05<00:00, 403.19it/s]\n"
          ]
        },
        {
          "output_type": "stream",
          "name": "stdout",
          "text": [
            "\t eval log_loss: 0.9754\n",
            "\t eval roc_auc: 0.6532\n",
            "\t eval precision@10: 0.0658\n",
            "\t eval recall@10: 0.5976\n",
            "\t eval map@10: 0.3731\n",
            "\t eval ndcg@10: 0.4332\n",
            "==============================\n"
          ]
        },
        {
          "output_type": "stream",
          "name": "stderr",
          "text": [
            "train: 100%|██████████| 43/43 [00:08<00:00,  5.06it/s]\n"
          ]
        },
        {
          "output_type": "stream",
          "name": "stdout",
          "text": [
            "Epoch 21 elapsed: 8.540s\n",
            "\t \u001b[32mtrain_loss: 0.3847\u001b[0m\n"
          ]
        },
        {
          "output_type": "stream",
          "name": "stderr",
          "text": [
            "eval_pred: 100%|██████████| 1/1 [00:00<00:00,  3.64it/s]\n",
            "eval_rec: 100%|██████████| 2048/2048 [00:05<00:00, 401.60it/s]\n"
          ]
        },
        {
          "output_type": "stream",
          "name": "stdout",
          "text": [
            "\t eval log_loss: 1.0218\n",
            "\t eval roc_auc: 0.6721\n",
            "\t eval precision@10: 0.0690\n",
            "\t eval recall@10: 0.6261\n",
            "\t eval map@10: 0.4080\n",
            "\t eval ndcg@10: 0.4666\n",
            "==============================\n"
          ]
        },
        {
          "output_type": "stream",
          "name": "stderr",
          "text": [
            "train: 100%|██████████| 43/43 [00:08<00:00,  5.12it/s]\n"
          ]
        },
        {
          "output_type": "stream",
          "name": "stdout",
          "text": [
            "Epoch 22 elapsed: 8.437s\n",
            "\t \u001b[32mtrain_loss: 0.3726\u001b[0m\n"
          ]
        },
        {
          "output_type": "stream",
          "name": "stderr",
          "text": [
            "eval_pred: 100%|██████████| 1/1 [00:00<00:00,  3.89it/s]\n",
            "eval_rec: 100%|██████████| 2048/2048 [00:05<00:00, 406.26it/s]\n"
          ]
        },
        {
          "output_type": "stream",
          "name": "stdout",
          "text": [
            "\t eval log_loss: 1.1210\n",
            "\t eval roc_auc: 0.6377\n",
            "\t eval precision@10: 0.0652\n",
            "\t eval recall@10: 0.5907\n",
            "\t eval map@10: 0.3736\n",
            "\t eval ndcg@10: 0.4317\n",
            "==============================\n"
          ]
        },
        {
          "output_type": "stream",
          "name": "stderr",
          "text": [
            "train: 100%|██████████| 43/43 [00:08<00:00,  5.08it/s]\n"
          ]
        },
        {
          "output_type": "stream",
          "name": "stdout",
          "text": [
            "Epoch 23 elapsed: 8.513s\n",
            "\t \u001b[32mtrain_loss: 0.3609\u001b[0m\n"
          ]
        },
        {
          "output_type": "stream",
          "name": "stderr",
          "text": [
            "eval_pred: 100%|██████████| 1/1 [00:00<00:00,  3.89it/s]\n",
            "eval_rec: 100%|██████████| 2048/2048 [00:05<00:00, 402.84it/s]\n"
          ]
        },
        {
          "output_type": "stream",
          "name": "stdout",
          "text": [
            "\t eval log_loss: 1.0335\n",
            "\t eval roc_auc: 0.6623\n",
            "\t eval precision@10: 0.0692\n",
            "\t eval recall@10: 0.6261\n",
            "\t eval map@10: 0.3968\n",
            "\t eval ndcg@10: 0.4577\n",
            "==============================\n"
          ]
        },
        {
          "output_type": "stream",
          "name": "stderr",
          "text": [
            "train: 100%|██████████| 43/43 [00:08<00:00,  5.10it/s]\n"
          ]
        },
        {
          "output_type": "stream",
          "name": "stdout",
          "text": [
            "Epoch 24 elapsed: 8.482s\n",
            "\t \u001b[32mtrain_loss: 0.351\u001b[0m\n"
          ]
        },
        {
          "output_type": "stream",
          "name": "stderr",
          "text": [
            "eval_pred: 100%|██████████| 1/1 [00:00<00:00,  3.90it/s]\n",
            "eval_rec: 100%|██████████| 2048/2048 [00:05<00:00, 404.96it/s]\n"
          ]
        },
        {
          "output_type": "stream",
          "name": "stdout",
          "text": [
            "\t eval log_loss: 1.1221\n",
            "\t eval roc_auc: 0.6537\n",
            "\t eval precision@10: 0.0671\n",
            "\t eval recall@10: 0.6070\n",
            "\t eval map@10: 0.3896\n",
            "\t eval ndcg@10: 0.4483\n",
            "==============================\n"
          ]
        },
        {
          "output_type": "stream",
          "name": "stderr",
          "text": [
            "train: 100%|██████████| 43/43 [00:08<00:00,  5.03it/s]\n"
          ]
        },
        {
          "output_type": "stream",
          "name": "stdout",
          "text": [
            "Epoch 25 elapsed: 8.598s\n",
            "\t \u001b[32mtrain_loss: 0.3442\u001b[0m\n"
          ]
        },
        {
          "output_type": "stream",
          "name": "stderr",
          "text": [
            "eval_pred: 100%|██████████| 1/1 [00:00<00:00,  3.68it/s]\n",
            "eval_rec: 100%|██████████| 2048/2048 [00:05<00:00, 393.61it/s]\n"
          ]
        },
        {
          "output_type": "stream",
          "name": "stdout",
          "text": [
            "\t eval log_loss: 1.2037\n",
            "\t eval roc_auc: 0.6597\n",
            "\t eval precision@10: 0.0698\n",
            "\t eval recall@10: 0.6313\n",
            "\t eval map@10: 0.4009\n",
            "\t eval ndcg@10: 0.4621\n",
            "==============================\n"
          ]
        },
        {
          "output_type": "stream",
          "name": "stderr",
          "text": [
            "train: 100%|██████████| 43/43 [00:08<00:00,  5.03it/s]\n"
          ]
        },
        {
          "output_type": "stream",
          "name": "stdout",
          "text": [
            "Epoch 26 elapsed: 8.585s\n",
            "\t \u001b[32mtrain_loss: 0.3299\u001b[0m\n"
          ]
        },
        {
          "output_type": "stream",
          "name": "stderr",
          "text": [
            "eval_pred: 100%|██████████| 1/1 [00:00<00:00,  3.68it/s]\n",
            "eval_rec: 100%|██████████| 2048/2048 [00:05<00:00, 397.23it/s]\n"
          ]
        },
        {
          "output_type": "stream",
          "name": "stdout",
          "text": [
            "\t eval log_loss: 1.3731\n",
            "\t eval roc_auc: 0.6299\n",
            "\t eval precision@10: 0.0633\n",
            "\t eval recall@10: 0.5751\n",
            "\t eval map@10: 0.3793\n",
            "\t eval ndcg@10: 0.4320\n",
            "==============================\n"
          ]
        },
        {
          "output_type": "stream",
          "name": "stderr",
          "text": [
            "train: 100%|██████████| 43/43 [00:08<00:00,  4.79it/s]\n"
          ]
        },
        {
          "output_type": "stream",
          "name": "stdout",
          "text": [
            "Epoch 27 elapsed: 9.026s\n",
            "\t \u001b[32mtrain_loss: 0.3238\u001b[0m\n"
          ]
        },
        {
          "output_type": "stream",
          "name": "stderr",
          "text": [
            "eval_pred: 100%|██████████| 1/1 [00:00<00:00,  3.58it/s]\n",
            "eval_rec: 100%|██████████| 2048/2048 [00:05<00:00, 402.91it/s]\n"
          ]
        },
        {
          "output_type": "stream",
          "name": "stdout",
          "text": [
            "\t eval log_loss: 1.4573\n",
            "\t eval roc_auc: 0.6135\n",
            "\t eval precision@10: 0.0625\n",
            "\t eval recall@10: 0.5671\n",
            "\t eval map@10: 0.3388\n",
            "\t eval ndcg@10: 0.3993\n",
            "==============================\n"
          ]
        },
        {
          "output_type": "stream",
          "name": "stderr",
          "text": [
            "train: 100%|██████████| 43/43 [00:08<00:00,  4.94it/s]\n"
          ]
        },
        {
          "output_type": "stream",
          "name": "stdout",
          "text": [
            "Epoch 28 elapsed: 8.748s\n",
            "\t \u001b[32mtrain_loss: 0.3193\u001b[0m\n"
          ]
        },
        {
          "output_type": "stream",
          "name": "stderr",
          "text": [
            "eval_pred: 100%|██████████| 1/1 [00:00<00:00,  3.65it/s]\n",
            "eval_rec: 100%|██████████| 2048/2048 [00:05<00:00, 401.58it/s]\n"
          ]
        },
        {
          "output_type": "stream",
          "name": "stdout",
          "text": [
            "\t eval log_loss: 1.3067\n",
            "\t eval roc_auc: 0.6203\n",
            "\t eval precision@10: 0.0615\n",
            "\t eval recall@10: 0.5605\n",
            "\t eval map@10: 0.3504\n",
            "\t eval ndcg@10: 0.4069\n",
            "==============================\n"
          ]
        },
        {
          "output_type": "stream",
          "name": "stderr",
          "text": [
            "train: 100%|██████████| 43/43 [00:08<00:00,  4.85it/s]\n"
          ]
        },
        {
          "output_type": "stream",
          "name": "stdout",
          "text": [
            "Epoch 29 elapsed: 8.916s\n",
            "\t \u001b[32mtrain_loss: 0.3094\u001b[0m\n"
          ]
        },
        {
          "output_type": "stream",
          "name": "stderr",
          "text": [
            "eval_pred: 100%|██████████| 1/1 [00:00<00:00,  3.75it/s]\n",
            "eval_rec: 100%|██████████| 2048/2048 [00:05<00:00, 402.39it/s]\n"
          ]
        },
        {
          "output_type": "stream",
          "name": "stdout",
          "text": [
            "\t eval log_loss: 1.2137\n",
            "\t eval roc_auc: 0.6818\n",
            "\t eval precision@10: 0.0729\n",
            "\t eval recall@10: 0.6611\n",
            "\t eval map@10: 0.4309\n",
            "\t eval ndcg@10: 0.4925\n",
            "==============================\n"
          ]
        },
        {
          "output_type": "stream",
          "name": "stderr",
          "text": [
            "train: 100%|██████████| 43/43 [00:08<00:00,  4.86it/s]\n"
          ]
        },
        {
          "output_type": "stream",
          "name": "stdout",
          "text": [
            "Epoch 30 elapsed: 8.896s\n",
            "\t \u001b[32mtrain_loss: 0.2991\u001b[0m\n"
          ]
        },
        {
          "output_type": "stream",
          "name": "stderr",
          "text": [
            "eval_pred: 100%|██████████| 1/1 [00:00<00:00,  3.77it/s]\n",
            "eval_rec: 100%|██████████| 2048/2048 [00:05<00:00, 401.53it/s]\n"
          ]
        },
        {
          "output_type": "stream",
          "name": "stdout",
          "text": [
            "\t eval log_loss: 1.3143\n",
            "\t eval roc_auc: 0.6435\n",
            "\t eval precision@10: 0.0664\n",
            "\t eval recall@10: 0.6026\n",
            "\t eval map@10: 0.3968\n",
            "\t eval ndcg@10: 0.4526\n",
            "==============================\n",
            "recommendation(id, probability):  [(2, 0.74221516), (9, 0.4663789), (19, 0.36935163), (14, 0.35985485), (23, 0.3162064), (22, 0.29937503), (26, 0.2872466)]\n"
          ]
        }
      ]
    },
    {
      "cell_type": "code",
      "metadata": {
        "colab": {
          "base_uri": "https://localhost:8080/"
        },
        "id": "okGBAXqkfSk3",
        "outputId": "6e720ea7-951c-40c9-9b96-bc38b99169d5"
      },
      "source": [
        "    reset_state(\"DIN\")\n",
        "    din = DIN(\"rating\", data_info, embed_size=16, n_epochs=20,\n",
        "              recent_num=10, lr=1e-4, lr_decay=False, reg=None,\n",
        "              batch_size=2048, num_neg=1, use_bn=False, dropout_rate=None,\n",
        "              hidden_units=\"128,64,32\", tf_sess_config=None, use_tf_attention=True)\n",
        "    din.fit(train_data, verbose=2, shuffle=True, eval_data=eval_data,\n",
        "            metrics=[\"rmse\", \"mae\", \"r2\"])\n",
        "    print(\"prediction: \", din.predict(user=1, item=18))\n",
        "    print(\"recommendation: \", deepfm.recommend_user(user=2916, n_rec=7))"
      ],
      "execution_count": null,
      "outputs": [
        {
          "output_type": "stream",
          "name": "stdout",
          "text": [
            "\n",
            " ============================== DIN ==============================\n",
            "Training start time: \u001b[35m2021-09-21 08:31:50\u001b[0m\n",
            "total params: \u001b[33m351,057\u001b[0m | embedding params: \u001b[33m318,257\u001b[0m | network params: \u001b[33m32,800\u001b[0m\n"
          ]
        },
        {
          "output_type": "stream",
          "name": "stderr",
          "text": [
            "train: 100%|██████████| 22/22 [00:01<00:00, 21.24it/s]\n"
          ]
        },
        {
          "output_type": "stream",
          "name": "stdout",
          "text": [
            "Epoch 1 elapsed: 1.058s\n",
            "\t \u001b[32mtrain_loss: 1.8254\u001b[0m\n"
          ]
        },
        {
          "output_type": "stream",
          "name": "stderr",
          "text": [
            "eval_pred: 100%|██████████| 1/1 [00:00<00:00, 16.76it/s]\n"
          ]
        },
        {
          "output_type": "stream",
          "name": "stdout",
          "text": [
            "\t eval rmse: 1.0688\n",
            "\t eval mae: 0.8526\n",
            "\t eval r2: -0.3292\n",
            "==============================\n"
          ]
        },
        {
          "output_type": "stream",
          "name": "stderr",
          "text": [
            "train: 100%|██████████| 22/22 [00:00<00:00, 25.24it/s]\n"
          ]
        },
        {
          "output_type": "stream",
          "name": "stdout",
          "text": [
            "Epoch 2 elapsed: 0.905s\n",
            "\t \u001b[32mtrain_loss: 0.9177\u001b[0m\n"
          ]
        },
        {
          "output_type": "stream",
          "name": "stderr",
          "text": [
            "eval_pred: 100%|██████████| 1/1 [00:00<00:00, 44.34it/s]\n"
          ]
        },
        {
          "output_type": "stream",
          "name": "stdout",
          "text": [
            "\t eval rmse: 1.0100\n",
            "\t eval mae: 0.8454\n",
            "\t eval r2: -0.1870\n",
            "==============================\n"
          ]
        },
        {
          "output_type": "stream",
          "name": "stderr",
          "text": [
            "train: 100%|██████████| 22/22 [00:00<00:00, 25.45it/s]\n"
          ]
        },
        {
          "output_type": "stream",
          "name": "stdout",
          "text": [
            "Epoch 3 elapsed: 0.893s\n",
            "\t \u001b[32mtrain_loss: 0.8909\u001b[0m\n"
          ]
        },
        {
          "output_type": "stream",
          "name": "stderr",
          "text": [
            "eval_pred: 100%|██████████| 1/1 [00:00<00:00, 45.99it/s]\n"
          ]
        },
        {
          "output_type": "stream",
          "name": "stdout",
          "text": [
            "\t eval rmse: 0.9965\n",
            "\t eval mae: 0.8162\n",
            "\t eval r2: -0.1554\n",
            "==============================\n"
          ]
        },
        {
          "output_type": "stream",
          "name": "stderr",
          "text": [
            "train: 100%|██████████| 22/22 [00:00<00:00, 26.67it/s]\n"
          ]
        },
        {
          "output_type": "stream",
          "name": "stdout",
          "text": [
            "Epoch 4 elapsed: 0.851s\n",
            "\t \u001b[32mtrain_loss: 0.8719\u001b[0m\n"
          ]
        },
        {
          "output_type": "stream",
          "name": "stderr",
          "text": [
            "eval_pred: 100%|██████████| 1/1 [00:00<00:00, 44.85it/s]\n"
          ]
        },
        {
          "output_type": "stream",
          "name": "stdout",
          "text": [
            "\t eval rmse: 0.9894\n",
            "\t eval mae: 0.8109\n",
            "\t eval r2: -0.1391\n",
            "==============================\n"
          ]
        },
        {
          "output_type": "stream",
          "name": "stderr",
          "text": [
            "train: 100%|██████████| 22/22 [00:00<00:00, 25.39it/s]\n"
          ]
        },
        {
          "output_type": "stream",
          "name": "stdout",
          "text": [
            "Epoch 5 elapsed: 0.893s\n",
            "\t \u001b[32mtrain_loss: 0.8477\u001b[0m\n"
          ]
        },
        {
          "output_type": "stream",
          "name": "stderr",
          "text": [
            "eval_pred: 100%|██████████| 1/1 [00:00<00:00, 43.37it/s]\n"
          ]
        },
        {
          "output_type": "stream",
          "name": "stdout",
          "text": [
            "\t eval rmse: 0.9802\n",
            "\t eval mae: 0.8038\n",
            "\t eval r2: -0.1179\n",
            "==============================\n"
          ]
        },
        {
          "output_type": "stream",
          "name": "stderr",
          "text": [
            "train: 100%|██████████| 22/22 [00:00<00:00, 25.02it/s]\n"
          ]
        },
        {
          "output_type": "stream",
          "name": "stdout",
          "text": [
            "Epoch 6 elapsed: 0.903s\n",
            "\t \u001b[32mtrain_loss: 0.8254\u001b[0m\n"
          ]
        },
        {
          "output_type": "stream",
          "name": "stderr",
          "text": [
            "eval_pred: 100%|██████████| 1/1 [00:00<00:00, 37.91it/s]\n"
          ]
        },
        {
          "output_type": "stream",
          "name": "stdout",
          "text": [
            "\t eval rmse: 0.9695\n",
            "\t eval mae: 0.7954\n",
            "\t eval r2: -0.0937\n",
            "==============================\n"
          ]
        },
        {
          "output_type": "stream",
          "name": "stderr",
          "text": [
            "train: 100%|██████████| 22/22 [00:00<00:00, 25.26it/s]\n"
          ]
        },
        {
          "output_type": "stream",
          "name": "stdout",
          "text": [
            "Epoch 7 elapsed: 0.898s\n",
            "\t \u001b[32mtrain_loss: 0.8032\u001b[0m\n"
          ]
        },
        {
          "output_type": "stream",
          "name": "stderr",
          "text": [
            "eval_pred: 100%|██████████| 1/1 [00:00<00:00, 37.82it/s]\n"
          ]
        },
        {
          "output_type": "stream",
          "name": "stdout",
          "text": [
            "\t eval rmse: 0.9558\n",
            "\t eval mae: 0.7855\n",
            "\t eval r2: -0.0629\n",
            "==============================\n"
          ]
        },
        {
          "output_type": "stream",
          "name": "stderr",
          "text": [
            "train: 100%|██████████| 22/22 [00:00<00:00, 24.89it/s]\n"
          ]
        },
        {
          "output_type": "stream",
          "name": "stdout",
          "text": [
            "Epoch 8 elapsed: 0.920s\n",
            "\t \u001b[32mtrain_loss: 0.7743\u001b[0m\n"
          ]
        },
        {
          "output_type": "stream",
          "name": "stderr",
          "text": [
            "eval_pred: 100%|██████████| 1/1 [00:00<00:00, 44.36it/s]\n"
          ]
        },
        {
          "output_type": "stream",
          "name": "stdout",
          "text": [
            "\t eval rmse: 0.9407\n",
            "\t eval mae: 0.7746\n",
            "\t eval r2: -0.0297\n",
            "==============================\n"
          ]
        },
        {
          "output_type": "stream",
          "name": "stderr",
          "text": [
            "train: 100%|██████████| 22/22 [00:00<00:00, 24.66it/s]\n"
          ]
        },
        {
          "output_type": "stream",
          "name": "stdout",
          "text": [
            "Epoch 9 elapsed: 0.921s\n",
            "\t \u001b[32mtrain_loss: 0.7527\u001b[0m\n"
          ]
        },
        {
          "output_type": "stream",
          "name": "stderr",
          "text": [
            "eval_pred: 100%|██████████| 1/1 [00:00<00:00, 38.44it/s]\n"
          ]
        },
        {
          "output_type": "stream",
          "name": "stdout",
          "text": [
            "\t eval rmse: 0.9232\n",
            "\t eval mae: 0.7617\n",
            "\t eval r2: 0.0084\n",
            "==============================\n"
          ]
        },
        {
          "output_type": "stream",
          "name": "stderr",
          "text": [
            "train: 100%|██████████| 22/22 [00:00<00:00, 24.89it/s]\n"
          ]
        },
        {
          "output_type": "stream",
          "name": "stdout",
          "text": [
            "Epoch 10 elapsed: 0.909s\n",
            "\t \u001b[32mtrain_loss: 0.7\u001b[0m\n"
          ]
        },
        {
          "output_type": "stream",
          "name": "stderr",
          "text": [
            "eval_pred: 100%|██████████| 1/1 [00:00<00:00, 42.12it/s]\n"
          ]
        },
        {
          "output_type": "stream",
          "name": "stdout",
          "text": [
            "\t eval rmse: 0.9078\n",
            "\t eval mae: 0.7491\n",
            "\t eval r2: 0.0410\n",
            "==============================\n"
          ]
        },
        {
          "output_type": "stream",
          "name": "stderr",
          "text": [
            "train: 100%|██████████| 22/22 [00:00<00:00, 25.61it/s]\n"
          ]
        },
        {
          "output_type": "stream",
          "name": "stdout",
          "text": [
            "Epoch 11 elapsed: 0.886s\n",
            "\t \u001b[32mtrain_loss: 0.6619\u001b[0m\n"
          ]
        },
        {
          "output_type": "stream",
          "name": "stderr",
          "text": [
            "eval_pred: 100%|██████████| 1/1 [00:00<00:00, 44.11it/s]\n"
          ]
        },
        {
          "output_type": "stream",
          "name": "stdout",
          "text": [
            "\t eval rmse: 0.8910\n",
            "\t eval mae: 0.7352\n",
            "\t eval r2: 0.0763\n",
            "==============================\n"
          ]
        },
        {
          "output_type": "stream",
          "name": "stderr",
          "text": [
            "train: 100%|██████████| 22/22 [00:00<00:00, 25.88it/s]\n"
          ]
        },
        {
          "output_type": "stream",
          "name": "stdout",
          "text": [
            "Epoch 12 elapsed: 0.877s\n",
            "\t \u001b[32mtrain_loss: 0.6175\u001b[0m\n"
          ]
        },
        {
          "output_type": "stream",
          "name": "stderr",
          "text": [
            "eval_pred: 100%|██████████| 1/1 [00:00<00:00, 45.95it/s]\n"
          ]
        },
        {
          "output_type": "stream",
          "name": "stdout",
          "text": [
            "\t eval rmse: 0.8817\n",
            "\t eval mae: 0.7240\n",
            "\t eval r2: 0.0954\n",
            "==============================\n"
          ]
        },
        {
          "output_type": "stream",
          "name": "stderr",
          "text": [
            "train: 100%|██████████| 22/22 [00:00<00:00, 26.38it/s]\n"
          ]
        },
        {
          "output_type": "stream",
          "name": "stdout",
          "text": [
            "Epoch 13 elapsed: 0.868s\n",
            "\t \u001b[32mtrain_loss: 0.5871\u001b[0m\n"
          ]
        },
        {
          "output_type": "stream",
          "name": "stderr",
          "text": [
            "eval_pred: 100%|██████████| 1/1 [00:00<00:00, 43.49it/s]\n"
          ]
        },
        {
          "output_type": "stream",
          "name": "stdout",
          "text": [
            "\t eval rmse: 0.8766\n",
            "\t eval mae: 0.7166\n",
            "\t eval r2: 0.1058\n",
            "==============================\n"
          ]
        },
        {
          "output_type": "stream",
          "name": "stderr",
          "text": [
            "train: 100%|██████████| 22/22 [00:00<00:00, 25.18it/s]\n"
          ]
        },
        {
          "output_type": "stream",
          "name": "stdout",
          "text": [
            "Epoch 14 elapsed: 0.898s\n",
            "\t \u001b[32mtrain_loss: 0.5533\u001b[0m\n"
          ]
        },
        {
          "output_type": "stream",
          "name": "stderr",
          "text": [
            "eval_pred: 100%|██████████| 1/1 [00:00<00:00, 33.64it/s]\n"
          ]
        },
        {
          "output_type": "stream",
          "name": "stdout",
          "text": [
            "\t eval rmse: 0.8688\n",
            "\t eval mae: 0.7107\n",
            "\t eval r2: 0.1217\n",
            "==============================\n"
          ]
        },
        {
          "output_type": "stream",
          "name": "stderr",
          "text": [
            "train: 100%|██████████| 22/22 [00:00<00:00, 26.37it/s]\n"
          ]
        },
        {
          "output_type": "stream",
          "name": "stdout",
          "text": [
            "Epoch 15 elapsed: 0.865s\n",
            "\t \u001b[32mtrain_loss: 0.5245\u001b[0m\n"
          ]
        },
        {
          "output_type": "stream",
          "name": "stderr",
          "text": [
            "eval_pred: 100%|██████████| 1/1 [00:00<00:00, 37.77it/s]\n"
          ]
        },
        {
          "output_type": "stream",
          "name": "stdout",
          "text": [
            "\t eval rmse: 0.8668\n",
            "\t eval mae: 0.7078\n",
            "\t eval r2: 0.1258\n",
            "==============================\n"
          ]
        },
        {
          "output_type": "stream",
          "name": "stderr",
          "text": [
            "train: 100%|██████████| 22/22 [00:00<00:00, 25.39it/s]\n"
          ]
        },
        {
          "output_type": "stream",
          "name": "stdout",
          "text": [
            "Epoch 16 elapsed: 0.894s\n",
            "\t \u001b[32mtrain_loss: 0.4887\u001b[0m\n"
          ]
        },
        {
          "output_type": "stream",
          "name": "stderr",
          "text": [
            "eval_pred: 100%|██████████| 1/1 [00:00<00:00, 41.66it/s]\n"
          ]
        },
        {
          "output_type": "stream",
          "name": "stdout",
          "text": [
            "\t eval rmse: 0.8681\n",
            "\t eval mae: 0.7066\n",
            "\t eval r2: 0.1232\n",
            "==============================\n"
          ]
        },
        {
          "output_type": "stream",
          "name": "stderr",
          "text": [
            "train: 100%|██████████| 22/22 [00:00<00:00, 25.70it/s]\n"
          ]
        },
        {
          "output_type": "stream",
          "name": "stdout",
          "text": [
            "Epoch 17 elapsed: 0.881s\n",
            "\t \u001b[32mtrain_loss: 0.4567\u001b[0m\n"
          ]
        },
        {
          "output_type": "stream",
          "name": "stderr",
          "text": [
            "eval_pred: 100%|██████████| 1/1 [00:00<00:00, 33.70it/s]\n"
          ]
        },
        {
          "output_type": "stream",
          "name": "stdout",
          "text": [
            "\t eval rmse: 0.8605\n",
            "\t eval mae: 0.7040\n",
            "\t eval r2: 0.1384\n",
            "==============================\n"
          ]
        },
        {
          "output_type": "stream",
          "name": "stderr",
          "text": [
            "train: 100%|██████████| 22/22 [00:00<00:00, 25.52it/s]\n"
          ]
        },
        {
          "output_type": "stream",
          "name": "stdout",
          "text": [
            "Epoch 18 elapsed: 0.887s\n",
            "\t \u001b[32mtrain_loss: 0.4354\u001b[0m\n"
          ]
        },
        {
          "output_type": "stream",
          "name": "stderr",
          "text": [
            "eval_pred: 100%|██████████| 1/1 [00:00<00:00, 39.37it/s]\n"
          ]
        },
        {
          "output_type": "stream",
          "name": "stdout",
          "text": [
            "\t eval rmse: 0.8638\n",
            "\t eval mae: 0.7032\n",
            "\t eval r2: 0.1319\n",
            "==============================\n"
          ]
        },
        {
          "output_type": "stream",
          "name": "stderr",
          "text": [
            "train: 100%|██████████| 22/22 [00:00<00:00, 24.64it/s]\n"
          ]
        },
        {
          "output_type": "stream",
          "name": "stdout",
          "text": [
            "Epoch 19 elapsed: 0.923s\n",
            "\t \u001b[32mtrain_loss: 0.4064\u001b[0m\n"
          ]
        },
        {
          "output_type": "stream",
          "name": "stderr",
          "text": [
            "eval_pred: 100%|██████████| 1/1 [00:00<00:00, 41.54it/s]\n"
          ]
        },
        {
          "output_type": "stream",
          "name": "stdout",
          "text": [
            "\t eval rmse: 0.8642\n",
            "\t eval mae: 0.7042\n",
            "\t eval r2: 0.1310\n",
            "==============================\n"
          ]
        },
        {
          "output_type": "stream",
          "name": "stderr",
          "text": [
            "train: 100%|██████████| 22/22 [00:00<00:00, 25.81it/s]\n"
          ]
        },
        {
          "output_type": "stream",
          "name": "stdout",
          "text": [
            "Epoch 20 elapsed: 0.880s\n",
            "\t \u001b[32mtrain_loss: 0.391\u001b[0m\n"
          ]
        },
        {
          "output_type": "stream",
          "name": "stderr",
          "text": [
            "eval_pred: 100%|██████████| 1/1 [00:00<00:00, 41.28it/s]\n"
          ]
        },
        {
          "output_type": "stream",
          "name": "stdout",
          "text": [
            "\t eval rmse: 0.8715\n",
            "\t eval mae: 0.7053\n",
            "\t eval r2: 0.1162\n",
            "==============================\n",
            "prediction:  [1.8412524]\n",
            "recommendation:  [(34, 0.9379472), (19, 0.8462674), (2, 0.7604815), (18, 0.5789426), (9, 0.49785006), (30, 0.4083643), (22, 0.3768336)]\n"
          ]
        }
      ]
    },
    {
      "cell_type": "code",
      "metadata": {
        "id": "sSx48K1Ggpt5",
        "colab": {
          "base_uri": "https://localhost:8080/"
        },
        "outputId": "2b110618-dfa5-4ea1-af53-90e8609dea95"
      },
      "source": [
        "#data[\"label\"] = 1\n",
        "train_data, test_data = split_by_ratio(data, test_size=0.2)\n",
        "\n",
        "# specify complete columns information\n",
        "#sparse_col = [ 'age',\"gender\", \"DEGREE_CENTRALITY\",\"EIGENVECTOR\",'BETWEENNESS_CENTRALITY','CLUSTCOEF','PAGERANK','Comorbidities','Behavioural','Mental']\n",
        "sparse_col = [\"gender\",'Comorbidities','Behavioural','Mental']\n",
        "dense_col = [\"age\"]\n",
        "user_col = [\"age\", \"gender\"]\n",
        "#item_col = [\"DEGREE_CENTRALITY\",\"EIGENVECTOR\",'BETWEENNESS_CENTRALITY','CLUSTCOEF','PAGERANK','Comorbidities','Behavioural','Mental']\n",
        "item_col = ['Comorbidities','Behavioural','Mental']\n",
        "\n",
        "\n",
        "\n",
        "train_data, data_info = DatasetFeat.build_trainset(\n",
        "    train_data, user_col, item_col, sparse_col, dense_col\n",
        ")\n",
        "test_data = DatasetFeat.build_testset(test_data)\n",
        "train_data.build_negative_samples(data_info)  # sample negative items for each record\n",
        "test_data.build_negative_samples(data_info)\n",
        "print(data_info)  # n_users: 5962, n_items: 3226, data sparsity: 0.4185 %\n",
        "reset_state(\"DIN\")\n",
        "din = DIN(\"ranking\", data_info, embed_size=16, n_epochs=2,\n",
        "              recent_num=10, lr=1e-2, lr_decay=False, reg=None,\n",
        "              batch_size=2048, num_neg=1, use_bn=False, dropout_rate=None,\n",
        "              hidden_units=\"128,64,32\", tf_sess_config=None, use_tf_attention=True)\n",
        "din.fit(train_data, verbose=2, shuffle=True, eval_data=test_data,\n",
        "                metrics=[\"loss\", \"roc_auc\", \"precision\", \"recall\", \"map\", \"ndcg\"])\n",
        "\n",
        "# predict preference of user 2211 to item 110\n",
        "#print(\"prediction: \", fm.predict(user=2916, item=1))\n",
        "# recommend 7 items for user 2916\n",
        "print(\"recommendation(id, probability): \", din.recommend_user(user=2916, n_rec=10))"
      ],
      "execution_count": null,
      "outputs": [
        {
          "output_type": "stream",
          "name": "stdout",
          "text": [
            "random neg item sampling elapsed: 0.052s\n",
            "random neg item sampling elapsed: 0.004s\n",
            "n_users: 19828, n_items: 34, data sparsity: 6.3931 %\n",
            "\n",
            " ============================== DIN ==============================\n",
            "Training start time: \u001b[35m2021-09-22 06:22:12\u001b[0m\n",
            "total params: \u001b[33m351,057\u001b[0m | embedding params: \u001b[33m318,257\u001b[0m | network params: \u001b[33m32,800\u001b[0m\n"
          ]
        },
        {
          "output_type": "stream",
          "name": "stderr",
          "text": [
            "train: 100%|██████████| 43/43 [00:01<00:00, 26.55it/s]\n"
          ]
        },
        {
          "output_type": "stream",
          "name": "stdout",
          "text": [
            "Epoch 1 elapsed: 1.659s\n",
            "\t \u001b[32mtrain_loss: 0.441\u001b[0m\n"
          ]
        },
        {
          "output_type": "stream",
          "name": "stderr",
          "text": [
            "eval_pred: 100%|██████████| 1/1 [00:00<00:00, 14.53it/s]\n",
            "eval_rec: 100%|██████████| 2048/2048 [00:02<00:00, 814.83it/s]\n"
          ]
        },
        {
          "output_type": "stream",
          "name": "stdout",
          "text": [
            "\t eval log_loss: 0.4869\n",
            "\t eval roc_auc: 0.8479\n",
            "\t eval precision@10: 0.0973\n",
            "\t eval recall@10: 0.8835\n",
            "\t eval map@10: 0.6490\n",
            "\t eval ndcg@10: 0.7118\n",
            "==============================\n"
          ]
        },
        {
          "output_type": "stream",
          "name": "stderr",
          "text": [
            "train: 100%|██████████| 43/43 [00:01<00:00, 30.64it/s]\n"
          ]
        },
        {
          "output_type": "stream",
          "name": "stdout",
          "text": [
            "Epoch 2 elapsed: 1.445s\n",
            "\t \u001b[32mtrain_loss: 0.2294\u001b[0m\n"
          ]
        },
        {
          "output_type": "stream",
          "name": "stderr",
          "text": [
            "eval_pred: 100%|██████████| 1/1 [00:00<00:00, 33.48it/s]\n",
            "eval_rec: 100%|██████████| 2048/2048 [00:02<00:00, 813.68it/s]\n"
          ]
        },
        {
          "output_type": "stream",
          "name": "stdout",
          "text": [
            "\t eval log_loss: 0.4955\n",
            "\t eval roc_auc: 0.8595\n",
            "\t eval precision@10: 0.0994\n",
            "\t eval recall@10: 0.9004\n",
            "\t eval map@10: 0.6433\n",
            "\t eval ndcg@10: 0.7110\n",
            "==============================\n",
            "recommendation(id, probability):  [(34, 0.75017), (26, 0.36038828), (32, 0.3591141), (30, 0.35123292), (31, 0.34588137), (28, 0.31077814), (33, 0.2721323), (23, 0.23841348), (22, 0.15565476), (21, 0.15276368)]\n"
          ]
        }
      ]
    },
    {
      "cell_type": "code",
      "metadata": {
        "id": "WxGGSdlafH-q"
      },
      "source": [],
      "execution_count": null,
      "outputs": []
    }
  ]
}