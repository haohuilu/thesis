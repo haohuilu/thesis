{
  "cells": [
    {
      "cell_type": "markdown",
      "metadata": {
        "id": "id3VuBlfI4cS"
      },
      "source": [
        "#1. Install packages"
      ]
    },
    {
      "cell_type": "code",
      "execution_count": null,
      "metadata": {
        "colab": {
          "base_uri": "https://localhost:8080/"
        },
        "id": "h_3rR6-6HM5l",
        "outputId": "f47de567-9023-49fd-8554-48302a3b638a"
      },
      "outputs": [
        {
          "name": "stdout",
          "output_type": "stream",
          "text": [
            "Looking in indexes: https://pypi.org/simple, https://us-python.pkg.dev/colab-wheels/public/simple/\n",
            "Collecting stellargraph\n",
            "  Downloading stellargraph-1.2.1-py3-none-any.whl (435 kB)\n",
            "\u001b[K     |████████████████████████████████| 435 kB 5.3 MB/s \n",
            "\u001b[?25hRequirement already satisfied: scipy>=1.1.0 in /usr/local/lib/python3.7/dist-packages (from stellargraph) (1.7.3)\n",
            "Requirement already satisfied: numpy>=1.14 in /usr/local/lib/python3.7/dist-packages (from stellargraph) (1.21.6)\n",
            "Requirement already satisfied: tensorflow>=2.1.0 in /usr/local/lib/python3.7/dist-packages (from stellargraph) (2.9.2)\n",
            "Requirement already satisfied: matplotlib>=2.2 in /usr/local/lib/python3.7/dist-packages (from stellargraph) (3.2.2)\n",
            "Requirement already satisfied: pandas>=0.24 in /usr/local/lib/python3.7/dist-packages (from stellargraph) (1.3.5)\n",
            "Requirement already satisfied: scikit-learn>=0.20 in /usr/local/lib/python3.7/dist-packages (from stellargraph) (1.0.2)\n",
            "Requirement already satisfied: networkx>=2.2 in /usr/local/lib/python3.7/dist-packages (from stellargraph) (2.6.3)\n",
            "Requirement already satisfied: gensim>=3.4.0 in /usr/local/lib/python3.7/dist-packages (from stellargraph) (3.6.0)\n",
            "Requirement already satisfied: six>=1.5.0 in /usr/local/lib/python3.7/dist-packages (from gensim>=3.4.0->stellargraph) (1.15.0)\n",
            "Requirement already satisfied: smart-open>=1.2.1 in /usr/local/lib/python3.7/dist-packages (from gensim>=3.4.0->stellargraph) (5.2.1)\n",
            "Requirement already satisfied: python-dateutil>=2.1 in /usr/local/lib/python3.7/dist-packages (from matplotlib>=2.2->stellargraph) (2.8.2)\n",
            "Requirement already satisfied: kiwisolver>=1.0.1 in /usr/local/lib/python3.7/dist-packages (from matplotlib>=2.2->stellargraph) (1.4.4)\n",
            "Requirement already satisfied: pyparsing!=2.0.4,!=2.1.2,!=2.1.6,>=2.0.1 in /usr/local/lib/python3.7/dist-packages (from matplotlib>=2.2->stellargraph) (3.0.9)\n",
            "Requirement already satisfied: cycler>=0.10 in /usr/local/lib/python3.7/dist-packages (from matplotlib>=2.2->stellargraph) (0.11.0)\n",
            "Requirement already satisfied: typing-extensions in /usr/local/lib/python3.7/dist-packages (from kiwisolver>=1.0.1->matplotlib>=2.2->stellargraph) (4.1.1)\n",
            "Requirement already satisfied: pytz>=2017.3 in /usr/local/lib/python3.7/dist-packages (from pandas>=0.24->stellargraph) (2022.5)\n",
            "Requirement already satisfied: joblib>=0.11 in /usr/local/lib/python3.7/dist-packages (from scikit-learn>=0.20->stellargraph) (1.2.0)\n",
            "Requirement already satisfied: threadpoolctl>=2.0.0 in /usr/local/lib/python3.7/dist-packages (from scikit-learn>=0.20->stellargraph) (3.1.0)\n",
            "Requirement already satisfied: termcolor>=1.1.0 in /usr/local/lib/python3.7/dist-packages (from tensorflow>=2.1.0->stellargraph) (2.0.1)\n",
            "Requirement already satisfied: grpcio<2.0,>=1.24.3 in /usr/local/lib/python3.7/dist-packages (from tensorflow>=2.1.0->stellargraph) (1.50.0)\n",
            "Requirement already satisfied: absl-py>=1.0.0 in /usr/local/lib/python3.7/dist-packages (from tensorflow>=2.1.0->stellargraph) (1.3.0)\n",
            "Requirement already satisfied: protobuf<3.20,>=3.9.2 in /usr/local/lib/python3.7/dist-packages (from tensorflow>=2.1.0->stellargraph) (3.17.3)\n",
            "Requirement already satisfied: flatbuffers<2,>=1.12 in /usr/local/lib/python3.7/dist-packages (from tensorflow>=2.1.0->stellargraph) (1.12)\n",
            "Requirement already satisfied: keras-preprocessing>=1.1.1 in /usr/local/lib/python3.7/dist-packages (from tensorflow>=2.1.0->stellargraph) (1.1.2)\n",
            "Requirement already satisfied: libclang>=13.0.0 in /usr/local/lib/python3.7/dist-packages (from tensorflow>=2.1.0->stellargraph) (14.0.6)\n",
            "Requirement already satisfied: keras<2.10.0,>=2.9.0rc0 in /usr/local/lib/python3.7/dist-packages (from tensorflow>=2.1.0->stellargraph) (2.9.0)\n",
            "Requirement already satisfied: opt-einsum>=2.3.2 in /usr/local/lib/python3.7/dist-packages (from tensorflow>=2.1.0->stellargraph) (3.3.0)\n",
            "Requirement already satisfied: packaging in /usr/local/lib/python3.7/dist-packages (from tensorflow>=2.1.0->stellargraph) (21.3)\n",
            "Requirement already satisfied: h5py>=2.9.0 in /usr/local/lib/python3.7/dist-packages (from tensorflow>=2.1.0->stellargraph) (3.1.0)\n",
            "Requirement already satisfied: google-pasta>=0.1.1 in /usr/local/lib/python3.7/dist-packages (from tensorflow>=2.1.0->stellargraph) (0.2.0)\n",
            "Requirement already satisfied: tensorboard<2.10,>=2.9 in /usr/local/lib/python3.7/dist-packages (from tensorflow>=2.1.0->stellargraph) (2.9.1)\n",
            "Requirement already satisfied: astunparse>=1.6.0 in /usr/local/lib/python3.7/dist-packages (from tensorflow>=2.1.0->stellargraph) (1.6.3)\n",
            "Requirement already satisfied: tensorflow-estimator<2.10.0,>=2.9.0rc0 in /usr/local/lib/python3.7/dist-packages (from tensorflow>=2.1.0->stellargraph) (2.9.0)\n",
            "Requirement already satisfied: tensorflow-io-gcs-filesystem>=0.23.1 in /usr/local/lib/python3.7/dist-packages (from tensorflow>=2.1.0->stellargraph) (0.27.0)\n",
            "Requirement already satisfied: gast<=0.4.0,>=0.2.1 in /usr/local/lib/python3.7/dist-packages (from tensorflow>=2.1.0->stellargraph) (0.4.0)\n",
            "Requirement already satisfied: wrapt>=1.11.0 in /usr/local/lib/python3.7/dist-packages (from tensorflow>=2.1.0->stellargraph) (1.14.1)\n",
            "Requirement already satisfied: setuptools in /usr/local/lib/python3.7/dist-packages (from tensorflow>=2.1.0->stellargraph) (57.4.0)\n",
            "Requirement already satisfied: wheel<1.0,>=0.23.0 in /usr/local/lib/python3.7/dist-packages (from astunparse>=1.6.0->tensorflow>=2.1.0->stellargraph) (0.37.1)\n",
            "Requirement already satisfied: cached-property in /usr/local/lib/python3.7/dist-packages (from h5py>=2.9.0->tensorflow>=2.1.0->stellargraph) (1.5.2)\n",
            "Requirement already satisfied: tensorboard-plugin-wit>=1.6.0 in /usr/local/lib/python3.7/dist-packages (from tensorboard<2.10,>=2.9->tensorflow>=2.1.0->stellargraph) (1.8.1)\n",
            "Requirement already satisfied: markdown>=2.6.8 in /usr/local/lib/python3.7/dist-packages (from tensorboard<2.10,>=2.9->tensorflow>=2.1.0->stellargraph) (3.4.1)\n",
            "Requirement already satisfied: google-auth<3,>=1.6.3 in /usr/local/lib/python3.7/dist-packages (from tensorboard<2.10,>=2.9->tensorflow>=2.1.0->stellargraph) (1.35.0)\n",
            "Requirement already satisfied: google-auth-oauthlib<0.5,>=0.4.1 in /usr/local/lib/python3.7/dist-packages (from tensorboard<2.10,>=2.9->tensorflow>=2.1.0->stellargraph) (0.4.6)\n",
            "Requirement already satisfied: requests<3,>=2.21.0 in /usr/local/lib/python3.7/dist-packages (from tensorboard<2.10,>=2.9->tensorflow>=2.1.0->stellargraph) (2.23.0)\n",
            "Requirement already satisfied: werkzeug>=1.0.1 in /usr/local/lib/python3.7/dist-packages (from tensorboard<2.10,>=2.9->tensorflow>=2.1.0->stellargraph) (1.0.1)\n",
            "Requirement already satisfied: tensorboard-data-server<0.7.0,>=0.6.0 in /usr/local/lib/python3.7/dist-packages (from tensorboard<2.10,>=2.9->tensorflow>=2.1.0->stellargraph) (0.6.1)\n",
            "Requirement already satisfied: cachetools<5.0,>=2.0.0 in /usr/local/lib/python3.7/dist-packages (from google-auth<3,>=1.6.3->tensorboard<2.10,>=2.9->tensorflow>=2.1.0->stellargraph) (4.2.4)\n",
            "Requirement already satisfied: rsa<5,>=3.1.4 in /usr/local/lib/python3.7/dist-packages (from google-auth<3,>=1.6.3->tensorboard<2.10,>=2.9->tensorflow>=2.1.0->stellargraph) (4.9)\n",
            "Requirement already satisfied: pyasn1-modules>=0.2.1 in /usr/local/lib/python3.7/dist-packages (from google-auth<3,>=1.6.3->tensorboard<2.10,>=2.9->tensorflow>=2.1.0->stellargraph) (0.2.8)\n",
            "Requirement already satisfied: requests-oauthlib>=0.7.0 in /usr/local/lib/python3.7/dist-packages (from google-auth-oauthlib<0.5,>=0.4.1->tensorboard<2.10,>=2.9->tensorflow>=2.1.0->stellargraph) (1.3.1)\n",
            "Requirement already satisfied: importlib-metadata>=4.4 in /usr/local/lib/python3.7/dist-packages (from markdown>=2.6.8->tensorboard<2.10,>=2.9->tensorflow>=2.1.0->stellargraph) (4.13.0)\n",
            "Requirement already satisfied: zipp>=0.5 in /usr/local/lib/python3.7/dist-packages (from importlib-metadata>=4.4->markdown>=2.6.8->tensorboard<2.10,>=2.9->tensorflow>=2.1.0->stellargraph) (3.10.0)\n",
            "Requirement already satisfied: pyasn1<0.5.0,>=0.4.6 in /usr/local/lib/python3.7/dist-packages (from pyasn1-modules>=0.2.1->google-auth<3,>=1.6.3->tensorboard<2.10,>=2.9->tensorflow>=2.1.0->stellargraph) (0.4.8)\n",
            "Requirement already satisfied: certifi>=2017.4.17 in /usr/local/lib/python3.7/dist-packages (from requests<3,>=2.21.0->tensorboard<2.10,>=2.9->tensorflow>=2.1.0->stellargraph) (2022.9.24)\n",
            "Requirement already satisfied: urllib3!=1.25.0,!=1.25.1,<1.26,>=1.21.1 in /usr/local/lib/python3.7/dist-packages (from requests<3,>=2.21.0->tensorboard<2.10,>=2.9->tensorflow>=2.1.0->stellargraph) (1.24.3)\n",
            "Requirement already satisfied: chardet<4,>=3.0.2 in /usr/local/lib/python3.7/dist-packages (from requests<3,>=2.21.0->tensorboard<2.10,>=2.9->tensorflow>=2.1.0->stellargraph) (3.0.4)\n",
            "Requirement already satisfied: idna<3,>=2.5 in /usr/local/lib/python3.7/dist-packages (from requests<3,>=2.21.0->tensorboard<2.10,>=2.9->tensorflow>=2.1.0->stellargraph) (2.10)\n",
            "Requirement already satisfied: oauthlib>=3.0.0 in /usr/local/lib/python3.7/dist-packages (from requests-oauthlib>=0.7.0->google-auth-oauthlib<0.5,>=0.4.1->tensorboard<2.10,>=2.9->tensorflow>=2.1.0->stellargraph) (3.2.2)\n",
            "Installing collected packages: stellargraph\n",
            "Successfully installed stellargraph-1.2.1\n",
            "Looking in indexes: https://pypi.org/simple, https://us-python.pkg.dev/colab-wheels/public/simple/\n",
            "Collecting node2vec==0.3.3\n",
            "  Downloading node2vec-0.3.3.tar.gz (4.3 kB)\n",
            "Requirement already satisfied: networkx in /usr/local/lib/python3.7/dist-packages (from node2vec==0.3.3) (2.6.3)\n",
            "Requirement already satisfied: gensim in /usr/local/lib/python3.7/dist-packages (from node2vec==0.3.3) (3.6.0)\n",
            "Requirement already satisfied: numpy in /usr/local/lib/python3.7/dist-packages (from node2vec==0.3.3) (1.21.6)\n",
            "Requirement already satisfied: tqdm in /usr/local/lib/python3.7/dist-packages (from node2vec==0.3.3) (4.64.1)\n",
            "Requirement already satisfied: joblib>=0.13.2 in /usr/local/lib/python3.7/dist-packages (from node2vec==0.3.3) (1.2.0)\n",
            "Requirement already satisfied: scipy>=0.18.1 in /usr/local/lib/python3.7/dist-packages (from gensim->node2vec==0.3.3) (1.7.3)\n",
            "Requirement already satisfied: smart-open>=1.2.1 in /usr/local/lib/python3.7/dist-packages (from gensim->node2vec==0.3.3) (5.2.1)\n",
            "Requirement already satisfied: six>=1.5.0 in /usr/local/lib/python3.7/dist-packages (from gensim->node2vec==0.3.3) (1.15.0)\n",
            "Building wheels for collected packages: node2vec\n",
            "  Building wheel for node2vec (setup.py) ... \u001b[?25l\u001b[?25hdone\n",
            "  Created wheel for node2vec: filename=node2vec-0.3.3-py3-none-any.whl size=5673 sha256=b417449f86166e34ab5a1b636d73c788a30a969221cfbf9208e2a409c7a03a51\n",
            "  Stored in directory: /root/.cache/pip/wheels/da/ba/7d/e3e173c4133d8b8c498981bdd8b115e4bd5dcf6c314e513fa6\n",
            "Successfully built node2vec\n",
            "Installing collected packages: node2vec\n",
            "Successfully installed node2vec-0.3.3\n",
            "Looking in indexes: https://pypi.org/simple, https://us-python.pkg.dev/colab-wheels/public/simple/\n",
            "Collecting scikit-network\n",
            "  Downloading scikit-network-0.27.0.tar.gz (1.8 MB)\n",
            "\u001b[K     |████████████████████████████████| 1.8 MB 5.3 MB/s \n",
            "\u001b[?25h  Downloading scikit_network-0.26.0-cp37-cp37m-manylinux_2_17_x86_64.manylinux2014_x86_64.whl (8.1 MB)\n",
            "\u001b[K     |████████████████████████████████| 8.1 MB 6.5 MB/s \n",
            "\u001b[?25hRequirement already satisfied: scipy>=1.6.3 in /usr/local/lib/python3.7/dist-packages (from scikit-network) (1.7.3)\n",
            "Requirement already satisfied: numpy>=1.21.5 in /usr/local/lib/python3.7/dist-packages (from scikit-network) (1.21.6)\n",
            "Installing collected packages: scikit-network\n",
            "Successfully installed scikit-network-0.26.0\n"
          ]
        }
      ],
      "source": [
        "!pip install stellargraph\n",
        "!pip install node2vec==0.3.3\n",
        "!pip install scikit-network"
      ]
    },
    {
      "cell_type": "code",
      "execution_count": null,
      "metadata": {
        "id": "OZfkYH-zcJl5"
      },
      "outputs": [],
      "source": [
        "import os\n",
        "import math\n",
        "import numpy as np\n",
        "import networkx as nx\n",
        "import matplotlib.pyplot as plt\n",
        "import pandas as pd\n",
        "from sklearn.metrics import confusion_matrix\n",
        "from sklearn.metrics import classification_report\n",
        "\n",
        "%matplotlib inline"
      ]
    },
    {
      "cell_type": "markdown",
      "metadata": {
        "id": "MUlRyragI89F"
      },
      "source": [
        "# 2. Load dataset and preprocessing"
      ]
    },
    {
      "cell_type": "code",
      "execution_count": null,
      "metadata": {
        "id": "wm8MSc-E1bZ1"
      },
      "outputs": [],
      "source": [
        "disease_network = pd.read_csv(\"disease_network2.csv\")"
      ]
    },
    {
      "cell_type": "code",
      "execution_count": null,
      "metadata": {
        "colab": {
          "base_uri": "https://localhost:8080/",
          "height": 419
        },
        "id": "2t4wLUCj1jV-",
        "outputId": "f6c3d91a-afb3-4973-8574-b46a9b591e62"
      },
      "outputs": [
        {
          "data": {
            "text/html": [
              "\n",
              "  <div id=\"df-11b23a77-da50-4972-9d43-c2ca2c0fb0f0\">\n",
              "    <div class=\"colab-df-container\">\n",
              "      <div>\n",
              "<style scoped>\n",
              "    .dataframe tbody tr th:only-of-type {\n",
              "        vertical-align: middle;\n",
              "    }\n",
              "\n",
              "    .dataframe tbody tr th {\n",
              "        vertical-align: top;\n",
              "    }\n",
              "\n",
              "    .dataframe thead th {\n",
              "        text-align: right;\n",
              "    }\n",
              "</style>\n",
              "<table border=\"1\" class=\"dataframe\">\n",
              "  <thead>\n",
              "    <tr style=\"text-align: right;\">\n",
              "      <th></th>\n",
              "      <th>source</th>\n",
              "      <th>target</th>\n",
              "      <th>weight</th>\n",
              "    </tr>\n",
              "  </thead>\n",
              "  <tbody>\n",
              "    <tr>\n",
              "      <th>0</th>\n",
              "      <td>0</td>\n",
              "      <td>1136</td>\n",
              "      <td>1</td>\n",
              "    </tr>\n",
              "    <tr>\n",
              "      <th>1</th>\n",
              "      <td>0</td>\n",
              "      <td>480</td>\n",
              "      <td>1</td>\n",
              "    </tr>\n",
              "    <tr>\n",
              "      <th>2</th>\n",
              "      <td>0</td>\n",
              "      <td>1121</td>\n",
              "      <td>1</td>\n",
              "    </tr>\n",
              "    <tr>\n",
              "      <th>3</th>\n",
              "      <td>0</td>\n",
              "      <td>814</td>\n",
              "      <td>1</td>\n",
              "    </tr>\n",
              "    <tr>\n",
              "      <th>4</th>\n",
              "      <td>1</td>\n",
              "      <td>849</td>\n",
              "      <td>7</td>\n",
              "    </tr>\n",
              "    <tr>\n",
              "      <th>...</th>\n",
              "      <td>...</td>\n",
              "      <td>...</td>\n",
              "      <td>...</td>\n",
              "    </tr>\n",
              "    <tr>\n",
              "      <th>37894</th>\n",
              "      <td>1236</td>\n",
              "      <td>1238</td>\n",
              "      <td>3</td>\n",
              "    </tr>\n",
              "    <tr>\n",
              "      <th>37895</th>\n",
              "      <td>1236</td>\n",
              "      <td>1276</td>\n",
              "      <td>1</td>\n",
              "    </tr>\n",
              "    <tr>\n",
              "      <th>37896</th>\n",
              "      <td>1237</td>\n",
              "      <td>1238</td>\n",
              "      <td>1</td>\n",
              "    </tr>\n",
              "    <tr>\n",
              "      <th>37897</th>\n",
              "      <td>1238</td>\n",
              "      <td>1253</td>\n",
              "      <td>2</td>\n",
              "    </tr>\n",
              "    <tr>\n",
              "      <th>37898</th>\n",
              "      <td>1239</td>\n",
              "      <td>1249</td>\n",
              "      <td>1</td>\n",
              "    </tr>\n",
              "  </tbody>\n",
              "</table>\n",
              "<p>37899 rows × 3 columns</p>\n",
              "</div>\n",
              "      <button class=\"colab-df-convert\" onclick=\"convertToInteractive('df-11b23a77-da50-4972-9d43-c2ca2c0fb0f0')\"\n",
              "              title=\"Convert this dataframe to an interactive table.\"\n",
              "              style=\"display:none;\">\n",
              "        \n",
              "  <svg xmlns=\"http://www.w3.org/2000/svg\" height=\"24px\"viewBox=\"0 0 24 24\"\n",
              "       width=\"24px\">\n",
              "    <path d=\"M0 0h24v24H0V0z\" fill=\"none\"/>\n",
              "    <path d=\"M18.56 5.44l.94 2.06.94-2.06 2.06-.94-2.06-.94-.94-2.06-.94 2.06-2.06.94zm-11 1L8.5 8.5l.94-2.06 2.06-.94-2.06-.94L8.5 2.5l-.94 2.06-2.06.94zm10 10l.94 2.06.94-2.06 2.06-.94-2.06-.94-.94-2.06-.94 2.06-2.06.94z\"/><path d=\"M17.41 7.96l-1.37-1.37c-.4-.4-.92-.59-1.43-.59-.52 0-1.04.2-1.43.59L10.3 9.45l-7.72 7.72c-.78.78-.78 2.05 0 2.83L4 21.41c.39.39.9.59 1.41.59.51 0 1.02-.2 1.41-.59l7.78-7.78 2.81-2.81c.8-.78.8-2.07 0-2.86zM5.41 20L4 18.59l7.72-7.72 1.47 1.35L5.41 20z\"/>\n",
              "  </svg>\n",
              "      </button>\n",
              "      \n",
              "  <style>\n",
              "    .colab-df-container {\n",
              "      display:flex;\n",
              "      flex-wrap:wrap;\n",
              "      gap: 12px;\n",
              "    }\n",
              "\n",
              "    .colab-df-convert {\n",
              "      background-color: #E8F0FE;\n",
              "      border: none;\n",
              "      border-radius: 50%;\n",
              "      cursor: pointer;\n",
              "      display: none;\n",
              "      fill: #1967D2;\n",
              "      height: 32px;\n",
              "      padding: 0 0 0 0;\n",
              "      width: 32px;\n",
              "    }\n",
              "\n",
              "    .colab-df-convert:hover {\n",
              "      background-color: #E2EBFA;\n",
              "      box-shadow: 0px 1px 2px rgba(60, 64, 67, 0.3), 0px 1px 3px 1px rgba(60, 64, 67, 0.15);\n",
              "      fill: #174EA6;\n",
              "    }\n",
              "\n",
              "    [theme=dark] .colab-df-convert {\n",
              "      background-color: #3B4455;\n",
              "      fill: #D2E3FC;\n",
              "    }\n",
              "\n",
              "    [theme=dark] .colab-df-convert:hover {\n",
              "      background-color: #434B5C;\n",
              "      box-shadow: 0px 1px 3px 1px rgba(0, 0, 0, 0.15);\n",
              "      filter: drop-shadow(0px 1px 2px rgba(0, 0, 0, 0.3));\n",
              "      fill: #FFFFFF;\n",
              "    }\n",
              "  </style>\n",
              "\n",
              "      <script>\n",
              "        const buttonEl =\n",
              "          document.querySelector('#df-11b23a77-da50-4972-9d43-c2ca2c0fb0f0 button.colab-df-convert');\n",
              "        buttonEl.style.display =\n",
              "          google.colab.kernel.accessAllowed ? 'block' : 'none';\n",
              "\n",
              "        async function convertToInteractive(key) {\n",
              "          const element = document.querySelector('#df-11b23a77-da50-4972-9d43-c2ca2c0fb0f0');\n",
              "          const dataTable =\n",
              "            await google.colab.kernel.invokeFunction('convertToInteractive',\n",
              "                                                     [key], {});\n",
              "          if (!dataTable) return;\n",
              "\n",
              "          const docLinkHtml = 'Like what you see? Visit the ' +\n",
              "            '<a target=\"_blank\" href=https://colab.research.google.com/notebooks/data_table.ipynb>data table notebook</a>'\n",
              "            + ' to learn more about interactive tables.';\n",
              "          element.innerHTML = '';\n",
              "          dataTable['output_type'] = 'display_data';\n",
              "          await google.colab.output.renderOutput(dataTable, element);\n",
              "          const docLink = document.createElement('div');\n",
              "          docLink.innerHTML = docLinkHtml;\n",
              "          element.appendChild(docLink);\n",
              "        }\n",
              "      </script>\n",
              "    </div>\n",
              "  </div>\n",
              "  "
            ],
            "text/plain": [
              "       source  target  weight\n",
              "0           0    1136       1\n",
              "1           0     480       1\n",
              "2           0    1121       1\n",
              "3           0     814       1\n",
              "4           1     849       7\n",
              "...       ...     ...     ...\n",
              "37894    1236    1238       3\n",
              "37895    1236    1276       1\n",
              "37896    1237    1238       1\n",
              "37897    1238    1253       2\n",
              "37898    1239    1249       1\n",
              "\n",
              "[37899 rows x 3 columns]"
            ]
          },
          "execution_count": 4,
          "metadata": {},
          "output_type": "execute_result"
        }
      ],
      "source": [
        "disease_network"
      ]
    },
    {
      "cell_type": "code",
      "execution_count": null,
      "metadata": {
        "id": "Mw4YiQGAEY88"
      },
      "outputs": [],
      "source": [
        "disease_network=disease_network.drop(['weight'], axis=1)"
      ]
    },
    {
      "cell_type": "code",
      "execution_count": null,
      "metadata": {
        "colab": {
          "base_uri": "https://localhost:8080/",
          "height": 37
        },
        "id": "xPXj_OGLzeB_",
        "outputId": "d3de276d-4daf-4208-ded3-930d5d96388d"
      },
      "outputs": [
        {
          "data": {
            "application/vnd.google.colaboratory.intrinsic+json": {
              "type": "string"
            },
            "text/plain": [
              "'Graph with 1375 nodes and 37899 edges'"
            ]
          },
          "execution_count": 6,
          "metadata": {},
          "output_type": "execute_result"
        }
      ],
      "source": [
        "G = nx.from_pandas_edgelist(disease_network, create_using=nx.Graph())\n",
        "nx.info(G)"
      ]
    },
    {
      "cell_type": "code",
      "execution_count": null,
      "metadata": {
        "colab": {
          "base_uri": "https://localhost:8080/"
        },
        "id": "DRPua6Od-h9-",
        "outputId": "5d1ff079-e7e9-444c-a2d8-f1186b349d69"
      },
      "outputs": [
        {
          "name": "stdout",
          "output_type": "stream",
          "text": [
            "       source  target\n",
            "0           0    1136\n",
            "1           0     480\n",
            "2           0    1121\n",
            "3           0     814\n",
            "4        1136       1\n",
            "...       ...     ...\n",
            "37894     872     708\n",
            "37895     487    1360\n",
            "37896     487     919\n",
            "37897    1360     919\n",
            "37898     558    1161\n",
            "\n",
            "[37899 rows x 2 columns]\n"
          ]
        }
      ],
      "source": [
        "print(nx.to_pandas_edgelist(G))"
      ]
    },
    {
      "cell_type": "markdown",
      "metadata": {
        "id": "RMXdKgn7xV6o"
      },
      "source": [
        "# 3. Network topology"
      ]
    },
    {
      "cell_type": "code",
      "execution_count": null,
      "metadata": {
        "colab": {
          "base_uri": "https://localhost:8080/"
        },
        "id": "IeRdThZkKplc",
        "outputId": "2392dacd-f4e0-47dd-da44-e62fe6b30769"
      },
      "outputs": [
        {
          "data": {
            "text/plain": [
              "<generator object connected_components at 0x7f1179c43c50>"
            ]
          },
          "execution_count": 8,
          "metadata": {},
          "output_type": "execute_result"
        }
      ],
      "source": [
        "nx.connected_components(G)"
      ]
    },
    {
      "cell_type": "code",
      "execution_count": null,
      "metadata": {
        "colab": {
          "base_uri": "https://localhost:8080/"
        },
        "id": "jTwYB-xDKMZP",
        "outputId": "25157ef6-79ed-494c-b6cf-7bfef16e748c"
      },
      "outputs": [
        {
          "name": "stdout",
          "output_type": "stream",
          "text": [
            "2.2566022351090056\n",
            "1.0\n"
          ]
        }
      ],
      "source": [
        "for g in (G.subgraph(c) for c in nx.connected_components(G)):\n",
        "    print(nx.average_shortest_path_length(g))"
      ]
    },
    {
      "cell_type": "code",
      "execution_count": null,
      "metadata": {
        "colab": {
          "base_uri": "https://localhost:8080/"
        },
        "id": "kzW1X3_3xYdJ",
        "outputId": "2928df39-45d4-48b5-b0f2-9ac7bd7305e4"
      },
      "outputs": [
        {
          "data": {
            "text/plain": [
              "-0.24955868406243653"
            ]
          },
          "execution_count": 10,
          "metadata": {},
          "output_type": "execute_result"
        }
      ],
      "source": [
        "nx.degree_pearson_correlation_coefficient(G)"
      ]
    },
    {
      "cell_type": "code",
      "execution_count": null,
      "metadata": {
        "colab": {
          "base_uri": "https://localhost:8080/"
        },
        "id": "JhBrC-5AxhNn",
        "outputId": "23daff57-23d3-4370-e1e2-91856b47e955"
      },
      "outputs": [
        {
          "data": {
            "text/plain": [
              "0.3243138352661088"
            ]
          },
          "execution_count": 11,
          "metadata": {},
          "output_type": "execute_result"
        }
      ],
      "source": [
        "nx.transitivity(G)"
      ]
    },
    {
      "cell_type": "code",
      "execution_count": null,
      "metadata": {
        "colab": {
          "base_uri": "https://localhost:8080/"
        },
        "id": "2mI4bemXxkZ0",
        "outputId": "fd10d520-d7d4-4e94-d4ff-59011017d2c2"
      },
      "outputs": [
        {
          "data": {
            "text/plain": [
              "0.6686639004134475"
            ]
          },
          "execution_count": 12,
          "metadata": {},
          "output_type": "execute_result"
        }
      ],
      "source": [
        "nx.average_clustering(G)"
      ]
    },
    {
      "cell_type": "code",
      "execution_count": null,
      "metadata": {
        "id": "MdVK4N4hxkgi"
      },
      "outputs": [],
      "source": [
        "bC = nx.betweenness_centrality(G)"
      ]
    },
    {
      "cell_type": "code",
      "execution_count": null,
      "metadata": {
        "colab": {
          "base_uri": "https://localhost:8080/"
        },
        "id": "y2Ihq21TyBHO",
        "outputId": "e0b568ec-6e80-47af-c208-c0bf35fc3e77"
      },
      "outputs": [
        {
          "data": {
            "text/plain": [
              "0.0009125622689265877"
            ]
          },
          "execution_count": 14,
          "metadata": {},
          "output_type": "execute_result"
        }
      ],
      "source": [
        "np.mean(list(bC.values()))"
      ]
    },
    {
      "cell_type": "code",
      "execution_count": null,
      "metadata": {
        "id": "8Flp7XA8yBLp"
      },
      "outputs": [],
      "source": [
        "deg_C = nx.degree_centrality(G)"
      ]
    },
    {
      "cell_type": "code",
      "execution_count": null,
      "metadata": {
        "colab": {
          "base_uri": "https://localhost:8080/"
        },
        "id": "yy7_GIcsyBQP",
        "outputId": "88b8bf41-a08a-45bd-ccd0-720ee3f81056"
      },
      "outputs": [
        {
          "data": {
            "text/plain": [
              "0.04012068281063915"
            ]
          },
          "execution_count": 16,
          "metadata": {},
          "output_type": "execute_result"
        }
      ],
      "source": [
        "np.mean(list(deg_C.values()))"
      ]
    },
    {
      "cell_type": "code",
      "execution_count": null,
      "metadata": {
        "id": "YSUzG5j9yBVB"
      },
      "outputs": [],
      "source": [
        "close_C = nx.closeness_centrality(G)"
      ]
    },
    {
      "cell_type": "code",
      "execution_count": null,
      "metadata": {
        "colab": {
          "base_uri": "https://localhost:8080/"
        },
        "id": "_KLfSR9yyPqC",
        "outputId": "895be518-1b82-4360-dbf0-bdc132e5a45a"
      },
      "outputs": [
        {
          "data": {
            "text/plain": [
              "0.44912475000731966"
            ]
          },
          "execution_count": 18,
          "metadata": {},
          "output_type": "execute_result"
        }
      ],
      "source": [
        "np.mean(list(close_C.values()))"
      ]
    },
    {
      "cell_type": "code",
      "execution_count": null,
      "metadata": {
        "colab": {
          "base_uri": "https://localhost:8080/"
        },
        "id": "7BfN-D4mbnYv",
        "outputId": "4872f965-d3a3-4836-a5e2-5a2e441dd2c9"
      },
      "outputs": [
        {
          "name": "stdout",
          "output_type": "stream",
          "text": [
            "** Sampled 3789 positive and 3789 negative edges. **\n",
            "** Sampled 3411 positive and 3411 negative edges. **\n"
          ]
        }
      ],
      "source": [
        "# train test split\n",
        "from sklearn.model_selection import train_test_split\n",
        "from stellargraph.data import EdgeSplitter\n",
        "from stellargraph import StellarGraph\n",
        "\n",
        "edgeSplitter = EdgeSplitter(G) \n",
        "graph_test, samples_test, labels_test = edgeSplitter.train_test_split(p=0.1, method=\"global\", seed=1)\n",
        "\n",
        "edgeSplitter = EdgeSplitter(graph_test, G) \n",
        "graph_train, samples_train, labels_train = edgeSplitter.train_test_split(p=0.1, method=\"global\", seed=1)"
      ]
    },
    {
      "cell_type": "markdown",
      "metadata": {
        "id": "TsjEk3xxJYSj"
      },
      "source": [
        "# 4. Node2Vec"
      ]
    },
    {
      "cell_type": "code",
      "execution_count": null,
      "metadata": {
        "colab": {
          "base_uri": "https://localhost:8080/"
        },
        "id": "SzpgVEgibuea",
        "outputId": "92417c79-0647-4021-a006-faaa36163312"
      },
      "outputs": [
        {
          "name": "stderr",
          "output_type": "stream",
          "text": [
            "Computing transition probabilities: 100%|██████████| 1375/1375 [00:39<00:00, 34.79it/s] \n",
            "Generating walks (CPU: 1): 100%|██████████| 10/10 [01:12<00:00,  7.20s/it]\n"
          ]
        }
      ],
      "source": [
        "from node2vec import Node2Vec\n",
        "from node2vec.edges import HadamardEmbedder \n",
        "from stellargraph.data import EdgeSplitter \n",
        "\n",
        "node2vec = Node2Vec(graph_train) \n",
        "model = node2vec.fit() \n",
        "edges_embs = HadamardEmbedder(keyed_vectors=model.wv) \n",
        "train_embeddings = [edges_embs[str(x[0]),str(x[1])] for x in samples_train]\n",
        "\n",
        "edges_embs = HadamardEmbedder(keyed_vectors=model.wv) \n",
        "test_embeddings = [edges_embs[str(x[0]),str(x[1])] for x in samples_test]"
      ]
    },
    {
      "cell_type": "code",
      "execution_count": null,
      "metadata": {
        "id": "IR7R9qoOia7K"
      },
      "outputs": [],
      "source": [
        "### distance and t-sne"
      ]
    },
    {
      "cell_type": "code",
      "execution_count": null,
      "metadata": {
        "id": "JI1kBsSJkgV5"
      },
      "outputs": [],
      "source": [
        "from sklearn.manifold import TSNE\n",
        "import sklearn\n",
        "from sklearn.decomposition import PCA\n",
        "transform = TSNE"
      ]
    },
    {
      "cell_type": "code",
      "execution_count": null,
      "metadata": {
        "colab": {
          "base_uri": "https://localhost:8080/"
        },
        "id": "OtGHEyuRmhX_",
        "outputId": "792f21c3-651e-4380-f2eb-914b3c65980d"
      },
      "outputs": [
        {
          "name": "stderr",
          "output_type": "stream",
          "text": [
            "/usr/local/lib/python3.7/dist-packages/sklearn/manifold/_t_sne.py:783: FutureWarning: The default initialization in TSNE will change from 'random' to 'pca' in 1.2.\n",
            "  FutureWarning,\n",
            "/usr/local/lib/python3.7/dist-packages/sklearn/manifold/_t_sne.py:793: FutureWarning: The default learning rate in TSNE will change from 200.0 to 'auto' in 1.2.\n",
            "  FutureWarning,\n"
          ]
        }
      ],
      "source": [
        "pca = transform(n_components=2, random_state=42)\n",
        "weighted_node_embeddings_2d = pca.fit_transform(train_embeddings)\n",
        "\n"
      ]
    },
    {
      "cell_type": "code",
      "execution_count": null,
      "metadata": {
        "id": "EtKbkGXwlb3X"
      },
      "outputs": [],
      "source": [
        "groups = pd.DataFrame(weighted_node_embeddings_2d, columns=['x', 'y']).assign(category=labels_train)"
      ]
    },
    {
      "cell_type": "code",
      "execution_count": null,
      "metadata": {
        "colab": {
          "base_uri": "https://localhost:8080/",
          "height": 485
        },
        "id": "ImOP2DcxkD3h",
        "outputId": "653b6866-82c8-4ed9-c44a-24167bf6e6d0"
      },
      "outputs": [
        {
          "data": {
            "image/png": "[encoded data removed]",
            "text/plain": [
              "<Figure size 504x504 with 1 Axes>"
            ]
          },
          "metadata": {},
          "output_type": "display_data"
        }
      ],
      "source": [
        "import numpy as np\n",
        "names = ['1', '0']\n",
        "\n",
        "fig, ax = plt.subplots(figsize=(7, 7))\n",
        "\n",
        "X_label1 = groups.query('category==1')\n",
        "X_label0= groups.query('category==0')\n",
        "ax.scatter(X_label0['x'], X_label0['y'],alpha=0.7,label=names[1], c='darkblue')\n",
        "ax.scatter(X_label1['x'], X_label1['y'],alpha=0.7,label=names[0],c='darkred')\n",
        "\n",
        "ax.set_xlabel('$X_1$',  fontsize=20)\n",
        "plt.xticks(fontsize=16)\n",
        "plt.yticks(fontsize=16)\n",
        "ax.set_ylabel('$X_2$', fontsize=20)\n",
        "ax.set_title('Node2vec', fontsize=26)\n",
        "ax.legend()\n",
        "plt.savefig('node2vec.png')"
      ]
    },
    {
      "cell_type": "code",
      "execution_count": null,
      "metadata": {
        "id": "Hqqu5XlScP6c"
      },
      "outputs": [],
      "source": [
        "from sklearn.ensemble import RandomForestClassifier \n",
        "from sklearn import metrics \n",
        "\n",
        "rf = RandomForestClassifier(random_state=1) \n",
        "rf.fit(train_embeddings, labels_train); \n",
        " \n",
        "y_pred = rf.predict(test_embeddings) \n"
      ]
    },
    {
      "cell_type": "code",
      "execution_count": null,
      "metadata": {
        "colab": {
          "base_uri": "https://localhost:8080/"
        },
        "id": "DMjKvhXZtNpt",
        "outputId": "b6ef8c17-1abe-4a98-eb86-d5f039a1a0c3"
      },
      "outputs": [
        {
          "name": "stdout",
          "output_type": "stream",
          "text": [
            "[[2760 1029]\n",
            " [ 256 3533]]\n",
            "              precision    recall  f1-score   support\n",
            "\n",
            "           0     0.9151    0.7284    0.8112      3789\n",
            "           1     0.7744    0.9324    0.8461      3789\n",
            "\n",
            "    accuracy                         0.8304      7578\n",
            "   macro avg     0.8448    0.8304    0.8286      7578\n",
            "weighted avg     0.8448    0.8304    0.8286      7578\n",
            "\n"
          ]
        }
      ],
      "source": [
        "print(confusion_matrix(labels_test, y_pred))\n",
        "print(classification_report(labels_test, y_pred, digits=4))"
      ]
    },
    {
      "cell_type": "code",
      "execution_count": null,
      "metadata": {
        "colab": {
          "base_uri": "https://localhost:8080/"
        },
        "id": "dz5IFCXVdSmj",
        "outputId": "6bb07d20-6e49-4824-cee9-d413e1a51994"
      },
      "outputs": [
        {
          "name": "stdout",
          "output_type": "stream",
          "text": [
            "Precision: 0.7744410346339324\n",
            "Recall: 0.9324359989443125\n",
            "F1-Score: 0.846126212429649\n",
            "Accuracy: 0.8304301926629718\n"
          ]
        }
      ],
      "source": [
        "print('Precision:', metrics.precision_score(labels_test, y_pred)) \n",
        "print('Recall:', metrics.recall_score(labels_test, y_pred)) \n",
        "print('F1-Score:', metrics.f1_score(labels_test, y_pred)) \n",
        "print('Accuracy:', metrics.accuracy_score(labels_test, y_pred)) "
      ]
    },
    {
      "cell_type": "code",
      "execution_count": null,
      "metadata": {
        "id": "v61M08aBnjUf"
      },
      "outputs": [],
      "source": [
        "from sklearn.linear_model import LogisticRegression\n",
        "lr = LogisticRegression(random_state=1) \n",
        "lr.fit(train_embeddings, labels_train); \n",
        " \n",
        "y_pred = lr.predict(test_embeddings)\n"
      ]
    },
    {
      "cell_type": "code",
      "execution_count": null,
      "metadata": {
        "colab": {
          "base_uri": "https://localhost:8080/"
        },
        "id": "C5G_lehInxhM",
        "outputId": "4f1ffffd-79f1-4be6-a29d-6be5e2b72350"
      },
      "outputs": [
        {
          "name": "stdout",
          "output_type": "stream",
          "text": [
            "[[2997  792]\n",
            " [1298 2491]]\n",
            "              precision    recall  f1-score   support\n",
            "\n",
            "           0     0.6978    0.7910    0.7415      3789\n",
            "           1     0.7588    0.6574    0.7045      3789\n",
            "\n",
            "    accuracy                         0.7242      7578\n",
            "   macro avg     0.7283    0.7242    0.7230      7578\n",
            "weighted avg     0.7283    0.7242    0.7230      7578\n",
            "\n"
          ]
        }
      ],
      "source": [
        "print(confusion_matrix(labels_test, y_pred))\n",
        "print(classification_report(labels_test, y_pred, digits=4))"
      ]
    },
    {
      "cell_type": "code",
      "execution_count": null,
      "metadata": {
        "id": "z2mGIvWXnzGR"
      },
      "outputs": [],
      "source": [
        "import xgboost as xgb\n",
        "train_embeddings_xgboost = np.array(train_embeddings)\n",
        "\n",
        "xgb = xgb.XGBClassifier(random_state=1)\n",
        "xgb.fit(train_embeddings_xgboost, labels_train); \n",
        " \n",
        "y_pred = xgb.predict(test_embeddings)\n"
      ]
    },
    {
      "cell_type": "code",
      "execution_count": null,
      "metadata": {
        "colab": {
          "base_uri": "https://localhost:8080/"
        },
        "id": "3jprRYOgnzNu",
        "outputId": "d4c4fbb7-a330-43eb-d90d-267f42ead4ef"
      },
      "outputs": [
        {
          "name": "stdout",
          "output_type": "stream",
          "text": [
            "[[3094  695]\n",
            " [ 506 3283]]\n",
            "              precision    recall  f1-score   support\n",
            "\n",
            "           0     0.8594    0.8166    0.8375      3789\n",
            "           1     0.8253    0.8665    0.8454      3789\n",
            "\n",
            "    accuracy                         0.8415      7578\n",
            "   macro avg     0.8424    0.8415    0.8414      7578\n",
            "weighted avg     0.8424    0.8415    0.8414      7578\n",
            "\n"
          ]
        }
      ],
      "source": [
        "print(confusion_matrix(labels_test, y_pred))\n",
        "print(classification_report(labels_test, y_pred, digits=4))"
      ]
    },
    {
      "cell_type": "markdown",
      "metadata": {
        "id": "KiFOeFswKBwI"
      },
      "source": [
        "# 5. GCN"
      ]
    },
    {
      "cell_type": "code",
      "execution_count": null,
      "metadata": {
        "id": "ja5tnqkBnQZa"
      },
      "outputs": [],
      "source": [
        "\n",
        "import stellargraph as sg\n",
        "from stellargraph.data import EdgeSplitter\n",
        "from stellargraph.mapper import FullBatchLinkGenerator\n",
        "from stellargraph.layer import GCN, LinkEmbedding\n",
        "\n",
        "\n",
        "from tensorflow import keras\n",
        "from sklearn import preprocessing, feature_extraction, model_selection\n",
        "\n",
        "from stellargraph import globalvar\n",
        "from stellargraph import datasets\n",
        "from IPython.display import display, HTML\n",
        "%matplotlib inline"
      ]
    },
    {
      "cell_type": "code",
      "execution_count": null,
      "metadata": {
        "id": "fZcthOlDKDG6"
      },
      "outputs": [],
      "source": [
        "eye = np.eye(graph_train.number_of_nodes())\n",
        "fake_features = {n:eye[n] for n in G.nodes()}\n",
        "nx.set_node_attributes(graph_train, fake_features, \"fake\")\n",
        "\n",
        "eye = np.eye(graph_test.number_of_nodes())\n",
        "fake_features = {n:eye[n] for n in G.nodes()}\n",
        "nx.set_node_attributes(graph_test, fake_features, \"fake\")"
      ]
    },
    {
      "cell_type": "code",
      "execution_count": null,
      "metadata": {
        "colab": {
          "base_uri": "https://localhost:8080/"
        },
        "id": "mPN55kATKGBY",
        "outputId": "3a8e610d-2244-4e50-bce3-f6bee99279f0"
      },
      "outputs": [
        {
          "name": "stdout",
          "output_type": "stream",
          "text": [
            "Using GCN (local pooling) filters...\n",
            "Using GCN (local pooling) filters...\n"
          ]
        }
      ],
      "source": [
        "from stellargraph.mapper import FullBatchLinkGenerator\n",
        "\n",
        "\n",
        "\n",
        "sg_graph_train = StellarGraph.from_networkx(graph_train, node_features=\"fake\")\n",
        "sg_graph_test = StellarGraph.from_networkx(graph_test, node_features=\"fake\")\n",
        "\n",
        "train_gen = FullBatchLinkGenerator(sg_graph_train,method=\"gcn\")\n",
        "train_flow = train_gen.flow(samples_train, labels_train)\n",
        "\n",
        "test_gen = FullBatchLinkGenerator(sg_graph_test, method=\"gcn\")\n",
        "test_flow = test_gen.flow(samples_test, labels_test)"
      ]
    },
    {
      "cell_type": "code",
      "execution_count": null,
      "metadata": {
        "colab": {
          "base_uri": "https://localhost:8080/"
        },
        "id": "Fb3SdTQ6Kwpr",
        "outputId": "be79629d-64d0-491a-ce21-44ded0fa9d8a"
      },
      "outputs": [
        {
          "name": "stderr",
          "output_type": "stream",
          "text": [
            "/usr/local/lib/python3.7/dist-packages/keras/optimizers/optimizer_v2/adam.py:110: UserWarning: The `lr` argument is deprecated, use `learning_rate` instead.\n",
            "  super(Adam, self).__init__(name, **kwargs)\n"
          ]
        }
      ],
      "source": [
        "from stellargraph.layer import GCN, LinkEmbedding\n",
        "import random\n",
        "RANDOM_SEED = 1\n",
        "random.seed(RANDOM_SEED)\n",
        "\n",
        "gcn = GCN(\n",
        "    layer_sizes=[64, 64], activations=[\"relu\", \"relu\"], generator=train_gen, dropout=0.5)\n",
        "\n",
        "x_inp, x_out = gcn.in_out_tensors()\n",
        "\n",
        "prediction = LinkEmbedding(activation=\"sigmoid\", method=\"ip\")(x_out)\n",
        "\n",
        "model = keras.Model(inputs=x_inp, outputs=prediction)\n",
        "\n",
        "model.compile(\n",
        "    optimizer=keras.optimizers.Adam(lr=0.01),\n",
        "    loss=keras.losses.binary_crossentropy,\n",
        "    metrics=[\"acc\"],\n",
        ")"
      ]
    },
    {
      "cell_type": "code",
      "execution_count": null,
      "metadata": {
        "id": "oN3-4alBoByG"
      },
      "outputs": [],
      "source": [
        "from tensorflow.keras.callbacks import EarlyStopping\n",
        "\n",
        "es_callback = EarlyStopping(monitor=\"val_acc\", patience=100, restore_best_weights=True)"
      ]
    },
    {
      "cell_type": "code",
      "execution_count": null,
      "metadata": {
        "colab": {
          "base_uri": "https://localhost:8080/"
        },
        "id": "ZDBPVz4WLRF6",
        "outputId": "726c728b-9f75-42ad-bd77-a5669c26a0cf"
      },
      "outputs": [
        {
          "name": "stdout",
          "output_type": "stream",
          "text": [
            "Epoch 1/500\n",
            "1/1 - 4s - loss: 0.6931 - acc: 0.5060 - val_loss: 0.6883 - val_acc: 0.5000 - 4s/epoch - 4s/step\n",
            "Epoch 2/500\n",
            "1/1 - 0s - loss: 0.6884 - acc: 0.5000 - val_loss: 0.6699 - val_acc: 0.5000 - 164ms/epoch - 164ms/step\n",
            "Epoch 3/500\n",
            "1/1 - 0s - loss: 0.6709 - acc: 0.5000 - val_loss: 0.6342 - val_acc: 0.5000 - 168ms/epoch - 168ms/step\n",
            "Epoch 4/500\n",
            "1/1 - 0s - loss: 0.6346 - acc: 0.5000 - val_loss: 0.6042 - val_acc: 0.5000 - 165ms/epoch - 165ms/step\n",
            "Epoch 5/500\n",
            "1/1 - 0s - loss: 0.6077 - acc: 0.5000 - val_loss: 0.6204 - val_acc: 0.5000 - 186ms/epoch - 186ms/step\n",
            "Epoch 6/500\n",
            "1/1 - 0s - loss: 0.6228 - acc: 0.5000 - val_loss: 0.6160 - val_acc: 0.5000 - 179ms/epoch - 179ms/step\n",
            "Epoch 7/500\n",
            "1/1 - 0s - loss: 0.6219 - acc: 0.5000 - val_loss: 0.5934 - val_acc: 0.5000 - 169ms/epoch - 169ms/step\n",
            "Epoch 8/500\n",
            "1/1 - 0s - loss: 0.5990 - acc: 0.5000 - val_loss: 0.5847 - val_acc: 0.5000 - 174ms/epoch - 174ms/step\n",
            "Epoch 9/500\n",
            "1/1 - 0s - loss: 0.5887 - acc: 0.5000 - val_loss: 0.5875 - val_acc: 0.5000 - 167ms/epoch - 167ms/step\n",
            "Epoch 10/500\n",
            "1/1 - 0s - loss: 0.5898 - acc: 0.5000 - val_loss: 0.5881 - val_acc: 0.5000 - 161ms/epoch - 161ms/step\n",
            "Epoch 11/500\n",
            "1/1 - 0s - loss: 0.5899 - acc: 0.5000 - val_loss: 0.5815 - val_acc: 0.5000 - 172ms/epoch - 172ms/step\n",
            "Epoch 12/500\n",
            "1/1 - 0s - loss: 0.5882 - acc: 0.5000 - val_loss: 0.5698 - val_acc: 0.5000 - 166ms/epoch - 166ms/step\n",
            "Epoch 13/500\n",
            "1/1 - 0s - loss: 0.5745 - acc: 0.5000 - val_loss: 0.5600 - val_acc: 0.5000 - 173ms/epoch - 173ms/step\n",
            "Epoch 14/500\n",
            "1/1 - 0s - loss: 0.5637 - acc: 0.5000 - val_loss: 0.5576 - val_acc: 0.5000 - 170ms/epoch - 170ms/step\n",
            "Epoch 15/500\n",
            "1/1 - 0s - loss: 0.5623 - acc: 0.5000 - val_loss: 0.5568 - val_acc: 0.5000 - 167ms/epoch - 167ms/step\n",
            "Epoch 16/500\n",
            "1/1 - 0s - loss: 0.5637 - acc: 0.5000 - val_loss: 0.5494 - val_acc: 0.5016 - 170ms/epoch - 170ms/step\n",
            "Epoch 17/500\n",
            "1/1 - 0s - loss: 0.5552 - acc: 0.5013 - val_loss: 0.5425 - val_acc: 0.5055 - 181ms/epoch - 181ms/step\n",
            "Epoch 18/500\n",
            "1/1 - 0s - loss: 0.5483 - acc: 0.5063 - val_loss: 0.5427 - val_acc: 0.5183 - 167ms/epoch - 167ms/step\n",
            "Epoch 19/500\n",
            "1/1 - 0s - loss: 0.5498 - acc: 0.5267 - val_loss: 0.5389 - val_acc: 0.5314 - 170ms/epoch - 170ms/step\n",
            "Epoch 20/500\n",
            "1/1 - 0s - loss: 0.5432 - acc: 0.5358 - val_loss: 0.5332 - val_acc: 0.5446 - 173ms/epoch - 173ms/step\n",
            "Epoch 21/500\n",
            "1/1 - 0s - loss: 0.5400 - acc: 0.5355 - val_loss: 0.5301 - val_acc: 0.5509 - 169ms/epoch - 169ms/step\n",
            "Epoch 22/500\n",
            "1/1 - 0s - loss: 0.5349 - acc: 0.5519 - val_loss: 0.5299 - val_acc: 0.5637 - 172ms/epoch - 172ms/step\n",
            "Epoch 23/500\n",
            "1/1 - 0s - loss: 0.5369 - acc: 0.5468 - val_loss: 0.5274 - val_acc: 0.5788 - 171ms/epoch - 171ms/step\n",
            "Epoch 24/500\n",
            "1/1 - 0s - loss: 0.5307 - acc: 0.5781 - val_loss: 0.5248 - val_acc: 0.6073 - 174ms/epoch - 174ms/step\n",
            "Epoch 25/500\n",
            "1/1 - 0s - loss: 0.5286 - acc: 0.5925 - val_loss: 0.5239 - val_acc: 0.6329 - 167ms/epoch - 167ms/step\n",
            "Epoch 26/500\n",
            "1/1 - 0s - loss: 0.5277 - acc: 0.5912 - val_loss: 0.5247 - val_acc: 0.6643 - 170ms/epoch - 170ms/step\n",
            "Epoch 27/500\n",
            "1/1 - 0s - loss: 0.5279 - acc: 0.6209 - val_loss: 0.5240 - val_acc: 0.6825 - 166ms/epoch - 166ms/step\n",
            "Epoch 28/500\n",
            "1/1 - 0s - loss: 0.5274 - acc: 0.6319 - val_loss: 0.5219 - val_acc: 0.6880 - 164ms/epoch - 164ms/step\n",
            "Epoch 29/500\n",
            "1/1 - 0s - loss: 0.5240 - acc: 0.6218 - val_loss: 0.5215 - val_acc: 0.6928 - 167ms/epoch - 167ms/step\n",
            "Epoch 30/500\n",
            "1/1 - 0s - loss: 0.5246 - acc: 0.6206 - val_loss: 0.5213 - val_acc: 0.7015 - 175ms/epoch - 175ms/step\n",
            "Epoch 31/500\n",
            "1/1 - 0s - loss: 0.5246 - acc: 0.6291 - val_loss: 0.5211 - val_acc: 0.7168 - 172ms/epoch - 172ms/step\n",
            "Epoch 32/500\n",
            "1/1 - 0s - loss: 0.5247 - acc: 0.6620 - val_loss: 0.5210 - val_acc: 0.7127 - 164ms/epoch - 164ms/step\n",
            "Epoch 33/500\n",
            "1/1 - 0s - loss: 0.5234 - acc: 0.6253 - val_loss: 0.5210 - val_acc: 0.7214 - 170ms/epoch - 170ms/step\n",
            "Epoch 34/500\n",
            "1/1 - 0s - loss: 0.5225 - acc: 0.6497 - val_loss: 0.5209 - val_acc: 0.7204 - 171ms/epoch - 171ms/step\n",
            "Epoch 35/500\n",
            "1/1 - 0s - loss: 0.5229 - acc: 0.6313 - val_loss: 0.5213 - val_acc: 0.7337 - 171ms/epoch - 171ms/step\n",
            "Epoch 36/500\n",
            "1/1 - 0s - loss: 0.5224 - acc: 0.6768 - val_loss: 0.5213 - val_acc: 0.7379 - 168ms/epoch - 168ms/step\n",
            "Epoch 37/500\n",
            "1/1 - 0s - loss: 0.5264 - acc: 0.6991 - val_loss: 0.5212 - val_acc: 0.7229 - 164ms/epoch - 164ms/step\n",
            "Epoch 38/500\n",
            "1/1 - 0s - loss: 0.5219 - acc: 0.6675 - val_loss: 0.5249 - val_acc: 0.6968 - 177ms/epoch - 177ms/step\n",
            "Epoch 39/500\n",
            "1/1 - 0s - loss: 0.5227 - acc: 0.6308 - val_loss: 0.5275 - val_acc: 0.6958 - 163ms/epoch - 163ms/step\n",
            "Epoch 40/500\n",
            "1/1 - 0s - loss: 0.5287 - acc: 0.6176 - val_loss: 0.5234 - val_acc: 0.7216 - 164ms/epoch - 164ms/step\n",
            "Epoch 41/500\n",
            "1/1 - 0s - loss: 0.5231 - acc: 0.6482 - val_loss: 0.5209 - val_acc: 0.7548 - 180ms/epoch - 180ms/step\n",
            "Epoch 42/500\n",
            "1/1 - 0s - loss: 0.5206 - acc: 0.6950 - val_loss: 0.5233 - val_acc: 0.7816 - 174ms/epoch - 174ms/step\n",
            "Epoch 43/500\n",
            "1/1 - 0s - loss: 0.5217 - acc: 0.7326 - val_loss: 0.5267 - val_acc: 0.7927 - 167ms/epoch - 167ms/step\n",
            "Epoch 44/500\n",
            "1/1 - 0s - loss: 0.5316 - acc: 0.7592 - val_loss: 0.5246 - val_acc: 0.7881 - 163ms/epoch - 163ms/step\n",
            "Epoch 45/500\n",
            "1/1 - 0s - loss: 0.5216 - acc: 0.7378 - val_loss: 0.5219 - val_acc: 0.7795 - 168ms/epoch - 168ms/step\n",
            "Epoch 46/500\n",
            "1/1 - 0s - loss: 0.5228 - acc: 0.7449 - val_loss: 0.5215 - val_acc: 0.7633 - 176ms/epoch - 176ms/step\n",
            "Epoch 47/500\n",
            "1/1 - 0s - loss: 0.5199 - acc: 0.7145 - val_loss: 0.5244 - val_acc: 0.7461 - 171ms/epoch - 171ms/step\n",
            "Epoch 48/500\n",
            "1/1 - 0s - loss: 0.5263 - acc: 0.6721 - val_loss: 0.5239 - val_acc: 0.7470 - 173ms/epoch - 173ms/step\n",
            "Epoch 49/500\n",
            "1/1 - 0s - loss: 0.5236 - acc: 0.6876 - val_loss: 0.5214 - val_acc: 0.7656 - 167ms/epoch - 167ms/step\n",
            "Epoch 50/500\n",
            "1/1 - 0s - loss: 0.5228 - acc: 0.6988 - val_loss: 0.5222 - val_acc: 0.7840 - 169ms/epoch - 169ms/step\n",
            "Epoch 51/500\n",
            "1/1 - 0s - loss: 0.5207 - acc: 0.7468 - val_loss: 0.5254 - val_acc: 0.7965 - 176ms/epoch - 176ms/step\n",
            "Epoch 52/500\n",
            "1/1 - 0s - loss: 0.5205 - acc: 0.7476 - val_loss: 0.5272 - val_acc: 0.7988 - 173ms/epoch - 173ms/step\n",
            "Epoch 53/500\n",
            "1/1 - 0s - loss: 0.5271 - acc: 0.7707 - val_loss: 0.5246 - val_acc: 0.7933 - 162ms/epoch - 162ms/step\n",
            "Epoch 54/500\n",
            "1/1 - 0s - loss: 0.5193 - acc: 0.7407 - val_loss: 0.5222 - val_acc: 0.7841 - 175ms/epoch - 175ms/step\n",
            "Epoch 55/500\n",
            "1/1 - 0s - loss: 0.5235 - acc: 0.7631 - val_loss: 0.5214 - val_acc: 0.7699 - 169ms/epoch - 169ms/step\n",
            "Epoch 56/500\n",
            "1/1 - 0s - loss: 0.5180 - acc: 0.7128 - val_loss: 0.5246 - val_acc: 0.7507 - 174ms/epoch - 174ms/step\n",
            "Epoch 57/500\n",
            "1/1 - 0s - loss: 0.5273 - acc: 0.6932 - val_loss: 0.5239 - val_acc: 0.7557 - 254ms/epoch - 254ms/step\n",
            "Epoch 58/500\n",
            "1/1 - 0s - loss: 0.5195 - acc: 0.7169 - val_loss: 0.5222 - val_acc: 0.7633 - 182ms/epoch - 182ms/step\n",
            "Epoch 59/500\n",
            "1/1 - 0s - loss: 0.5184 - acc: 0.7187 - val_loss: 0.5214 - val_acc: 0.7700 - 176ms/epoch - 176ms/step\n",
            "Epoch 60/500\n",
            "1/1 - 0s - loss: 0.5224 - acc: 0.7152 - val_loss: 0.5220 - val_acc: 0.7819 - 192ms/epoch - 192ms/step\n",
            "Epoch 61/500\n",
            "1/1 - 0s - loss: 0.5188 - acc: 0.7473 - val_loss: 0.5242 - val_acc: 0.7930 - 270ms/epoch - 270ms/step\n",
            "Epoch 62/500\n",
            "1/1 - 0s - loss: 0.5225 - acc: 0.7652 - val_loss: 0.5242 - val_acc: 0.7926 - 281ms/epoch - 281ms/step\n",
            "Epoch 63/500\n",
            "1/1 - 0s - loss: 0.5246 - acc: 0.7592 - val_loss: 0.5217 - val_acc: 0.7788 - 265ms/epoch - 265ms/step\n",
            "Epoch 64/500\n",
            "1/1 - 0s - loss: 0.5183 - acc: 0.7435 - val_loss: 0.5218 - val_acc: 0.7655 - 295ms/epoch - 295ms/step\n",
            "Epoch 65/500\n",
            "1/1 - 0s - loss: 0.5180 - acc: 0.7272 - val_loss: 0.5254 - val_acc: 0.7497 - 265ms/epoch - 265ms/step\n",
            "Epoch 66/500\n",
            "1/1 - 0s - loss: 0.5227 - acc: 0.6988 - val_loss: 0.5259 - val_acc: 0.7482 - 278ms/epoch - 278ms/step\n",
            "Epoch 67/500\n",
            "1/1 - 0s - loss: 0.5237 - acc: 0.6821 - val_loss: 0.5227 - val_acc: 0.7575 - 278ms/epoch - 278ms/step\n",
            "Epoch 68/500\n",
            "1/1 - 0s - loss: 0.5250 - acc: 0.6892 - val_loss: 0.5226 - val_acc: 0.7827 - 270ms/epoch - 270ms/step\n",
            "Epoch 69/500\n",
            "1/1 - 0s - loss: 0.5175 - acc: 0.7407 - val_loss: 0.5285 - val_acc: 0.7968 - 257ms/epoch - 257ms/step\n",
            "Epoch 70/500\n",
            "1/1 - 0s - loss: 0.5196 - acc: 0.7532 - val_loss: 0.5334 - val_acc: 0.8011 - 173ms/epoch - 173ms/step\n",
            "Epoch 71/500\n",
            "1/1 - 0s - loss: 0.5337 - acc: 0.7820 - val_loss: 0.5293 - val_acc: 0.7968 - 166ms/epoch - 166ms/step\n",
            "Epoch 72/500\n",
            "1/1 - 0s - loss: 0.5296 - acc: 0.7825 - val_loss: 0.5223 - val_acc: 0.7778 - 189ms/epoch - 189ms/step\n",
            "Epoch 73/500\n",
            "1/1 - 0s - loss: 0.5195 - acc: 0.7474 - val_loss: 0.5238 - val_acc: 0.7494 - 171ms/epoch - 171ms/step\n",
            "Epoch 74/500\n",
            "1/1 - 0s - loss: 0.5185 - acc: 0.7048 - val_loss: 0.5317 - val_acc: 0.7279 - 169ms/epoch - 169ms/step\n",
            "Epoch 75/500\n",
            "1/1 - 0s - loss: 0.5317 - acc: 0.6714 - val_loss: 0.5297 - val_acc: 0.7304 - 176ms/epoch - 176ms/step\n",
            "Epoch 76/500\n",
            "1/1 - 0s - loss: 0.5199 - acc: 0.6889 - val_loss: 0.5247 - val_acc: 0.7431 - 172ms/epoch - 172ms/step\n",
            "Epoch 77/500\n",
            "1/1 - 0s - loss: 0.5285 - acc: 0.6816 - val_loss: 0.5218 - val_acc: 0.7743 - 173ms/epoch - 173ms/step\n",
            "Epoch 78/500\n",
            "1/1 - 0s - loss: 0.5168 - acc: 0.7278 - val_loss: 0.5274 - val_acc: 0.7923 - 179ms/epoch - 179ms/step\n",
            "Epoch 79/500\n",
            "1/1 - 0s - loss: 0.5299 - acc: 0.7691 - val_loss: 0.5296 - val_acc: 0.7963 - 171ms/epoch - 171ms/step\n",
            "Epoch 80/500\n",
            "1/1 - 0s - loss: 0.5244 - acc: 0.7697 - val_loss: 0.5266 - val_acc: 0.7902 - 174ms/epoch - 174ms/step\n",
            "Epoch 81/500\n",
            "1/1 - 0s - loss: 0.5209 - acc: 0.7622 - val_loss: 0.5224 - val_acc: 0.7769 - 169ms/epoch - 169ms/step\n",
            "Epoch 82/500\n",
            "1/1 - 0s - loss: 0.5175 - acc: 0.7278 - val_loss: 0.5216 - val_acc: 0.7597 - 179ms/epoch - 179ms/step\n",
            "Epoch 83/500\n",
            "1/1 - 0s - loss: 0.5195 - acc: 0.6996 - val_loss: 0.5224 - val_acc: 0.7516 - 169ms/epoch - 169ms/step\n",
            "Epoch 84/500\n",
            "1/1 - 0s - loss: 0.5185 - acc: 0.7052 - val_loss: 0.5226 - val_acc: 0.7510 - 177ms/epoch - 177ms/step\n",
            "Epoch 85/500\n",
            "1/1 - 0s - loss: 0.5160 - acc: 0.7190 - val_loss: 0.5228 - val_acc: 0.7493 - 162ms/epoch - 162ms/step\n",
            "Epoch 86/500\n",
            "1/1 - 0s - loss: 0.5174 - acc: 0.7320 - val_loss: 0.5238 - val_acc: 0.7460 - 172ms/epoch - 172ms/step\n",
            "Epoch 87/500\n",
            "1/1 - 0s - loss: 0.5159 - acc: 0.7086 - val_loss: 0.5244 - val_acc: 0.7447 - 173ms/epoch - 173ms/step\n",
            "Epoch 88/500\n",
            "1/1 - 0s - loss: 0.5185 - acc: 0.7040 - val_loss: 0.5230 - val_acc: 0.7514 - 170ms/epoch - 170ms/step\n",
            "Epoch 89/500\n",
            "1/1 - 0s - loss: 0.5176 - acc: 0.6957 - val_loss: 0.5217 - val_acc: 0.7630 - 170ms/epoch - 170ms/step\n",
            "Epoch 90/500\n",
            "1/1 - 0s - loss: 0.5178 - acc: 0.7360 - val_loss: 0.5218 - val_acc: 0.7716 - 171ms/epoch - 171ms/step\n",
            "Epoch 91/500\n",
            "1/1 - 0s - loss: 0.5176 - acc: 0.7222 - val_loss: 0.5230 - val_acc: 0.7796 - 170ms/epoch - 170ms/step\n",
            "Epoch 92/500\n",
            "1/1 - 0s - loss: 0.5231 - acc: 0.7597 - val_loss: 0.5225 - val_acc: 0.7754 - 178ms/epoch - 178ms/step\n",
            "Epoch 93/500\n",
            "1/1 - 0s - loss: 0.5191 - acc: 0.7498 - val_loss: 0.5218 - val_acc: 0.7641 - 169ms/epoch - 169ms/step\n",
            "Epoch 94/500\n",
            "1/1 - 0s - loss: 0.5159 - acc: 0.7288 - val_loss: 0.5230 - val_acc: 0.7527 - 174ms/epoch - 174ms/step\n",
            "Epoch 95/500\n",
            "1/1 - 0s - loss: 0.5176 - acc: 0.7080 - val_loss: 0.5236 - val_acc: 0.7515 - 165ms/epoch - 165ms/step\n",
            "Epoch 96/500\n",
            "1/1 - 0s - loss: 0.5184 - acc: 0.7016 - val_loss: 0.5225 - val_acc: 0.7581 - 187ms/epoch - 187ms/step\n",
            "Epoch 97/500\n",
            "1/1 - 0s - loss: 0.5174 - acc: 0.7293 - val_loss: 0.5223 - val_acc: 0.7598 - 167ms/epoch - 167ms/step\n",
            "Epoch 98/500\n",
            "1/1 - 0s - loss: 0.5163 - acc: 0.7366 - val_loss: 0.5224 - val_acc: 0.7594 - 164ms/epoch - 164ms/step\n",
            "Epoch 99/500\n",
            "1/1 - 0s - loss: 0.5161 - acc: 0.7407 - val_loss: 0.5231 - val_acc: 0.7543 - 175ms/epoch - 175ms/step\n",
            "Epoch 100/500\n",
            "1/1 - 0s - loss: 0.5155 - acc: 0.7115 - val_loss: 0.5232 - val_acc: 0.7535 - 179ms/epoch - 179ms/step\n",
            "Epoch 101/500\n",
            "1/1 - 0s - loss: 0.5169 - acc: 0.7347 - val_loss: 0.5243 - val_acc: 0.7505 - 197ms/epoch - 197ms/step\n",
            "Epoch 102/500\n",
            "1/1 - 0s - loss: 0.5156 - acc: 0.7379 - val_loss: 0.5269 - val_acc: 0.7402 - 170ms/epoch - 170ms/step\n",
            "Epoch 103/500\n",
            "1/1 - 0s - loss: 0.5159 - acc: 0.7077 - val_loss: 0.5288 - val_acc: 0.7345 - 175ms/epoch - 175ms/step\n",
            "Epoch 104/500\n",
            "1/1 - 0s - loss: 0.5174 - acc: 0.6967 - val_loss: 0.5267 - val_acc: 0.7437 - 261ms/epoch - 261ms/step\n",
            "Epoch 105/500\n",
            "1/1 - 0s - loss: 0.5199 - acc: 0.7011 - val_loss: 0.5227 - val_acc: 0.7626 - 167ms/epoch - 167ms/step\n",
            "Epoch 106/500\n",
            "1/1 - 0s - loss: 0.5151 - acc: 0.7357 - val_loss: 0.5231 - val_acc: 0.7784 - 167ms/epoch - 167ms/step\n",
            "Epoch 107/500\n",
            "1/1 - 0s - loss: 0.5168 - acc: 0.7209 - val_loss: 0.5281 - val_acc: 0.7947 - 167ms/epoch - 167ms/step\n",
            "Epoch 108/500\n",
            "1/1 - 0s - loss: 0.5295 - acc: 0.7813 - val_loss: 0.5267 - val_acc: 0.7912 - 177ms/epoch - 177ms/step\n",
            "Epoch 109/500\n",
            "1/1 - 0s - loss: 0.5187 - acc: 0.7526 - val_loss: 0.5234 - val_acc: 0.7825 - 172ms/epoch - 172ms/step\n",
            "Epoch 110/500\n",
            "1/1 - 0s - loss: 0.5241 - acc: 0.7690 - val_loss: 0.5238 - val_acc: 0.7518 - 163ms/epoch - 163ms/step\n",
            "Epoch 111/500\n",
            "1/1 - 0s - loss: 0.5164 - acc: 0.7178 - val_loss: 0.5304 - val_acc: 0.7301 - 167ms/epoch - 167ms/step\n",
            "Epoch 112/500\n",
            "1/1 - 0s - loss: 0.5241 - acc: 0.6651 - val_loss: 0.5292 - val_acc: 0.7330 - 175ms/epoch - 175ms/step\n",
            "Epoch 113/500\n",
            "1/1 - 0s - loss: 0.5223 - acc: 0.6881 - val_loss: 0.5232 - val_acc: 0.7534 - 165ms/epoch - 165ms/step\n",
            "Epoch 114/500\n",
            "1/1 - 0s - loss: 0.5147 - acc: 0.7241 - val_loss: 0.5218 - val_acc: 0.7705 - 176ms/epoch - 176ms/step\n",
            "Epoch 115/500\n",
            "1/1 - 0s - loss: 0.5162 - acc: 0.7366 - val_loss: 0.5225 - val_acc: 0.7821 - 167ms/epoch - 167ms/step\n",
            "Epoch 116/500\n",
            "1/1 - 0s - loss: 0.5209 - acc: 0.7600 - val_loss: 0.5220 - val_acc: 0.7772 - 172ms/epoch - 172ms/step\n",
            "Epoch 117/500\n",
            "1/1 - 0s - loss: 0.5162 - acc: 0.7486 - val_loss: 0.5218 - val_acc: 0.7675 - 189ms/epoch - 189ms/step\n",
            "Epoch 118/500\n",
            "1/1 - 0s - loss: 0.5159 - acc: 0.7300 - val_loss: 0.5231 - val_acc: 0.7531 - 183ms/epoch - 183ms/step\n",
            "Epoch 119/500\n",
            "1/1 - 0s - loss: 0.5152 - acc: 0.7319 - val_loss: 0.5272 - val_acc: 0.7390 - 171ms/epoch - 171ms/step\n",
            "Epoch 120/500\n",
            "1/1 - 0s - loss: 0.5211 - acc: 0.6860 - val_loss: 0.5266 - val_acc: 0.7404 - 169ms/epoch - 169ms/step\n",
            "Epoch 121/500\n",
            "1/1 - 0s - loss: 0.5173 - acc: 0.7005 - val_loss: 0.5237 - val_acc: 0.7518 - 168ms/epoch - 168ms/step\n",
            "Epoch 122/500\n",
            "1/1 - 0s - loss: 0.5243 - acc: 0.6888 - val_loss: 0.5225 - val_acc: 0.7837 - 188ms/epoch - 188ms/step\n",
            "Epoch 123/500\n",
            "1/1 - 0s - loss: 0.5219 - acc: 0.7674 - val_loss: 0.5246 - val_acc: 0.7918 - 174ms/epoch - 174ms/step\n",
            "Epoch 124/500\n",
            "1/1 - 0s - loss: 0.5157 - acc: 0.7521 - val_loss: 0.5256 - val_acc: 0.7930 - 175ms/epoch - 175ms/step\n",
            "Epoch 125/500\n",
            "1/1 - 0s - loss: 0.5169 - acc: 0.7551 - val_loss: 0.5246 - val_acc: 0.7914 - 170ms/epoch - 170ms/step\n",
            "Epoch 126/500\n",
            "1/1 - 0s - loss: 0.5178 - acc: 0.7697 - val_loss: 0.5224 - val_acc: 0.7794 - 169ms/epoch - 169ms/step\n",
            "Epoch 127/500\n",
            "1/1 - 0s - loss: 0.5174 - acc: 0.7508 - val_loss: 0.5233 - val_acc: 0.7560 - 174ms/epoch - 174ms/step\n",
            "Epoch 128/500\n",
            "1/1 - 0s - loss: 0.5149 - acc: 0.7213 - val_loss: 0.5289 - val_acc: 0.7404 - 163ms/epoch - 163ms/step\n",
            "Epoch 129/500\n",
            "1/1 - 0s - loss: 0.5178 - acc: 0.6900 - val_loss: 0.5313 - val_acc: 0.7354 - 191ms/epoch - 191ms/step\n",
            "Epoch 130/500\n",
            "1/1 - 0s - loss: 0.5228 - acc: 0.6898 - val_loss: 0.5264 - val_acc: 0.7453 - 167ms/epoch - 167ms/step\n",
            "Epoch 131/500\n",
            "1/1 - 0s - loss: 0.5139 - acc: 0.7359 - val_loss: 0.5242 - val_acc: 0.7535 - 169ms/epoch - 169ms/step\n",
            "Epoch 132/500\n",
            "1/1 - 0s - loss: 0.5155 - acc: 0.7416 - val_loss: 0.5233 - val_acc: 0.7602 - 179ms/epoch - 179ms/step\n",
            "Epoch 133/500\n",
            "1/1 - 0s - loss: 0.5154 - acc: 0.7266 - val_loss: 0.5226 - val_acc: 0.7692 - 183ms/epoch - 183ms/step\n",
            "Epoch 134/500\n",
            "1/1 - 0s - loss: 0.5144 - acc: 0.7389 - val_loss: 0.5227 - val_acc: 0.7741 - 174ms/epoch - 174ms/step\n",
            "Epoch 135/500\n",
            "1/1 - 0s - loss: 0.5181 - acc: 0.7682 - val_loss: 0.5228 - val_acc: 0.7685 - 172ms/epoch - 172ms/step\n",
            "Epoch 136/500\n",
            "1/1 - 0s - loss: 0.5142 - acc: 0.7527 - val_loss: 0.5235 - val_acc: 0.7621 - 173ms/epoch - 173ms/step\n",
            "Epoch 137/500\n",
            "1/1 - 0s - loss: 0.5138 - acc: 0.7197 - val_loss: 0.5242 - val_acc: 0.7540 - 166ms/epoch - 166ms/step\n",
            "Epoch 138/500\n",
            "1/1 - 0s - loss: 0.5141 - acc: 0.7285 - val_loss: 0.5247 - val_acc: 0.7507 - 172ms/epoch - 172ms/step\n",
            "Epoch 139/500\n",
            "1/1 - 0s - loss: 0.5169 - acc: 0.7077 - val_loss: 0.5235 - val_acc: 0.7633 - 175ms/epoch - 175ms/step\n",
            "Epoch 140/500\n",
            "1/1 - 0s - loss: 0.5145 - acc: 0.7350 - val_loss: 0.5234 - val_acc: 0.7658 - 183ms/epoch - 183ms/step\n",
            "Epoch 141/500\n",
            "1/1 - 0s - loss: 0.5134 - acc: 0.7339 - val_loss: 0.5236 - val_acc: 0.7667 - 171ms/epoch - 171ms/step\n",
            "Epoch 142/500\n",
            "1/1 - 0s - loss: 0.5134 - acc: 0.7189 - val_loss: 0.5234 - val_acc: 0.7689 - 174ms/epoch - 174ms/step\n",
            "Epoch 143/500\n",
            "1/1 - 0s - loss: 0.5138 - acc: 0.7467 - val_loss: 0.5236 - val_acc: 0.7685 - 173ms/epoch - 173ms/step\n",
            "Epoch 144/500\n",
            "1/1 - 0s - loss: 0.5155 - acc: 0.7234 - val_loss: 0.5234 - val_acc: 0.7742 - 177ms/epoch - 177ms/step\n",
            "Epoch 145/500\n",
            "1/1 - 0s - loss: 0.5193 - acc: 0.7496 - val_loss: 0.5236 - val_acc: 0.7695 - 165ms/epoch - 165ms/step\n",
            "Epoch 146/500\n",
            "1/1 - 0s - loss: 0.5138 - acc: 0.7433 - val_loss: 0.5245 - val_acc: 0.7643 - 176ms/epoch - 176ms/step\n",
            "Epoch 147/500\n",
            "1/1 - 0s - loss: 0.5128 - acc: 0.7225 - val_loss: 0.5254 - val_acc: 0.7572 - 171ms/epoch - 171ms/step\n",
            "Epoch 148/500\n",
            "1/1 - 0s - loss: 0.5140 - acc: 0.7426 - val_loss: 0.5277 - val_acc: 0.7453 - 180ms/epoch - 180ms/step\n",
            "Epoch 149/500\n",
            "1/1 - 0s - loss: 0.5130 - acc: 0.7190 - val_loss: 0.5294 - val_acc: 0.7414 - 171ms/epoch - 171ms/step\n",
            "Epoch 150/500\n",
            "1/1 - 0s - loss: 0.5129 - acc: 0.7218 - val_loss: 0.5314 - val_acc: 0.7354 - 176ms/epoch - 176ms/step\n",
            "Epoch 151/500\n",
            "1/1 - 0s - loss: 0.5144 - acc: 0.7058 - val_loss: 0.5296 - val_acc: 0.7382 - 168ms/epoch - 168ms/step\n",
            "Epoch 152/500\n",
            "1/1 - 0s - loss: 0.5171 - acc: 0.6953 - val_loss: 0.5248 - val_acc: 0.7606 - 170ms/epoch - 170ms/step\n",
            "Epoch 153/500\n",
            "1/1 - 0s - loss: 0.5136 - acc: 0.7350 - val_loss: 0.5236 - val_acc: 0.7699 - 175ms/epoch - 175ms/step\n",
            "Epoch 154/500\n",
            "1/1 - 0s - loss: 0.5149 - acc: 0.7136 - val_loss: 0.5237 - val_acc: 0.7816 - 171ms/epoch - 171ms/step\n",
            "Epoch 155/500\n",
            "1/1 - 0s - loss: 0.5146 - acc: 0.7457 - val_loss: 0.5257 - val_acc: 0.7915 - 166ms/epoch - 166ms/step\n",
            "Epoch 156/500\n",
            "1/1 - 0s - loss: 0.5168 - acc: 0.7661 - val_loss: 0.5259 - val_acc: 0.7922 - 176ms/epoch - 176ms/step\n",
            "Epoch 157/500\n",
            "1/1 - 0s - loss: 0.5210 - acc: 0.7776 - val_loss: 0.5234 - val_acc: 0.7796 - 166ms/epoch - 166ms/step\n",
            "Epoch 158/500\n",
            "1/1 - 0s - loss: 0.5136 - acc: 0.7467 - val_loss: 0.5240 - val_acc: 0.7654 - 169ms/epoch - 169ms/step\n",
            "Epoch 159/500\n",
            "1/1 - 0s - loss: 0.5129 - acc: 0.7209 - val_loss: 0.5268 - val_acc: 0.7482 - 172ms/epoch - 172ms/step\n",
            "Epoch 160/500\n",
            "1/1 - 0s - loss: 0.5126 - acc: 0.7263 - val_loss: 0.5319 - val_acc: 0.7333 - 176ms/epoch - 176ms/step\n",
            "Epoch 161/500\n",
            "1/1 - 0s - loss: 0.5181 - acc: 0.7014 - val_loss: 0.5303 - val_acc: 0.7361 - 168ms/epoch - 168ms/step\n",
            "Epoch 162/500\n",
            "1/1 - 0s - loss: 0.5193 - acc: 0.6854 - val_loss: 0.5242 - val_acc: 0.7608 - 170ms/epoch - 170ms/step\n",
            "Epoch 163/500\n",
            "1/1 - 0s - loss: 0.5137 - acc: 0.7244 - val_loss: 0.5233 - val_acc: 0.7803 - 165ms/epoch - 165ms/step\n",
            "Epoch 164/500\n",
            "1/1 - 0s - loss: 0.5148 - acc: 0.7618 - val_loss: 0.5245 - val_acc: 0.7865 - 177ms/epoch - 177ms/step\n",
            "Epoch 165/500\n",
            "1/1 - 0s - loss: 0.5169 - acc: 0.7565 - val_loss: 0.5241 - val_acc: 0.7840 - 174ms/epoch - 174ms/step\n",
            "Epoch 166/500\n",
            "1/1 - 0s - loss: 0.5141 - acc: 0.7510 - val_loss: 0.5233 - val_acc: 0.7786 - 173ms/epoch - 173ms/step\n",
            "Epoch 167/500\n",
            "1/1 - 0s - loss: 0.5131 - acc: 0.7567 - val_loss: 0.5237 - val_acc: 0.7617 - 168ms/epoch - 168ms/step\n",
            "Epoch 168/500\n",
            "1/1 - 0s - loss: 0.5159 - acc: 0.7540 - val_loss: 0.5303 - val_acc: 0.7374 - 169ms/epoch - 169ms/step\n",
            "Epoch 169/500\n",
            "1/1 - 0s - loss: 0.5139 - acc: 0.7064 - val_loss: 0.5375 - val_acc: 0.7251 - 174ms/epoch - 174ms/step\n",
            "Epoch 170/500\n",
            "1/1 - 0s - loss: 0.5120 - acc: 0.7048 - val_loss: 0.5431 - val_acc: 0.7168 - 171ms/epoch - 171ms/step\n"
          ]
        }
      ],
      "source": [
        "epochs = 500\n",
        "history = model.fit(train_flow, epochs=epochs, validation_data=test_flow, verbose = 2, shuffle =False, callbacks=[es_callback],)"
      ]
    },
    {
      "cell_type": "code",
      "execution_count": null,
      "metadata": {
        "colab": {
          "base_uri": "https://localhost:8080/"
        },
        "id": "Eep8W_G7MMRE",
        "outputId": "657f51a6-a81e-435d-c775-857491e040a0"
      },
      "outputs": [
        {
          "name": "stdout",
          "output_type": "stream",
          "text": [
            "1/1 [==============================] - 0s 89ms/step - loss: 0.5299 - acc: 0.8001\n",
            "1/1 [==============================] - 0s 82ms/step - loss: 0.5334 - acc: 0.8011\n",
            "\n",
            "Train Set Metrics of the trained model:\n",
            "\tloss: 0.5299\n",
            "\tacc: 0.8001\n",
            "\n",
            "Test Set Metrics of the trained model:\n",
            "\tloss: 0.5334\n",
            "\tacc: 0.8011\n"
          ]
        }
      ],
      "source": [
        "train_metrics = model.evaluate(train_flow)\n",
        "test_metrics = model.evaluate(test_flow)\n",
        "\n",
        "print(\"\\nTrain Set Metrics of the trained model:\")\n",
        "for name, val in zip(model.metrics_names, train_metrics):\n",
        "    print(\"\\t{}: {:0.4f}\".format(name, val))\n",
        "\n",
        "print(\"\\nTest Set Metrics of the trained model:\")\n",
        "for name, val in zip(model.metrics_names, test_metrics):\n",
        "    print(\"\\t{}: {:0.4f}\".format(name, val))"
      ]
    },
    {
      "cell_type": "code",
      "execution_count": null,
      "metadata": {
        "colab": {
          "base_uri": "https://localhost:8080/"
        },
        "id": "ceFRRDPjt2EW",
        "outputId": "dd4bc1e7-259a-4b0f-d6e6-c50f38e46512"
      },
      "outputs": [
        {
          "name": "stdout",
          "output_type": "stream",
          "text": [
            "1/1 [==============================] - 0s 218ms/step\n"
          ]
        }
      ],
      "source": [
        "test_predictions = np.round(model.predict(test_flow)).flatten()"
      ]
    },
    {
      "cell_type": "code",
      "execution_count": null,
      "metadata": {
        "colab": {
          "base_uri": "https://localhost:8080/"
        },
        "id": "S7w8BTAmw5jd",
        "outputId": "f1d325c5-546e-4db8-dab3-c0848164874c"
      },
      "outputs": [
        {
          "name": "stdout",
          "output_type": "stream",
          "text": [
            "[[2839  950]\n",
            " [ 557 3232]]\n",
            "              precision    recall  f1-score   support\n",
            "\n",
            "           0     0.8360    0.7493    0.7903      3789\n",
            "           1     0.7728    0.8530    0.8109      3789\n",
            "\n",
            "    accuracy                         0.8011      7578\n",
            "   macro avg     0.8044    0.8011    0.8006      7578\n",
            "weighted avg     0.8044    0.8011    0.8006      7578\n",
            "\n"
          ]
        }
      ],
      "source": [
        "print(confusion_matrix(labels_test, test_predictions))\n",
        "print(classification_report(labels_test, test_predictions, digits=4))"
      ]
    },
    {
      "cell_type": "markdown",
      "metadata": {
        "id": "0eF73gE2omPs"
      },
      "source": [
        "# 6. GraphSAGE"
      ]
    },
    {
      "cell_type": "code",
      "execution_count": null,
      "metadata": {
        "id": "K2Y-5zU7ooY7"
      },
      "outputs": [],
      "source": [
        "from stellargraph.mapper import GraphSAGELinkGenerator\n",
        "\n",
        "batch_size = 32\n",
        "num_samples = [20, 10]\n",
        "\n",
        "sg_graph_train = StellarGraph.from_networkx(graph_train, node_features=\"fake\")\n",
        "sg_graph_test = StellarGraph.from_networkx(graph_test, node_features=\"fake\")\n",
        "\n",
        "train_gen = GraphSAGELinkGenerator(sg_graph_train, batch_size, num_samples)\n",
        "train_flow = train_gen.flow(samples_train, labels_train, shuffle=True, seed=24)\n",
        "\n",
        "test_gen = GraphSAGELinkGenerator(sg_graph_test, batch_size, num_samples)\n",
        "test_flow = test_gen.flow(samples_test, labels_test, seed=24)"
      ]
    },
    {
      "cell_type": "code",
      "execution_count": null,
      "metadata": {
        "colab": {
          "base_uri": "https://localhost:8080/"
        },
        "id": "dg9XiCvgooek",
        "outputId": "5d2dc090-efae-4f93-beb3-16ebe34600b3"
      },
      "outputs": [
        {
          "name": "stdout",
          "output_type": "stream",
          "text": [
            "link_classification: using 'ip' method to combine node embeddings into edge embeddings\n"
          ]
        },
        {
          "name": "stderr",
          "output_type": "stream",
          "text": [
            "/usr/local/lib/python3.7/dist-packages/keras/optimizers/optimizer_v2/adam.py:110: UserWarning: The `lr` argument is deprecated, use `learning_rate` instead.\n",
            "  super(Adam, self).__init__(name, **kwargs)\n"
          ]
        }
      ],
      "source": [
        "from stellargraph.layer import GraphSAGE, link_classification\n",
        "from tensorflow import keras\n",
        "\n",
        "layer_sizes = [16, 16]\n",
        "graphsage = GraphSAGE(\n",
        "    layer_sizes=layer_sizes, generator=train_gen, bias=True, dropout=0.5\n",
        ")\n",
        "\n",
        "x_inp, x_out = graphsage.in_out_tensors()\n",
        "\n",
        "prediction = link_classification(\n",
        "    output_dim=1, output_act=\"sigmoid\", edge_embedding_method=\"ip\"\n",
        ")(x_out)\n",
        "\n",
        "model = keras.Model(inputs=x_inp, outputs=prediction)\n",
        "\n",
        "model.compile(\n",
        "    optimizer=keras.optimizers.Adam(lr=0.01),\n",
        "    loss=keras.losses.mse,\n",
        "    metrics=[\"acc\"],\n",
        ")"
      ]
    },
    {
      "cell_type": "code",
      "execution_count": null,
      "metadata": {
        "id": "tMOe6z6QprBX"
      },
      "outputs": [],
      "source": [
        "epochs = 30\n",
        "history = model.fit(train_flow, epochs=epochs, validation_data=test_flow)"
      ]
    },
    {
      "cell_type": "code",
      "execution_count": null,
      "metadata": {
        "colab": {
          "background_save": true
        },
        "id": "fJ4klHhyrkYg"
      },
      "outputs": [],
      "source": [
        "train_metrics = model.evaluate(train_flow)\n",
        "test_metrics = model.evaluate(test_flow)\n",
        "\n",
        "print(\"\\nTrain Set Metrics of the trained model:\")\n",
        "for name, val in zip(model.metrics_names, train_metrics):\n",
        "    print(\"\\t{}: {:0.4f}\".format(name, val))\n",
        "\n",
        "print(\"\\nTest Set Metrics of the trained model:\")\n",
        "for name, val in zip(model.metrics_names, test_metrics):\n",
        "    print(\"\\t{}: {:0.4f}\".format(name, val))"
      ]
    },
    {
      "cell_type": "code",
      "execution_count": null,
      "metadata": {
        "colab": {
          "background_save": true
        },
        "id": "jtIjIczMBkGf"
      },
      "outputs": [],
      "source": [
        "test_predictions = np.round(model.predict(test_flow)).flatten()"
      ]
    },
    {
      "cell_type": "code",
      "execution_count": null,
      "metadata": {
        "colab": {
          "background_save": true
        },
        "id": "92RUslkerkip"
      },
      "outputs": [],
      "source": [
        "print(confusion_matrix(labels_test, test_predictions))\n",
        "print(classification_report(labels_test, test_predictions, digits=4))"
      ]
    },
    {
      "cell_type": "code",
      "execution_count": null,
      "metadata": {
        "colab": {
          "background_save": true
        },
        "id": "4aLWAVrmrkow"
      },
      "outputs": [],
      "source": [
        "# with feature "
      ]
    },
    {
      "cell_type": "code",
      "execution_count": null,
      "metadata": {
        "colab": {
          "background_save": true
        },
        "id": "p-rGKKiiJGDi"
      },
      "outputs": [],
      "source": [
        "from stellargraph.mapper import FullBatchLinkGenerator\n",
        "feature_dict_train = dict(zip(graph_train_feature.index, graph_train_feature.values))\n",
        "feature_dict_test = dict(zip(graph_test_feature.index, graph_test_feature.values))\n",
        "nx.set_node_attributes(graph_train, feature_dict_train, \"feature1\")\n",
        "nx.set_node_attributes(graph_test, feature_dict_test, \"feature1\")"
      ]
    },
    {
      "cell_type": "code",
      "execution_count": null,
      "metadata": {
        "colab": {
          "background_save": true
        },
        "id": "yFy2N9qQrksJ"
      },
      "outputs": [],
      "source": [
        "from stellargraph.mapper import GraphSAGELinkGenerator\n",
        "\n",
        "batch_size = 32\n",
        "num_samples = [20, 10]\n",
        "\n",
        "sg_graph_train = StellarGraph.from_networkx(graph_train, node_features=\"feature1\")\n",
        "sg_graph_test = StellarGraph.from_networkx(graph_test, node_features=\"feature1\")\n",
        "\n",
        "train_gen = GraphSAGELinkGenerator(sg_graph_train, batch_size, num_samples)\n",
        "train_flow = train_gen.flow(samples_train, labels_train, shuffle=True, seed=24)\n",
        "\n",
        "test_gen = GraphSAGELinkGenerator(sg_graph_test, batch_size, num_samples)\n",
        "test_flow = test_gen.flow(samples_test, labels_test, seed=24)"
      ]
    },
    {
      "cell_type": "code",
      "execution_count": null,
      "metadata": {
        "colab": {
          "background_save": true
        },
        "id": "dbgb-eXsrkv9"
      },
      "outputs": [],
      "source": [
        "from stellargraph.layer import GraphSAGE, link_classification\n",
        "from tensorflow import keras\n",
        "\n",
        "layer_sizes = [16, 16]\n",
        "graphsage = GraphSAGE(\n",
        "    layer_sizes=layer_sizes, generator=train_gen, bias=True, dropout=0\n",
        ")\n",
        "\n",
        "x_inp, x_out = graphsage.in_out_tensors()\n",
        "\n",
        "prediction = link_classification(\n",
        "    output_dim=1, output_act=\"sigmoid\", edge_embedding_method=\"ip\"\n",
        ")(x_out)\n",
        "\n",
        "model = keras.Model(inputs=x_inp, outputs=prediction)\n",
        "\n",
        "model.compile(\n",
        "    optimizer=keras.optimizers.Adam(lr=0.01),\n",
        "    loss=keras.losses.mse,\n",
        "    metrics=[\"acc\"],\n",
        ")"
      ]
    },
    {
      "cell_type": "code",
      "execution_count": null,
      "metadata": {
        "colab": {
          "background_save": true
        },
        "id": "wR6bOOKmJSJh"
      },
      "outputs": [],
      "source": [
        "epochs = 30\n",
        "history = model.fit(train_flow, epochs=epochs, validation_data=test_flow)"
      ]
    },
    {
      "cell_type": "code",
      "execution_count": null,
      "metadata": {
        "colab": {
          "background_save": true
        },
        "id": "cIOAZTJBJVSm"
      },
      "outputs": [],
      "source": [
        "train_metrics = model.evaluate(train_flow)\n",
        "test_metrics = model.evaluate(test_flow)\n",
        "\n",
        "print(\"\\nTrain Set Metrics of the trained model:\")\n",
        "for name, val in zip(model.metrics_names, train_metrics):\n",
        "    print(\"\\t{}: {:0.4f}\".format(name, val))\n",
        "\n",
        "print(\"\\nTest Set Metrics of the trained model:\")\n",
        "for name, val in zip(model.metrics_names, test_metrics):\n",
        "    print(\"\\t{}: {:0.4f}\".format(name, val))"
      ]
    },
    {
      "cell_type": "code",
      "execution_count": null,
      "metadata": {
        "colab": {
          "background_save": true
        },
        "id": "cUqNl9L1JY1t"
      },
      "outputs": [],
      "source": [
        "test_predictions = np.round(model.predict(test_flow)).flatten()"
      ]
    },
    {
      "cell_type": "code",
      "execution_count": null,
      "metadata": {
        "colab": {
          "background_save": true
        },
        "id": "XppTVeafJZht"
      },
      "outputs": [],
      "source": [
        "print(confusion_matrix(labels_test, test_predictions))\n",
        "print(classification_report(labels_test, test_predictions, digits=4))"
      ]
    },
    {
      "cell_type": "markdown",
      "metadata": {
        "id": "PjDWAvpj0XYV"
      },
      "source": [
        "# 7. Additional features for GNN"
      ]
    },
    {
      "cell_type": "code",
      "execution_count": null,
      "metadata": {
        "colab": {
          "background_save": true
        },
        "id": "yTeWhW5R0Zrv"
      },
      "outputs": [],
      "source": [
        "graph_train_feature = pd.DataFrame(dict(\n",
        "    #DEGREE = dict(P.degree),\n",
        "    DEGREE_CENTRALITY = nx.degree_centrality(graph_train),\n",
        "    EIGENVECTOR = nx.eigenvector_centrality(graph_train),\n",
        "    #KATZ = nx.katz_centrality_numpy(P),\n",
        "    CLOSENESS_CENTRALITY = nx.closeness_centrality(graph_train),\n",
        "    BETWEENNESS_CENTRALITY = nx.betweenness_centrality(graph_train),\n",
        "    CLUSTCOEF = nx.clustering(graph_train),\n",
        ")) "
      ]
    },
    {
      "cell_type": "code",
      "execution_count": null,
      "metadata": {
        "colab": {
          "background_save": true
        },
        "id": "xbMccGA65rwZ"
      },
      "outputs": [],
      "source": [
        "graph_test_feature = pd.DataFrame(dict(\n",
        "    #DEGREE = dict(P.degree),\n",
        "    DEGREE_CENTRALITY = nx.degree_centrality(graph_test),\n",
        "    EIGENVECTOR = nx.eigenvector_centrality(graph_test),\n",
        "    #KATZ = nx.katz_centrality_numpy(P),\n",
        "    CLOSENESS_CENTRALITY = nx.closeness_centrality(graph_test),\n",
        "    BETWEENNESS_CENTRALITY = nx.betweenness_centrality(graph_test),\n",
        "    CLUSTCOEF = nx.clustering(graph_test),\n",
        ")) "
      ]
    },
    {
      "cell_type": "code",
      "execution_count": null,
      "metadata": {
        "colab": {
          "background_save": true
        },
        "id": "yJ7OC5eD3S_i"
      },
      "outputs": [],
      "source": [
        "from stellargraph.mapper import FullBatchLinkGenerator\n",
        "feature_dict_train = dict(zip(graph_train_feature.index, graph_train_feature.values))\n",
        "feature_dict_test = dict(zip(graph_test_feature.index, graph_test_feature.values))\n",
        "nx.set_node_attributes(graph_train, feature_dict_train, \"feature1\")\n",
        "nx.set_node_attributes(graph_test, feature_dict_test, \"feature1\")\n",
        "\n",
        "\n",
        "sg_graph_train = StellarGraph.from_networkx(graph_train, node_features=\"feature1\")\n",
        "sg_graph_test = StellarGraph.from_networkx(graph_test, node_features=\"feature1\")\n",
        "train_gen = FullBatchLinkGenerator(sg_graph_train,method=\"gcn\")\n",
        "train_flow = train_gen.flow(samples_train, labels_train)\n",
        "\n",
        "test_gen = FullBatchLinkGenerator(sg_graph_test, method=\"gcn\")\n",
        "test_flow = test_gen.flow(samples_test, labels_test)"
      ]
    },
    {
      "cell_type": "code",
      "execution_count": null,
      "metadata": {
        "colab": {
          "background_save": true
        },
        "id": "3XQ17GfR5JnI"
      },
      "outputs": [],
      "source": [
        "from stellargraph.layer import GCN, LinkEmbedding\n",
        "import random\n",
        "RANDOM_SEED = 0\n",
        "random.seed(RANDOM_SEED)\n",
        "\n",
        "\n",
        "gcn = GCN(\n",
        "    layer_sizes=[64, 64], activations=[\"relu\", \"relu\"], generator=train_gen, dropout=0.5\n",
        ")\n",
        "\n",
        "\n",
        "x_inp, x_out = gcn.in_out_tensors()\n",
        "\n",
        "prediction = LinkEmbedding(activation=\"sigmoid\", method=\"ip\")(x_out)\n",
        "\n",
        "model = keras.Model(inputs=x_inp, outputs=prediction)\n",
        "\n",
        "model.compile(\n",
        "    optimizer=keras.optimizers.Adam(lr=0.05),\n",
        "    loss=keras.losses.binary_crossentropy,\n",
        "    metrics=[\"acc\"],\n",
        ")\n",
        "\n",
        "epochs = 500\n",
        "history = model.fit(train_flow, epochs=epochs, validation_data=test_flow, callbacks=[es_callback],)"
      ]
    },
    {
      "cell_type": "code",
      "execution_count": null,
      "metadata": {
        "colab": {
          "background_save": true
        },
        "id": "0kKqiExy5aCw"
      },
      "outputs": [],
      "source": [
        "train_metrics = model.evaluate(train_flow)\n",
        "test_metrics = model.evaluate(test_flow)\n",
        "\n",
        "print(\"\\nTrain Set Metrics of the trained model:\")\n",
        "for name, val in zip(model.metrics_names, train_metrics):\n",
        "    print(\"\\t{}: {:0.4f}\".format(name, val))\n",
        "\n",
        "print(\"\\nTest Set Metrics of the trained model:\")\n",
        "for name, val in zip(model.metrics_names, test_metrics):\n",
        "    print(\"\\t{}: {:0.4f}\".format(name, val))"
      ]
    },
    {
      "cell_type": "code",
      "execution_count": null,
      "metadata": {
        "colab": {
          "background_save": true
        },
        "id": "axtAuq3ei6ZM"
      },
      "outputs": [],
      "source": [
        "test_predictions = np.round(model.predict(test_flow)).flatten()\n",
        "print(confusion_matrix(labels_test, test_predictions))\n",
        "print(classification_report(labels_test, test_predictions, digits=4))"
      ]
    },
    {
      "cell_type": "code",
      "execution_count": null,
      "metadata": {
        "colab": {
          "background_save": true
        },
        "id": "CjA-_X0q7lcL"
      },
      "outputs": [],
      "source": [
        "embedding_model = keras.Model(inputs=x_inp, outputs=x_out)\n",
        "node_embeddings = embedding_model.predict(\n",
        "        train_gen.flow(list(zip(samples_train, samples_train)))\n",
        "    )\n",
        "#node_embeddings = node_embeddings[0][:, 0, :]"
      ]
    },
    {
      "cell_type": "code",
      "execution_count": null,
      "metadata": {
        "colab": {
          "background_save": true
        },
        "id": "xuR4NLk1_VxY"
      },
      "outputs": [],
      "source": [
        "node_embeddings2 = node_embeddings[0][:, 0,0, :]"
      ]
    },
    {
      "cell_type": "code",
      "execution_count": null,
      "metadata": {
        "colab": {
          "background_save": true
        },
        "id": "hWCyNg7U-Fs2"
      },
      "outputs": [],
      "source": [
        "node_embeddings.shape"
      ]
    },
    {
      "cell_type": "code",
      "execution_count": null,
      "metadata": {
        "colab": {
          "background_save": true
        },
        "id": "UtF7RJkC_Ogg"
      },
      "outputs": [],
      "source": [
        "node_embeddings2.shape"
      ]
    },
    {
      "cell_type": "code",
      "execution_count": null,
      "metadata": {
        "colab": {
          "background_save": true
        },
        "id": "qSJwVeKaABVn"
      },
      "outputs": [],
      "source": [
        "transform = TSNE"
      ]
    },
    {
      "cell_type": "code",
      "execution_count": null,
      "metadata": {
        "colab": {
          "background_save": true
        },
        "id": "18vTRrwX_epK"
      },
      "outputs": [],
      "source": [
        "pca = transform(n_components=2, random_state=42)\n",
        "weighted_node_embeddings_2d = pca.fit_transform(node_embeddings2)\n"
      ]
    },
    {
      "cell_type": "code",
      "execution_count": null,
      "metadata": {
        "colab": {
          "background_save": true
        },
        "id": "vSlGUy6YstJU"
      },
      "outputs": [],
      "source": [
        "import numpy as np\n",
        "groups = pd.DataFrame(weighted_node_embeddings_2d, columns=['x', 'y']).assign(category=labels_train)\n",
        "names = ['1', '0']\n",
        "\n",
        "fig, ax = plt.subplots(figsize=(7, 7))\n",
        "\n",
        "X_label1 = groups.query('category==1')\n",
        "X_label0= groups.query('category==0')\n",
        "ax.scatter(X_label0['x'], X_label0['y'],alpha=0.7,label=names[1], c='darkblue')\n",
        "ax.scatter(X_label1['x'], X_label1['y'],alpha=0.7,label=names[0],c='darkred')\n",
        "\n",
        "ax.set_xlabel('$X_1$',  fontsize=20)\n",
        "plt.xticks(fontsize=16)\n",
        "plt.yticks(fontsize=16)\n",
        "ax.set_ylabel('$X_2$', fontsize=20)\n",
        "ax.set_title('GCN with feature', fontsize=26)\n",
        "ax.legend()\n",
        "plt.savefig('gcn.png')"
      ]
    },
    {
      "cell_type": "markdown",
      "metadata": {
        "id": "9g_pySZaxsN9"
      },
      "source": [
        "# 8. Hand crafted method\n"
      ]
    },
    {
      "cell_type": "code",
      "execution_count": null,
      "metadata": {
        "id": "dR_PQK6dkYro"
      },
      "outputs": [],
      "source": [
        "from community import community_louvain\n",
        "\n",
        "def get_shortest_path(G,u,v):\n",
        "  \"\"\" return the shortest path length between u,v \n",
        "      in the graph without the edge (u,v) \"\"\"\n",
        "  removed = False\n",
        "  if G.has_edge(u,v):\n",
        "    removed = True\n",
        "    G.remove_edge(u,v) # temporary remove edge\n",
        "  \n",
        "  try:\n",
        "    sp = len(nx.shortest_path(G, u, v))\n",
        "  except:\n",
        "    sp = 0\n",
        "\n",
        "  if removed:\n",
        "    G.add_edge(u,v) # add back the edge if it was removed\n",
        "\n",
        "  return sp\n",
        "\n",
        "def get_hc_features(G, samples_edges, labels):\n",
        "  # precompute metrics\n",
        "  centralities = nx.degree_centrality(G)\n",
        "  parts = community_louvain.best_partition(G)\n",
        "  clust = nx.clustering(G)\n",
        "  \n",
        "  feats = []\n",
        "  for (u,v),l in zip(samples_edges, labels):\n",
        "    shortest_path = get_shortest_path(G, u, v)\n",
        "    j_coefficient = next(nx.jaccard_coefficient(G, ebunch=[(u, v)]))[-1]\n",
        "    u_centrality = centralities[u]\n",
        "    v_centrality = centralities[v]\n",
        "    u_clust = clust[u]\n",
        "    v_clust = clust[v]\n",
        "\n",
        "\n",
        "    # add the feature vector\n",
        "    feats += [[shortest_path, j_coefficient, u_centrality, v_centrality, u_clust, v_clust]]\n",
        "  return feats\n",
        "\n",
        "feat_train = get_hc_features(graph_train, samples_train, labels_train)\n",
        "feat_test = get_hc_features(graph_test, samples_test, labels_test)"
      ]
    },
    {
      "cell_type": "code",
      "execution_count": null,
      "metadata": {
        "colab": {
          "base_uri": "https://localhost:8080/"
        },
        "id": "rW4DN9yoA-N-",
        "outputId": "27707ac3-b30b-4aed-baab-86dca05b3edb"
      },
      "outputs": [
        {
          "name": "stderr",
          "output_type": "stream",
          "text": [
            "/usr/local/lib/python3.7/dist-packages/sklearn/manifold/_t_sne.py:783: FutureWarning: The default initialization in TSNE will change from 'random' to 'pca' in 1.2.\n",
            "  FutureWarning,\n",
            "/usr/local/lib/python3.7/dist-packages/sklearn/manifold/_t_sne.py:793: FutureWarning: The default learning rate in TSNE will change from 200.0 to 'auto' in 1.2.\n",
            "  FutureWarning,\n"
          ]
        }
      ],
      "source": [
        "pca = transform(n_components=2, random_state=42)\n",
        "weighted_node_embeddings_2d = pca.fit_transform(feat_train)\n",
        "\n"
      ]
    },
    {
      "cell_type": "code",
      "execution_count": null,
      "metadata": {
        "colab": {
          "base_uri": "https://localhost:8080/",
          "height": 485
        },
        "id": "CLLz0C3ItdQw",
        "outputId": "3b7291b6-85fb-4969-a356-70409a8485f5"
      },
      "outputs": [
        {
          "data": {
            "image/png": "[encoded data removed]",
            "text/plain": [
              "<Figure size 504x504 with 1 Axes>"
            ]
          },
          "metadata": {},
          "output_type": "display_data"
        }
      ],
      "source": [
        "import numpy as np\n",
        "groups = pd.DataFrame(weighted_node_embeddings_2d, columns=['x', 'y']).assign(category=labels_train)\n",
        "names = ['1', '0']\n",
        "\n",
        "fig, ax = plt.subplots(figsize=(7,7))\n",
        "\n",
        "X_label1 = groups.query('category==1')\n",
        "X_label0= groups.query('category==0')\n",
        "ax.scatter(X_label0['x'], X_label0['y'],alpha=0.7,label=names[1], c='darkblue')\n",
        "ax.scatter(X_label1['x'], X_label1['y'],alpha=0.7,label=names[0],c='darkred')\n",
        "\n",
        "ax.set_xlabel('$X_1$',  fontsize=20)\n",
        "plt.xticks(fontsize=16)\n",
        "plt.yticks(fontsize=16)\n",
        "ax.set_ylabel('$X_2$', fontsize=20)\n",
        "ax.set_title('Hand-crafted technique', fontsize=26)\n",
        "ax.legend()\n",
        "plt.savefig('hc.png')"
      ]
    },
    {
      "cell_type": "code",
      "execution_count": null,
      "metadata": {
        "colab": {
          "base_uri": "https://localhost:8080/",
          "height": 530
        },
        "id": "rYdC9TTqEV2t",
        "outputId": "df1eba79-9e83-4286-fbe4-ac3a67b2cced"
      },
      "outputs": [
        {
          "data": {
            "text/plain": [
              "[Text(0, 0.5, '$X_2$'),\n",
              " Text(0.5, 0, '$X_1$'),\n",
              " Text(0.5, 1.0, 'visualization of GCN embeddings for cora dataset'),\n",
              " None]"
            ]
          },
          "execution_count": 237,
          "metadata": {},
          "output_type": "execute_result"
        },
        {
          "data": {
            "image/png": "[encoded data removed]",
            "text/plain": [
              "<Figure size 504x504 with 1 Axes>"
            ]
          },
          "metadata": {},
          "output_type": "display_data"
        }
      ],
      "source": [
        "fig, ax = plt.subplots(figsize=(7, 7))\n",
        "ax.scatter(\n",
        "    weighted_node_embeddings_2d[:, 0],\n",
        "    weighted_node_embeddings_2d[:, 1],\n",
        "    c=labels_train,\n",
        "    cmap=\"jet\",\n",
        "    alpha=0.7,\n",
        ")\n",
        "ax.set(\n",
        "    aspect=\"equal\",\n",
        "    xlabel=\"$X_1$\",\n",
        "    ylabel=\"$X_2$\",\n",
        "    title=\"visualization of GCN embeddings for cora dataset\",\n",
        ")"
      ]
    },
    {
      "cell_type": "code",
      "execution_count": null,
      "metadata": {
        "colab": {
          "base_uri": "https://localhost:8080/"
        },
        "id": "dntZAU6VkaJy",
        "outputId": "6028cf62-280e-4da3-f568-1518d1edf20a"
      },
      "outputs": [
        {
          "name": "stdout",
          "output_type": "stream",
          "text": [
            "Precision: 0.8659868900218499\n",
            "Recall: 0.9414093428345209\n",
            "F1-Score: 0.9021244309559939\n"
          ]
        }
      ],
      "source": [
        "from sklearn.ensemble import RandomForestClassifier \n",
        "from sklearn import metrics \n",
        "\n",
        "rf = RandomForestClassifier(random_state = 0) \n",
        "rf.fit(feat_train, labels_train); \n",
        " \n",
        "y_pred = rf.predict(feat_test) \n",
        "print('Precision:', metrics.precision_score(labels_test, y_pred)) \n",
        "print('Recall:', metrics.recall_score(labels_test, y_pred)) \n",
        "print('F1-Score:', metrics.f1_score(labels_test, y_pred)) "
      ]
    },
    {
      "cell_type": "code",
      "execution_count": null,
      "metadata": {
        "colab": {
          "base_uri": "https://localhost:8080/"
        },
        "id": "A5TrguI5vCvP",
        "outputId": "ba390b60-aa48-4f86-b34f-c607b095c74d"
      },
      "outputs": [
        {
          "name": "stdout",
          "output_type": "stream",
          "text": [
            "Accuracy: 0.8978622327790974\n"
          ]
        }
      ],
      "source": [
        "print('Accuracy:', metrics.accuracy_score(labels_test, y_pred)) "
      ]
    },
    {
      "cell_type": "code",
      "execution_count": null,
      "metadata": {
        "colab": {
          "base_uri": "https://localhost:8080/"
        },
        "id": "CsWhLtlFvEuQ",
        "outputId": "72ec22b6-cfab-41de-da26-537fc804221b"
      },
      "outputs": [
        {
          "name": "stdout",
          "output_type": "stream",
          "text": [
            "[[3237  552]\n",
            " [ 222 3567]]\n",
            "              precision    recall  f1-score   support\n",
            "\n",
            "           0     0.9358    0.8543    0.8932      3789\n",
            "           1     0.8660    0.9414    0.9021      3789\n",
            "\n",
            "    accuracy                         0.8979      7578\n",
            "   macro avg     0.9009    0.8979    0.8977      7578\n",
            "weighted avg     0.9009    0.8979    0.8977      7578\n",
            "\n"
          ]
        }
      ],
      "source": [
        "print(confusion_matrix(labels_test, y_pred))\n",
        "print(classification_report(labels_test, y_pred, digits=4))"
      ]
    },
    {
      "cell_type": "code",
      "execution_count": null,
      "metadata": {
        "id": "xIVmo834KgGp"
      },
      "outputs": [],
      "source": []
    },
    {
      "cell_type": "code",
      "execution_count": null,
      "metadata": {
        "id": "FajUEvMiKgO4"
      },
      "outputs": [],
      "source": [
        "from sklearn.linear_model import LogisticRegression\n",
        "lr = LogisticRegression(random_state=1) \n",
        "lr.fit(feat_train, labels_train); \n",
        " \n",
        "y_pred = lr.predict(feat_test)\n"
      ]
    },
    {
      "cell_type": "code",
      "execution_count": null,
      "metadata": {
        "colab": {
          "base_uri": "https://localhost:8080/"
        },
        "id": "oN99mrFuKgWs",
        "outputId": "e3e3091c-3c26-4d5c-87ae-3c7059f0de63"
      },
      "outputs": [
        {
          "name": "stdout",
          "output_type": "stream",
          "text": [
            "[[3346  443]\n",
            " [ 327 3462]]\n",
            "              precision    recall  f1-score   support\n",
            "\n",
            "           0     0.9110    0.8831    0.8968      3789\n",
            "           1     0.8866    0.9137    0.8999      3789\n",
            "\n",
            "    accuracy                         0.8984      7578\n",
            "   macro avg     0.8988    0.8984    0.8984      7578\n",
            "weighted avg     0.8988    0.8984    0.8984      7578\n",
            "\n"
          ]
        }
      ],
      "source": [
        "print(confusion_matrix(labels_test, y_pred))\n",
        "print(classification_report(labels_test, y_pred, digits=4))"
      ]
    },
    {
      "cell_type": "code",
      "execution_count": null,
      "metadata": {
        "id": "57pmtHd6Kgce"
      },
      "outputs": [],
      "source": [
        "import xgboost as xgb\n",
        "train_feat_xgboost = np.array(feat_train)\n",
        "\n",
        "xgb = xgb.XGBClassifier(random_state=1)\n",
        "xgb.fit(train_feat_xgboost, labels_train); \n",
        " \n",
        "y_pred = xgb.predict(feat_test)\n"
      ]
    },
    {
      "cell_type": "code",
      "execution_count": null,
      "metadata": {
        "colab": {
          "base_uri": "https://localhost:8080/"
        },
        "id": "u7Av0U5lKgj3",
        "outputId": "09a15dbf-1aeb-486a-d678-457a9e9df5ed"
      },
      "outputs": [
        {
          "name": "stdout",
          "output_type": "stream",
          "text": [
            "[[3244  545]\n",
            " [ 189 3600]]\n",
            "              precision    recall  f1-score   support\n",
            "\n",
            "           0     0.9449    0.8562    0.8984      3789\n",
            "           1     0.8685    0.9501    0.9075      3789\n",
            "\n",
            "    accuracy                         0.9031      7578\n",
            "   macro avg     0.9067    0.9031    0.9029      7578\n",
            "weighted avg     0.9067    0.9031    0.9029      7578\n",
            "\n"
          ]
        }
      ],
      "source": [
        "print(confusion_matrix(labels_test, y_pred))\n",
        "print(classification_report(labels_test, y_pred, digits=4))"
      ]
    },
    {
      "cell_type": "code",
      "execution_count": null,
      "metadata": {
        "id": "OEZKieJmMQ6B"
      },
      "outputs": [],
      "source": [
        "importances = xgb.feature_importances_"
      ]
    },
    {
      "cell_type": "code",
      "execution_count": null,
      "metadata": {
        "id": "wJmSsaWO_UWx"
      },
      "outputs": [],
      "source": [
        "feature_names = ['Shortest path', 'Jaccard coefficient', 'The node u centrality', 'The node v centrality','The community to node u','The community to node v']"
      ]
    },
    {
      "cell_type": "code",
      "execution_count": null,
      "metadata": {
        "id": "Ip7TcvVw8Nn-"
      },
      "outputs": [],
      "source": [
        "import pandas as pd\n",
        "\n",
        "xgb_importances = pd.Series(importances, index=feature_names)\n",
        "xgb_importances = xgb_importances.sort_values(ascending=True)\n",
        "fig, ax = plt.subplots()\n",
        "xgb_importances.plot.barh(ax=ax)\n",
        "ax.set_title(\"Feature importance\")\n",
        "#ax.set_ylabel(\"Mean decrease in impurity\")\n",
        "plt.savefig(\"featurei.png\")\n",
        "\n"
      ]
    }
  ],
  "metadata": {
    "colab": {
      "collapsed_sections": [],
      "provenance": []
    },
    "kernelspec": {
      "display_name": "Python 3",
      "name": "python3"
    },
    "language_info": {
      "name": "python"
    }
  },
  "nbformat": 4,
  "nbformat_minor": 0
}